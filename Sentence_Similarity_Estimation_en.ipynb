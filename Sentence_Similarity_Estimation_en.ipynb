{
  "cells": [
    {
      "cell_type": "code",
      "execution_count": null,
      "metadata": {
        "id": "RJxe_wTi-L5G"
      },
      "outputs": [],
      "source": [
        "import numpy\n",
        "numpy.set_printoptions(threshold=numpy.inf)"
      ]
    },
    {
      "cell_type": "code",
      "execution_count": null,
      "metadata": {
        "colab": {
          "base_uri": "https://localhost:8080/"
        },
        "id": "M5B4a4pjcE-3",
        "outputId": "654663f9-e551-421a-9b0d-58cc01f66fac"
      },
      "outputs": [
        {
          "output_type": "stream",
          "name": "stdout",
          "text": [
            "Mounted at /content/drive\n"
          ]
        }
      ],
      "source": [
        "from google.colab import drive \n",
        "drive.mount('/content/drive')"
      ]
    },
    {
      "cell_type": "code",
      "execution_count": null,
      "metadata": {
        "colab": {
          "base_uri": "https://localhost:8080/"
        },
        "id": "q5B4-GwOb9L_",
        "outputId": "912d979c-ad71-4be2-b70f-fa22125dd56e"
      },
      "outputs": [
        {
          "output_type": "stream",
          "name": "stdout",
          "text": [
            "['A girl is styling her hair.\\tA girl is brushing her hair.', 'A group of men play soccer on the beach.\\tA group of boys are playing soccer on the beach.', \"One woman is measuring another woman's ankle.\\tA woman measures another woman's ankle.\", 'A man is cutting up a cucumber.\\tA man is slicing a cucumber.', 'A man is playing a harp.\\tA man is playing a keyboard.', 'A woman is cutting onions.\\tA woman is cutting tofu.', 'A man is riding an electric bicycle.\\tA man is riding a bicycle.', 'A man is playing the drums.\\tA man is playing the guitar.', 'A man is playing guitar.\\tA lady is playing the guitar.', 'A man is playing a guitar.\\tA man is playing a trumpet.', 'A man is playing a guitar.\\tA man is playing a trumpet.', 'A man is cutting an onion.\\tA man cuts an onion.', 'A man is cycling.\\tA man is talking.', 'A man is slicing open a fish.\\tA man is cutting up a fish.', 'A man is slicing a tomato.\\tA man is slicing a bun.', 'A man is playing a guitar.\\tA man is playing a keyboard.', 'A baby panda goes down a slide.\\tA panda slides down a slide.', 'A man is singing and playing a guitar.\\tA man is playing a guitar.', 'A man attacks a woman.\\tA man slaps a woman.', 'A man is driving a car.\\tA man is riding a horse.', 'A woman is cutting tofu.\\tA woman is cutting an onion.', 'The woman is styling her hair.\\tThe woman is slicing herbs.', 'Two zebras play in an open field.\\tTwo zebras are playing in a field.', 'A man is cutting a potato.\\tA man is slicing some potato.', 'A man is slicing an onion.\\tA woman is slicing a pumpkin.', 'A  man is dancing.\\tA man and woman is dancing.', 'A man is riding a motorcycle.\\tA woman is riding a horse.', 'A woman is slicing garlics.\\tA woman is slicing an onion.', 'A man is speaking.\\tA man is cooking.', 'A little boy is singing and playing a guitar.\\tA man is singing and playing the guitar.', 'A turtle is swimming in water.\\tA turtle is walking underwater.', 'A young woman is putting stickers all over her face.\\tA woman is applying stickers to her face.', 'A woman is wrapping tofu.\\tA woman is balling dough.', 'A cat is eating some corn.\\tA cat is eating corn on the cob.', 'A man is eating a food.\\tA man is eating a piece of bread.', 'A man is playing a guitar.\\tA man is eating pasta.', 'A man is kicking pots of water.\\tA man is picking flowers.', 'A man is cutting a pipe with scissors.\\tA man is cutting carpet with a knife.', 'A woman is dancing in the rain.\\tA woman dances in the rain out side.', 'A woman is taking a bath.\\tA woman is riding a horse.', 'A man mixes vegetables in a pot.\\tA person is stirring vegetables in a pot.', 'A woman is talking on a cell phone.\\tA man and woman are talking on the phone.', 'A man is playing a guitar.\\tA man is singing while playing the guitar.', 'A man is playing a guitar.\\tA man is driving a car.', 'A man is cutting apple by his hand.\\tA man is cutting carpet with a knife.', 'A man is opening a door.\\tA man is cutting an onion.', 'A man is slicing a tomato.\\tA man is riding a horse.', 'A man is cutting paper with a sword.\\tA woman is cutting a tomato.', 'A boy studies a calendar.\\tA boy is looking at a calendar.', 'The ballerina is dancing.\\tA man is dancing.', 'A woman is dancing.\\tA woman is playing violin.', 'A woman is slicing some tomatoes.\\tA woman is chopping a potato.', 'A woman is water skiing.\\tA woman is slicing fish.', 'A man is playing a flute.\\tA man is riding a scooter.', 'A man is playing the piano.\\tA man played the guitar.', 'A woman is picking a can.\\tA man is playing a guitar.', 'A man puts three pieces of meat into a pan.\\tA man is putting meat in a pan.', 'A woman is cutting an onion.\\tA woman is cleaning a garden.', 'Some men are sawing.\\tMen are sawing logs.', 'A car is driven down the road.\\tA girl is walking down a road.', 'The man is kissing and hugging the woman.\\tA man is hugging and kissing a woman.', 'A train is moving.\\tA man is doing yoga.', 'Someone is slicing an onion.\\tA woman is cutting onion.', 'A woman is playing in the ocean.\\tA woman is preparing shrimp to cook.', 'A person is playing an electronic keyboard.\\tA kid is playing keyboard.', 'A man is holding a leaf.\\tA monkey is fighting a man.', 'A woman is peeling shrimp.\\tA man is squeezing water.', 'A man is sitting and smoking.\\tA man is smoking a cigarette.', 'A man is playing a guitar.\\tA woman is riding a horse.', 'A man is standing in front of the window and looking outside.\\tA man is staring out the window.', 'A skunk is looking here and there.\\tA skunk looks at the camera.', 'A man is playing the guitar and singing.\\tA man sings with a guitar.', 'A woman opens a window.\\tA man is crawling.', 'People are dancing outside.\\tA group of people are dancing.', 'The man is using a camera to hammer a nail.\\tSomeone is banging a camera lense against a nail.', 'A woman is filing her nails.\\tA man is peeling a carrot.', 'A boy is crawling into a dog house.\\tA boy is playing a wooden flute.', 'A woman is swimming underwater.\\tA man is slicing some carrots.', 'A machine is sharpening a pencil.\\tThe machine shaved the end of the pencil.', 'A monkey is playing drums.\\tA gorilla plays the drums.', 'A man is opening a box and taking out paper.\\tA woman is peeling a potato.', 'A woman is dancing.\\tA woman plays the clarinet.', 'A person is drawing on a large touchscreen.\\tA man is drawing on a digital dry erase board.', 'The men played follow the leader on the grass.\\tThe rhino grazed on the grass.', 'A woman is cracking eggs.\\tA man is talking to a woman.', 'A woman peels garlic with her hands.\\tThe woman is slicing herbs.', 'The polar bears fought over the kill.\\tPolar bears are fighting each other.', 'A man is doing trick with play cards.\\tA man is performing a card trick.', 'The cat is licking a bottle.\\tA cat plays with a small bottle.', 'A person is slicing an onion.\\tA person cuts ginger.', 'A person is peeling a potato with a potato peeler.\\tA man is cutting tomatoes with a cleaver.', 'Two women are dancing and singing in front of a crowd.\\tThe women are singing and dancing.', 'A man is seasoning some carrots.\\tA woman is slicing garlic.', 'Two men pushed carts through the woods.\\tTwo men are pushing carts.', 'A man is playing a football.\\tA man is maneuvering a soccer ball with his feet.', 'The lady peeled the potatoe.\\tA woman is peeling a potato.', 'A woman is slicing some tofu.\\tA woman is cutting a block of tofu into small cubes.', 'Someone typed on a keyboard.\\tSomeone is typing.', 'Three young men run, jump, and kick off of a Coke machine.\\tThree men are jumping off a wall.', 'A young Asian girl is applying eyeliner.\\tA girl is putting on eye makeup.', 'A cat is walking around a house.\\tA woman is peeling potato.', 'A woman is talking to her pet bunny as she fondles it.\\tA woman walks her dog onto astro turf.', 'A monkey is playing drums.\\tSomeone in a gorilla costume is playing a set of drums.', 'A man is riding a white horse on an enclosed ground.\\tSomeone is riding a horse.', 'An oriental lady is cutting a carrot into thin pieces.\\tA woman is slicing a carrot.', 'A group of people are dancing.\\tWomen are dancing outside.', 'A man is playing guitar.\\tA boy is talking to a giant dog.', 'A woman mixes up vegetables.\\tA woman is adding ingredients to a skillet.', 'A woman pours a mixture into a bowl and mixes it.\\tA woman is preparing an egg in a skillet.', 'A man is cutting pieces of butter into a mixing bowl.\\tPieces of butter is added in the stand mixer.', 'A man is putting garlic on some bread slices.\\tA man is sprinkling seasoning on several split and buttered loaves of bread.', 'The panda bear lay on the logs.\\tA panda is lying down.', 'Five men jump into a swimming pool.\\tA group of swimmers fall into a pool.', 'A cheetah is running behind its prey.\\tA cheetah chases prey on across a field.', 'A cat is playing on the floor.\\tA man is slicing garlic.', 'A boy is playing violin on stage.\\tA person is mixing a pot.', 'A dog is barking at a toy.\\tThe little dog barked at the electronic toy.', 'A man is cycling.\\tA boy is riding a bicycle.', 'A woman is slicing ginger.\\tA person is holding two baby lorises.', 'A man is dragging a dead deer.\\tA man is jumping into water from a cliff.', 'A man is preparing a snake for cooking.\\tThe man is dropping sliced cucumbers into water.', \"A woman is spreading mustard on a bread roll.\\tA kitten is playing with a woman's finger.\", 'Someone touched the kitten chewing on a string.\\tSomeone is cutting paper.', 'Meat is being put into a skillet.\\tA woman is putting a baby into a trash can.', 'A baby elephant is eating a small tree.\\tA little girl peddling a scooter.', 'A woman and man are dancing in the rain.\\tA man and woman are dancing in rain.', 'Someone is drawing.\\tSomeone is dancing.', 'A man is playing a guitar.\\tA woman is playing the guitar.', 'Two men are fistfighting in a ring.\\tTwo men fistfight in a ring.', 'A person wipes butter on a tray.\\tA person is buttering a tray.', 'Two men are playing football.\\tTwo men are practicing football.', 'The man is playing the guitar.\\tThe girl is playing the guitar.', 'A man is peeling a potato.\\tA man is slicing a potato.', 'A woman is stabbing a potato with a fork.\\tA woman is puncturing a potato with a fork.', 'A child is waking up.\\tA girl is waking up.', 'A boy is playing a key-board.\\tA little boy is playing a keyboard.', 'A woman plays the flute.\\tA woman is playing the flute.', 'A woman is playing an electric guitar.\\tA man is playing an acoustic guitar.', 'A man is playing a flute.\\tA man is playing a guitar.', 'A group of people are sweeping water out of a house.\\tPeople are sweeping water out of a house.', 'A man plays a guitar.\\tA man is playing a guitar.', 'A man and a woman is kissing each other.\\tA man and a woman are hugging and kissing each other.', 'A woman is climbing a cliff.\\tA woman is climbing a rock face.', 'A polar bear is running towards a group of walruses.\\tA polar bear is chasing a group of walruses.', 'A woman is cutting some fish.\\tA woman is cutting tofu.', 'Someone is playing a piano.\\tSomeone is playing guitar.', 'A man is pouring rice a roni into a pan.\\tA man poured ric-a-roni into a pan.', 'A man is breaking wooden boards with his hand.\\tA man is breaking tiles with his hands.', 'A girl is playing guitar.\\tA girl is playing a piano.', 'A man is praying.\\tA man is dancing.', 'A man is playing piano.\\tA man is playing a violin.', 'A woman is slicing an onion.\\tA woman is slicing lemons.', 'A man is riding a horse by a creek.\\tA man is riding a horse.', 'A man is playing a guitar.\\tA man is playing a guitar and singing.', 'A man is picking up a tree.\\tA man is carrying a tree.', 'A person is peeling a potato.\\tThe man is peeling a potato.', 'A person is playing a piano.\\tA person is slicing a potato.', 'A man is spitting.\\tA man is talking.', 'A man is playing a musical keyboard.\\tA man is playing a keyboard piano.', 'A man is dancing.\\tA man is thinking.', 'A man plays a trumpet.\\tA man is playing the trumpet.', 'A woman is riding a horse.\\tA man rides a horse.', 'A band is playing on stage.\\tA woman is dancing on a stage.', 'A woman is playing a guitar and singing.\\tA woman is playing the guitar.', 'The man is eating.\\tA man is eating food.', 'A little boy hits a golf ball.\\tThe little boy swung at the golf ball.', 'A guy is taking off his sunglasses.\\tA boy is removing his sunglasses.', 'Someone is reading an email.\\tA man is reading his email.', 'A person is slicing onions.\\tSomeone is slicing an onion.', 'A girl is coming up on a car.\\tA girl jumps on top of a car.', 'A man is playing drums.\\tA man is playing his guitar.', 'Someone is slicing a onion.\\tSomeone is carrying a fish.', 'A woman is dicing some peeled potatoes cut into thick strips.\\tA woman is chopping a peeled potato into slices.', 'A little girl peddling a scooter.\\tA girl is riding a scooter.', 'A cat cleans itself.\\tA cat is licking itself.', 'A man is kicking a soccer ball.\\tA man is performing tricks with a soccer ball.', 'A woman opens a window.\\tA woman is looking out a window.', 'Three men are doing same dance in the street.\\tThree shirtless men are dancing in the street.', 'The man is playing the guitar.\\tThe man is peeling a potato.', 'A man is dancing.\\tA woman is exercising.', 'A woman is exercising.\\tA man is dancing.', 'A boy is playing the violin onstage.\\tA boy is playing an instrument.', \"The woman is measuring the other woman.\\tThe lady measured the other woman's ankle.\", 'A man is doing exercise.\\tA man is firing a rifle.', 'A dog is playing with a toy.\\tA dog is eating a doll.', 'A man is playing a piano.\\tA guy is peeling a potato.', 'A man is bowling.\\tA kitten is walking.', 'A woman is dancing near a fire.\\tA woman is cutting a tomatoe.', 'A man is making a bed.\\tA man is speaking to an audience.', 'A person is riding a motorcyle.\\tA person is chopping an onion.', 'A man pours rice into a pot.\\tA man is putting rice in a bowling pot.', 'A person is slicing some garlic.\\tA person is dicing a clove of garlic with a knife.', 'A woman is slicing ginger.\\tA woman is cutting potatoes.', 'Men are playing soccer.\\tTwo teams play soccer.', 'A person is scrubbing a zucchini.\\tA woman is scrubbing a zucchini with a vegetable brush.', 'A panda bear is chewing on a stick.\\tA baby panda plays with a stick.', 'The people are lifting bags.\\tSeveral people are carrying large bags.', 'A man is talking on the phone.\\tA man is moon-walking across a store.', 'A woman is braiding her hair.\\tA man is riding a motorcycle.', 'The man is throwing knives at a tree.\\tA man is throwing blades into a close target outside.', 'The woman is slicing tofu.\\tThe woman is putting on lipstick.', 'A woman is folding paper.\\tA woman is applying eye shadow.', 'Someone is folding a piece of paper.\\tA person is slicing a small pieces of ginger.', 'A man is lifting weights.\\tA man is chopping egg plant.', 'A man is playing a cello.\\tA man is rapidly lifting small weights.', 'The man is talking.\\tA man is walking down stairs.', 'A man tries to feed a mouse to a snake.\\tA man is teasing a snake with a mouse.', 'A man is playing the drums.\\tA woman is slicing some leaves.', 'A man is playing a ukulele.\\tA man is sitting and playing a small guitar.', 'A kitten is drinking milk from a bowl.\\tA small child is drinking water from a cup.', 'A man breaks cinder blocks on another man.\\tA woman breaks an egg into a pan.', 'A man is hitting a boy with flower vase.\\tA man is cutting a mat.', 'The man is mixing whipping cream.\\tThe man is holding a skunk.', 'A man is stirring juice.\\tA man is peeling an onion.', 'Someone is slicing two uncooked racks of ribs apart.\\tSomeone is cutting a piece of meat.', 'A man is kicking pots of water.\\tA man is turning foods.', 'Two little girls talk on the telephone.\\tTwo couple are talking with each other.', 'A cat gets stuck on a moving ceiling fan.\\tA cat is swinging on a fan.', 'The cat is drinking milk.\\tA white cat is licking and drinking milk kept on a plate.', 'Rocky and Apollo Creed are running down the beach.\\tThe men are jogging on the beach.', 'A man is singing while playing the guitar.\\tA man is stuffing himself full with food.', 'A boat sails along the water.\\tThe man is playing the guitar.', 'An okapi is eating from a tree.\\tA moose drinks from a sprinkler.', 'Several kids jump up and down on a trampoline.\\tA man is doing back flips on a trampoline.', 'A woman is pouring egg into a frying pan.\\tA man is petting two dogs.', 'A woman is frying ground meat.\\tA man is cutting a trunk with an axe.', 'Three boys in karate costumes are fighting.\\tThree men are practicing karate moves in a field.', 'Swimmers are racing in a lake.\\tWomen swimmers are diving in from the starting platform.', 'A person is boiling noodles.\\tA cat is licking a bottle.', 'A person is slicing some onions.\\tA woman is chopping herbs.', 'A man reels in a fish.\\tA woman is pouring oil in a bowl.', 'A woman is cutting an onion.\\tA horse is standing.', 'A lady mixed up a meat mixture in bowl.\\tA woman is stirring meat in a bowl.', 'A girl is applying makeup on her face.\\tA woman is putting on makeup.', 'A woman puts make-up on.\\tA woman is putting on eyeshadow.', 'A cat plays in his water.\\tThe cat fished a straw out ouf his water dish.', 'A person is adding food in a pan.\\tA man is dancing in the street.', 'A man is smoking.\\tA baby is sucking on a pacifier.', 'A person is putting shredded cheese in a pot.\\tA hamster is eating some seeds.', 'A man is erasing a chalk board.\\tA woman is dancing, and singing.', 'The man is exercising.\\tA man is doing pull-ups.', 'A chimp is kicking a target.\\tA woman is putting oil into a skillet.', 'A man is doing exercise.\\tA baby is laughing.', 'The girl is carrying a baby.\\tA man is eating a food.', 'Several swimmers jump into the water.\\tSwimmers are racing in a lake.', 'A man spins on a surf board.\\tA man is putting barbecue sauce on chicken.', 'A young man is riding a skateboard and jumps onto a sidewalk then off at another curb.\\tA man is riding a skateboard.', 'A person dices up an orange pepper.\\tThe cook is slicing bell peppers.', 'Two men are dancing together.\\tA woman opens a closet.', 'A man is reading an email.\\tA person opening a banana.', 'The curious boys look in the shed.\\tTwo small boys in a woody area looking at a shed.', 'A moped in front of steps of ruins.\\tA moped in front of ruins.', 'A man sleeps with a baby in his lap.\\tA man asleep in a chair holding a baby.', 'Two cats are looking at a window.\\tA white cat looking out of a window.', 'A person wearing a helmet rides a bike near a white structure.\\tA girl wearing black shorts and boots is standing next to a blue motorcycle.', 'A man with a bicycle at a coffee house.\\tMan walking bicycle to patio of a coffee shop.', 'A black and white cat is high up on tree branches.\\tBlack and white lamb with tag in right ear.', 'A young blonde girl wearing a helmet sits with a red bicycle behind her.\\tA young girl wearing a bike helmet with a bicycle in the background.', 'Blue couch and twin bed in a living room.\\tBlue couch in room with sun shining in.', 'The flock of sheep are spread out in the field.\\tA white cat stands on the floor.', 'Two dogs and one cat sitting on couch.\\tTwo dogs and a cat resting on a couch.', 'A bicycle is parked by a shop.\\tA bicycle is parked outside a bookstore.', 'A orange and white cat laying on a blanket in a black leather chair.\\tA ginger and white cat curled up and asleep on a leather chair.', 'Young couple sitting on a black couch.\\tYoung couple sitting on couch.', 'A group of black people in front of a building with a moped.\\tA group of people are outside a decrepit building.', 'Elderly woman sitting on red patterned couch with her arm around younger woman.\\tTwo women sitting on couch posing for camera.', 'A man riding on the back of an orange SUV.\\tan African man hanging onto the back of a very full yellow van.', 'Red and white bus driving down road.\\tA bus drives down a busy road.', 'A cat laying on a red cushion looking at the camera.\\tA tan dog lying on a moggie bed looking up at the camera.', 'Two green and white trains sitting on the tracks.\\tTwo green and white trains are sitting on the train track.', 'A grey cat lying on a wooden table.\\tA grey cat laying on a dining table.', 'A man sitting in a back yard playing the guitar.\\tA man riding on the back of an orange SUV.', 'A father napping in a chair with a baby on his lap.\\tMan with pink shirt sleeping on chair with infant.', 'a close up head of an ostrich.\\tA close up of an ostrich face.', 'Green and white bird perched on tree branch.\\tBird with a green head and white chest perched on a tree branch.', 'A man in a top hat rides a white horse.\\tA man with a top hat riding a white horse.', 'A woman riding a brown horse.\\tA woman taking her own photo from above.', 'Two men standing in grass staring at a car.\\tA woman in a pink top posing with beer.', 'Two Indian women with two Indian girls near the water.\\tTwo Indian woman stand with two Indian girls on a beach.', 'A table is set with wine and dishes for two people.\\tA wooden table is set with candles, wine, and a purple plastic bowl.', 'A moped in front of ruins.\\tWhite bus parked in grass in front of building.', 'A person driving a cart pulled by a bicycle.\\tA man wearing a dust mask riding a three wheeled bicycle.', 'A dog sniffing the bottom of a door.\\tA black and white dog sniffing at a closed door.', 'a small bird sitting on a branch in winter.\\tA small bird perched on an icy branch.', 'A yellow bird is eating fruit on a wire grate.\\tA yellow bird eating fruit on a bird feeder.', 'A brown duck and white duck stand on the grass.\\tBrown and white ducks walking on green grass.', 'A black and white cat and dog on a striped couch.\\tA black and white cat standing in front of a window.', 'A man wearing black formal wear & a black top hat is riding a white show horse.\\tA man with a top hat riding a white horse.', 'A small brown birds is eating from a bird feeder hanging from a tree.\\tA small bird perches on the bird feeder hanging from the tree.', 'This a picture of the countryside with a large city in the background.\\tThere are some black cattle in a grassy plain with a large tree in the background.', 'Blue and red plane in mid-air flight.\\ta blue and red airplane while in flight.', 'Three men posing in a tent.\\tThree men eating in a kitchen.', 'A close-up of a gray cat with green eyes.\\tA close-up of a cat on a cream sofa.', 'A train is at a train station.\\tThe train sits at the train station.', 'The train heads down the tracks and along the hedge.\\ta dog on the floor of a patio looks at a cat on the fence.', 'a little girl is laughing at the camera.\\tA white cow with big ears looking into the camera.', 'Three young women standing in a room together.\\tThree dark haired young women in white, red and black sweaters.', 'A white bird with long orange legs standing by a lake.\\tLarge white bird with long orange beak standing on the shoreline.', 'A red train driving through a snow covered city.\\tThe train is riding on the tracks in the snow.', 'Three bicyclists crossing a bridge in a city.\\tThe bicyclists are crossing a bridge in the rain.', 'A red and white bus drives down an England street.\\tA red and white England bus drives down the street.', 'The birds are swimming in the water.\\tBirds fly low over water.', 'A black dog looking at the camera.\\tThe black and white bull is looking at the camera.', 'A group of horses grazing in a field.\\tGroup of horses grazing in grassy field.', 'Several people on motorcycles in a market square.\\tPeople on motorbikes in a city street.', 'Three sheep on a dirt road viewed from a passenger vehicle.\\tThree sheep on a dirt road shot from a car.', 'Group of people posing with two men dressed as Elvis.\\tA group of people standing with two other people dressed as Elvis.', 'Parrot pushing a small shopping cart.\\tA white bird is steering a shopping cart.', 'Man in yellow canoe paddling through water.\\tMan paddling a yellow canoe towards a the shore.', 'Beer bottles (-LRB- Harp Lager )-RRB- lined up on the floor.\\tA row of beer bottles on the floor.', 'Two women sitting outside laughing.\\tTwo women standing outside of a bus.', 'A steam engine and train moving toward the camera.\\tA white sheep on a hillside looking at the camera.', 'A brown and white cow in a field looking into the camera.\\tThe black and white cat is looking up at the camera.', 'Black and white cow standing near pile of snow.\\ta black and white cow standing in the field.', 'Home office space with bright green walls and artwork.\\tAn office with multiple desks and green walls.', 'A black and white photo of a man driving a car and someone with a motorcycle.\\tA black and white photo of a man in a classic car and a man with a classic motorcycle.', 'Three people are by the water with yellow canoes.\\tThree people preparing to canoe.', 'A girl in a riding hat on a horse.\\tA girl riding a tan horse.', 'A man dressed in a pale scarf with a stick.\\tA runner is resting in the shade with a bottle of soda.', 'A very retro living room with a television in it.\\tA grey cat lying on a wooden table.', 'A girl in a riding hat on a horse.\\tA girl riding a brown horse.', 'A car is pulling off the side of the road onto the street.\\tA silver car parked on the side of the road in front of the hills.', 'The man is sitting cross legged wearing a cloak and holding a stick.\\tMan sitting cross legged while wearing a brown cloth and holding a wooden stick.', 'Two black and white dogs at the bottom of stairs.\\tA dog is lying at the bottom of a staircase next to another standing dog.', 'An old fashioned wooden sailing ship in the ocean.\\tAn old fashioned wooden sailing ship is parked at the pier.', 'A man sitting cross legged on the grass, with a tree in the background.\\tOcean liner close to coast with houses in the background.', 'Two cats sitting on a couch looking out the window.\\tA cat looking out of a window.', 'Three goats are being rounded up by a dog.\\tThree goats are chased by a dog.', 'A tan puppy on a carpeted floor.\\tTan puppy lying down on white carpeting.', 'A black dog standing in a grassy area.\\tA long-haired dog stands in a grassy wooded area.', 'Train in a station.\\ta train in a station.', 'A blue bird standing on a lawn.\\tBlue bird standing on green grass.', 'An empty office cubicle.\\tAn empty office chair in a cubicle.', 'A man and woman sit at a table in a restaurant.\\tFour women and two men sit at a long table in a restaurant.', 'A young man wearing a striped shirt is holding two bicycles.\\tYoung redheaded man holding two bicycles near beach.', 'A television, upholstered chair, and coffee stable in a bright room.\\tA leather couch and wooden table in a living room.', 'Two cats sitting on a couch looking out the window.\\tTwo cats are looking at a window.', 'The small dog is wearing a sweater and looking up at the camera.\\tA small white dog wearing a jacket looks up at the camera.', 'Two men standing in grass staring at a car.\\tTwo women sitting in chairs in a shop.', 'A woman stands in front of a building in the snow.\\tTwo women and a baby pose in front of a dining room.', 'Home office space with bright green walls and artwork.\\tSmall office space with bright green walls.', 'A green car parked at a saloon.\\tA green car parked outside the saloon.', 'Group of people sitting around a restaurant dining table.\\tA group of people sitting at a restaurant table.', 'Two ducks are standing by the water.\\tThe birds are swimming in the water.', 'A black and white cow in a pen with hay.\\tBlack and white cows behind a fence.', 'A man and woman are posing for the camera.\\tA cat sitting on sand looking up at the camera.', 'A green and white cargo plane taking of from an airport.\\tWhite and green commercial airliner taking off of runway.', 'A yellow school bus parked in a field.\\tA brown horse in a green field.', 'An elderly man works on his laptop at home.\\tOlder gentleman sitting on couch with laptop.', 'The cat is sitting on a bag of cat food.\\tTwo eagles sitting on a long branch.', 'A large pile of wooden items piled high.\\tA large pile of scrap wood.', 'A woman riding a brown horse.\\tA girl riding a brown horse.', 'Black and white photo of a girl on a sofa.\\ta black and white photo of a cow under a tree.', 'A black dog stands next to materials at a construction site.\\tA black dog stands in the middle of a construction site.', 'Two women sitting in chairs in a shop.\\tTwo women are sitting in a cafe.', 'A women painting a chair with a dining room in the background.\\tA man and boy walking along a beach with the sea in the background.', 'A cat sleeping on the coach with a pillow behind it.\\tThe cat is laying on an animal print blanket.', 'Two motorbikes racing on a dirt course.\\ttwo motorbikes on a dirt track.', 'A young woman is riding a Bay hose in a dirt riding-ring.\\tA man is staring at a horse with a white mane.', 'A gray cat laying on a brown table.\\tA grey cat lying on a wooden table.', 'Motorcycle parked next to a car outside.\\tA motorcycle parked next to a car.', 'A pile of used wooden building materials with a chair on top.\\tPile of wooden debris with chair on top.', 'A passenger train waiting at the city train station.\\tA passenger train with a yellow engine.', 'A black train moves down the tracks.\\tA long train is on train tracks.', 'A Philips flat-screen TV is shown with its two remote controls.\\tA Phillips flat screen TV with two remote controls.', 'A cruise ship is in front of a docking area.\\tCalico cat sitting on step in front of a door.', 'A black and white cow standing in hay looks back at the camera.\\tThere is a black and white sheep standing on the grass.', 'Four people rowing down a river.\\tFour people row a canoe in water.', 'A dark brown horse standing in a field.\\tA brown horse in a green field.', 'Two men talking in front of a plane.\\tTwo men talking in front of a small plane.', 'two cats, one brown and one white laying on a bed with a blue blanket.\\tTwo cats, one ginger, the other white laying on a bed.', 'The train sits at the train station.\\tA train parked at a train station.', 'Two animals sitting on a rock.\\tThe brown train is sitting on the railroad tracks.', 'A black and white cow looking through the fence.\\tA black and white dog looking at the camera.', 'Two women in a clothing store.\\tTwo women in a sailboat.', 'Older gentleman looking at red motorcycle.\\tA man looking at a red motorcycle.', 'Black and white cows grazing in a pen.\\tTwo black and white cows drinking out of a pond.', 'A small camouflaged airplane parked in the grass.\\tA small dog wearing a pink shirt tied to a railing.', 'A black and white photo of a love seat.\\tBlack and white photo of couch with purse at one end.', 'Black bird standing on concrete.\\tBlue bird standing on green grass.', 'Crowd of people walking past a giant mushroom.\\tA group of four people walking past a giant mushroom.', 'A sheep beside a road and a lake.\\tA sheep is on the edge of a road with a lake and a mountain in the background.', 'A group of people sit at a table in an Italian restaurant.\\tA group of six people sitting at a table with salad served.', 'Tan cows look closely at the camera.\\tA white and grey cat in a bathroom sink looking at the camera.', 'Older woman holding newborn baby.\\ta woman sitting on a sofa holding a baby.', 'Two dogs play in the grass.\\tTwo dogs playing in the snow.', 'Three people sit at a picnic table outside of a building painted like a union jack.\\tThree people sit at an outdoor table in front of a building painted like the Union Jack.', 'A dog swims through the water.\\tA dog wearing a cape is running through the snow.', 'A young laughing girl and a boy are playing on a big drum.\\tA baby girl and little boy are standing next to a guitar and a drum.', 'The brown dog runs on the snow with a white ball in his mouth.\\tFour dogs play in the snow with the city skyline behind them.', 'A bird flies across the water.\\tA bird flies above the water.', 'A dog is running through a pond\\tA pale dog is running along a dirt path.', 'A man and a woman watch two dogs.\\tA man in a maroon bathing suit swings on a rope on a lake.', 'A man sits by a dock looking at the water.\\tA man jumps off a rock into the water', 'A brown and white dog is running through the snow.\\ta brown and white dog is running on the grass.', 'A man and a woman are standing in front of a building\\tTwo girls are sitting on an ATV on the sand in front of a bridge.', 'Three dolphins are jumping out of a pool in front of a crowd of people.\\tA man is giving a presentation in front of a lot of people.', 'The dog is running through a field.\\tA dog runs through a field.', 'A black and white dog is jumping into the water.\\ta white dog runs across the water.', 'A tan and white dog retrieving a ball on a gravel path.\\tA large dog walks along a gravel path in the woods.', 'A brown and white dog is walking up snowy steps.\\tA black and white dog frolics in the snow.', 'A woman in a black and orange jacket throws a stick for a brown and black dog to fetch.\\tThe man in a blue jacket is standing in a crowd.', \"A dog running across the snow with a snowball in it's mouth.\\tA tan dog is running through the grass with a yellow toy in its mouth.\", 'A small boy is building with some wooden blocks.\\tA small boy wearing a blue shirt stacks wooden blocks.', 'A man and a woman walk with a white dog on a leash.\\tA man, woman and dog walk down a paved road.', 'A young boy wearing a red winter coat is eating and holding up a candy bar.\\tA young boy wearing a red coat eats a chocolate bar.', 'Two racing dogs run in the mud.\\tThe man is going into the water.', 'A young boy jumping into a pool that says \"no diving\".\\tA boy jumps into a pool while lifeguards watch.', 'Three dogs running in the dirt.\\tThe yellow dog is running on the dirt road.', 'Four children on stools in a diner.\\tFour children sit on tall bar stools at a yellow and grey bar.', 'Boy and white dog running in grassy field\\tA boy and a dog running on grass', 'Two boys playing a game of flag football.\\tTwo boys are playing flag football.', 'The black and white dog has its mouth wide open.\\tA black and white dog jumps in the snow.', 'One white boy and one black boy stand with arms around each other.\\tTwo young boys, one white and one black, are standing with their arms around each other.', 'Girl playing in a puddle with her bare feet.\\tA child is playing with two white and black geese.', 'Two children splashing in the water.\\tTwo dolphins jumping into the water.', 'A man in a suit dances with a young girl in front of an audience.\\tA women dangles from a blue fabric connected to a tree.', 'Three children playing on a floor with toys.\\tThree children sitting in floor playing with several toys.', 'The two dogs are playing in the yard.\\tTwo dogs are playing on the grass.', 'The # 2 greyhound dog is running around a track.\\ta muzzled greyhound dog is running around a track', 'four children are playing on a trampoline.\\tFour kids are jumping on a trampoline.', 'A black and tan dog standing in a field near trees\\tA white dog is standing by a river shaking himself dry.', 'A black dog running into the water.\\tA black dog running through water.', 'a man and woman walking past a record shop\\tA man and woman kissing in front of a crowd of people.', 'Two dogs play in the grass.\\tTwo tan dogs play in the snow.', 'Three children wrestle on a floral carpet.\\tThree children playing on the floor.', 'A boy in red jumping into a sandbox.\\tA dog swimming in a pond', 'a dog jumps into the water.\\tA dog is jumping into the water.', 'A wet, blond dog carries a stick on the shore.\\tThe wet, brown dog has a stick in his mouth and is running in the sand next to the water.', 'A man and a dog on rocks on a beach.\\tA man and dog on a rocky seashore.', 'Large group of people standing outside of a building.\\tA group of people are ice skating in a big city.', 'Two dogs are running in the field.\\tTwo dogs running in a field.', 'Two people are in bed.\\tTwo boxers are in the ring.', 'A light brown dog runs down a path happily.\\tA pale dog runs down a path.', 'A red haired women in black is posing for a man while resting on a tree.\\tA man in a black shirt is holding a child wearing sunglasses.', 'Two black dogs are jumping and playing with a yellow tennis ball in the snow.\\tA brown dog and a black dog playing with a yellow soccer ball.', 'A black and white dog is jumping over a hurdle.\\tA white dog running over a bridge.', 'Two brown dogs runs through the water.\\tTwo brown dogs running through water.', 'A black dog is jumping out of water.\\tA black dog is shaking off water.', 'A man climbing a rock-face.\\tA man is climbing a rock wall.', 'Woman playing tennis and hitting the ball.\\tA woman is playing volley ball.', 'A young boy with his hair standing up, is sliding down a blue slide\\tThe kid in the orange shirt is sliding down a teal slide.', 'A dog standing in the water.\\tA girl playing on a parachute.', 'A surfer is riding on a breaking wave.\\ta group of surfers catching a wave', 'Two dogs are running through the grass near a house and trees.\\tTwo dogs are running through a green yard', 'A brown and white dog is running across a brown field.\\tA person hanging from a rocky cliff.', 'A black dog standing in the grass near a volleyball.\\tA brown and black down with a blue collar near a soccer ball on a grassy field.', 'A white dog with light brown markings has a stick in his mouth and his paws in the snow.\\tA white dog holds a stick in its mouth while it runs through snow.', 'A man in a wet suit is throwing a baby wearing a wet suit up into the air.\\tA man in a white print shirt and a woman in a black dress dancing.', 'A black and white dog is running through the grass.\\tA tan dog is walking through snow.', 'A harnessed dog leaps over a log as another dog follows behind.\\tA brown and white dog is leaping over a log in a field while another dog follows behind it.', 'A dog running on the grass\\tTwo dogs are running on the grass.', 'Many football players sitting on the ground.\\tA dog rolls on the ground.', 'A little boy and a little girl playing together outside.\\tA woman wearing a white shirt stands on the street.', 'The surfer does a flip off of a wave.\\tA surfer does a flip on a wave.', 'A female DJ holds up a Michael Jackson album.\\ta girl holding a picture of Michael Jackson smiling', 'two white standard poodles play with a toy in the snow\\tTwo dogs fighting in the snow.', 'Boy lies on stomach in grass.\\tSmall boy lying on his stomach on the grass.', 'A white dog runs along a rocky shoreline.\\tA dog jumps over a hurdle.', 'a black and white dog jumping in the air to catch a Frisbee\\tA black and white dog jumping in a yard.', 'The woman is holding the harness that the brown and white dog is wearing.\\tA man and woman are looking at artwork that is on easels and clipped to a fencing wall.', 'A girl is jumping.\\tA boy is rock climbing.', 'A young pitcher is throwing the baseball.\\tA brown dog is walking on the grass beside a fence.', 'Three children playing in snow.\\tThree children playing in hay', 'Two people ride their bikes down a dirt road.\\tTwo people riding their bikes on a hill.', 'A brown dog is running through the field.\\ta brown dog with his tongue wagging as he runs through a field', 'A dog is standing in the sand.\\tA tan dog is standing in front of some plants.', 'Four girls in swimsuits are playing volleyball at the beach.\\tFour ladies in swimsuits play sand volleyball on the beach.', 'A blonde haired toddler swinging on a tire swing.\\tA blonde haired child is swinging on a tire swing.', 'A child wearing blue and white shorts is jumping in the surf.\\tA girl wearing green twists something in her hands.', 'Two dogs running on the shore.\\tA white dog running on the beach.', 'A yellow car speeds along a snowy field.\\tA yellow car drives quickly in the snow.', 'Two dogs playing in snow.\\tTwo dogs playing in grass.', 'One boy is pushing another boy on a swing.\\tA boy is pushing another boy on the swings.', 'A pitcher on a mound throws a baseball.\\tA boy in the middle of a pitch at a baseball game.', 'A little girl is riding a toy tricycle on springs.\\tA little girl is playing on a toy outdoors.', 'A woman is sitting in the water.\\tThe woman is skating in the park.', 'A tan girl in a floral bikini is swimming in dark blue waters.\\ta little girl in a flowered bathingsuit runs through the sand at the beach', 'a grey dog swimming through a river with a stick in his mouth\\tDog swimming through water carrying stick in its mouth', 'A woman in a blue bathing suit is jumping off a dock into a lake.\\ta boy in a blue shirt and blue jeans runs across a playground', 'Two black dogs are playing on the grass.\\tTwo black dogs are playing in a grassy plain.', 'Two puppies playing with a plastic bag.\\tTwo dogs playing in a yard.', 'A man in a black suit is surfing along a crashing wave.\\tA surfer wearing a black wet suit is riding a a white wave in the ocean.', 'Three little girls are sitting on the grass.\\tTwo poodles are running through the snow.', 'A brown dog runs towards the camera on a dirt trail with mountains in the background.\\tA brown dog runs toward the camera down a rocky trail through the brush with mountains in the background.', 'Dog is jumping down a ramp.\\tA girls is jumping in the sand.', 'The dog plays in the park.\\tThe dog leaps over the fence in the park.', 'Four dogs stand in the snow.\\tFour dogs playing in the snow.', 'Brown and black dogs on snow, showing teeth and barking at each other.\\tA black dog fighting with a brown dog in the snow.', 'A man running on a track.\\ta man running track', 'A light-colored dog runs through the grass.\\tA dog runs through the grass.', 'Child holding an object that is on fire.\\tA child in pink holds an object that appears to be on fire.', 'A small white dog climbs over a log.\\ta small dog steps onto a log.', 'The dogs play in the snow on hind legs.\\tTwo dogs play in the snow.', 'A boy skateboards down the railing of some graffiti stairs\\tA skateboarder slides down a handrail on his feet.', 'A black and white dog runs through the water.\\tBlack and brown dog runs through field.', 'A girl is running on a desert path.\\tA young girl is talking on a cell phone.', 'A man steers a blue boat past brightly colored houses.\\ta man driving a blue boat passes by some colorful houses.', 'A woman wearing large sunglasses holds newspapers in both hands.\\tA fat woman wearing faint blue top is blowing soap bubble.', 'A deer jumps a fence.\\tA deer is jumping over a fence.', 'A person is on a baseball team.\\tA person is playing basketball on a team.', 'A bike is next to a couple women.\\tA child next to a bike.', 'The group is eating while taking in a breathtaking view.\\tA group of people take a look at an unusual tree.', 'The boy is raising his hand.\\tThe man is raising his hand.', 'A man with a gray beard is being shaved in front of a lecture hall\\tA man with a beard is sitting in the grass.', 'A young person  deep in thought.\\tA young man deep in thought.', 'A man is performing labor.\\tA man is performing today.', 'Two men wearing traditional clothing is standing outside.\\tThree women wearing black vests and gray shirts are talking outside of a building.', 'a man wearing a gray hat fishing out of a fishing boat.\\tA man wearing a straw hat and fishing vest in a stream.', 'A little girl in an orange striped outfit is airborne whilst bouncing on a bed.\\tA dog in a red shirt is chasing a squirrel through the glass.', 'A person is watching people ski down the hill.\\tThe woman is jumping a long distance while people watch.', 'The yard has a dog.\\tThe dog is running after another dog.', 'Three women cook.\\tTwo women cooking.', 'The woman is kneeling next to a cat.\\tA girl is standing next to a man.', 'Three guys playing a pro game of basketball.\\ttwo guys playing a game of baseball.', 'The boys are earning their next belt in karate.\\tFive girls and one boy are in their swimsuits all in the middle of jumping into the pool.', 'A woman is digging in the sand.\\tA man is buried in the sand.', 'A woman drives a golf cart.\\tA man riding a cart.', 'A person filming the outdoors.\\tThere is a couple outdoors.', 'A human riding a skateboard.\\tA child is riding a skateboard.', 'A woman in a plaid outfit is looking through a bag of produce.\\tThis is the picture of a woman in a flowered dress, toting something in a bucket.', 'The tennis player hit the ball into outer space and broke the death star.\\tA female tennis player is leaping into the air to hit the ball.', 'A boy climbs a forest hill.\\tA boy is climbing a hill.', 'Blond boy jumping onto deck.\\tA boy jumping down a wet inflatable slide.', 'A man uses a chainsaw to sculpt a phallic ice sculpture.\\tA man is using a chainsaw to carve a wooden sculpture.', 'A group of male construction workers repair railroad tracks on a cloudy day\\tA crew of workers working on a railroad track.', 'The girl has something on her head.\\tThe woman has something with her.', 'People making a structure out of cards.\\tTwo people are together and one is using a piece of clothing in a different way than intended.', 'There are four people outside.\\tFive people are outside.', 'Girls are holding hands in blue clothes\\tThe young people are wearing jeans with their red and green shirts.', 'A man is demonstrating how to work with clay while at least two people observe.\\tAt least one of the three women is talking to the others.', 'A dog has a sweater on.\\tA man in a suit jacket is sitting on a red couch with a cat.', 'Sculptor applying concrete to large statue of human figure standing with no head.\\tA person is standing in front of a building holding aloft some plywood', 'A boy with dark hair is in water and is looking up.\\tThe man is short hair.', 'A pole is behind a person that is playing peekaboo with a child.\\tThere is a child with a ball', 'A woman is about to paint.\\tA boy is about to take a picture.', 'a man working at the steel mill\\tA man working in a foundry.', 'The young woman is flirting with the young boy.\\tThe girl is young and cheery.', 'the men are about to score in a water polo tournament\\tThe two men are about to compete in a match.', 'A man eats popcorn while watching cartoons late one night.\\tA man and a girl are watching cartoons at home', 'Three men sit on a bench.\\ttwo men sit on a bench.', 'The road is long.\\tThere is nothing on the side of the road.', 'a young man wearing a white t-shirt and green and black shorts standing on a stump.\\tA man wearing a white shirt and red and black shorts is running on the sidewalk.', 'A dog under the stairs\\tA dog is resting on the stairs.', 'Two women give a demonstration at a Renaissance Fair.\\tTwo people are doing a demonstration at a renaissance fair.', 'Some guy sitting on a couch watching television.\\tA guy is sitting on the couch watching TV', 'A woman is posing for a Christmas card.\\tA girl is taking a photo.', 'A man is working on his farm.\\tAn old guy is working on his farm and a cow kicks him.', 'A girl is talking to her dad on a cellphone.\\ta girl is talking on her phone.', 'One person wields an umbrella.\\tOne person is holding an umbrella.', 'A group of teenagers jumping and having a good time.\\tA group of kids having a good time.', \"A man is playing his guitar at Joe's Cafe.\\tThe man is playing the drums for his mom.\", 'Someone is on a blanket.\\tThe person is making a blanket.', 'The man has a orange shirt.\\tThe woman has a orange shirt.', 'The two kids look at the products sold inside the subway shop.\\tThe kids are stealing from a store.', 'The baby boy wants his mother.\\tA baby boy is happy to see his mother.', 'A boy is very close to a girl.\\tA girl is close to a boy whose face is not shown.', 'Six children are cleaning a room.\\tTwo male children cleaning up leaves in a parking lot.', 'There is a cook preparing food.\\tA cook is making food.', 'Two men are helping a boy.\\tTwo men are with a young child.', 'Two skiing people are doing cross country skiing.\\tPeople skiing cross country.', 'A dog taking a poop in the street.\\tA man making balloon animals for two children on a street corner.', 'A kid is talking in class.\\tA girl is going to class.', 'The women are trying to sell something to the individual.\\tThe men are trying to make some money.', 'People are waiting for the fireworks to start.\\tThree people are waiting for the rain to stop.', 'A dog prepares to herd three sheep with horns.\\tA dog and sheep run together.', 'People gathered in a room.\\tPeople gathered together in a room.', 'The woman in overalls paints a picture for her wall.\\tA woman is painting her wall white.', 'Adding aspirin to the water could kill the plant.\\tMen are trying to remove oil from a body of water.', 'The woman is wearing yellow.\\tThe woman is wearing red.', 'A man is doing a stunt on his bicycle.\\tA man is doing a wheelie on his motorcycle.', 'Ten people riding ATVs.\\t4 people are riding bikes', 'A yellow vested person is doing road work.\\tA person is doing very well on their skateboard.', 'Two workers are sitting next to pipes eating lunch\\tThe construction workers are sitting down to eat lunch.', 'A group of people living in the desert\\tA group of people in the middle of the desert.', 'Two kids are swimming.\\tSix kids are going swimming.', 'people getting their dirty clothes cleaned\\tPeople are getting their clothes cleaned.', 'The children are holding musical instruments.\\tA group of children are singing and playing instruments', 'A group of people are wearing police uniforms conducting an arrest.\\tA group of police officers are wearing protection.', 'the man is planning to shoot a wedding\\tthe woman is going to a wedding.', \"The child's bike got wet.\\tShe is putting away the bike.\", 'A soldier walks a dog.\\tA man walks a dog.', 'A shirtless woman is operating a lawn mower.\\tA girl is mowing the grass with a lawn mower.', 'The two officers are driving\\tTwo officers are on horses.', 'The lady looks sad because no one is buying her wares.\\tThe lady is selling things.', 'A flock of birds hovered over the sandy beach.\\tBirds are flying at a beach.', 'people walk home\\tPeople waiting.', 'A man is laughing with a woman\\tA man and a woman laughing.', 'He is about to run into the boat\\tThe man is getting his boat clean to take it out on the water.', '2 Cows are in a field.\\tTwo sheep are in a field.', 'A wet child enjoys the summer.\\tA woman is enjoying the summer weather.', \"The girl has a driver's license\\tA man has a driver's license.\", 'People on motorcycles wearing racing gear ride around a racetrack\\tPeople on motorcycles ride around a racetrack', 'A man is standing on the ground with a paintbrush\\tA man with a crutch lying on the ground.', 'The kids are at the theater watching a movie.\\tit is picture day for the boys', 'Two women walk down the sidewalk to the store.\\tTwo women walk down the sidewalk in the afternoon.', 'A man has his son on his back\\tA man spent his time with his son.', 'A group of dark-skinned people are walking past barbed wire.\\tTwo women are gossiping by a fence.', 'Zombies parading around eating brains.\\tThe zombies are eating flesh together.', 'A group of people are sitting at at a beach on towels watching the Blue Angels.\\tA group of people are sitting at a beach watching the Blue Angels.', 'Three people are meeting for coffee.\\tTwo people make coffee.', \"A young girl with dirt on her face and a red child's bike is in the background.\\tThe old woman in shorts and a white t-shirt is standing on a path watching children play.\", 'A line of scooters are parking in the middle of a street.\\tA line of motor bikes are parked in the middle of a street.', 'A man holding a cat.\\tA man holding a dog.', 'The cats are running through the grass.\\tSome dogs running through the park.', 'The two boys are playing kick ball back and forth to each other.\\tThe players are kicking each other while attempting to kick the ball.', 'Two girls are running.\\tThree boys are running.', 'A little girl in a white blouse and blue pants frolics on the grass.\\tA woman in a green shirt and white pants golfs on the green.', 'A man in a white shirt and hat playing a guitar.\\tA man in a green shirt and black hat playing a guitar on stage.', 'A black hooded man is using a large magnifying glass to look at a booklet.\\tA white hooded woman is using a magnifying glass to look at a booklet.', 'the people are running a marathon\\tPeople are running a marathon', 'A group of people are nervous about crossing the water.\\tA group of people are on the water.', 'A group of kids are having a jumping contest.\\tA group of kids are having a sleepover.', 'The person is wearing a fedora.\\tA man is wearing a uniform.', 'A woman and a man embrace while watching a horror movie.\\tA man and a woman watch a movie together.', 'A man in a blue dress shirt.\\tA man in a white shirt and blue pants is talking with a woman in a pink shirt.', 'A couple is playing the game of Life.\\tThe family is playing a game together.', 'The head of a child with dark glasses is in focus.\\tThere is a woman with a full head of hair.', 'A maintenance guy is repairing a net on a tennis court.\\tA man removing a tennis net.', 'A kid sits on a soccer ball outside.\\tA kid sitting on a soccer ball at the park.', 'A man in a brown coat rubs his nose.\\tA bald man with a red beard holds his hand near his mouth.', 'The dog is chasing the geese.\\tOne dog is chasing the other.', 'Small child playing with letter P\\t2 young girls are sitting in front of a bookcase and 1 is reading a book.', 'A brown dog is jumping.\\tA brown dog is jumping', 'A group of teenagers in red shirts are smiling.\\tA group of people are wearing orange shirts.', 'I remained under the banyan tree, exhausted by my daily ritual of dragooning the men every two hours. \\tI remained under the banyan tree, exhausted by my daily ritual of herding the cats every two hours. ', 'In the US, it will depend on the school.\\tIt really depends on the school and the program.', \"There's also what the string is made of.\\tThere is also a Youtube-Version of the film.\", 'You also imply you may not be paid if they cannot place you with a client.\\tYou can do it, but you might not be a professor.', 'I did this one time as well.\\tI have this habit as well.', 'You just have to base your answer on what you do know, which is what you want.\\tYou may want it, but the process given to you is what you have to work within.', \"You do not need to worry.\\tYou don't have to worry.\", 'You should do it.\\tYou should do what it says.', \"You should just ask your boss what he wants you to do.\\tYou should listen to your boss, because you're not paid to tell the boss what to do.\", \"You need to read a lot to know what you like and what you don't.\\tYou have to decide how much you want to demand, and what unmet demands you can live with.\", 'It depends on what you want to have in your tank.\\ti think it depends what you want:', 'You can do it, too.\\tYes, you can do it.', 'You should do it.\\tYou can do it, too.', 'You have to decide what you want to get out of this.\\tYou have to know what you want to do.', 'I have few suggestions for you:\\tI have two suggestions for you:', 'You want to start in the room that is the largest to make sure you have the straightest start.\\tYou will have to start with the clinic., and maybe move on to the insurance company.', \"if you don't want to derail the meeting, but the key is to speak up.\\tThe key thing you need to do in this meeting is listen.\", 'Unfortunately the answer to your question is we simply do not know.\\tMy answer to your question is \"Probably Not\".', 'As soon as possible.\\tStart them as early as possible.', 'You just have to base your answer on what you do know, which is what you want.\\tIt depends on what you want to do next, and where you want to do it.', 'The answer to both questions is: Yes.\\tThe answer to both of your questions is yes.', \"To give this an answer:\\tI'll answer this question:\", \"Unfortunately the answer to your question is we simply do not know.\\tSorry, I don't know the answer to your question.\", 'The rule - When in doubt throw it out!\\tI always go by the rule \"When in doubt, throw it out!', 'This is not a good idea.\\tThis sound like a very bad idea.', \"Yes, it's probably a good idea to renew your passport.\\tIt's a good idea.\", \"It probably depends on the cut of meat.\\tIt depends on the meat and how it's cut.\", \"It's not a good idea.\\tIt's a good question.\", \"It's pretty much up to you.\\tIt's much better to ask.\", 'Yes, there is a reason for it.\\tYes, that is exactly what it means.', 'Have you tried asking your employees?\\tHave you tried asking?', 'You guys are making this all WAAAAAY too complicated.\\tYou are making this too complicated.', \"You don't have to know.\\tYou have no need to do anything.\", 'There are two things to consider:\\tThere are two possible causes for this:', 'Work into it slowly.\\tIt seems to work.', 'You can buy it on amazon for $5.\\tYou can buy it on ebay for $25 and up.', 'The coffee simply picks up the aluminum from the pot, as the coffee is acidic.\\tOne idea is cleaning the coffee residue from the coffee pot.', 'There are two ways to start with: plunging and dripping.\\tThere are two traditional ways to bend wood:', 'You might have to try a variety before you find one that clicks with him.\\tMy advice would be to try a variety of coffees that you can afford and find one you like.', \"It's not a good idea.\\tIt is not a good idea.\", 'You just have to base your answer on what you do know, which is what you want.\\tThey can, but the way to do it depends on what you have available.', 'Yes, you should mention your experience.\\tYes, you should mention it.', 'From what I understand this is what you can do :\\tCan you do this?', 'Take a look at these:\\tTake a look at this: ', \"I'd say it primarily depends on two things:\\tI'd say it depends on the ultimate outcome you want?\", 'Some of what you can do:\\tNot much you can do besides:', 'This is not a good idea.\\tBut it is not a good idea.', \"The answers so far are already good, but I'd like to add a map for Switzerland:\\tYou have a lot of answers already, but I'd like to add Curries as another solutions.\", 'I was in a similar situation.\\tI had a similar situation.', \"I've had this same problem.\\tI had this same problem.\", 'There is no maximum.\\tThere is no quarantine period.', 'I am not sure this is the right site for the question.\\tI am not sure this question would have made much sense to the Romans themselves.', 'It depends on what you want to do next, and where you want to do it.\\tIn other words, it depends on where you go, when you do there and how.', \"You need to read a lot to know what you like and what you don't.\\tYes, you should create a portfolio site to showcase what you can do and what you've done.\", 'You are not disclosing key info.\\tNo you are not.', \"It depends on what you want to do next, and where you want to do it.\\tI guess it depends on what you're going to do.\", 'You just have to base your answer on what you do know, which is what you want.\\tIt is his job to see that you have what you need to do your job.', 'It depends on what you want to do next, and where you want to do it.\\tIt depends on what you want to achieve.', 'This is a problem that the professor has to deal with.\\tThis is a big problem.', 'This is a very unusual request.\\tThis sounds a bit unusual.', 'It very much depends on the grant in question.\\tI think it depends very much on the area.', 'I have the same thing.\\tI have had the same problem.', 'No it does not affect your ratings.\\tNo it is not.', 'My answer to your question is \"Probably Not\".\\tI think that the short  answer to your question is: No.', \"I don't think it makes any tremendous difference.\\tI don't think it makes much difference.\", 'It depends on what they are.\\tIt depends on what they are evaluating, and how.', \"There's not a lot you can do about that.\\tThere's not that much that you can do with a sourdough starter.\", 'You answered your own question.\\tYou have answered your own question.', \"You just have to base your answer on what you do know, which is what you want.\\tTh answer to you problem is that you dont actually know what you're getting in .\", 'This is not a good idea.\\tThis is probably not a good idea but I will suggest it anyhow.', 'The best thing you can do is to know your stuff.\\tMy recommendation is not to say anything, and do the best you can.', \"I'd say it primarily depends on two things:\\tI'd say it depends what conditions you have.\", \"You don't have to know.\\tYou don't have to do anything to season it.\", 'I have the same thing.\\tI have the same situation and have traveled extensively.', \"It's not a good idea.\\tI do not think it's a good idea.\", 'You are on the right path.\\tYou are right on the mark.', \"This doesn't answer your question, but:\\tThis is a part answer to your question\", 'How should I proceed about this?\\tSo how should I do this?', 'Does this page answer your question?\\tDoes this answer your questions?', 'You can use it, too.\\tYou can still use it for practice.', \"It really depends on how the employer documents it.\\tIt depends how you're stating it.\", \"I've had this same problem.\\tI've had this problem while working in a pubs.\", \"You need to read a lot to know what you like and what you don't.\\tYou should tell a good story and sometimes you have to tweak reality/history to do so.\", 'It depends on what you want to do next, and where you want to do it.\\tIt depends on what you want to be able to do.', 'Yes, you have to file a tax return in Canada.\\tYou are not required to file a tax return in Canada if you have no taxable income.', \"I don't see why there should be any problem with this whatsoever.\\tI don't see why that should be a problem.\", 'Hope this is what you are looking for.\\tIf what you are looking for is much higher, they get the picture.', 'The best thing you can do is to know your stuff.\\tThe best thing to do is to overcome the fussiness.', 'It depends on the dish and how amenable it is at the stage you make the mistake.\\tIt depends on the sauce and the result you want.', 'You just have to base your answer on what you do know, which is what you want.\\tYou have to do what is right for you.', 'You PROBABLY don\\'t have any chance at the moment.\\tSaying \"thanks, I don\\'t have any questions at the moment.\"', \"It really doesn't matter.\\tIt doesn't matter unless it is really far off.\", \"You don't need to know everything.\\tYou don't have to know.\", \"I think you're looking for Mikey (1992).\\tI think you're looking for the movie\", 'It makes absolutely NO difference.\\tNo, it makes no difference.', \"I think it's fine to ask this question.\\tI think it is okay to ask the question.\", \"I'm going to be very direct here.\\tI'm going to be blunt, here: You don't.\", 'You just have to base your answer on what you do know, which is what you want.\\tYes, you can do exactly what you want to do.', 'You should do it.\\tYou should prime it first.', \"There's not a lot you can do about that.\\tI'm afraid there's not really a lot you can do.\", 'What kind of insulation is it?\\tWhat kind of floors are above?', 'It depends entirely on your company and your contract.\\tI guess it depends on the nature of your contract.', \"You answered your own question.\\tYou've answered your own question already.\", \"I don't think that there's any.\\tI don't think there is any universal term.\", 'There are a few things you can do: \\tThere are a few minimally-effective things you can do at the personal level.', 'This is the tip I find most useful:\\tSomething like this is useful:  ', \"That's what I believe.\\tYes, I believe it's a good idea.\", \"If you are not sure how to do it, don't do it at all.\\tIf not, don't do that and spend that time with something you like to do.\", \"It's all in her head.\\tIt's all about adhesion.\", \"If you are not sure how to do it, don't do it at all.\\tIf you do not have a very strong scientific reason to do it, don't.\", \"You need to read a lot to know what you like and what you don't.\\tYou have to know what you want to do.\", \"I would say you can do it, but it wouldn't be advised.\\tPersonally, I would say not unless it suits you.\", 'Can you do this?\\tCan you do it?', \"Sure, I've  done this very trip.\\tI've done this many dozens of times.\", 'You can use it, too.\\tYou can do it, too.', 'How do you do that?\\tHow to do that?', \"I've located an article that might be of some help: http://www.dsattorney.com/qa-pseudonyms-in-contracts/\\tI found some link that might be of help to you:\", \"I would say you can do it, but it wouldn't be advised.\\tI would say it is impossible to know, so don't risk it.\", 'Unfortunately the answer to your question is we simply do not know.\\tThe answer to your question is not really.', \"If you are not sure how to do it, don't do it at all.\\tYou don't, it will not work.\", \"It's also a matter of taste.\\tIt's definitely just a matter of preference.\", \"It's not a good idea.\\tIt's a good idea to do both.\", 'This answer is based on my experience teaching undergraduate math in the US.\\tThis answer is based on experience I did not researched for references.', 'There are a few things I think you should do.\\tThere are quite a few things you would need to do;', 'You will want to clean the area first.\\tYou will also want to remove the seeds.', 'It depends on what you want to have in your tank.\\tIt depends on what you want to achieve.', 'There are a couple of options that you could consider:\\tThere are a lot of ways that could go poorly for you.', \"You don't have to worry.\\tSince you have one ticket, you don't have to worry.\", 'Vietnamese citizens need a visa to visit the USA.\\tNepalese citizens require a visa to visit the UK.', \"It depends on how it's used.\\tIt depends on how long it's been out.\", \"I don't see why there should be any problem with this whatsoever.\\tI don't see why this could be a problem.\", \"There's not a lot you can do about that.\\tI really do not think there is much you can do about that.\", 'You got it right.\\tYes you got it.', 'You just have to base your answer on what you do know, which is what you want.\\tRemember this is your degree we are talking about, its up to you what you want to do.', 'How do you do that?\\tHow should you do that?', 'I was in a similar situation.\\tI am in a similar situation.', 'What is your lid made of?\\tWhat is your paper for?', \"You don't need any visa.\\tYou don't need sauce at all.\", \"That is your problem, not your supervisor's.\\tWork with your supervisor and your team to solve the problem.\", \"It depends on what you want to do next, and where you want to do it.\\tIt's up to you what you want to do next.\", 'There are two things to consider:\\tA couple things to consider:', 'It depends entirely on your company and your contract.\\tIt depends on your company.', \"The wood probably isn't rotten, it's just worn out.\\tIt's just worn out and not safe.\", \"Well, I wouldn't put it on my cv.\\tI wouldn't put this job on my resume.\", 'This is a great one... \\tThis is a difficult one.', 'The answer to both questions is: Yes.\\tTo directly answer the two questions in your title.', 'Yes, there is a reason to not do what you propose.\\tValid reasons to feel the way you do, but not a reason to resign.', 'I think it is depends on the program.\\tIt depends on how the term is used I think.', 'Can you do this?\\tSo, CAN you do this?', \"I think there isn't a general answer.\\tI don't think there is an answer for this.\", 'There are a few things you can do: \\tThere are a couple things you can try.', 'The key is you have to find something that works for you, and your goals.\\tYou may want it, but the process given to you is what you have to work within.', \"You don't have to know.\\tYou don't have equipments/facilities to do research in B.\", \"I think you've pretty much done your review.\\tYou've pretty much answered your own question.\", \"There are a few things I think you should do.\\tThere are a few things I don't understand:\", 'You burn more Calories digesting protein than you do carbohydrates and fat.\\tThe more you sweat, the faster you will burn calories and fat.', 'It depends on what you want to do next, and where you want to do it.\\tIt depends on what you want to say/imply.', \"You got it right.\\tYou've got it right.\", 'You answered your own question.\\tYou pretty much answered your own question.', 'I have the same thing.\\tI had the same problem as you.', 'Yes, there is a chemical difference.\\tYes, there is a reason for it.', 'They can be out of level by a bit, but flat is important.\\tYes, although they can be a bit sour.', 'I would look at this: U.S.\\tI would look at this way: ', \"You are on the right path.\\tYou're on the right path.\", \"If you haven't, you should.\\tYou should, but you don't have to.\", 'Yes it is common!\\tThe simple answer is yes!', \"I don't think that there's any.\\tI don't think there are any benefits.\", 'It looks to me that this is set up for what you want:\\tIt is up to you whether you want to do that.', \"Problem is, the system doesn't account for people who could care less about money, or title.\\tThe Joker doesn't care about money.\", \"In the first case, I think you don't need it.\\tSo I don't think you need to put it on the cover.\", 'It is impossible to answer this question without a form check.\\tIt is difficult, if not impossible, to give a complete answer to this question.', 'You need to add this to your resume because it is the only position you have had.\\tThis gives you the opportunity to make your case that you really do have expertise in XXX.', 'Work into it slowly.\\tYou work on it slowly.', 'No, you do not NEED a bread machine.\\tYou do not need to worry.', 'Yes, it is possible to publish a paper on model analysis.\\tYes, it is hard to publish in a peer reviewed journal.', \"You just have to base your answer on what you do know, which is what you want.\\tSo if that's what you need, you really do have to be explicit about it.\", 'Yes, you should mention your experience.\\tYes, you should make a résumé.', \"I think it is great that you had a test conducted.\\tI think that's a great plan.\", \"You don't have to know.\\tOther than that you don't have a tax issue.\", \"Yes, there is a rule against this.\\tThere's no rule against it.\", 'What are your goals?\\tWhat are you goals?', \"I'm going to go out on a limb here...\\tI'm going to be very direct here.\", 'If your long stay visa for Switzerland is valid, then you will not need a transit visa.\\tYou do not need a transit visa, but to enter Zurich you will need a visa.', 'A few more point to think about:\\tA few things to think about:', \"Now you don't have to be perfect on every answer.\\tYou don't have to know.\", \"I'm afraid we are out of luck in this one.\\tI think this is one of those things where you are just out of luck.\", \"It is more deciding what you should do and what you should get others to do.\\tPoint is: know what you want and don't be afraid to ask for it.\", 'It varies by the situation.\\tThis varies by institution.', 'I have the same thing.\\tI have the same problem.', 'I have the same thing.\\tI have the exact same problem.', \"You are on the right path.\\tYou're right on about the sample definition.\", 'Primer/paint will not work.\\tNope that will not work.', 'The best thing you can do is to know your stuff.\\tThe best thing you can do is find something else interesting to do while you wait on hold.', \"It's also a matter of taste.\\tIt's mostly a matter of taste.\", 'I was in a similar situation.\\tPersonally when I was in a similar situation I sent the couple a card and a gift.', 'You can use it, too.\\tYes, you can do it.', 'You have to decide what you want to get out of this.\\tYou have to find out what works for you.', \"It depends on what they are.\\tIt depends on how it's used.\", 'I had the same problem as you.\\tI have just had the same problem.', 'Sometime if you really want it you might need to pay an agency to get the place for you.\\tYou could probably get a tour agency to do it for you but it would cost you.', \"You don't need to know everything.\\tThey just don't want you to know it.\", 'Also it is useful to keep the consistency in your story.\\tIt is important to keep the story in the scope of your limit.', \"I think it's just a habit.\\tI think it's a bad idea.\", \"It's not a good idea.\\tNo, it's not a good thing.\", \"I'm thinking it's a bad idea. \\tI think it's a bad idea.\", 'It depends on what you want to do next, and where you want to do it.\\tYou need to pick how and where you want to place your foot and do it.', 'You have a problem.\\tThis is a big problem.', 'Unfortunately the answer to your question is we simply do not know.\\tIf the conversation is not about work, you know what the answer is to your own question.', 'Unfortunately, this question cannot be answered in its full generality.\\tThis cannot be answered in general.', 'I would personally beware of the Motley Fool.\\tI would recommend looking at The Motley Fool.', \"I think there isn't a general answer.\\tI don't think there is a single definition.\", \"It's not a good idea.\\tNot a good idea.\", \"You don't need any visa.\\tYou don't have to worry.\", \"You have to decide what you want to get out of this.\\tYou're probably going to have to read various blogs to get all the information you want.\", 'I had the same problem as you.\\tI have exactly the same problem.', 'My answer to your question is \"Probably Not\".\\tThe answer to your question is not really.', 'You should do it.\\tYou should never do it.', 'I had the same problem as you.\\tI had the same issue.', \"Hope this is what you are looking for.\\tIs this the kind of thing you're looking for ?\", 'There are two things to consider:\\tI think there are two important things to consider:', \"It's pretty much up to you.\\tIt is up to you.\", 'There are a few things you can do: \\tThere are a few things you need to consider:', 'The answer to this and all such similar questions is in two stages:\\tThe answer to both questions is: Yes.', 'It is impossible to answer this question without a form check.\\tThis is a part answer to your question', 'There are a few things you can do: \\tThere are a few things I think you should do.', 'It depends on what you want to do next, and where you want to do it.\\tIt depends on what and where you are going to do.', 'There are a few possible reasons.\\tThere are a few reasons that paint wrinkles.', 'There are three options:\\tThere are only three options:', 'So think it in this way.\\tThink of it this way.', 'Maybe this could work for you.\\tMaybe this can work for you.', 'It depends on what you want to do next, and where you want to do it.\\tThey can, but the way to do it depends on what you have available.', 'Microwave would be your best bet.\\tYour best bet is research.', 'In the US, it will depend on the school.\\tThis will depend on the university.', \"It's not a good idea.\\tIt's not just a good idea, it's an excellent idea.\", 'There are a few things I think you should do.\\tThere are a few minimally-effective things you can do at the personal level.', \"I've had this same problem.\\tI had this same situation.\", 'This is not a good idea.\\tNot a good idea.', 'I realized there is already an accepted answer but I figure I would add my 2 cents.\\tI know this is an old question but I feel I should add my 2 cents.', 'Yes, there is a reason to not do what you propose.\\tYes, there is a chemical difference.', \"Yes, there is at least one to my knowledge.\\tTo my knowledge, there's no time requirement.\", \"You don't have to worry.\\tYou don't have to do anything to season it.\", 'There is no test that can tell you if it is sealed or not.\\tThere is no code telling you that you cannot do this.', 'Yes, you should make a résumé.\\tYes, you should talk to your professor.', \"You shouldn't feel any obligation at all.\\tYou don't need sauce at all.\", \"I've had this same problem.\\tI had this problem before.\", 'You may have to experiment and find what you like.\\tYou have to find out what works for you.', 'My answer to your question is \"Probably Not\".\\tThis is a part answer to your question', \"The key thing to realize here is that it's not your job to make people do their work.\\tIt really isn't your problem how they are going to find a qualified person to do the job.\", 'Not a direct answer to the question, but something to consider.\\tNot a real answer to your question, but maybe it helps.', 'There are two possible causes for this:\\tThere are two options for you - ', 'I agree with the other comments.\\tI agree with the previous comments.', 'The answer to both questions is: Yes.\\tIf the answer to any of these questions is yes, a PhD may be worthwhile for you.', \"It rather depends on which country you're in.\\tThat depends on which country you are in.\", 'This is a terrible idea.\\tThis is a bad idea.', 'Vivendi shares closed 1.9 percent at 15.80 euros in Paris after falling 3.6 percent on Monday.\\tIn New York, Vivendi shares were 1.4 percent down at $18.29.', 'Bremer said one initiative is to launch a US$70 million nationwide program in the next two weeks to clean up neighborhoods and build community projects.\\tBremer said he would launch a $70-million program in the next two weeks to clean up neighborhoods across Iraq and build community projects, but gave no details.', 'Governor Gray Davis estimated yesterday that the fires could cost nearly $2 billion.\\tState officials estimated the cost at nearly $2 billion.', 'The American Express Corp. has pledged at least $3 million of more than $5 million needed.\\tThe city had requested federal funds, but withdrew that request when American Express pledged at least $3 million.', 'Claudette, the first hurricane of the Atlantic storm season, hit the mid-Texas coast July 15 with 85-mph wind.\\tClaudette, the first hurricane of the Atlantic storm season, hit the mid-Texas coast July 15, classified as a Category 1 hurricane with maximum sustained winds of 85 mph.', 'Results from No. 2 U.S. soft drink maker PepsiCo Inc. (nyse: PEP - news - people) were likely to be in the spotlight.\\tWall Street was also waiting for aluminum maker Alcoa Inc. (nyse: PEP - news - people) to report earnings after the close.', \"Taylor's aides warn an abrupt departure could trigger more chaos, a view shared by many in Liberia and, in private, even by mediators.\\tHis aides warn an abrupt departure could trigger more bloodshed, a view shared by many in Liberia.\", 'But Odette is the first to form over the Caribbean Sea in December, the Center said.\\tIt is the first named storm to develop in the Caribbean in December.', 'The AFL-CIO is waiting until October to decide if it will endorse a candidate.\\tThe AFL-CIO announced Wednesday that it will decide in October whether to endorse a candidate before the primaries.', 'It was developed with consultation from more than 300 leaders in academia, industry, government and the public.\\tThe plan, called The NIH Roadmap, was developed over 14 months with help from more than 300 consultants in industry and academia.', 'Local police authorities are treating the explosion as a criminal matter and nothing has been ruled out.\\tActing New Haven Police Chief Francisco Ortiz said police were treating the explosion as a criminal matter.', \"Chiron already has nearly 20 percent acceptances from PowderJect's shareholders.\\tChiron has acceptances from holders of nearly 20 percent of PowderJect shares.\", '\"We believe we are fully prepared to roll out the [touch-screen] machines for the 2004 presidential primary,\" said Gilles W. Burger, State Board of Elections chairman.\\t\"We believe we are fully prepared to roll out the revised Diebold machines,\" said Gilles W. Burger, chairman of the Maryland State Board of Elections.', 'Analysts expected earnings of 27 cents a share on revenue of $17.7 billion, Thomson First Call says.\\tHewlett-Packard is putting in for a second-quarter profit of $659 million, or 29 cents a share, on revenue of $18 billion.', 'Another was in serious condition at Northwest Medical Center in Springdale.\\tAt Northwest Medical Center of Washington County in Springdale, one child is in serious condition.', \"Sean Harrigan, president of the California Public Employees' Retirement System, also suggested paring down the NYSE's 27-member board, changing its composition and making it more accountable.\\tSean Harrigan, president of the California Public Employees' Retirement System, also suggested paring the NYSE's 27-member board and allotting more seats to investors outside the securities industry.\", 'The Swedish central bank was also meeting on Wednesday and widely expected to announce a cut on Thursday.\\tThe Swedish central bank, also meeting on Wednesday, is widely expected to announce a cut on Thursday of as much as half a percentage point.', 'His 1996 Chevrolet Tahoe was found abandoned in a Virginia Beach, Va., parking lot June 25.\\tHis sport utility vehicle was found June 25, abandoned without its license plates in Virginia Beach, Va.', 'Heatley was sixth in the league in goals last season with 41 and ninth in points with 89.\\tHeatley led Atlanta in scoring last season with a team-record 41 goals and 48 assists.', '\"Tony\\'s not feeling well,\" Spurs coach Gregg Popovich said.\\tWe\\'re thrilled to be up 3-2,\\'\\' Coach Gregg Popovich said Wednesday.', 'Electronic Data Systems Corp. Thursday said the Securities and Exchange Commission has asked the company for documents related to its large contract with the U.S. Navy.\\tIn a regulatory filing, EDS said the SEC had asked for information related to its troubled IT outsourcing contract with the US Navy.', 'As well as the dolphin scheme, the chaos has allowed foreign companies to engage in damaging logging and fishing operations without proper monitoring or export controls.\\tInternal chaos has allowed foreign companies to set up damaging commercial logging and fishing operations without proper monitoring or export controls.', \"The next court session will be when the three-judge tribunal announces its verdict in mid-February.\\tThe court's three-judge tribunal was expected to give its verdict next February.\", 'The consensus among Wall Street analysts was for a loss of 28 cents a share.\\tAnalysts surveyed by First Call were expecting sales of $723 million and a loss of 28 cents a share.', \"The civilian unemployment rate improved marginally last month -- slipping to 6.1 percent -- even as companies slashed payrolls by 93,000.\\tThe civilian unemployment rate improved marginally last month _ sliding down to 6.1 percent _ as companies slashed payrolls by 93,000 amid continuing mixed signals about the nation's economic health.\", 'Moffitt said the results need to be replicated in another study before testing of individuals for presence of the long or short versions of the gene will be pursued.\\tProfessor Moffitt said the results needed to be replicated before pursuing testing of individuals for the presence of the long or short versions of the gene.', 'The compensation committee will prohibit securities industry directors from sitting on it.\\tThe exchange also said its five-person compensation committee will consist only of directors from outside the securities industry.', 'Q: Can I buy coverage for prescription drugs right away?\\tCongress has added a new benefit - an option to buy insurance coverage for prescription drugs.', 'Shares of Mandalay closed down eight cents to $29.42, before the earnings were announced.\\tShares of Mandalay closed down 8 cents at $29.42 Thursday.', \"In 1999, the building's owners, the Port Authority of New York and New Jersey, issued guidelines to upgrade the fireproofing to a thickness of 1{ inches.\\tThe NIST discovered that in 1999 the Port Authority issued guidelines to upgrade the fireproofing to a thickness of 1 1/2 inches.\", \"The dollar was last at $1.1149 to the euro, close to its strongest level since April 30.\\tThe dollar pushed as high as $1.1115 to the euro in early trade, extending Tuesday's one percent rally to hit its strongest level since April 30.\", \"The single currency rose as far as 135.13 yen , matching a record high hit shortly after the euro's launch in January 1999.\\tThe single currency rose as far as 135.26 yen , its highest level since the introduction of the single currency in January 1999.\", \"A New Castle County woman has become the first Delaware patient to contract the West Nile virus this year, the state's Department of Health reported.\\tA 62-year-old West Babylon man has contracted the West Nile virus, the first human case in Suffolk County this year, according to the county health department.\", 'He also reaffirmed his wish to resolve the North Korean nuclear crisis peacefully.\\tBut the North Korean nuclear crisis has dominated his time in office.', 'A rebel who was captured said more than 2,000 insurgents were involved in the attack.\\tA captured rebel said 2,100 combatants had been involved in the offensive.', 'Kyi, a U.N. envoy says, as Japan adds to growing international pressure by saying it will halt its hefty economic aid unless Suu Kyi is freed.\\tJAPAN added to growing international pressure on Burma yesterday, threatening to halt its hefty economic aid unless the military government released pro-democracy leader Aung San Suu Kyi.', \"Wal-Mart, Kohl's Corp., Family Dollar Stores Inc., and Big Lots Inc. were among the merchants posting May sales that fell below Wall Street's modest expectations.\\tWal- Mart, Kohl's Corp., Family Dollar Stores Inc., and Big Lots Inc. posted May sales that fell below Wall Street's modest expectations.\", 'Mr Eddington warned yesterday that the future of the airline was \"in the hands of the negotiators\".\\t\"The future of BA is in the hands of the negotiators,\" Eddington told British Broadcasting Corp. television on Sunday.', '\"Both of these kids are in wonderful physical condition right now,\" he said during a press briefing at the hospital.\\t\"Both of these kids are in wonderful physical condition right now,\" said Goodrich, also director of pediatric neurosurgery at the Children\\'s Hospital at Montefiore.', \"On the cell's surface, the foreign components are recognised by other cells that then realise it is infected and kill it.\\tThe foreign bits are recognized by other cells that realize it is infected and kill it.\", 'Trading in Loral was halted yesterday; the shares closed on Monday at $3.01.\\tThe New York Stock Exchange suspended trading yesterday in Loral, which closed at $3.01 Friday.', 'Knox County Health Department is following national Centers for Disease Control and Prevention Protocol to contain infection.\\tThe health department spokesperson added the department is following Centers for Disease Control protocol.', 'Schools Chancellor Joel Klein said the push for higher standards and accountability \"is showing results.\"\\tSchools Chancellor Joel Klein said he was pleased by the results.', 'One witness told Anatolian he saw the plane on fire while it was still in the air.\\tOne witness told the Anatolian news agency he saw the plane on fire in mid-air.', 'He proposed a system under which it would take fewer and fewer votes to overcome a filibuster.\\tFrist proposed a process in which it would take gradually fewer votes to overcome filibusters preventing final votes on judicial confirmations.', \"Hormone replacement therapy that combines estrogen and progestin doubles a woman's risk of breast cancer, a British study of more than a million women has found.\\tA major British study has added to the evidence that hormone replacement therapy increases the risk of breast cancer, especially when women receive a combination of estrogen and progestin.\", \"Barbini's comments came Tuesday, the second day of the Ministerial Conference and Expo on Agricultural Science and Technology.\\tU.S. Agriculture Secretary Ann Veneman kicks off the three-day Ministerial Conference and Expo on Agricultural Science and Technology on Monday.\", \"Yesterday, shares closed up 29 cents, or 0.54 percent, at $54.32.\\tAmazon's shares yesterday closed at $54.32 on the Nasdaq Stock Market, up 29 cents.\", \"Lawtey is not the first faith-based program in Florida's prison system.\\tBut Lawtey is the first entire prison to take that path.\", 'The transaction will grant Handspring stockholders 0.09 of a share of Palm--and no shares of PalmSource--for each share of Handspring common stock.\\tUnder the proposed terms of the transaction, and following the spinoff of PalmSource, Palm will exchange 0.09 shares for each share of Handspring.', 'The giant rock was first observed on August 24 by Lincoln Near-Earth Asteroid Research Program, based in Socorro, New Mexico.\\tThe rock was first observed by the Lincoln Near Earth Asteroid Research Program, also known as LINEAR.', '\"We need to change old habits and seriously rethink business-as-usual.\"\\tHe urged employees to \"avoid complacency\" and to \"change old habits and seriously rethink business-as-usual.\"', '\"These despicable acts were committed by killers whose only faith is hate,\" Bush said, adding that the United States will find the killers.\\tThese despicable acts were committed by killers whose only faith is hate and the United States will find the killers and they will learn the meaning of American justice.', 'There are a total of 659 women enrolled at the academy, the report said.\\tThere were 659 women enrolled at the academy at the time of the survey.', 'It is a national concern that will touch virtually every American,\" Abraham said.\\tThe impact of natural-gas shortages \"will touch virtually every American,\" Energy Secretary Spencer Abraham warned yesterday.', 'In the United States, 20.7 percent of all women smoke.\\tNevada is where the most women smoke, 28 percent.', 'It has a margin of error of plus or minus 4 percentage points.\\tThat poll had 712 likely voters and sampling error of plus or minus 3.7 percentage points.', 'Shares of MONY were gaining $2.57, or 9%, to $31.90 in after-hours trading on Instinet.\\tMONY shares rose 8.76 per cent to $31.90 in after-hours trading in New York.', 'Diana was at her lowest ebb when she wrote the letter to Paul Burrell claiming there was a plot to kill her.\\tBurrell said Diana wrote a letter in October 1996 claiming there was a plot to kill her in a smash and gave it to him to keep as insurance.', 'Gillespie sent a letter to CBS President Leslie Moonves asking for a historical review or a disclaimer.\\tRepublican National Committee Chairman Ed Gillespie issued a letter Friday to CBS Television President Leslie Moonves.', '\"Let\\'s show we won\\'t let them off,\" said Marc Blondel, leader of the Force Ouvriere union.\\t\"The movement to defend pensions is gaining momentum, and we won\\'t give up,\" said Marc Blondel, leader of the Force Ouvriere union.', 'Contrary to what PeopleSoft management would have you believe, Oracle intends to fully support PeopleSoft customers and products for many years to come.\"\\tEllison said that contrary to the contentions of PeopleSoft management, Oracle intends to \"fully support PeopleSoft customers and products\" for many years to come.', 'Under Mexican law, bounty hunting is considered a form of kidnapping.\\tBounty hunting is illegal in Mexico, and the bounty hunter was charged with kidnapping.', 'The announcements were made at the International Broadcasting Convention (IBC) in Amsterdam.\\tThe submission was on Monday, but the announcement was made Friday at the International Broadcasting Convention in Amsterdam.', 'Its keywords are supported by Chinese language Web portals.\\tChinese language Web portals also support 3721 keywords, the Web site said.', 'The consensus estimate of analysts polled by Thomson First Call called for a profit of $1.70 per share.\\tAnalysts polled by Reuters Research, a unit of Reuters Group Plc, on average forecast profit of $1.69 per share.', 'Initial autopsy reports show they died of dehydration, hyperthermia and suffocation.\\tTwo more died later, and initial autopsy reports show they succumbed to dehydration, hypothermia and suffocation.', 'Authorities appealed to the public Friday to come forward and provide what could be the key to solving the sniper-style shootings that have killed three people outside area convenience stores.\\tAuthorities looked to the public yesterday for help in solving the deadly sniper-style shootings of three people outside Charleston-area convenience stores.', 'Second comes HP (27 percent with $2.9 billion, up just 0.4 percent).\\tHP fell to second place with server sales growing 0.4 percent to $2.9 billion.', 'U.S. forces recently apprehended some 40 suspected foreign militants near the Syrian border and are now interrogating them.\\tThe Third Armored Cavalry Regiment recently apprehended about 40 suspected fighters near the Syrian border, officials said.', 'That compares with a profit of $1 million, or breakeven, on $1.39 billion in revenue during the same period last year.\\tTotal revenue for the second quarter was $1.48 billion, up 7% from $1.39 billion in the same period last year.', \"Bolivia's army fought to stop columns of protesters from streaming into the food-starved capital on Wednesday as a popular uprising against the president spread.\\tBolivia's army fought to stop a column of dynamite-wielding miners from streaming into the besieged capital on Wednesday, leaving two dead as a popular uprising against the President spread.\", \"The A920 comes with a printer, scanner, and copier for $89.\\tDell's Personal All-in-One A920 is an entry-level device that combines printer, scanner and copier functions for $89.\", \"But in the first 30 seconds after Young entered the ring, the family knew it was an uneven match, Meyers said.\\tBut in the first 30 seconds of the bout, family members knew it was an uneven match, Jodie Meyers, Stacy Young's sister, said.\", 'Singapore reported no suspected SARS cases Wednesday, but officials quarantined 70 people who had contact with the Taiwanese patient.\\tStill, Singapore quarantined 70 people who had been in close contact with the scientist.', 'Downstream at Mount Vernon, the Skagit River was expected to crest at 36 feet -- 8 feet above flood stage -- tonight, Burke said.\\tThe Skagit was expected to crest during the night at 38 feet at Mount Vernon, 10 feet above flood stage, the National Weather Service said.', 'On Monday, the Dow declined 5.25, or 0.1 percent, at 8,983.80, having shed 2.3 percent last week.\\tIn early trading, the Dow Jones industrial average was down 39.94, or 0.4 percent, at 8,945.50, having slipped 3.61 points Monday.', 'The injured were taken to hospitals in Jefferson City and Columbia, a college town about 30 miles to the north.\\tThe injured were taken to hospitals in Jefferson City and Columbia, about 48km north; their conditions were not immediately available.', 'The dollar was at 117.85 yen against the Japanese currency, up 0.1 percent.\\tAgainst the Swiss franc the dollar was at 1.3289 francs, up 0.5 percent on the day.', \"In addition to O'Connor, Rehnquist's majority opinion was joined by Justices David Souter, Ruth Bader Ginsburg, and Stephen Breyer.\\tJoining him in the majority opinion were Justices Sandra Day O'Connor, David H. Souter, Ruth Bader Ginsburg and Stephen G. Breyer.\", 'Martin, 58, will be freed today after serving two thirds of his five-year sentence for the manslaughter of 16-year-old Fred Barras.\\tMartin served two thirds of a five-year sentence for the manslaughter of Barras and for wounding Fearon.', 'IDEC shareholders would own 50.5 percent of the stock of the combined company, and Biogen shareholders the remaining 49.5 percent.\\tThe companies said Idec holders would own about 50.5 percent of the stock of the combined company.', 'Nonetheless, the open-source guru insisted, \"This attack was wrong, and it was dangerous to our goals.\"\\t\"This attack was wrong, and it was dangerous to our goals,\" Raymond said.', 'Frank Quattrone, the former Credit Suisse First Boston technology investment-banking guru, reportedly pleaded not guilty Tuesday to charges of obstruction of justice and witness tampering.\\tNEW YORK -(Dow Jones)- Former star investment banker Frank Quattrone pleaded not guilty Tuesday to criminal charges of obstruction of justice and witness tampering.', 'The blue-chip Dow Jones industrial average .DJI fell 86.56 points, or 0.94 percent, to 9,109.99, after giving up more than 1 percent earlier.\\tThe Dow Jones industrial average .DJI fell 79.43 points, or 0.86 percent, to 9,117.12 on Friday.', 'The Dow Jones industrial average ended the day down 10.89 at 9,837.94, after advancing 111.04 Wednesday.\\tThe Dow Jones industrial average fell 10.89 points, or 0.11 percent, to 9,837.94.', 'Perry has since called two special legislative sessions to try force the redistricting plan through.\\tSince then, Texas Gov. Rick Perry has called two special sessions trying to push the measure through.', 'The agency will \"consider as timely any tax returns or payments due\" Aug. 15 if they are submitted by Aug. 22.\\tThe agency said it would consider as timely any tax returns or payments due from Friday through Aug. 22 if they are completed by Aug. 22.', \"Democrats currently hold a 17-15 advantage in the state's congressional delegation.\\tThe Texas congressional delegation now is 17-15 Democratic.\", 'Chaudhry was released 56 days later and the Fiji military installed an all-indigenous government led by Qarase, who won democratic elections in September 2001.\\tThe Fijian military installed an all-indigenous government led by Mr Qarase, who won democratic elections in September 2001.', 'New legit download service launches with PC users in mind.\\tBuyMusic is the first subscription-free paid download music service for PC users.', \"The 30-year bond US30YT=RR rose 22/32 for a yield of 4.31 percent, versus 4.35 percent at Wednesday's close.\\tThe 30-year bond US30YT=RR grew 1-3/32 for a yield of 4.30 percent, down from 4.35 percent late Wednesday.\", 'Last week, his lawyers asked Gov. Mark R. Warner to grant clemency, but the governor declined to intervene.\\tLast week, his lawyers asked Warner to grant clemency under certain conditions that would have lead to a new sentencing hearing.', 'Gov. Linda Lingle and members of her staff were at the Navy base and watched the launch.\\tGov. Linda Lingle and other dignitaries are scheduled to be at the base to watch the launch.', 'The best the investigators can do is nitpick about the process and substance of isolated business decisions ... and question his competence as a manager.\"\\tEbbers\\' lawyer, Reid Weingarten, said despite the thorough investigation, \"the best the investigators can do is nitpick about the process and substance of isolated business decisions.\"', 'The Justice Department filed suit Thursday against the state of Mississippi for failing to end what federal officials call \"disturbing\" abuse of juveniles and \"unconscionable\" conditions at two state-run facilities.\\tThe Justice Department filed a civil rights lawsuit Thursday against the state of Mississippi, alleging abuse of juvenile offenders at two state-run facilities.', 'The Chelsea defender Marcel Desailly has been the latest to speak out.\\tMarcel Desailly, the France captain and Chelsea defender, believes the latter is true.', 'She was the only woman in her unit and a member of Teamsters Local 995.\\tShe was the only woman employed as a warehouse worker and heavy equipment operator and the only woman in her Teamsters local.', 'Special police detained Khodorkovsky early on Saturday in the Siberian city of Novosibirsk, where his plane had made a refuelling stop.\\tPolice detained Khodorkovsky early on Saturday when his jet made a refueling stop in the Siberian city of Novosibirsk.', 'Sony Ericsson also said it would shut down its GSM/UMTS R&D center in Munich, Germany, to increase profitability.\\tSony Ericsson also said it plans to close its R&D site in Munich, Germany, for GSM and UMTS handsets.', 'But the country is scrambling to prevent it spreading to the vast countryside where most of its 1.3 billion people live.\\tChina is scrambling to stop the disease from spreading to the countryside, where most of its 1.3 billion people live.', 'Kansas Department of Health and Environment records show there were 88 abortions performed on girls age 14 and younger last year.\\tStatistics from the Kansas Department of Health and Environment show that 11,844 abortions were performed in the state last year.', '\"The discovery that the MAP bug is present in the vast majority of Crohn\\'s sufferers means it is almost certainly causing the intestinal inflammation,\" it said in a statement.\\tThe researchers say that the fact the MAP bug is present in the vast majority of Crohns sufferers means it is almost certainly causing the intestinal inflammation.', 'The life expectancy for boys born in 2001 was 74.4 years, up two years since 1990.\\tAccording to the report, average life expectancy has increased by nearly two years since 1990.', 'For the full 12-month period, high-speed cable modem connections increased by 49 percent.\\tFor the full year period ending June 30, 2003, high-speed lines increased by 45 percent.', \"We believe the report is fully consistent with what the courts have ruled ... that the department's actions are fully within the law.\\tComstock said several federal courts have ruled that the detentions are fully within the law.\", 'Indeed, Mr. Weill, a self-described workaholic, said he planned to remain very involved in the company.\\tStill, Mr. Weill will remain very much a power at the company.', 'Gregory Parseghian, a former investment banker, was appointed chief executive.\\tGreg Parseghian was appointed the new chief executive.', 'The report cites the marriage of the alleged operational commander of the Bali bombings, Mukhlas, to Farida, a \"highly cosmopolitan and well-educated young woman\".\\tThe report cites the marriage of the alleged operational commander of the Bali bombings, Mukhlas, as an example of how JI uses marriage to grow.', \"The Cradle of Liberty Council isn't the first one to buck the national group's stance.\\tPhiladelphia's council is not the first to defy the national policy.\", '\"It\\'\\'s absurd,\" Funny Cide\\'s trainer Barclay Tagg said.\\tMeanwhile, Funny Cide\\'s trainer, Barclay Tagg, called the allegations \"ridiculous.\"', 'Last year, Cuban officials said none of nearly two dozen nominated Cuban musicians received U.S. visas on time to attend the Grammys in Los Angeles.\\tCuban officials said that last year none of about two dozen nominated Cuban musicians received U.S. visas in time to attend the Latin Grammys.', \"The American conservatives are clearly in the minority within the Episcopal Church.\\tThe letter indicates the Vatican's interest in bolstering conservatives within the Episcopal Church.\", 'The New York senator\\'s new book, \"Living History,\" appears a certain bestseller.\\tHillary Clinton, the New York senator and former first lady, has a book out Monday titled Living History.', '\"Canada is a small country, and it needs companies like this, deals like this.\"\\tA passionate nationalist, Mr. D\\'Alessandro said: \"Canada is a small country, and we need more companies like this.\"', 'Police official S.K. Tonapi told Reuters at least 40 people had been killed and more than 100 wounded.\\tState interior ministry spokesman Vasant Pitke told Reuters that at least 42 people had been killed and 112 injured.', '\"Jeremy\\'s a good guy,\" Barber said, adding: \"Jeremy is living the dream life of the New York athlete.\\tHe also said Shockey is \"living the dream life of a New York athlete.', 'But Mitsubishi Tokyo Financial (JP:8306: news, chart, profile) declined 3,000 yen, or 0.65 percent, to 456,000 yen.\\tSumitomo Mitsui Financial (JP:8316: news, chart, profile) was down 2.5 percent at 198,000 yen.', 'About 1,557 genes on chromosome 6 are thought to be functional.\\tThe remaining 1,557 genes are believed to be all functional.', 'In the second quarter, Anadarko now expects volume of 46 million BOE, down from 48 million BOE.\\tProduction for the second quarter was cut to 46 million barrels from 48 million barrels.', \"U.S. troops encountered no resistance during the five-hour sweep near Tikrit, Saddam Hussein's hometown and the center of a region of Baath Party supporters.\\tTikrit is Saddam Hussein's hometown and the region around it is known as a hotbed of Baath Party supporters and former high-ranking Iraqi military officials.\", 'Miodrag Zivkovic, of the Liberal Alliance of Montenegro, won 31 percent of the vote while the independent Dragan Hajdukovic got four percent.\\tMiodrag Zivkovic, the leader of the pro-independence opposition Liberal Alliance, came in second with 31 percent of the vote.', 'In the year-ago period, Pearson posted a 26 million pre-tax profit.\\tA year ago the firm posted a profit of 26 million pounds.', 'Through Thursday, Oracle said 34.75 million PeopleSoft shares had been tendered.\\tSome 34.7 million shares have been tendered, Oracle said in a statement.', \"Yucaipa owned Dominick's before selling the chain to Safeway in 1998 for $2.5 billion.\\tYucaipa bought Dominick's in 1995 for $693 million and sold it to Safeway for $1.8 billion in 1998.\", 'Graves reported from Albuquerque, Villafranca from Austin and Ratcliffe from Laredo.\\tPete Slover reported from Laredo and Gromer Jeffers from Albuquerque.', 'A 25 percent increase would raise undergraduate tuition to about $5,247 annually, including miscellaneous, campus-based fees.\\tThe 25 percent hike takes annual UC undergraduate tuition to $4,794 and graduate fees to $5,019.', 'Authorities said the scientist properly quarantined himself at home after he developed SARS symptoms Dec. 10.\\tThe scientist also quarantined himself at home as soon as he developed SARS symptoms, officials said.', 'The support will come as a free software upgrade called WebVPN for current customers that have support contracts.\\tThe upgrade will be available as a free download for current customers with SmarNet support in January 2004.', 'Hilsenrath and Klarman each were indicted on three counts of securities fraud.\\tKlarman was charged with 16 counts of wire fraud.', \"The new sensor -- dubbed CANARY for ''cellular analysis and notification of antigen risks and yields'' -- hijacks this natural process with two important changes.\\tThe team has named the sensor Canary, for cellular analysis and notification of antigen risks and yields.\", \"One, Fort Carson-based Sgt. Ernest Bucklew, 33, had been on his way home to attend his mother's funeral in Pennsylvania.\\tSgt. Ernest Bucklew, 33, was coming home from Iraq to bury his mother in Pennsylvania.\", 'Waksal has pleaded guilty to securities fraud and is to be sentenced next week.\\tWaksal pleaded guilty to insider trading charges last year, and he is scheduled to be sentenced June 10.', \"The device plays Internet radio streams and comes with a 30-day trial of RealNetworks' Rhapsody music service.\\tThe product also streams Internet radio and comes with a 30-day free trial for RealNetworks' Rhapsody digital music subscription service.\", 'The dollar fell as low as $1.1624 per euro from $1.1486 on Friday, and traded at $1.1594 at 10:15 a.m. in London.\\tThe dollar dropped to $1.1564 per euro at 7:30 a.m. in London from $1.1486 on Friday.', 'During the hearing, Morales expressed \"sincere regrets and remorse\" for his actions.\\tMorales, who pleaded guilty in July, expressed \"sincere regret and remorse\" for his crimes.', 'Site Finder has been visited 65 million times since its introduction, Galvin said.\\tThrough Sunday, Sept. 21, Site Finder has been visited over 65 million times by Internet users.', 'According to SunnComm\\'s Peter Jacobs, \"MediaMax performs exactly as \\'advertised\\' to the companies who purchased it.\\t\"MediaMax performs EXACTLY as \"advertised\" to the companies who purchased it,\" Jacobs said in the statement.', 'He was tracked to Atlanta where he was arrested on Tuesday night.\\tHe was arrested in Atlanta, Georgia, on Monday night by police acting on a tip-off.', 'The Bush administration blames Hussein loyalists and foreign Muslim militants who have entered Iraq to fight U.S. troops for the wave of bombings and guerrilla attacks.\\tThe Bush administration blames the wave of bombings and guerrilla attacks on Saddam loyalists and foreign Muslim militants who have entered Iraq to fight U.S. troops.', 'It later emerged that he had broken his right thigh and bones in his right wrist and elbow.\\tTour doctors later confirmed that he had broken his right leg near the hip and also sustained wrist and elbow fractures.', 'The Senate agreed Tuesday to lift a 10-year-old ban on the research and development of low-yield nuclear weapons.\\tBoth the House and Senate bills would end the ban on research and development of low-yield nuclear weapons.', 'Some 95 million Americans -- half of all households -- invest in mutual funds.\\tAbout half of all U.S. households have money in mutual funds.', 'The House has passed prescription-drug legislation in the last two sessions, but the Senate has failed to do so.\\tThe House has passed bills the past two Congresses, but the Senate has not.', 'The elderly and those with weakened immune systems are also urged to protect against mosquito bites.\\tBut for the elderly and those with weakened immune systems, it can be fatal.', 'Ms Lafferty\\'s lawyer, Thomas Ezzell, told a Kentucky newspaper: \"My understanding of this is that there is a lower percentage of successful impregnations with frozen.\\t\"My understanding of this is that there is a lower percentage of successful impregnations with frozen,\" Ezzell said.', 'Klarman was arrested by FBI agents in the Hamptons, an exclusive summer resort enclave east of New York City.\\tKlarman was arrested by FBI agents Monday morning at his home in New York.', \"The bishop told police he thought he had hit a dog or a cat or that someone had thrown a rock at his vehicle.\\tBishop O'Brien, aged 67, had told police he thought he had hit a dog or cat.\", 'A promotional poster, complete with countdown dial, reminds readers of the upcoming release of \"Harry Potter and the Order of the Phoenix.\"\\tThe crates are full of hardback copies of \"Harry Potter and the Order of the Phoenix.\"', '\"Further testing is still under way, but at this stage, given the early detection, the outlook in such instances would be positive,\" the specialist said yesterday.\\t\"But at this stage, given the early detection, the outlook in such instances would be positive,\" he said.', 'In morning trading, the Dow Jones industrial average was up 40.12, or 0.5 percent, at 8,571.69, having fallen 51 points Monday.\\tIn New York, the Dow Jones industrial average a gauge of 30 blue chip stocks was up 3.29 points or 0.04 per cent to 8,585.97.', 'Rich media doubled its share, increasing from 3% in Q2 2002 to 6% in Q2 2003.\\tRich Media interactive ad formats doubled their share from 3% in second quarter of 2002, to 6% in the second quarter of 2003.', \"It will take time to oust die-hard remnants of Saddam Hussein's deposed regime in Iraq, Defense Secretary Donald H. Rumsfeld said Tuesday.\\tDefense Secretary Donald H. Rumsfeld said Tuesday it will take time to locate die-hard remnants of Saddam Hussein's deposed regime in Iraq.\", 'Sayliyah was the command base for the Iraq war, but Central Command sent hundreds who ran the war back home to Tampa, Florida.\\tAs Sayliyah was the command base for the Iraq war, but hundreds who ran the war have returned to the United States.', 'SCO says the pricing terms for a license will not be announced for weeks.\\tDetails on pricing will be announced within a few weeks, McBride said.', 'Sources within the racing industry have told the Daily Bulletin that Fontana will get a second NASCAR race on Labor Day weekend starting next season.\\tSources in the racing industry said Fontana will get a second NASCAR race on Labor Day weekend starting next season.', 'The Dow Jones industrial average .DJI ended up 56.79 points, or 0.67 percent, at 8,588.36 -- its highest level since January 17.\\tThe Dow Jones Industrial Average ($DJ: news, chart, profile) rose 56 points, or 0.7 percent, to 8,588.', 'Dennehy, who transferred to Baylor last year after getting kicked off the University of New Mexico Lobos for temper tantrums, had begun to read the Bible daily.\\tDennehy, who transferred to Baylor last year after getting kicked off the University of New Mexico Lobos for temper tantrums, became a born-again Christian in June 2002.', 'Bashir felt he was being tried by opinion not on the facts, Mahendradatta told Reuters.\\tBashir also felt he was being tried by opinion rather than facts of law, he added.', \"Schofield got Toepfer to admit on cross-examination that she ignored many of O'Donnell's suggestions and projects.\\tBut under cross-examination by O'Donnell's attorney, Lorna Schofield, Toepfer conceded she had ignored many of O'Donnell's suggestions and projects.\", 'In that case, the court held that Cincinnati had violated the First Amendment in banning only the advertising pamphlets in the interest of aesthetics.\\tIn that case, the court held that the city of Cincinnati had violated the First Amendment in banning, in the interest of aesthetics, only the advertising pamphlets.', 'Box cutters were used as a weapon by the Sept. 11, 2001, hijackers and have since been banned as carry-on items.\\tBox cutters were the weapons used by the 19 hijackers in the Sept. 11, 2001, attacks.', \"On July 22, Moore announced he would appeal the case directly to the U.S. Supreme Court.\\tMoore of Alabama says he will appeal his case to the nation's highest court.\", 'Southwest said its traffic was up 4.6 percent in the quarter, and it ended the quarter with $2.2 billion in cash.\\tSouthwest said its traffic was up 4.6 percent in the quarter on a capacity increase of 4.2 percent.', 'Four versions of Windows operating systems are targeted: Windows NT, Windows 2000, Windows XP and Windows Server 2003.\\tThe new worm affects these Windows systems: 2000, XP, NT 4.0 and Server 2003.', \"Shares of McDonald's Corp. and Wendy's International Inc. continued a modest run-up on the New York Stock Exchange Monday.\\tShares of McDonald's and Wendy's continued their recent recovery Monday, rising more than 1 percent on the New York Stock Exchange in afternoon trade.\", 'He playfully chided the Senate\\'s \"little bitty tax relief plan.\"\\tWe don\\'t need a little bitty tax relief plan.', \"Looking to buy the latest Harry Potter?\\tHarry Potter's latest wizard trick?\", \"MediaQ's customers include major handheld makers Mitsubishi, Siemens, Palm, Sharp, Philips, Dell and Sony.\\tNvidia will take advantage of MediaQ customers, which include such players as Siemens AG, Sharp, Philips, Dell, Mitsubishi and Sony Corp.\", 'Aventis, based in Strasbourg, France, is one of a handful of companies that still make the flu vaccine.\\tAventis, based in Strasbourg, France, is one of the leading producers of the vaccine and one of a handful of companies that still make it.', 'Michael Bloomberg, NYC Mayor: \"I\\'m gonna try march with a number of different groups.\\t\"I\\'m going to try to march with a number of different groups,\" Bloomberg said.', 'The attack seemed similar to others staged near foreign compounds in Riyadh on May 12.\\tThe attack seemed similar to attacks staged near foreign compounds in Riyadh on May 12, for which officials have also blamed al-Qaida.', '\"We put a lot of effort and energy into improving our patching process, probably later than we should have and now we\\'re just gaining incredible speed.\\t\"We\\'ve put a lot of effort and energy into improving our patching progress, probably later than we should have.', 'The boy also sprayed the room full of retardant from fire extinguishers, which made it hard to see, the chief said.\\tThe boy fired once into a wall and sprayed the room with fire extinguishers, making it hard to see, the chief said.', '\"But HRT should not be used to prevent heart disease or any other chronic condition.\"\\t\"The clear message is it should not be used to prevent cardiovascular disease,\" Manson said.', 'The meat, poultry, butter, cheese and nuts were impounded a year ago at a LaGrou Cold Storage warehouse in Chicago.\\tThe meat, poultry, butter, cheese and nuts were being stored by more than 100 wholesalers in Chicago.', 'The BlueCore3-Multimedia includes a 16-bit stereo audio CODEC with dual ADC and DAC for stereo audio.\\tBlueCore3-Multimedia contains an open platform DSP co-processor and also includes a 16-bit stereo audio codec with dual ADC and DAC for stereo audio.', \"Now, with the agency's last three shuttles grounded in the wake of the Columbia disaster, that wait could be even longer.\\tWith the remaining three shuttles grounded in the wake of the Columbia accident, the rookies will have to wait even longer.\", 'Bremer, 61, is a onetime assistant to former Secretaries of State William P. Rogers and Henry Kissinger and was ambassador-at-large for counterterrorism from 1986 to 1989.\\tBremer, 61, is a former assistant to former Secretaries of State William P. Rogers and Henry Kissinger.', 'Those conversations had not taken place as of Tuesday night, according to an Oracle spokeswoman.\\tThose talks have not taken place, according to an Oracle spokeswoman.', 'Taiwan has attempted to gain observer status to the United Nations-affiliated WHO for seven years, but again was rebuffed March 19 at its annual conference in Geneva.\\tIt has sought observer status for seven years, but was again rebuffed May 19 at the annual WHO conference in Geneva.', 'A Washington County man may have the countys first human case of West Nile virus, the health department said Friday.\\tThe countys first and only human case of West Nile this year was confirmed by health officials on Sept. 8.', 'National Breast Cancer Centre chief executive Professor Christine Ewan said it was too early to quantify the risk to women.\\tNational Breast Cancer Centre head Professor Christine Ewan said there was no need for panic.', \"Brendsel and chief financial officer Vaughn Clarke resigned June 9.\\tThe company's chief executive retired and chief financial officer resigned.\", 'On health care, the NDP says there will be no privatization and no health-care premiums.\\tThe New Democrats also renewed their commitment to no health-care privatization and no premiums.', 'The new companies will begin trading on Nasdaq today under the ticker symbols PLMO and PSRC.\\tAlso as part of the deal, PalmSource stock will begin trading on the NASDAQ stock market Wednesday under the ticker symbol: PSRC.', 'Kids, adults, booksellers and postal workers all are preparing for \"Harry Potter and the Order of the Phoenix.\"\\tThe crates are full of hardback copies of \"Harry Potter and the Order of the Phoenix.\"', 'The government did not identify the taikonauts — a term coined from ‘‘taikong,’’ the Chinese word for space — who would travel on the second mission.\\tThe government did not identify the taikonauts -- a term coined from taikong, the Chinese word for space.', 'I think we made the right case and did the right thing.\"\\tMr Blair went on: \"I think we did the right thing in relation to Iraq.', 'Kollar-Kotelly has scheduled another antitrust settlement compliance hearing for January.\\tThe judge scheduled another oversight hearing for late January.', '\"Tomorrow at the Mission Inn, I have the opportunity to congratulate the governor-elect of the great state of California.\\t\"I have the opportunity to congratulate the governor-elect of the great state of California, and I\\'m looking forward to it.\"', '\"I expect Japan to keep conducting intervention, but the volume is likely to fall sharply,\" said Junya Tanase, forex strategist at JP Morgan Chase.\\tJunya Tanase, forex strategist at JP Morgan Chase, said \"I expect Japan to keep conducting intervention, but the volume is likely to fall sharply.\"', 'The Sunshine Group LTD represented the developers, The Related Companies and Apollo Real Estate Advisors LP, on the deal.\\tThe developers, The Related Cos. and Apollo Real Estate Advisors, hope sales top $1 billion.', '\"It is about a third of what I owe in the world,\" he told reporters.\\tIt ain\\'t coming to me, but it\\'s only about a third of what I owe in the world.', \"The tech-laced Nasdaq Composite Index gained 2.90 points, or 0.18 percent, to 1,606.87.\\tAt 12:10 p.m. EDT, Canada's benchmark S&P/TSX composite index was up 6.87 points or 0.1 per cent to 6,979.29.\", 'The benchmark 10-year Treasury note yield <US10YT=RR> dipped below 4.20 percent on Tuesday.\\tPrices for Treasury securities also rose, with the yield on the benchmark 10-year note falling to 4.19 percent.', 'So was Edie Falco, the critically praised co-star of \"Frankie and Johnny.\"\\tEdie Falco was not nominated for \"Frankie and Johnny.\"', '\"Saddam is gone, but we want the (U.S.) occupation to end,\" said Hit resident Abu Qasim.\\t\"Saddam is gone, but we want the (U.S.) occupation to end.\"', \"Joe Kernan, who had been lieutenant governor for the past seven years, was sworn in as governor after O'Bannon died Saturday.\\tKernan, who was O'Bannon's lieutenant governor, friend and political partner, was sworn in six hours after O'Bannon died Saturday.\", \"Advanced Micro Devices said Fujitsu Siemens Computers is offering a high-end workstation based on AMD's Opteron 200 Series.\\tFujitsu Siemens Computers on Tuesday made good on a promise to offer a workstation based on Advanced Micro Devices' Opteron processor.\", 'Kodak expects earnings of 5 cents to 25 cents a share in the quarter.\\tAnalysts surveyed by Thomson First Call had expected Kodak to earn 68 cents a share for the quarter.', \"Shares of Corixa fell 12 cents to $6.88 on the Nasdaq stock market.\\tCorixa's stock barely flinched on the news, dipping 12 cents to close at $6.88.\", 'He was referring to John S. Reed, the former Citicorp chief executive who became interim chairman and chief executive of the exchange last Sunday .\\tNext week, John S. Reed, the former Citicorp chief executive who Sunday became interim chairman and chief executive of the exchange, will take up his position.', 'He refused to reveal what percentage of flights carried sky marshals, or whether they would be increased.\\tHe refused to say what percentage of domestic flights had security officers on board.', 'The Nasdaq Composite Index rose 19.67, or 1.3 percent, to 1523.71, its highest since June 18.\\tThe S&P 500 had climbed 16 percent since its March low and yesterday closed at its highest since Dec. 2.', 'They said they had concluded that the film failed \"to present a balanced portrayal\" of the Reagans.\\tCBS said the show \"does not present a balanced portrayal of the Reagans for CBS and its audience.', \"State health officials said today a young northeast Kansas woman likely has the state's first case of monkeypox among humans or animals.\\tHealth officials confirmed today that a northeast Kansas woman has the state's first case of monkeypox and the first case west of the Mississippi River.\", 'Navistar shares were down 44 cents, or 1.1 percent, at $41.19 on the New York Stock Exchange after falling as low as $39.93.\\tNavistar shares rose a penny to $41.64 at late afternoon on the New York Stock Exchange after earlier falling as low as $39.93.', \"Only Intel Corp.'s 0.3 percent yield was lower.\\tOnly Intel Corp. has a lower dividend yield.\", 'MGM, NBC and Liberty executives were not immediately available for comment.\\tA Microsoft spokesman was not immediately available to comment.', 'The new analysis found that 32 of the 16,608 participants developed ovarian cancer during about 5 years of follow-up.\\tThe new analysis found that 32 of 16,608 participants developed ovarian cancer in about 5 1/2 years of follow-up, including 20 women taking hormones.', 'Veteran stage and screen actor Hume Cronyn died of cancer Sunday.\\tCharacter actor Hume Cronyn, 91, died Sunday at his home in Connecticut.', \"Deirdre Hisler, Government Canyon's manager, said the state has long had its eye on this piece of property and is eager to complete the deal to obtain it.\\tDeirdre Hisler, Government Canyon's manager, said the state long has coveted this piece of property, and is eager to complete the deal.\", 'Reuters witnesses said many houses had been flattened and the city squares were packed with crying children and the homeless, huddled in blankets to protect them from the cold.\\tReuters witnesses said public squares were packed with crying children and people left homeless, huddled in blankets to protect them from the cold.', 'The three grocery chains were relying on store managers and replacement workers to keep their stores open.\\tThe supermarket chains have used managers and replacement workers to keep their stores open, often at reduced hours.', \"The security official's backup couldn't fill in because he was on active military duty, Strutt said.\\tThe security official's backup was on active duty, and the lottery association didn't have a replacement in New Jersey, Strutt said.\", \"Researchers found the fossils in a semidesert area of Venezuela, about 250 miles west of Caracas.\\tPhoberomys' skeleton was unearthed 250 miles west of Caracas, Venezuela.\", \"Mr McDonnell is leading Grant Thornton International's inquiry into the Italian business.\\tMr McDonnell wants to establish if the Italian business followed Grant Thornton's audit procedures.\", \"The industry's largest association is urging its members not call the more than 50 million home and cellular numbers on the list.\\tMeantime, the Direct Marketing Association said its members should not call the nearly 51 million numbers on the list.\", 'The workers accuse General Dynamics of \"reverse age discrimination\" because of a change in retirement benefits in 1997.\\tGeneral Dynamics was sued when it changed its retirement benefits in 1997.', 'The tech-laced Nasdaq Composite Index .IXIC eased 5.16 points, or 0.32 percent, at 1,590.75, breaking a six-day string of gains.\\tThe tech-heavy Nasdaq Composite Index .IXIC was off 0.11 percent, or 1.78 points, at 1,594.13.', \"The Space Infrared Telescope Facility's mission is to search for the beginnings of the universe.\\tNASA is scheduled to launch the Space Infrared Telescope Facility on Monday morning.\", \"The respected medical journal Lancet has called for a complete ban on tobacco in the United Kingdom.\\tA leading U.K. medical journal called Friday for a complete ban on tobacco, prompting outrage from smokers' groups.\", 'The driver of the truck escaped and is now being sought by the police, Supoyo said.\\tBut police say the driver of the truck has not been found and is wanted for questioning.', '\"In so many different ways, the artistry of black musicians has conveyed the experience of black Americans throughout our history,\" Bush said.\\tSurrounded by singers from Harlem, Bush said: \\'\\'The artistry of black musicians has conveyed the experience of black Americans throughout our history.', \"Geraldine Andrews, the pastor's daughter-in-law, said Robinson recently took her daughter out of a mental health facility.\\tGeraldine Andrews, Reynolds' daughter-in-law and a friend of Wilson's family, said Robinson had recently taken Wilson out of a mental health facility.\", \"Before Thursday's matinee, Baker called a clubhouse meeting, concerned that the controversy had distracted the Cubs.\\tBaker called a pregame meeting, believing the the corked-bat episode had distracted the team.\", 'She was taken by ambulance to Charing Cross Hospital in Hammersmith.\\tShe was taken to Charing Cross Hospital, where she remained critically ill last night.', 'Shortly after the opening bell, the Dow Jones Industrial Average was up 11.13 to 9,228.48, while the S&P 500 index gained 1.74 to 982.33.\\tAfter a weak start, the Dow Jones Industrial Average ended the day up 26.26 to 9,217.35, while the S&P 500 index rose 3 to 980.59.', 'In addition, primary care trusts (PCTs) were given star ratings for the first time this year.\\tPrimary Care Trusts and Mental Health Trusts have also been formally rated for the first time this year.', '\"We are expending all available resources toward the investigation,\" said Assistant U.S. Attorney Todd Greenberg, a counterterrorism prosecutor in Seattle.\\t\"We are aware of the situation,\" said Assistant US Attorney Todd Greenberg, a counter-terrorism prosecutor in Seattle.', \"The technology-laced Nasdaq Composite Index .IXIC shed 15 points, or 0.98 percent, to 1,492.\\tThe broader Standard & Poor's 500 Index <.SPX> edged down 9 points, or 0.98 percent, to 921.\", 'The research firm earlier had forecast an increase of 4.9 percent.\\tThe firm had predicted earlier this year a 4.9 percent increase.', 'PeopleSoft will commit $863 million in cash and issue 52.6 million new shares, the companies said.\\tThe new deal would be valued at $1.75 billion, including $863 million in cash and 52.6 million PeopleSoft shares.', 'So in his State of the Union address in January, Bush declared that the British government \"has learned that Saddam Hussein recently sought significant quantities of uranium from Africa.\"\\tIn his Jan. 28 State of the Union message, Bush said, \"The British government has learned that Saddam Hussein recently sought significant quantities of uranium from Africa.\"', 'The other 24 members are split between representatives of the securities industry and so-called \"public\" board members.\\tOf the 24 directors who are not exchange executives, half are representatives of the securities industry and half are designated public members.', \"The Episcopal Diocese of Central Florida became one of the first in the nation Saturday to officially reject the national denomination's policies on homosexuality.\\tThe Episcopal Diocese of Central Florida voted Saturday to repudiate a decision by the denomination's national convention to confirm a gay man as bishop.\", \"McGill also detailed the hole that had been cut in the Caprice's trunk.\\tMcGill also said a dark glove was stuffed into a hole that had been cut in the Caprice's trunk.\", 'That compared with a year-earlier profit of $102 million, or 13 cents a share.\\tThat was more than double the $102 million, or 13 cents a share, for the year-earlier quarter.', '\"The economy, nonetheless, has yet to exhibit sustainable growth.\\tBut the economy hasn\\'t shown signs of sustainable growth.', \"The commission estimated California lost $937 million to corporate tax shelters in 2001.\\tCalifornia's lost tax revenue was mostly due to international corporate tax shelters.\", 'In other markets, U.S. Treasuries started off on Monday weaker, as stocks rose early.\\tIn other markets, U.S. Treasuries inched higher as declining stocks raised the appeal of safe-haven debt.', \"The technology-laced Nasdaq Composite Index .IXIC was down 25.36 points, or 1.53 percent, at 1,628.26.\\tThe broader Standard & Poor's 500 Index .SPX gave up 11.91 points, or 1.19 percent, at 986.60.\", 'The Pentagon had hoped to retain control of the postwar effort, so the decision is a victory for Secretary of State Colin L. Powell.\\tThe Pentagon had hoped to retain control of the postwar effort, so the decision was seen by some insiders as a victory for Powell and the State Department.', 'Prof Sally Baldwin, 63, from York, fell into a cavity which opened up when the structure collapsed at Tiburtina station, Italian railway officials said.\\tSally Baldwin, from York, was killed instantly when a walkway collapsed and she fell into the machinery at Tiburtina station.', 'It calls for the agency to plan an independent safety and engineering organization.\\tThe agency has yet to fully formulate a strategy for the creation of an independent engineering technical authority.', \"WorldCom's accounting problems came to light early last year, and the company filed for bankruptcy in July 2002, citing massive accounting irregularities.\\tWorldCom's financial troubles came to light last year and the company subsequently filed for bankruptcy in July, 2002.\", 'The study also found that consumer goods advertisers continued to spend the most dollars online, representing 35% of all Web advertising.\\tIn the second quarter, consumer advertisers continued to spend the most online, slightly increasing their share.', 'Kiernan testified that Seifert had received a gunshot wound to the back.\\tSeifert, he testified, had a gunshot wound in the back.', 'It is priced at $5,995 for an unlimited number of users tapping into the single processor, or $195 per user with a minimum of five users.\\tIt is priced at $5,995 or $195 on a per user licensing plan with a minimum of five users.', 'Tropical storm heads for pass along Honduras coast\\tTropical storm warnings for Southeast coast', 'Suicide bomber kills 12 in Nigeria church\\tSuicide bomber kills 21 in NW Pakistan', 'US says ready to help blind Chinese activist\\tU.S. ready to help Chinese activist: official', 'Gazans fire 2 rockets into Israel; no injuries\\t2 Gaza rockets hit Israel; no injuries', 'Berri says ready to help launch national unity government\\tThe perception of Spain has changed dramatically with this government', '13 dead in Iraq bomb attacks\\t16 killed in north Iraq attacks', 'Hurricane Isaac Moves Inland After Landfall\\tHurricane Isaac batters US coast near New Orleans', 'Nigeria mourns over 193 people killed in plane crash\\tNigeria opens probe into deadly air crash', 'ICC jails Congolese warlord for 14 years over child soldiers\\tCongolese warlord sentenced to 14 years in landmark case - video', '7 soldiers killed, 56 injured in PKK attack in eastern Turkey\\t3 killed, 14 injured in attacks in Iraq', 'Schiphol airport partly evacuated after bomb threat\\tSchiphol airport evacuated due to bomb threat', 'MIER ups 2012 growth forecast to 4.2pc\\tCMIE cuts 2012-13 growth forecast to 6.3%', 'Activists: Syrian troops storm Damascus suburb\\tActivist says Syrian citizen cameraman killed in Homs', \"Tehran: EU sanctions won't force Iran into nuclear talks\\tLow expectations for Iran nuclear talks\", 'Portugal Drownings: UK Girl And Grandad Named\\tBritish Girl And Grandad Drown In Portugal', 'Iran, powers set for high-stakes nuclear talks\\tU.S., Iran prepare for Istanbul nuclear talks', 'Syrian forces kill teen in Aleppo protests\\tSyrian forces kill 3 protesters in Damascus-activists', 'Jaguar to create 1,100 jobs in UK\\tRoyal Mail to create 1,000 jobs', 'Iraq searches Syria bound Iran plane: officials\\tIraq searches Syrian-bound Iranian plane', 'Syria fighting rages as Russia urges Western re-think\\tSyria fighting rages in capital, Russia pressed', \"Erdogan's party submits plan for Turkish presidency\\tErdogan's party aims for Turkish presidency\", 'Publisher acquitted in privacy case\\tPBS publishes new guidelines on impartiality', 'Samsung overtakes Nokia in phones\\tCharges over dog attack on police', \"Gu Kailai murder trial ends in China\\tGu Kailai's Murder Trial Ends in China\", \"Not 'hiding the ball' on Russia: Obama\\tObama says he's not 'hiding the ball' on Russia\", 'England captain Andrew Strauss retires from professional cricket\\tEngland captain Strauss retires from cricket', 'China backs Sri Lanka on UN resolution\\tWar crimes: China backs Lanka on UN resolution', \"Ton up: Tendulkar reaches 100th international hundred\\tSachin Tendulkar's reaches 100 centuries - in pictures\", 'Conspiracy against me - Lance\\tDay begins amid panic', 'Mursi takes oath of office, becomes Egyptian president\\tMorsi to take oath as first Egypt civilian president', 'Syrian opposition pleads for criminal court action\\tSyrian opposition leader criticizes U.S.', 'Sunderland 2-2 Bolton: Davies double gets Trotters a point but they stay in bottom three\\tSunderland 2-2 Bolton: Davies in at the double', 'Syrian forces shell towns, clash with rebels\\tSyrian forces and rebels clash in coastal province', 'Bahraini protesters and police clash after funeral\\tGreek protesters, police clash as bailout deal in limbo', 'Apple buying security firm AuthenTec for $356 million\\tNews Summary: Apple buying AuthenTec for $356M', 'Trade newspaper Variety up for sale\\tHollywood trade publication Variety put up for sale', 'Australians flee homes amid floods\\tAustralian speaker steps aside', 'Germany dodges recession with growth in first quarter\\tEurozone avoids recession in Q1, thanks to Germany', 'Asian stocks rise after Greek vote eases fears\\tOil rises after Greek election result', 'British soldier killed in southern Afghanistan\\tTwo British soldiers killed in Afghanistan', 'Obama silent on China dissident\\tObama to visit Korean DMZ', 'Suicide Bomber Kills 6 in Afghan Capital\\tSuicide bomber kills 37 at mosque in Afghanistan', \"Denver shooting: Police to detonate devices in suspect's home\\tPolice to detonate devices in Colorado shooting suspect's home\", 'Syria hands over bodies of journalists\\tSyria TV says govt troops free captive journalists', 'Coroner: Whitney Houston died in bathtub\\tCoroner confirms Whitney Houston found in bathtub', 'Japan suffers severe flooding - in pictures\\tOklahoma wildfires destroy homes - in pictures', 'Japan to deport Chinese held over island landing\\tGerman court weighs delay to euro fund ruling', 'Some Syria violence amounts to civil war-Red Cross\\tSome Syria violence qualifies as civil war -Red Cross', 'Romney Wins Nevada Caucus\\tRomney shifts focus to Santorum ahead caucuses', 'Apple iPad mini makes debut\\tApple iPad mini makes debut in Asia', 'Hamas hangs three Gaza prisoners\\tMyanmar announces release of prisoners', 'East Timor votes in presidential election\\tVenezuelans urged to vote in presidential election', \"Sunday Times journalist Marie Colvin killed in Syria\\tSunday Times journalist, French photographer 'killed in Syria'\", 'KL shares higher at mid-afternoon\\tKL shares lower at mid-morning', 'Chicago teachers strike in bitter contract dispute\\tChicago teachers union delegates could end strike', 'Israel to free Palestinian hunger striker\\tIsrael asks US for arms that could aid Iran strike', \"Not a good beginning: Hollande's plane hit by lightning en route to Berlin\\tFrench President Francois Hollande's plane hit by lightning en route to Berlin\", 'Afghan Parliament Votes to Oust Key Ministers\\tAfghan parliament votes to remove key ministers', 'Attacker in Afghan uniform kills 2 NATO troops\\tMan in Afghan army uniform kills NATO soldier', \"Cheap generics no panacea for India’s poorest\\tCheap cancer drugs no cure for India's poorest\", \"'Arrest warrant' for Maldives ex-president\\tMaldives court issues arrest warrant for former president\", 'HRW: Jordan turning away Palestinian refugees from Syria\\tReport: Jordan biased over Palestinians from Syria', 'Syrian forces overrun rebel stronghold\\tSyria army takes northern rebel stronghold', 'Chinese stocks close higher midday Friday\\tChinese stocks open lower Friday', 'Sandy slams into Northeast; at least 18 dead, 7.4M without power\\tEastern U.S. storms leave 2 dead in Va., 2 million without power', 'Putin Declares Victory in Russia Presidential Vote\\tComplaints in Russian election mount', 'Supreme Court to Hear Voting Rights Act Case\\tSupreme Court to hear corporate human rights case', 'Libya postpones assembly election to July 7\\tLibya postpones landmark election to July 7', \"London 2012 Olympics Opening Ceremony 'to feature a green and pleasant land'\\tLondon 2012 Olympics: Opening Ceremony to be a 'green and pleasant land', says Danny Boyle\", \"Pakistan blocks Twitter over anti-Islamic material\\tPakistan blocks Twitter over 'blasphemy'\", 'Annan to visit Syrian refugees in Turkey Tuesday\\tAnnan to visit Syrian refugees in Turkey before Iran', 'Pakistani PM shocked at avalanche trapping army personnel\\tPakistan avalanche: rescuers search for buried soldiers', \"Opposition leaders emerge to commemorate Cambodian workers' deaths\\tCambodia opposition leaders summoned to court\", 'Mali due to vote for president\\tMali Counts Votes After Presidential Runoff', 'Pussy Riot member Alyokhina released from jail in Russia\\tPussy Riot member Maria Alyokhina freed from jail', 'Asiana jet crash lands at San Francisco airport\\tPlane crash lands at San Francisco airport', 'Blizzard hammers U.S. Northeast, five dead, 700,000 lose power\\tBlizzard wallops US Northeast, closes roads', '2 French Journalists Killed in Mali\\tTwo French journalists killed in Mali', \"Vehicles ablaze in collapsed Japan tunnel\\tVehicles 'left burning' as smoke emits from Japan tunnel\", 'China stocks close lower on Friday\\tChina stocks close higher on Wednesday', 'Mayor says 14 dead in Texas fertilizer plant blast\\tRescuers search for survivors of Texas fertiliser plant blast', 'CBN reiterates plan to phase out polymer notes\\tNigeria announces plans to change polymer Naira notes', 'U.S. files espionage charges agains NSA leaker\\tUS files espionage charges against Snowden over leaks', \"Chinese general's son gets 10 years jail for rape\\tChinese general’s son gets 10 years’ jail for gang-rape\", \"Where's Rusty? Red panda vanishes from National Zoo\\tMissing red panda returned safely to National Zoo\", 'Queen Beatrix of The Netherlands to abdicate for son\\tQueen Beatrix of the Netherlands abdicates in favour of son', \"U.S. dumps bombs at Great Barrier Reef\\tU.S. military jettisons bombs near Australia's Great Barrier Reef\", '38 Taliban militants killed in Afghanistan\\tTaliban attacks US base in Afghanistan', 'Most powerful typhoon of 2013 hits the Philippines\\t23 Missing as Typhoon Utor Hits Philippines', 'Calls for more Egypt protests\\tDeath toll from Egypt protests rises to 49', \"US government 'on the edge of shutdown'\\tObama rejects GOP offer to ease shutdown\", '123 killed in fighting in northern Syria\\tMany killed in Syrian air strike', \"Critics say Putin’s security restrictions violate rights\\tPutin's security decree for Sochi draws ire of critics\", 'Egypt braces for more protests, prays for calm\\tEgypt braces for more protests over Morsi, prays for calm', 'Morsi supporters protest in Egypt\\tMorsi backers defiant in face of Egypt govt threat', 'Stocks rise in early trading\\tUS stocks ease in choppy trading', 'Bangladesh building collapse death toll hits 540: army\\tBangladesh building-collapse toll tops 600', \"Defiant Mugabe sworn in for seventh term blasts 'vile' West\\tMugabe sworn in for another term\", 'Nelson Mandela in Hospital for Tests\\tSouth Africa: Mandela in hospital for tests', 'Iran, six global powers sign landmark nuclear deal\\tIran, world powers agree nuclear deal', 'Algeria Mounts Military Operation to Rescue Al Qaeda Hostages\\tAlgeria mulls international force for hostages', 'Delhi gang rape victim dies in Singapore hospital\\tDelhi gang rape victim flown to Singapore hospital', \"Birth Control Linked With Higher Glaucoma Risk\\tContraceptive pill 'doubles glaucoma risk'\", 'Malaysia sets May 5 as date for closely contested election\\tMalaysia sets date for landmark elections', 'Dhawan smashes India to big win over South Africa\\tDhawan ton sets up India Trophy win over South Africa', 'N Korea postpones family reunions\\tNorth Korea postpones war-torn family unions', 'Syria rejects US, UK chemical arms claims\\tUS suspects Syria used chemical weapons', 'Egypt arrests Muslim Brotherhood Supreme Guide\\tEgypt bans Muslim Brotherhood group', 'Gunmen kill nine people in northwest Pakistan\\tGunmen kill 3 policemen in Iraq', 'News summary for March 11\\tNews summary for January 14', 'Hawaii passes gay marriage bill\\tUS Senate passes gay workers bill', 'Syrian Opposition Urges EU to Send Arms to Rebels\\tSyrian opposition meets to choose interim PM', \"Funeral of Oscar Pistorius' girlfriend Reeva Steenkamp takes place\\tOscar Pistorius 'shot Steenkamp in bathroom'\", 'Two firefighters killed in New York ambush\\tTwo New York firefighters in guarded condition after deadly ambush', 'Ten rescued off Waterford, Dublin coasts\\tSix rescued after boat capsizes in Dublin Bay', 'Mars rover collects first bedrock sample\\tWawrinka reaches first grand slam final', 'Ankeet Chavan granted conditional bail for marriage\\tAnkeet Chavan granted bail to get married', 'Man who battled Fukushima disaster dies of cancer\\tFormer plant chief who battled Fukushima disaster dies of cancer', \"Iran says nuclear talks to resume next month\\tIran says capable of jamming foes' communication systems\", 'US authorities charge man in ricin probe\\tSouth African police arrest 50 in farm protest', '25 bodies found at raided Algerian gas plant\\t25 more bodies found at Algerian gas plant', 'Ferrer cruises into Australian Open quarter-finals\\tFerrer beats Nishikori to advance to Australian Open quarterfinals', 'UBS settles US mortgage lawsuit\\tUBS settles US mortgage lawsuit and takes £600m charge', 'North, South Korea agree to talks\\tNorth, South Korea hold rare talks', 'Gunmen kill female politician in Pakistan\\tGunmen kill 5 female teachers in Pakistan', 'Kardashian Divorce Ready for Trial\\tHard-hit hotels ready for price war', 'New Zealand set to legalise gay marriage\\tNew Zealand votes to legalise same-sex marriage', 'Syria regime claims evacuation of 5,000 near Damascus\\tSyria army continues mop-up operations near Damascus', 'Nobel Prize winning author Doris Lessing dies\\tNobel laureate Doris Lessing dies at 94', 'Internet, phone service restored in Syrian capital\\tInternet service resumes in Syria', 'Syrian PM Survives Bomb Attack\\tSyrian PM survives bomb attack in capital', 'US stock futures edge up ahead of jobs report\\tStock futures edge higher, all eyes on Fed', 'Bomb blast kills 10 in southwest Pakistan\\tMajor quake kills 39 in Pakistan', 'David Cameron puts Sri Lanka on notice over war crime allegations\\tSri Lanka warned over war crime allegations', 'Morsi supporters clash with riot police in Cairo\\tProtesters clash with riot police in Kiev', 'Afghan police kill 5 Taliban fighters\\t5 Taliban, 5 Afghan police killed in ambushes', 'Gunmen kidnap airline pilots in Lebanon\\tGunmen kidnap 2 Turkish Airlines pilots in Lebanon', 'Kurdish rebels to withdraw from Turkey in March: report\\tKurdish rebels to withdraw from Turkey', 'Japan revises GDP growth to annual 1.1 pct in Q3\\tJapan’s GDP growth downgraded to annual 1.1%', \"The foundations of South Africa are built on Nelson Mandela's memory\\tAustralian politicians lament over Nelson Mandela's death\", \"Ukraine protest leaders name ministers, Russian troops on alert\\tUkraine Refuses to Act Against Russian 'Provocation'\", 'Malala, Snowden, Belarusians Short-Listed For Sakharov Prize\\tFugitive Snowden short-listed for European rights prize', 'ElBaradei to Become Egyptian PM\\tLiberal ElBaradei named Egypt PM, Islamists cry foul', \"Taiwan's economy grows 2.27% in April-June quarter\\tChina's economic growth rebounds to 7.8% in latest quarter\", 'Tamerlan Tsarnaev buried in Virginia\\tBoston bomb suspect buried in Virginia cemetery', 'State Dept. issues wide travel alert, says terror attack possible\\tUS issues global travel alert, cites al-Qaida threat', 'Singapore stocks end up 0.11 pct\\tSingapore stocks end down 0.45%', 'Russia warns Ukraine against EU deal\\tRebels down Ukraine helicopters', 'Hernandez double gives Mexico victory\\tHernandez double gives Mexico victory over Japan', 'China sacks top economic official\\tChina FM hosts senior ASEAN officials', 'Canada approves oil pipeline to the Pacific Coast\\tCanadian government approves controversial oil pipeline to Pacific', 'Storm buries Northeast; 16 inches of snow in NJ\\tForum urges stable relations for China, Japan', \"Jamaican connection in Liverpool's win\\tJapan Election: Shinzo Abe Hails Landslide Win\", 'International weapons experts leave Syria, Obama to make statement\\tWeapons experts leave Syria, U.S. prepares attack', \"Southwest jet hit nose first\\tSouthwest Jet's Nose Gear Landed First\", 'Twelve killed in bomb blast on Pakistani train\\tGunmen kill nine in southwest Pakistan: Police', 'Powerful quake strikes off eastern Indonesia\\t6.6-mag quake strikes off eastern Indonesia', 'Obama lashes North Korea as pariah state\\tObama lashes North Korea as weak ‚Äėpariah state‚Äô', 'Colombia strike three times\\tColombia too slick for Greece', 'Lord Palumbo offers hope for a relationship with his son James\\tOscar Pistorius sent for mental evaluation: what will it mean?', 'Deputy speaker faces new sex claims\\tDeputy Speaker Nigel Evans Re-Arrested', 'CIA chief visits Israel for Syria talks\\tCIA chief in Israel to discuss situation in Syria', 'Suicide bomb kills 4, injures 13 in Pakistan\\tTwitter blocks content in Pakistan', \"Ukraine rebels 'flee eastern stronghold'\\tUkraine Claims Rebels Flushed from Main Stronghold\", '4 foreigners among 9 killed in Kabul hotel attack\\tForeigners among dead in Kabul hotel attack', 'Firefighters battle forest fire in SW China\\tFirefighters battling scrub fire in Hokianga', \"Hassan Rouhani wins Iran's presidential election\\tMaduro wins Venezuelan presidential vote\", \"Woman remanded over child's death A woman has been remanded in custody charged with murder after an eight-year-old girl was found dead in a block of flats.\\tMother held over daughter's death A mother has been remanded in custody charged with murder after her eight-year-old daughter was found dead in a block of flats.\", 'Red-shirt leader calls not to oppose army\\tOil rig spat: Beijing not to send army', 'Russia praises idea to render rights assistance to Ukraine\\tRussia detains suspected Islamist militants in Moscow raid', \"Georgian PM's ally to become president - exit poll\\tAlly of Georgia's billionaire PM to be president -exit polls\", 'Car bombs kill at least 16 in Iraqi capital\\tCar bombs kill at least 47 in Baghdad area', 'Saudi Arabia gets a seat at the UN Security Council\\tSaudi Arabia rejects seat on UN Security Council', 'US drone strike kills 11 in Pakistan\\tUS drone kills 16 in Pakistan', '20 killed in bomb attack at Pakistani base\\t8 soldiers killed in bomb attack in NW Pakistan', 'Shenzhen stock indices close higher Monday\\tShenzhen stock indices close lower -- Oct. 31', 'Prince Harry pays tribute to US war dead\\tUS presidents pay tribute to Mandela', '15 dead in Iraq attacks, bomb at football pitch\\t46 dead in Iraq attack blitz', 'Myanmar arrests 44 over sectarian violence\\tBan Warns Syria Strikes Could Worsen Sectarian Violence', 'Iran official: US visa denial to Iranian envoy will not affect nuke talks\\tIranian negotiator upbeat about latest nuclear talks', \"Gov'ts, groups pledge millions for typhoon relief\\tCanada promises $5-million in typhoon relief\", 'Greece suspends state broadcaster\\tGreece to close state broadcaster to save money', \"Guatemalan court finds former dictator guilty of genocide\\tGuatemala's former leader found guilty of genocide\", 'Beaten Florida teen released in Israel\\tPalestinian teen dies of wounds sustained in Israeli shooting', \"Iran, sextet to resume expert talks\\tIran upbeat on 'useful' expert-level nuke talks\", 'Bangladesh collapse search over; death toll 1,127\\tBangladesh collapse deaths top 620', 'Neymar powers Brazil into last 16\\tNeymar powers Brazil into World Cup last 16', 'Ukraine to implement unilateral ceasefire\\tUkraine offers unilateral ceasefire', 'Stones add second Hyde Park concert\\tRolling Stones add second Hyde Park date', 'What the Papers Say, Aug. 19, 2013\\tWhat the Papers Say, Dec. 30, 2013', \"5 nations meet on haze\\tPutin's marriage at an end\", \"Car bomb at Swedish consulate in Libya's Benghazi, no casualties\\tCar Bomb Hits Swedish Consulate in Benghazi, None Hurt\", 'Bomber strikes near Pakistan army HQ\\tBombing Outside Restaurant in Pakistan Wounds 15', 'Croatia begins countdown to historic EU entry\\tCroatia countdowns to joining EU', 'Suicide attack kills eight in Baghdad\\tSuicide attacks kill 24 people in Baghdad', 'On War Criminals and Heroes: The Whitewashing of Ariel Sharon ŔÄ\\tOn war criminals and heroes: The whitewashing of Ariel Sharon', 'Rogers, Videotron extend reach with network-sharing deal\\tRogers, Videotron reach network-sharing, spectrum deal', 'Prominent AIDS researchers killed in Malaysian plane crash\\tTop AIDS Researcher Killed in Malaysia Plane Crash', 'Israel Forces Kill 2 Palestinian Militants\\tIsraeli army kills Palestinian militant in raid', \"Death toll 'rises to 17' after typhoon strikes Japan\\tDeath Toll Rises to 84 in Pakistan Floods\", \"Protests continue in tense Ukraine capital\\tProtests Continue In Ukraine's Capital\", 'Two French journalists killed after Mali kidnapping\\tTwo French journalists abducted, killed in Northern Mali', 'Headlines in major Iranian newspapers on Dec 14\\tHeadlines in major Iranian newspapers on July 29', 'Iran warns of spillover of possible war on Syria\\tIranian Delegation Heads to Lebanon, Syria', 'Former Pakistan President Pervez Musharraf arrested again\\tFormer Pakistan military ruler Pervez Musharraf granted bail', \"US drone strike 'kills 4 militants in Pakistan'\\tUS drone strike kills 10 in Pakistan\", \"UK's Ex-Premier Margaret Thatcher Dies At 87\\tFormer British PM Margaret Thatcher dies\", \"Polar bear DNA 'may help fight obesity'\\tPolar bear study may boost fight against obesity\", \"'Fast &amp; Furious' star Paul Walker dies in car crash\\tPaul Walker dead: Fast and Furious star, 40, killed in car crash\", \"Air strike kills one man in Syria's Hama\\tUS drone strike kills eleven in Pakistan\", 'Turkish PM, president clash over reply to protests\\tTurkish president calls for calm amid nationwide protests', 'Strong new quake hits shattered Pak region\\t6.8 quake in shattered Pakistan region', 'Floods in central Europe continue to create havoc\\tEurope floods continue to create havoc', 'Luxembourg PM quits amid spying scandal\\tLuxembourg votes after spying row', '3 dead, 4 missing in central China construction accident\\tOne dead, 8 missing in Vietnam boat accident', 'US, China fail to paper over cracks in ties\\tChina: Relief in focus as hope for missing fades', 'World Cup live: France 0-0 Germany\\tWorld Cup live: Germany 0-0 Ghana', 'Tokyo to host 2020 Games\\tTokyo wins race to host 2020 Olympic Games', 'France warns of extremists benefiting from Egypt violence\\tFrance fears extremists will benefit from Egypt violence', 'British teenager killed in fall from Magaluf hotel\\tBritish teenager killed in Magaluf hotel fall', 'US drone strike kills eight in Waziristan\\tUS drone strike kills 11 in Pakistan', 'Russian opposition leader under house arrest\\tRussian Opposition Leader Placed Under House Arrest', 'Senate confirms Janet Yellen as chair of US Federal Reserve\\tSenate confirms Janet Yellen as next Federal Reserve Chair', 'Israel confirms strike on Syria targeted weapons\\tIsrael officials: Strike on Syria targeted weapons', 'Jurors find Jodi Arias eligible for death penalty\\tJodi Arias eligible for death penalty, jury says', 'Twitter reports blocking in Venezuela\\tTwitter says images blocked in Venezuela', 'Goa building collapse death toll touches 15\\tIndian building collapse deaths rise to 14', 'Pak religious body endorses underage marriage\\tCII endorses underage marriage', \"Mt Gox reveals 200,000 'forgotten' bitcoin haul\\tMt Gox finds 200,000 'forgotten' bitcoins\", 'More than 100 injured in Texas plant blast\\tHundreds believed injured in Texas fertiliser plant blast', 'Redford touts Alberta economy ahead of vote on leadership\\tRedford addresses PC convention ahead of leadership review', 'Obama holds out over Syria strikes\\tUK urges countries over Syria aid', 'South Korean soldier reportedly flees after killing 5 comrades at border with North Korea\\tSouth Korean Soldier Kills Comrades And Flees', 'Tycoon claims win in Ukraine and promises to seek future in EU\\tPolling stations open at Ukrainian presidential election', \"Syria agrees to surrender chemical weapons\\tUK's Cameron: Syria, Russia must show chemical arms proposal is genuine\", 'AbbVie Sours on $55B Shire Deal After Tax Changes\\tAbbVie cools on $55bn Shire deal after US tax changes', 'Militant attack from Afghanistan kills four in Upper Dir\\tMilitant attack from Afghanistan kills FC soldier in Balochistan', '13 killed in Afgan terror attack\\t6 killed in Afghan capital mosque attack', \"Rev's Early Reads: March 2\\tRev.'s Early Reads: Sept. 3rd, 2015\", 'Pope canonizes 2 Palestinians\\tSweden recognizes Palestinian state', 'Funeral of Ian Paisley to take place in Belfast\\tFuneral of MH17 victim Liam Sweeney takes place in Newcastle', 'Waba emerges new NLC president\\tWaiting for the next president', '5 US airstrikes target Islamic State fighters\\tKurds see Turkey impeding Islamic State fight', 'US Senate votes to advance Iran nuclear review bill\\tUS scientists praise Iran nuclear deal', 'Editors from around the world urge Turkey to protect media\\tMedia freedom at stake as Turkey fights rebels', 'Philippines, Canada pledge to further boost relations\\tPhilippines saves 100 after ferry sinks', \"Israel bars Palestinians from Jerusalem's Old City\\tTwo-state solution between Palestinians, Israel pie in sky\", 'How much do you know about Secret Service?\\tLawmakers from both sides express outrage at Secret Service', 'Obama Struggles to Soothe Saudi Fears As Iran Talks Resume\\tMyanmar Struggles to Finalize Voter Lists for Sunday Polls', 'South Korea declares end to MERS outbreak\\tNorth Korea Delegation Meets With South Korean Officials']\n"
          ]
        }
      ],
      "source": [
        "with open('/content/drive/MyDrive/exp5-3_english/test.text.txt', 'r') as f:\n",
        "    train_text = f.read().split(\"\\n\")\n",
        "\n",
        "#train_textの最後に''があるため削除\n",
        "train_text = train_text[:-1]\n",
        "print(train_text)"
      ]
    },
    {
      "cell_type": "code",
      "execution_count": null,
      "metadata": {
        "colab": {
          "base_uri": "https://localhost:8080/"
        },
        "id": "IFJBQl0MheYF",
        "outputId": "ce9e8c27-587d-4da2-8e56-ae6b16818566"
      },
      "outputs": [
        {
          "output_type": "stream",
          "name": "stdout",
          "text": [
            "Looking in indexes: https://pypi.org/simple, https://us-python.pkg.dev/colab-wheels/public/simple/\n",
            "Requirement already satisfied: nltk in /usr/local/lib/python3.7/dist-packages (3.7)\n",
            "Requirement already satisfied: regex>=2021.8.3 in /usr/local/lib/python3.7/dist-packages (from nltk) (2022.6.2)\n",
            "Requirement already satisfied: click in /usr/local/lib/python3.7/dist-packages (from nltk) (7.1.2)\n",
            "Requirement already satisfied: joblib in /usr/local/lib/python3.7/dist-packages (from nltk) (1.2.0)\n",
            "Requirement already satisfied: tqdm in /usr/local/lib/python3.7/dist-packages (from nltk) (4.64.1)\n"
          ]
        },
        {
          "output_type": "stream",
          "name": "stderr",
          "text": [
            "[nltk_data] Downloading package punkt to /root/nltk_data...\n",
            "[nltk_data]   Package punkt is already up-to-date!\n",
            "[nltk_data] Downloading package averaged_perceptron_tagger to\n",
            "[nltk_data]     /root/nltk_data...\n",
            "[nltk_data]   Package averaged_perceptron_tagger is already up-to-\n",
            "[nltk_data]       date!\n",
            "[nltk_data] Downloading package wordnet to /root/nltk_data...\n",
            "[nltk_data]   Package wordnet is already up-to-date!\n",
            "[nltk_data] Downloading package omw-1.4 to /root/nltk_data...\n"
          ]
        }
      ],
      "source": [
        "# インストール　英語の定番の単語分割器\n",
        "! pip install nltk\n",
        "\n",
        "import nltk\n",
        "nltk.download(\"punkt\") # 分かち書き\n",
        "nltk.download(\"averaged_perceptron_tagger\") # 品詞の取得\n",
        "#https://qiita.com/m__k/items/ffd3b7774f2fde1083fa\n",
        "\n",
        "nltk.download('wordnet') # エラーに記載されていたものを追加\n",
        "nltk.download('omw-1.4') # エラーに記載されていたものを追加\n",
        "#https://www.haya-programming.com/entry/2018/03/25/203836  語幹化  dogs -> dog\n",
        "\n",
        "from nltk import word_tokenize\n",
        "from nltk import pos_tag"
      ]
    },
    {
      "cell_type": "code",
      "execution_count": null,
      "metadata": {
        "colab": {
          "base_uri": "https://localhost:8080/"
        },
        "id": "u3eZR_j6P7Xo",
        "outputId": "62eb1413-334a-4692-9e61-f5dd2a4dc136"
      },
      "outputs": [
        {
          "output_type": "stream",
          "name": "stdout",
          "text": [
            "['i', 'me', 'my', 'myself', 'we', 'our', 'ours', 'ourselves', 'you', \"you're\", \"you've\", \"you'll\", \"you'd\", 'your', 'yours', 'yourself', 'yourselves', 'he', 'him', 'his', 'himself', 'she', \"she's\", 'her', 'hers', 'herself', 'it', \"it's\", 'its', 'itself', 'they', 'them', 'their', 'theirs', 'themselves', 'what', 'which', 'who', 'whom', 'this', 'that', \"that'll\", 'these', 'those', 'am', 'is', 'are', 'was', 'were', 'be', 'been', 'being', 'have', 'has', 'had', 'having', 'do', 'does', 'did', 'doing', 'a', 'an', 'the', 'and', 'but', 'if', 'or', 'because', 'as', 'until', 'while', 'of', 'at', 'by', 'for', 'with', 'about', 'against', 'between', 'into', 'through', 'during', 'before', 'after', 'above', 'below', 'to', 'from', 'up', 'down', 'in', 'out', 'on', 'off', 'over', 'under', 'again', 'further', 'then', 'once', 'here', 'there', 'when', 'where', 'why', 'how', 'all', 'any', 'both', 'each', 'few', 'more', 'most', 'other', 'some', 'such', 'no', 'nor', 'not', 'only', 'own', 'same', 'so', 'than', 'too', 'very', 's', 't', 'can', 'will', 'just', 'don', \"don't\", 'should', \"should've\", 'now', 'd', 'll', 'm', 'o', 're', 've', 'y', 'ain', 'aren', \"aren't\", 'couldn', \"couldn't\", 'didn', \"didn't\", 'doesn', \"doesn't\", 'hadn', \"hadn't\", 'hasn', \"hasn't\", 'haven', \"haven't\", 'isn', \"isn't\", 'ma', 'mightn', \"mightn't\", 'mustn', \"mustn't\", 'needn', \"needn't\", 'shan', \"shan't\", 'shouldn', \"shouldn't\", 'wasn', \"wasn't\", 'weren', \"weren't\", 'won', \"won't\", 'wouldn', \"wouldn't\"]\n",
            "['i', 'me', 'my', 'myself', 'we', 'our', 'ours', 'ourselves', 'you', \"you're\", \"you've\", \"you'll\", \"you'd\", 'your', 'yours', 'yourself', 'yourselves', 'he', 'him', 'his', 'himself', 'she', \"she's\", 'her', 'hers', 'herself', 'it', \"it's\", 'its', 'itself', 'they', 'them', 'their', 'theirs', 'themselves', 'what', 'which', 'who', 'whom', 'this', 'that', \"that'll\", 'these', 'those', 'am', 'is', 'are', 'was', 'were', 'be', 'been', 'being', 'have', 'has', 'had', 'having', 'do', 'does', 'did', 'doing', 'a', 'an', 'the', 'and', 'but', 'if', 'or', 'because', 'as', 'until', 'while', 'of', 'at', 'by', 'for', 'with', 'about', 'against', 'between', 'into', 'through', 'during', 'before', 'after', 'above', 'on', 'in', \"'s\"]\n"
          ]
        },
        {
          "output_type": "stream",
          "name": "stderr",
          "text": [
            "[nltk_data] Downloading package stopwords to /root/nltk_data...\n",
            "[nltk_data]   Package stopwords is already up-to-date!\n"
          ]
        }
      ],
      "source": [
        "#ストップワード\n",
        "from nltk.corpus import stopwords\n",
        "\n",
        "nltk.download('stopwords')\n",
        "stop_words = stopwords.words('english')\n",
        "print(stop_words)\n",
        "\n",
        "stop_words = stop_words[:85]\n",
        "stop_words.append('on')\n",
        "stop_words.append('in')\n",
        "stop_words.append(\"'s\")\n",
        "print(stop_words)\n",
        "# https://nashidos.hatenablog.com/entry/2020/08/12/205119"
      ]
    },
    {
      "cell_type": "code",
      "execution_count": null,
      "metadata": {
        "id": "_RBAlOjMNYOS"
      },
      "outputs": [],
      "source": [
        "#前処理 単語分割から呼び出す　共通の処理\n",
        "def prepro(word):\n",
        "    if word.isalpha() and not word.islower(): #すべて小文字に->辞書の都合\n",
        "        word = word.lower()\n",
        "    if word.isnumeric():\n",
        "        word = '0'\n",
        "    if word == \"n't\":\n",
        "        word = 'not'\n",
        "    if word == \"'ll\":\n",
        "        word = 'will'\n",
        "    if word == \"'ve\":\n",
        "        word = 'have'\n",
        "    return word"
      ]
    },
    {
      "cell_type": "code",
      "execution_count": null,
      "metadata": {
        "id": "WTtXamjpjEPK"
      },
      "outputs": [],
      "source": [
        "# NLTK 単語分割を行う関数を定義\n",
        "from nltk.stem import WordNetLemmatizer\n",
        "lemmatizer = WordNetLemmatizer()\n",
        "\n",
        "def nltk_split(text):\n",
        "    spword = list()\n",
        "    for token in pos_tag(word_tokenize(text)):\n",
        "        word, pos = token\n",
        "        word = prepro(word)\n",
        "        word = lemmatizer.lemmatize(word, pos=\"v\") # https://qiita.com/m__k/items/ffd3b7774f2fde1083fa\n",
        "        if word != ',' and word != ':' and word != '.' and word != '?':\n",
        "            if not word in stop_words:\n",
        "                    spword.append(word)\n",
        "    return spword"
      ]
    },
    {
      "cell_type": "code",
      "execution_count": null,
      "metadata": {
        "colab": {
          "base_uri": "https://localhost:8080/"
        },
        "id": "4VFKnWrWXgyB",
        "outputId": "c877bccf-6dda-4395-9045-6736e03391fa"
      },
      "outputs": [
        {
          "output_type": "stream",
          "name": "stdout",
          "text": [
            "Looking in indexes: https://pypi.org/simple, https://us-python.pkg.dev/colab-wheels/public/simple/\n",
            "Collecting mosestokenizer\n",
            "  Downloading mosestokenizer-1.2.1.tar.gz (37 kB)\n",
            "Collecting docopt\n",
            "  Downloading docopt-0.6.2.tar.gz (25 kB)\n",
            "Collecting openfile\n",
            "  Downloading openfile-0.0.7-py3-none-any.whl (2.4 kB)\n",
            "Collecting uctools\n",
            "  Downloading uctools-1.3.0.tar.gz (4.6 kB)\n",
            "Collecting toolwrapper\n",
            "  Downloading toolwrapper-2.1.0.tar.gz (3.2 kB)\n",
            "Building wheels for collected packages: mosestokenizer, docopt, toolwrapper, uctools\n",
            "  Building wheel for mosestokenizer (setup.py) ... \u001b[?25l\u001b[?25hdone\n",
            "  Created wheel for mosestokenizer: filename=mosestokenizer-1.2.1-py3-none-any.whl size=49210 sha256=571cb15b07bafb12fd7735b87196f70f285da7708bd5d6dbd7ed0996fca93096\n",
            "  Stored in directory: /root/.cache/pip/wheels/b0/35/f7/af1258779a0b890abc3c79481460c597cb1f3659d0603cfb9d\n",
            "  Building wheel for docopt (setup.py) ... \u001b[?25l\u001b[?25hdone\n",
            "  Created wheel for docopt: filename=docopt-0.6.2-py2.py3-none-any.whl size=13723 sha256=4dca8813bc0ce276c3b7f8ffe88b6d11a17aab00d89d6e695ea1565666a847d9\n",
            "  Stored in directory: /root/.cache/pip/wheels/72/b0/3f/1d95f96ff986c7dfffe46ce2be4062f38ebd04b506c77c81b9\n",
            "  Building wheel for toolwrapper (setup.py) ... \u001b[?25l\u001b[?25hdone\n",
            "  Created wheel for toolwrapper: filename=toolwrapper-2.1.0-py3-none-any.whl size=3378 sha256=293b5314929af0442a3f782c6f5ccec80e28bde81a2c4855725b8eacf4362e8f\n",
            "  Stored in directory: /root/.cache/pip/wheels/c5/4f/33/54741ffe08e38ececb1d28068a153729b4fe820bafa0a0691f\n",
            "  Building wheel for uctools (setup.py) ... \u001b[?25l\u001b[?25hdone\n",
            "  Created wheel for uctools: filename=uctools-1.3.0-py3-none-any.whl size=6185 sha256=09e0a724b04ef7d9f6008ede9268d667eb67175508e6aa1f69c9099f07d4e14d\n",
            "  Stored in directory: /root/.cache/pip/wheels/fb/44/e9/914cf8fa71f0141f9314f862538d1218fcf2b94542a0fb7d35\n",
            "Successfully built mosestokenizer docopt toolwrapper uctools\n",
            "Installing collected packages: uctools, toolwrapper, openfile, docopt, mosestokenizer\n",
            "Successfully installed docopt-0.6.2 mosestokenizer-1.2.1 openfile-0.0.7 toolwrapper-2.1.0 uctools-1.3.0\n"
          ]
        }
      ],
      "source": [
        "# Moses Tokenizer インストール\n",
        "! pip install mosestokenizer"
      ]
    },
    {
      "cell_type": "code",
      "execution_count": null,
      "metadata": {
        "id": "r4pq4ICXXmfo"
      },
      "outputs": [],
      "source": [
        "from mosestokenizer import MosesTokenizer\n",
        "\n",
        "# Moses Tokenizer 単語分割を行う関数を定義\n",
        "def mt_split(text):\n",
        "    tokenizer = MosesTokenizer(\"en\", \"no-escape\")\n",
        "    spword = list()\n",
        "    for word in tokenizer(text):\n",
        "        word = prepro(word)\n",
        "        if word != ',' and word != ':' and word != '.' and word != '?':\n",
        "            if not word in stop_words:\n",
        "                    spword.append(word)\n",
        "    return spword"
      ]
    },
    {
      "cell_type": "code",
      "execution_count": null,
      "metadata": {
        "colab": {
          "base_uri": "https://localhost:8080/",
          "height": 1000,
          "referenced_widgets": [
            "07bfc38084d748a4a9f54ab524661e93",
            "f297e0e567054f45afae0e194c4f1336",
            "cdbce566bc084e87b6a8d57eed5e55d7",
            "4767f13d4ed04a7f8966ea84037763a2",
            "59f4f697385b4f09a186b6b5efb9ac28",
            "c70e947ddd77448087098faa538d5ad1",
            "f2dc4d0fc6be470bb42c9460f65a55cd",
            "f2989bda2a624c5eba352e84dfa62ee8",
            "de2722f41e7341ce82509b479b00dbd8",
            "ccea53f75a494589a8032505fa378eed",
            "e7a3af0659eb4d25b9b0b5e8e5c51f56",
            "0f061436771a4e72a88ba199e6b3a915",
            "bb5d77d1aeb04c1eb288a69a2dfc5792",
            "ffb354eea87849569aa69c8928f54726",
            "f52e5885e7d4425ca41ee7e2b6426c07",
            "541029afbd8e4fbe819e6cb557af6c41",
            "27f0ce1e3be64e049179d63bd05e2996",
            "b8cb77eff6424358b8be7dadaa87b203",
            "0b96029253b24a8a83d00b501e0eae64",
            "7a900c3411b24ca3865f8eb50f366d9e",
            "01cff41132d0431282c8a68e8bd8eaf6",
            "29e71557171e427ab2f263494c473a6d",
            "ee168f04f69a417f862b8463e483584e",
            "3f744c14b56742cc9a1854af066506aa",
            "d3675f4807584abbbc5c8d441758f8a4",
            "66e511c8bbaf4be181633c069318f02b",
            "c188f523daed4ad0ad2ca59a2d122e14",
            "d51dd41fb0a2456a8dd805edf3a9c4f7",
            "ee6d5cb74ba94264a7eb6683273bbe3c",
            "b5d297f47d7f4c5aa8d48a657dd5eca3",
            "1d174683592e4b77b9c8201b789953d4",
            "5fdc7ef91bde41bfb6cca0a637cd2aab",
            "4864a43e203a459bad8daea181e63181",
            "c2155eaf2e7a49ce8e9d9fb119e7b69b",
            "88b0eefda8bd43a4bc305a24f940dd01",
            "041d7d610b1846ecbe053c8c4ab96482",
            "41a2d59e41a7413b9ce117dc431031ee",
            "aeafa9865321422f8bc94a0d10dbf038",
            "52cf29e993ac4a8db872e5bb4f090a95",
            "312387fd42c146008bb684f9ac7e397e",
            "70e60e64f19c46a9a6127b11b08fe534",
            "b9d6d62d0f6a4961b2f5f8df4fd8550b",
            "2aa802d6d16747e798ea1aab48d6a4c5",
            "9eff38b1b3b04c218fe037725f0fd0ca",
            "7b7a2aefd90b4ba1ae7b509c88c20f09",
            "d62498234e9047d79ae89f45f174cffe",
            "a1bf8e82a67d4da5af4e3b3c49e7d6a3",
            "be4367d7e0f6422c945ed668cabd9fae",
            "178133d38aa8474bba2e0d8cb564d66c",
            "25bdda97072e4cb29376746fab981e84",
            "8bc83087aff84281ab08b80bbd10be4d",
            "507efdd53fb34a69a537cbfbf65cd137",
            "2a9db0035eed49aeb7d68bd848b9429c",
            "27cee0137d0b492b92304b55766b1200",
            "29339ba766e74dd483fbaba6b2c6add4",
            "5ed9577e0deb4d2ca2c60f590fca5fba",
            "c8bd2ca4a7f24e0f9e2b768d681619b6",
            "82e6e8bacb1a468d8a0ed2003a5536e5",
            "08e9f62a74ed45628799f250ca34983d",
            "62e377f54abb4b1890f924b9ec06eb24",
            "2fed03b72dd44dbfa36cbef2c1e57056",
            "3e4b247bd0f64576bac3b2a3ea406c3e",
            "9b255eb4c15948f8b699fa2ea6791aa2",
            "17dc0e4759a54032a5315a6b42cdba1d",
            "11d9f11900224f75baf67d879d78fbf1",
            "8c79c4e58e174d8faf81267550ec21a7"
          ]
        },
        "id": "LDuZYr0TxwU5",
        "outputId": "394a00dd-25e4-4a52-d8a8-b1a0083ea57e"
      },
      "outputs": [
        {
          "output_type": "stream",
          "name": "stdout",
          "text": [
            "Looking in indexes: https://pypi.org/simple, https://us-python.pkg.dev/colab-wheels/public/simple/\n",
            "Collecting stanza\n",
            "  Downloading stanza-1.4.2-py3-none-any.whl (691 kB)\n",
            "\u001b[K     |████████████████████████████████| 691 kB 5.0 MB/s \n",
            "\u001b[?25hRequirement already satisfied: six in /usr/local/lib/python3.7/dist-packages (from stanza) (1.15.0)\n",
            "Requirement already satisfied: protobuf in /usr/local/lib/python3.7/dist-packages (from stanza) (3.19.6)\n",
            "Requirement already satisfied: torch>=1.3.0 in /usr/local/lib/python3.7/dist-packages (from stanza) (1.12.1+cu113)\n",
            "Requirement already satisfied: tqdm in /usr/local/lib/python3.7/dist-packages (from stanza) (4.64.1)\n",
            "Requirement already satisfied: requests in /usr/local/lib/python3.7/dist-packages (from stanza) (2.23.0)\n",
            "Requirement already satisfied: numpy in /usr/local/lib/python3.7/dist-packages (from stanza) (1.21.6)\n",
            "Collecting emoji\n",
            "  Downloading emoji-2.2.0.tar.gz (240 kB)\n",
            "\u001b[K     |████████████████████████████████| 240 kB 50.3 MB/s \n",
            "\u001b[?25hRequirement already satisfied: typing-extensions in /usr/local/lib/python3.7/dist-packages (from torch>=1.3.0->stanza) (4.1.1)\n",
            "Requirement already satisfied: idna<3,>=2.5 in /usr/local/lib/python3.7/dist-packages (from requests->stanza) (2.10)\n",
            "Requirement already satisfied: urllib3!=1.25.0,!=1.25.1,<1.26,>=1.21.1 in /usr/local/lib/python3.7/dist-packages (from requests->stanza) (1.24.3)\n",
            "Requirement already satisfied: chardet<4,>=3.0.2 in /usr/local/lib/python3.7/dist-packages (from requests->stanza) (3.0.4)\n",
            "Requirement already satisfied: certifi>=2017.4.17 in /usr/local/lib/python3.7/dist-packages (from requests->stanza) (2022.9.24)\n",
            "Building wheels for collected packages: emoji\n",
            "  Building wheel for emoji (setup.py) ... \u001b[?25l\u001b[?25hdone\n",
            "  Created wheel for emoji: filename=emoji-2.2.0-py3-none-any.whl size=234927 sha256=9320601991e3f3f9b014fc24738c4ab9d2c9d7ebf69debe375c19fb86130dd38\n",
            "  Stored in directory: /root/.cache/pip/wheels/f3/e3/f2/1de1c2e3ed742e1df73e0f15d58864e50c7e64f607b548d6cf\n",
            "Successfully built emoji\n",
            "Installing collected packages: emoji, stanza\n",
            "Successfully installed emoji-2.2.0 stanza-1.4.2\n"
          ]
        },
        {
          "output_type": "stream",
          "name": "stderr",
          "text": [
            "INFO:stanza:Checking for updates to resources.json in case models have been updated.  Note: this behavior can be turned off with download_method=None or download_method=DownloadMethod.REUSE_RESOURCES\n"
          ]
        },
        {
          "output_type": "display_data",
          "data": {
            "text/plain": [
              "Downloading https://raw.githubusercontent.com/stanfordnlp/stanza-resources/main/resources_1.4.1.json:   0%|   …"
            ],
            "application/vnd.jupyter.widget-view+json": {
              "version_major": 2,
              "version_minor": 0,
              "model_id": "07bfc38084d748a4a9f54ab524661e93"
            }
          },
          "metadata": {}
        },
        {
          "output_type": "display_data",
          "data": {
            "text/plain": [
              "Downloading https://huggingface.co/stanfordnlp/stanza-en/resolve/v1.4.1/models/tokenize/combined.pt:   0%|    …"
            ],
            "application/vnd.jupyter.widget-view+json": {
              "version_major": 2,
              "version_minor": 0,
              "model_id": "0f061436771a4e72a88ba199e6b3a915"
            }
          },
          "metadata": {}
        },
        {
          "output_type": "display_data",
          "data": {
            "text/plain": [
              "Downloading https://huggingface.co/stanfordnlp/stanza-en/resolve/v1.4.1/models/pos/combined.pt:   0%|         …"
            ],
            "application/vnd.jupyter.widget-view+json": {
              "version_major": 2,
              "version_minor": 0,
              "model_id": "ee168f04f69a417f862b8463e483584e"
            }
          },
          "metadata": {}
        },
        {
          "output_type": "display_data",
          "data": {
            "text/plain": [
              "Downloading https://huggingface.co/stanfordnlp/stanza-en/resolve/v1.4.1/models/backward_charlm/1billion.pt:   …"
            ],
            "application/vnd.jupyter.widget-view+json": {
              "version_major": 2,
              "version_minor": 0,
              "model_id": "c2155eaf2e7a49ce8e9d9fb119e7b69b"
            }
          },
          "metadata": {}
        },
        {
          "output_type": "display_data",
          "data": {
            "text/plain": [
              "Downloading https://huggingface.co/stanfordnlp/stanza-en/resolve/v1.4.1/models/pretrain/combined.pt:   0%|    …"
            ],
            "application/vnd.jupyter.widget-view+json": {
              "version_major": 2,
              "version_minor": 0,
              "model_id": "7b7a2aefd90b4ba1ae7b509c88c20f09"
            }
          },
          "metadata": {}
        },
        {
          "output_type": "display_data",
          "data": {
            "text/plain": [
              "Downloading https://huggingface.co/stanfordnlp/stanza-en/resolve/v1.4.1/models/forward_charlm/1billion.pt:   0…"
            ],
            "application/vnd.jupyter.widget-view+json": {
              "version_major": 2,
              "version_minor": 0,
              "model_id": "5ed9577e0deb4d2ca2c60f590fca5fba"
            }
          },
          "metadata": {}
        },
        {
          "output_type": "stream",
          "name": "stderr",
          "text": [
            "INFO:stanza:Loading these models for language: en (English):\n",
            "========================\n",
            "| Processor | Package  |\n",
            "------------------------\n",
            "| tokenize  | combined |\n",
            "| pos       | combined |\n",
            "========================\n",
            "\n",
            "INFO:stanza:Use device: cpu\n",
            "INFO:stanza:Loading: tokenize\n",
            "INFO:stanza:Loading: pos\n",
            "INFO:stanza:Done loading processors!\n"
          ]
        }
      ],
      "source": [
        "#Stanza インストール\n",
        "! pip install stanza\n",
        "\n",
        "import stanza\n",
        "english_tokenizer = stanza.Pipeline(\"en\", processors=\"tokenize, pos\")"
      ]
    },
    {
      "cell_type": "code",
      "execution_count": null,
      "metadata": {
        "id": "32vKDPBBx-uB"
      },
      "outputs": [],
      "source": [
        "# Stanza 単語分割を行う関数を定義\n",
        "def st_split(text):\n",
        "    spword = list()\n",
        "    for sentence in english_tokenizer(text).sentences:\n",
        "        for token in sentence.words:\n",
        "            word = token.text\n",
        "            #pos = token.xpos\n",
        "            word = prepro(word)\n",
        "            if word != ',' and word != ':' and word != '.' and word != '?':\n",
        "                if not word in stop_words:\n",
        "                        spword.append(word)\n",
        "    return spword"
      ]
    },
    {
      "cell_type": "code",
      "execution_count": null,
      "metadata": {
        "id": "A-LvbqwFfBlz"
      },
      "outputs": [],
      "source": [
        "text_nltk1 = list() # 左の文を追加してくための空リスト\n",
        "text_nltk2 = list() # 右の文を追加してくための空リスト\n",
        "text_mt1 = list() \n",
        "text_mt2 = list()\n",
        "text_st1 = list() \n",
        "text_st2 = list()\n",
        "\n",
        "for t_text in train_text:\n",
        "    txt1, txt2 = t_text.split(\"\\t\")\n",
        "    #text1とtext2が類似度におけるペア\n",
        "    #これを文章から単語に分割していく\n",
        "\n",
        "    text_nltk1.append(nltk_split(txt1)) # text1について 単語分割 NLTK\n",
        "    text_nltk2.append(nltk_split(txt2)) # text2について 単語分割 NLTK\n",
        "\n",
        "    text_mt1.append(mt_split(txt1)) # text1について 単語分割 Moses Tokenizer\n",
        "    text_mt2.append(mt_split(txt2)) # text2について 単語分割 Moses Tokenizer\n",
        "\n",
        "    text_st1.append(st_split(txt1)) # text1について 単語分割 Stanza\n",
        "    text_st2.append(st_split(txt2)) # text2について 単語分割 Stanza"
      ]
    },
    {
      "cell_type": "code",
      "execution_count": null,
      "metadata": {
        "id": "QlHaJXr3PwSo"
      },
      "outputs": [],
      "source": [
        "#BoW\n",
        "\n",
        "# 語彙（扱いたい全ての単語）\n",
        "vocab = set()\n",
        "for text1_ in text_nltk1: # NLTKで分割したもの\n",
        "    for word in text1_:\n",
        "        vocab.add(word)\n",
        "\n",
        "for text2_ in text_nltk2: # NLTKで分割したもの\n",
        "    for word in text2_:\n",
        "        vocab.add(word)\n",
        "\n",
        "# 各単語にIDを割り当てる 日課：0番目, ...\n",
        "word2id = dict()\n",
        "for word in vocab:\n",
        "    word2id[word] = len(word2id)\n",
        "\n",
        "def vectorize_bow(words, vocab, word2id):\n",
        "    vector = np.zeros(len(vocab))\n",
        "    for word in words:\n",
        "        word = prepro(word)\n",
        "        if word in vocab:\n",
        "            vector[word2id[word]] = 1\n",
        "    return vector"
      ]
    },
    {
      "cell_type": "code",
      "source": [
        "tokenizer = MosesTokenizer(\"en\", \"no-escape\")\n",
        "# 辞書(回数)作成のための わかち\n",
        "def wakati(text):\n",
        "    after = list()\n",
        "    for word in tokenizer(text):\n",
        "        after.append(word)\n",
        "    return after   "
      ],
      "metadata": {
        "id": "fuziVVCScCGH"
      },
      "execution_count": null,
      "outputs": []
    },
    {
      "cell_type": "code",
      "execution_count": null,
      "metadata": {
        "id": "bL0gvPtZgfWW"
      },
      "outputs": [],
      "source": [
        "import math\n",
        "from collections import defaultdict\n",
        "\n",
        "freq_dict = defaultdict(int) #頻度\n",
        "prob_dict = defaultdict(float) #確率\n",
        "with open('/content/drive/MyDrive/exp5-3_english/en_wiki.sent.10m.txt', 'r') as f:\n",
        "    for line in f:\n",
        "        wakatitext = wakati(line)\n",
        "        for word in wakatitext:\n",
        "            prob_dict[word] += 1\n",
        "        for word in set(wakatitext):\n",
        "            freq_dict[word] += 1"
      ]
    },
    {
      "cell_type": "code",
      "source": [
        "#頻度の計算\n",
        "total = sum(prob_dict.values())\n",
        "for word, freq in prob_dict.items(): #辞書からkeyとvalueを取り出し\n",
        "    prob_dict[word] = freq / total #確率で置き換え\n",
        "\n",
        "#idfの計算\n",
        "def idf(word):\n",
        "    if freq_dict[word] == 0:\n",
        "        return 1\n",
        "    else:\n",
        "        return 1 + math.log( 10000000 / freq_dict[word])"
      ],
      "metadata": {
        "id": "beWt_z2OVrPT"
      },
      "execution_count": null,
      "outputs": []
    },
    {
      "cell_type": "code",
      "execution_count": null,
      "metadata": {
        "colab": {
          "base_uri": "https://localhost:8080/"
        },
        "id": "x0X33_0oHmgV",
        "outputId": "d9aa3639-353b-4fac-f88e-f22d0c4dba62"
      },
      "outputs": [
        {
          "name": "stdout",
          "output_type": "stream",
          "text": [
            "[['girl', 'styling', 'hair'], ['group', 'men', 'play', 'soccer', 'beach'], ['one', 'woman', 'measuring', 'another', 'woman', 'ankle'], ['man', 'cutting', 'up', 'cucumber'], ['man', 'playing', 'harp'], ['woman', 'cutting', 'onions'], ['man', 'riding', 'electric', 'bicycle'], ['man', 'playing', 'drums'], ['man', 'playing', 'guitar'], ['man', 'playing', 'guitar'], ['man', 'playing', 'guitar'], ['man', 'cutting', 'onion'], ['man', 'cycling'], ['man', 'slicing', 'open', 'fish'], ['man', 'slicing', 'tomato'], ['man', 'playing', 'guitar'], ['baby', 'panda', 'goes', 'down', 'slide'], ['man', 'singing', 'playing', 'guitar'], ['man', 'attacks', 'woman'], ['man', 'driving', 'car'], ['woman', 'cutting', 'tofu'], ['woman', 'styling', 'hair'], ['two', 'zebras', 'play', 'open', 'field'], ['man', 'cutting', 'potato'], ['man', 'slicing', 'onion'], ['man', 'dancing'], ['man', 'riding', 'motorcycle'], ['woman', 'slicing', 'garlics'], ['man', 'speaking'], ['little', 'boy', 'singing', 'playing', 'guitar'], ['turtle', 'swimming', 'water'], ['young', 'woman', 'putting', 'stickers', 'all', 'over', 'face'], ['woman', 'wrapping', 'tofu'], ['cat', 'eating', 'some', 'corn'], ['man', 'eating', 'food'], ['man', 'playing', 'guitar'], ['man', 'kicking', 'pots', 'water'], ['man', 'cutting', 'pipe', 'scissors'], ['woman', 'dancing', 'rain'], ['woman', 'taking', 'bath'], ['man', 'mixes', 'vegetables', 'pot'], ['woman', 'talking', 'cell', 'phone'], ['man', 'playing', 'guitar'], ['man', 'playing', 'guitar'], ['man', 'cutting', 'apple', 'hand'], ['man', 'opening', 'door'], ['man', 'slicing', 'tomato'], ['man', 'cutting', 'paper', 'sword'], ['boy', 'studies', 'calendar'], ['ballerina', 'dancing'], ['woman', 'dancing'], ['woman', 'slicing', 'some', 'tomatoes'], ['woman', 'water', 'skiing'], ['man', 'playing', 'flute'], ['man', 'playing', 'piano'], ['woman', 'picking', 'can'], ['man', 'puts', 'three', 'pieces', 'meat', 'pan'], ['woman', 'cutting', 'onion'], ['some', 'men', 'sawing'], ['car', 'driven', 'down', 'road'], ['man', 'kissing', 'hugging', 'woman'], ['train', 'moving'], ['someone', 'slicing', 'onion'], ['woman', 'playing', 'ocean'], ['person', 'playing', 'electronic', 'keyboard'], ['man', 'holding', 'leaf'], ['woman', 'peeling', 'shrimp'], ['man', 'sitting', 'smoking'], ['man', 'playing', 'guitar'], ['man', 'standing', 'front', 'window', 'looking', 'outside'], ['skunk', 'looking', 'here', 'there'], ['man', 'playing', 'guitar', 'singing'], ['woman', 'opens', 'window'], ['people', 'dancing', 'outside'], ['man', 'using', 'camera', 'to', 'hammer', 'nail'], ['woman', 'filing', 'nails'], ['boy', 'crawling', 'dog', 'house'], ['woman', 'swimming', 'underwater'], ['machine', 'sharpening', 'pencil'], ['monkey', 'playing', 'drums'], ['man', 'opening', 'box', 'taking', 'out', 'paper'], ['woman', 'dancing'], ['person', 'drawing', 'large', 'touchscreen'], ['men', 'played', 'follow', 'leader', 'grass'], ['woman', 'cracking', 'eggs'], ['woman', 'peels', 'garlic', 'hands'], ['polar', 'bears', 'fought', 'over', 'kill'], ['man', 'trick', 'play', 'cards'], ['cat', 'licking', 'bottle'], ['person', 'slicing', 'onion'], ['person', 'peeling', 'potato', 'potato', 'peeler'], ['two', 'women', 'dancing', 'singing', 'front', 'crowd'], ['man', 'seasoning', 'some', 'carrots'], ['two', 'men', 'pushed', 'carts', 'woods'], ['man', 'playing', 'football'], ['lady', 'peeled', 'potatoe'], ['woman', 'slicing', 'some', 'tofu'], ['someone', 'typed', 'keyboard'], ['three', 'young', 'men', 'run', 'jump', 'kick', 'off', 'coke', 'machine'], ['young', 'asian', 'girl', 'applying', 'eyeliner'], ['cat', 'walking', 'around', 'house'], ['woman', 'talking', 'to', 'pet', 'bunny', 'fondles'], ['monkey', 'playing', 'drums'], ['man', 'riding', 'white', 'horse', 'enclosed', 'ground'], ['oriental', 'lady', 'cutting', 'carrot', 'thin', 'pieces'], ['group', 'people', 'dancing'], ['man', 'playing', 'guitar'], ['woman', 'mixes', 'up', 'vegetables'], ['woman', 'pours', 'mixture', 'bowl', 'mixes'], ['man', 'cutting', 'pieces', 'butter', 'mixing', 'bowl'], ['man', 'putting', 'garlic', 'some', 'bread', 'slices'], ['panda', 'bear', 'lay', 'logs'], ['five', 'men', 'jump', 'swimming', 'pool'], ['cheetah', 'running', 'behind', 'prey'], ['cat', 'playing', 'floor'], ['boy', 'playing', 'violin', 'stage'], ['dog', 'barking', 'toy'], ['man', 'cycling'], ['woman', 'slicing', 'ginger'], ['man', 'dragging', 'dead', 'deer'], ['man', 'preparing', 'snake', 'cooking'], ['woman', 'spreading', 'mustard', 'bread', 'roll'], ['someone', 'touched', 'kitten', 'chewing', 'string'], ['meat', 'put', 'skillet'], ['baby', 'elephant', 'eating', 'small', 'tree'], ['woman', 'man', 'dancing', 'rain'], ['someone', 'drawing'], ['man', 'playing', 'guitar'], ['two', 'men', 'fistfighting', 'ring'], ['person', 'wipes', 'butter', 'tray'], ['two', 'men', 'playing', 'football'], ['man', 'playing', 'guitar'], ['man', 'peeling', 'potato'], ['woman', 'stabbing', 'potato', 'fork'], ['child', 'waking', 'up'], ['boy', 'playing', 'key-board'], ['woman', 'plays', 'flute'], ['woman', 'playing', 'electric', 'guitar'], ['man', 'playing', 'flute'], ['group', 'people', 'sweeping', 'water', 'out', 'house'], ['man', 'plays', 'guitar'], ['man', 'woman', 'kissing', 'each', 'other'], ['woman', 'climbing', 'cliff'], ['polar', 'bear', 'running', 'towards', 'group', 'walruses'], ['woman', 'cutting', 'some', 'fish'], ['someone', 'playing', 'piano'], ['man', 'pouring', 'rice', 'roni', 'pan'], ['man', 'breaking', 'wooden', 'boards', 'hand'], ['girl', 'playing', 'guitar'], ['man', 'praying'], ['man', 'playing', 'piano'], ['woman', 'slicing', 'onion'], ['man', 'riding', 'horse', 'creek'], ['man', 'playing', 'guitar'], ['man', 'picking', 'up', 'tree'], ['person', 'peeling', 'potato'], ['person', 'playing', 'piano'], ['man', 'spitting'], ['man', 'playing', 'musical', 'keyboard'], ['man', 'dancing'], ['man', 'plays', 'trumpet'], ['woman', 'riding', 'horse'], ['band', 'playing', 'stage'], ['woman', 'playing', 'guitar', 'singing'], ['man', 'eating'], ['little', 'boy', 'hits', 'golf', 'ball'], ['guy', 'taking', 'off', 'sunglasses'], ['someone', 'reading', 'email'], ['person', 'slicing', 'onions'], ['girl', 'coming', 'up', 'car'], ['man', 'playing', 'drums'], ['someone', 'slicing', 'onion'], ['woman', 'dicing', 'some', 'peeled', 'potatoes', 'cut', 'thick', 'strips'], ['little', 'girl', 'peddling', 'scooter'], ['cat', 'cleans'], ['man', 'kicking', 'soccer', 'ball'], ['woman', 'opens', 'window'], ['three', 'men', 'same', 'dance', 'street'], ['man', 'playing', 'guitar'], ['man', 'dancing'], ['woman', 'exercising'], ['boy', 'playing', 'violin', 'onstage'], ['woman', 'measuring', 'other', 'woman'], ['man', 'exercise'], ['dog', 'playing', 'toy'], ['man', 'playing', 'piano'], ['man', 'bowling'], ['woman', 'dancing', 'near', 'fire'], ['man', 'making', 'bed'], ['person', 'riding', 'motorcyle'], ['man', 'pours', 'rice', 'pot'], ['person', 'slicing', 'some', 'garlic'], ['woman', 'slicing', 'ginger'], ['men', 'playing', 'soccer'], ['person', 'scrubbing', 'zucchini'], ['panda', 'bear', 'chewing', 'stick'], ['people', 'lifting', 'bags'], ['man', 'talking', 'phone'], ['woman', 'braiding', 'hair'], ['man', 'throwing', 'knives', 'tree'], ['woman', 'slicing', 'tofu'], ['woman', 'folding', 'paper'], ['someone', 'folding', 'piece', 'paper'], ['man', 'lifting', 'weights'], ['man', 'playing', 'cello'], ['man', 'talking'], ['man', 'tries', 'to', 'feed', 'mouse', 'to', 'snake'], ['man', 'playing', 'drums'], ['man', 'playing', 'ukulele'], ['kitten', 'drinking', 'milk', 'from', 'bowl'], ['man', 'breaks', 'cinder', 'blocks', 'another', 'man'], ['man', 'hitting', 'boy', 'flower', 'vase'], ['man', 'mixing', 'whipping', 'cream'], ['man', 'stirring', 'juice'], ['someone', 'slicing', 'two', 'uncooked', 'racks', 'ribs', 'apart'], ['man', 'kicking', 'pots', 'water'], ['two', 'little', 'girls', 'talk', 'telephone'], ['cat', 'gets', 'stuck', 'moving', 'ceiling', 'fan'], ['cat', 'drinking', 'milk'], ['rocky', 'apollo', 'creed', 'running', 'down', 'beach'], ['man', 'singing', 'playing', 'guitar'], ['boat', 'sails', 'along', 'water'], ['okapi', 'eating', 'from', 'tree'], ['several', 'kids', 'jump', 'up', 'down', 'trampoline'], ['woman', 'pouring', 'egg', 'frying', 'pan'], ['woman', 'frying', 'ground', 'meat'], ['three', 'boys', 'karate', 'costumes', 'fighting'], ['swimmers', 'racing', 'lake'], ['person', 'boiling', 'noodles'], ['person', 'slicing', 'some', 'onions'], ['man', 'reels', 'fish'], ['woman', 'cutting', 'onion'], ['lady', 'mixed', 'up', 'meat', 'mixture', 'bowl'], ['girl', 'applying', 'makeup', 'face'], ['woman', 'puts', 'make-up'], ['cat', 'plays', 'water'], ['person', 'adding', 'food', 'pan'], ['man', 'smoking'], ['person', 'putting', 'shredded', 'cheese', 'pot'], ['man', 'erasing', 'chalk', 'board'], ['man', 'exercising'], ['chimp', 'kicking', 'target'], ['man', 'exercise'], ['girl', 'carrying', 'baby'], ['several', 'swimmers', 'jump', 'water'], ['man', 'spins', 'surf', 'board'], ['young', 'man', 'riding', 'skateboard', 'jumps', 'onto', 'sidewalk', 'then', 'off', 'another', 'curb'], ['person', 'dices', 'up', 'orange', 'pepper'], ['two', 'men', 'dancing', 'together'], ['man', 'reading', 'email'], ['curious', 'boys', 'look', 'shed'], ['moped', 'front', 'steps', 'ruins'], ['man', 'sleeps', 'baby', 'lap'], ['two', 'cats', 'looking', 'window'], ['person', 'wearing', 'helmet', 'rides', 'bike', 'near', 'white', 'structure'], ['man', 'bicycle', 'coffee', 'house'], ['black', 'white', 'cat', 'high', 'up', 'tree', 'branches'], ['young', 'blonde', 'girl', 'wearing', 'helmet', 'sits', 'red', 'bicycle', 'behind'], ['blue', 'couch', 'twin', 'bed', 'living', 'room'], ['flock', 'sheep', 'spread', 'out', 'field'], ['two', 'dogs', 'one', 'cat', 'sitting', 'couch'], ['bicycle', 'parked', 'shop'], ['orange', 'white', 'cat', 'laying', 'blanket', 'black', 'leather', 'chair'], ['young', 'couple', 'sitting', 'black', 'couch'], ['group', 'black', 'people', 'front', 'building', 'moped'], ['elderly', 'woman', 'sitting', 'red', 'patterned', 'couch', 'arm', 'around', 'younger', 'woman'], ['man', 'riding', 'back', 'orange', 'suv'], ['red', 'white', 'bus', 'driving', 'down', 'road'], ['cat', 'laying', 'red', 'cushion', 'looking', 'camera'], ['two', 'green', 'white', 'trains', 'sitting', 'tracks'], ['grey', 'cat', 'lying', 'wooden', 'table'], ['man', 'sitting', 'back', 'yard', 'playing', 'guitar'], ['father', 'napping', 'chair', 'baby', 'lap'], ['close', 'up', 'head', 'ostrich'], ['green', 'white', 'bird', 'perched', 'tree', 'branch'], ['man', 'top', 'hat', 'rides', 'white', 'horse'], ['woman', 'riding', 'brown', 'horse'], ['two', 'men', 'standing', 'grass', 'staring', 'car'], ['two', 'indian', 'women', 'two', 'indian', 'girls', 'near', 'water'], ['table', 'set', 'wine', 'dishes', 'two', 'people'], ['moped', 'front', 'ruins'], ['person', 'driving', 'cart', 'pulled', 'bicycle'], ['dog', 'sniffing', 'bottom', 'door'], ['small', 'bird', 'sitting', 'branch', 'winter'], ['yellow', 'bird', 'eating', 'fruit', 'wire', 'grate'], ['brown', 'duck', 'white', 'duck', 'stand', 'grass'], ['black', 'white', 'cat', 'dog', 'striped', 'couch'], ['man', 'wearing', 'black', 'formal', 'wear', '&', 'black', 'top', 'hat', 'riding', 'white', 'show', 'horse'], ['small', 'brown', 'birds', 'eating', 'from', 'bird', 'feeder', 'hanging', 'from', 'tree'], ['picture', 'countryside', 'large', 'city', 'background'], ['blue', 'red', 'plane', 'mid-air', 'flight'], ['three', 'men', 'posing', 'tent'], ['close-up', 'gray', 'cat', 'green', 'eyes'], ['train', 'train', 'station'], ['train', 'heads', 'down', 'tracks', 'along', 'hedge'], ['little', 'girl', 'laughing', 'camera'], ['three', 'young', 'women', 'standing', 'room', 'together'], ['white', 'bird', 'long', 'orange', 'legs', 'standing', 'lake'], ['red', 'train', 'driving', 'snow', 'covered', 'city'], ['three', 'bicyclists', 'crossing', 'bridge', 'city'], ['red', 'white', 'bus', 'drives', 'down', 'england', 'street'], ['birds', 'swimming', 'water'], ['black', 'dog', 'looking', 'camera'], ['group', 'horses', 'grazing', 'field'], ['several', 'people', 'motorcycles', 'market', 'square'], ['three', 'sheep', 'dirt', 'road', 'viewed', 'from', 'passenger', 'vehicle'], ['group', 'people', 'posing', 'two', 'men', 'dressed', 'elvis'], ['parrot', 'pushing', 'small', 'shopping', 'cart'], ['man', 'yellow', 'canoe', 'paddling', 'water'], ['beer', 'bottles', '(', '-LRB-', 'harp', 'lager', ')', '-RRB-', 'lined', 'up', 'floor'], ['two', 'women', 'sitting', 'outside', 'laughing'], ['steam', 'engine', 'train', 'moving', 'toward', 'camera'], ['brown', 'white', 'cow', 'field', 'looking', 'camera'], ['black', 'white', 'cow', 'standing', 'near', 'pile', 'snow'], ['home', 'office', 'space', 'bright', 'green', 'walls', 'artwork'], ['black', 'white', 'photo', 'man', 'driving', 'car', 'someone', 'motorcycle'], ['three', 'people', 'water', 'yellow', 'canoes'], ['girl', 'riding', 'hat', 'horse'], ['man', 'dressed', 'pale', 'scarf', 'stick'], ['very', 'retro', 'living', 'room', 'television'], ['girl', 'riding', 'hat', 'horse'], ['car', 'pulling', 'off', 'side', 'road', 'onto', 'street'], ['man', 'sitting', 'cross', 'legged', 'wearing', 'cloak', 'holding', 'stick'], ['two', 'black', 'white', 'dogs', 'bottom', 'stairs'], ['old', 'fashioned', 'wooden', 'sailing', 'ship', 'ocean'], ['man', 'sitting', 'cross', 'legged', 'grass', 'tree', 'background'], ['two', 'cats', 'sitting', 'couch', 'looking', 'out', 'window'], ['three', 'goats', 'rounded', 'up', 'dog'], ['tan', 'puppy', 'carpeted', 'floor'], ['black', 'dog', 'standing', 'grassy', 'area'], ['train', 'station'], ['blue', 'bird', 'standing', 'lawn'], ['empty', 'office', 'cubicle'], ['man', 'woman', 'sit', 'table', 'restaurant'], ['young', 'man', 'wearing', 'striped', 'shirt', 'holding', 'two', 'bicycles'], ['television', 'upholstered', 'chair', 'coffee', 'stable', 'bright', 'room'], ['two', 'cats', 'sitting', 'couch', 'looking', 'out', 'window'], ['small', 'dog', 'wearing', 'sweater', 'looking', 'up', 'camera'], ['two', 'men', 'standing', 'grass', 'staring', 'car'], ['woman', 'stands', 'front', 'building', 'snow'], ['home', 'office', 'space', 'bright', 'green', 'walls', 'artwork'], ['green', 'car', 'parked', 'saloon'], ['group', 'people', 'sitting', 'around', 'restaurant', 'dining', 'table'], ['two', 'ducks', 'standing', 'water'], ['black', 'white', 'cow', 'pen', 'hay'], ['man', 'woman', 'posing', 'camera'], ['green', 'white', 'cargo', 'plane', 'taking', 'from', 'airport'], ['yellow', 'school', 'bus', 'parked', 'field'], ['elderly', 'man', 'works', 'laptop', 'home'], ['cat', 'sitting', 'bag', 'cat', 'food'], ['large', 'pile', 'wooden', 'items', 'piled', 'high'], ['woman', 'riding', 'brown', 'horse'], ['black', 'white', 'photo', 'girl', 'sofa'], ['black', 'dog', 'stands', 'next', 'to', 'materials', 'construction', 'site'], ['two', 'women', 'sitting', 'chairs', 'shop'], ['women', 'painting', 'chair', 'dining', 'room', 'background'], ['cat', 'sleeping', 'coach', 'pillow', 'behind'], ['two', 'motorbikes', 'racing', 'dirt', 'course'], ['young', 'woman', 'riding', 'bay', 'hose', 'dirt', 'riding-ring'], ['gray', 'cat', 'laying', 'brown', 'table'], ['motorcycle', 'parked', 'next', 'to', 'car', 'outside'], ['pile', 'used', 'wooden', 'building', 'materials', 'chair', 'top'], ['passenger', 'train', 'waiting', 'city', 'train', 'station'], ['black', 'train', 'moves', 'down', 'tracks'], ['philips', 'flat-screen', 'tv', 'shown', 'two', 'remote', 'controls'], ['cruise', 'ship', 'front', 'docking', 'area'], ['black', 'white', 'cow', 'standing', 'hay', 'looks', 'back', 'camera'], ['four', 'people', 'rowing', 'down', 'river'], ['dark', 'brown', 'horse', 'standing', 'field'], ['two', 'men', 'talking', 'front', 'plane'], ['two', 'cats', 'one', 'brown', 'one', 'white', 'laying', 'bed', 'blue', 'blanket'], ['train', 'sits', 'train', 'station'], ['two', 'animals', 'sitting', 'rock'], ['black', 'white', 'cow', 'looking', 'fence'], ['two', 'women', 'clothing', 'store'], ['older', 'gentleman', 'looking', 'red', 'motorcycle'], ['black', 'white', 'cows', 'grazing', 'pen'], ['small', 'camouflaged', 'airplane', 'parked', 'grass'], ['black', 'white', 'photo', 'love', 'seat'], ['black', 'bird', 'standing', 'concrete'], ['crowd', 'people', 'walking', 'past', 'giant', 'mushroom'], ['sheep', 'beside', 'road', 'lake'], ['group', 'people', 'sit', 'table', 'italian', 'restaurant'], ['tan', 'cows', 'look', 'closely', 'camera'], ['older', 'woman', 'holding', 'newborn', 'baby'], ['two', 'dogs', 'play', 'grass'], ['three', 'people', 'sit', 'picnic', 'table', 'outside', 'building', 'painted', 'like', 'union', 'jack'], ['dog', 'swims', 'water'], ['young', 'laughing', 'girl', 'boy', 'playing', 'big', 'drum'], ['brown', 'dog', 'runs', 'snow', 'white', 'ball', 'mouth'], ['bird', 'flies', 'across', 'water'], ['dog', 'running', 'pond'], ['man', 'woman', 'watch', 'two', 'dogs'], ['man', 'sits', 'dock', 'looking', 'water'], ['brown', 'white', 'dog', 'running', 'snow'], ['man', 'woman', 'standing', 'front', 'building'], ['three', 'dolphins', 'jumping', 'out', 'pool', 'front', 'crowd', 'people'], ['dog', 'running', 'field'], ['black', 'white', 'dog', 'jumping', 'water'], ['tan', 'white', 'dog', 'retrieving', 'ball', 'gravel', 'path'], ['brown', 'white', 'dog', 'walking', 'up', 'snowy', 'steps'], ['woman', 'black', 'orange', 'jacket', 'throws', 'stick', 'brown', 'black', 'dog', 'to', 'fetch'], ['dog', 'running', 'across', 'snow', 'snowball', 'mouth'], ['small', 'boy', 'building', 'some', 'wooden', 'blocks'], ['man', 'woman', 'walk', 'white', 'dog', 'leash'], ['young', 'boy', 'wearing', 'red', 'winter', 'coat', 'eating', 'holding', 'up', 'candy', 'bar'], ['two', 'racing', 'dogs', 'run', 'mud'], ['young', 'boy', 'jumping', 'pool', 'says', '``', 'no', 'diving', \"''\"], ['three', 'dogs', 'running', 'dirt'], ['four', 'children', 'stools', 'diner'], ['boy', 'white', 'dog', 'running', 'grassy', 'field'], ['two', 'boys', 'playing', 'game', 'flag', 'football'], ['black', 'white', 'dog', 'mouth', 'wide', 'open'], ['one', 'white', 'boy', 'one', 'black', 'boy', 'stand', 'arms', 'around', 'each', 'other'], ['girl', 'playing', 'puddle', 'bare', 'feet'], ['two', 'children', 'splashing', 'water'], ['man', 'suit', 'dances', 'young', 'girl', 'front', 'audience'], ['three', 'children', 'playing', 'floor', 'toys'], ['two', 'dogs', 'playing', 'yard'], ['#', '0', 'greyhound', 'dog', 'running', 'around', 'track'], ['four', 'children', 'playing', 'trampoline'], ['black', 'tan', 'dog', 'standing', 'field', 'near', 'trees'], ['black', 'dog', 'running', 'water'], ['man', 'woman', 'walking', 'past', 'record', 'shop'], ['two', 'dogs', 'play', 'grass'], ['three', 'children', 'wrestle', 'floral', 'carpet'], ['boy', 'red', 'jumping', 'sandbox'], ['dog', 'jumps', 'water'], ['wet', 'blond', 'dog', 'carries', 'stick', 'shore'], ['man', 'dog', 'rocks', 'beach'], ['large', 'group', 'people', 'standing', 'outside', 'building'], ['two', 'dogs', 'running', 'field'], ['two', 'people', 'bed'], ['light', 'brown', 'dog', 'runs', 'down', 'path', 'happily'], ['red', 'haired', 'women', 'black', 'posing', 'man', 'resting', 'tree'], ['two', 'black', 'dogs', 'jumping', 'playing', 'yellow', 'tennis', 'ball', 'snow'], ['black', 'white', 'dog', 'jumping', 'over', 'hurdle'], ['two', 'brown', 'dogs', 'runs', 'water'], ['black', 'dog', 'jumping', 'out', 'water'], ['man', 'climbing', 'rock-face'], ['woman', 'playing', 'tennis', 'hitting', 'ball'], ['young', 'boy', 'hair', 'standing', 'up', 'sliding', 'down', 'blue', 'slide'], ['dog', 'standing', 'water'], ['surfer', 'riding', 'breaking', 'wave'], ['two', 'dogs', 'running', 'grass', 'near', 'house', 'trees'], ['brown', 'white', 'dog', 'running', 'across', 'brown', 'field'], ['black', 'dog', 'standing', 'grass', 'near', 'volleyball'], ['white', 'dog', 'light', 'brown', 'markings', 'stick', 'mouth', 'paws', 'snow'], ['man', 'wet', 'suit', 'throwing', 'baby', 'wearing', 'wet', 'suit', 'up', 'air'], ['black', 'white', 'dog', 'running', 'grass'], ['harnessed', 'dog', 'leaps', 'over', 'log', 'another', 'dog', 'follows', 'behind'], ['dog', 'running', 'grass'], ['many', 'football', 'players', 'sitting', 'ground'], ['little', 'boy', 'little', 'girl', 'playing', 'together', 'outside'], ['surfer', 'flip', 'off', 'wave'], ['female', 'dj', 'holds', 'up', 'michael', 'jackson', 'album'], ['two', 'white', 'standard', 'poodles', 'play', 'toy', 'snow'], ['boy', 'lies', 'stomach', 'grass'], ['white', 'dog', 'runs', 'along', 'rocky', 'shoreline'], ['black', 'white', 'dog', 'jumping', 'air', 'to', 'catch', 'frisbee'], ['woman', 'holding', 'harness', 'brown', 'white', 'dog', 'wearing'], ['girl', 'jumping'], ['young', 'pitcher', 'throwing', 'baseball'], ['three', 'children', 'playing', 'snow'], ['two', 'people', 'ride', 'bikes', 'down', 'dirt', 'road'], ['brown', 'dog', 'running', 'field'], ['dog', 'standing', 'sand'], ['four', 'girls', 'swimsuits', 'playing', 'volleyball', 'beach'], ['blonde', 'haired', 'toddler', 'swinging', 'tire', 'swing'], ['child', 'wearing', 'blue', 'white', 'shorts', 'jumping', 'surf'], ['two', 'dogs', 'running', 'shore'], ['yellow', 'car', 'speeds', 'along', 'snowy', 'field'], ['two', 'dogs', 'playing', 'snow'], ['one', 'boy', 'pushing', 'another', 'boy', 'swing'], ['pitcher', 'mound', 'throws', 'baseball'], ['little', 'girl', 'riding', 'toy', 'tricycle', 'springs'], ['woman', 'sitting', 'water'], ['tan', 'girl', 'floral', 'bikini', 'swimming', 'dark', 'blue', 'waters'], ['grey', 'dog', 'swimming', 'river', 'stick', 'mouth'], ['woman', 'blue', 'bathing', 'suit', 'jumping', 'off', 'dock', 'lake'], ['two', 'black', 'dogs', 'playing', 'grass'], ['two', 'puppies', 'playing', 'plastic', 'bag'], ['man', 'black', 'suit', 'surfing', 'along', 'crashing', 'wave'], ['three', 'little', 'girls', 'sitting', 'grass'], ['brown', 'dog', 'runs', 'towards', 'camera', 'dirt', 'trail', 'mountains', 'background'], ['dog', 'jumping', 'down', 'ramp'], ['dog', 'plays', 'park'], ['four', 'dogs', 'stand', 'snow'], ['brown', 'black', 'dogs', 'snow', 'showing', 'teeth', 'barking', 'each', 'other'], ['man', 'running', 'track'], ['light-colored', 'dog', 'runs', 'grass'], ['child', 'holding', 'object', 'fire'], ['small', 'white', 'dog', 'climbs', 'over', 'log'], ['dogs', 'play', 'snow', 'hind', 'legs'], ['boy', 'skateboards', 'down', 'railing', 'some', 'graffiti', 'stairs'], ['black', 'white', 'dog', 'runs', 'water'], ['girl', 'running', 'desert', 'path'], ['man', 'steers', 'blue', 'boat', 'past', 'brightly', 'colored', 'houses'], ['woman', 'wearing', 'large', 'sunglasses', 'holds', 'newspapers', 'both', 'hands'], ['deer', 'jumps', 'fence'], ['person', 'baseball', 'team'], ['bike', 'next', 'to', 'couple', 'women'], ['group', 'eating', 'taking', 'breathtaking', 'view'], ['boy', 'raising', 'hand'], ['man', 'gray', 'beard', 'shaved', 'front', 'lecture', 'hall'], ['young', 'person', 'deep', 'thought'], ['man', 'performing', 'labor'], ['two', 'men', 'wearing', 'traditional', 'clothing', 'standing', 'outside'], ['man', 'wearing', 'gray', 'hat', 'fishing', 'out', 'fishing', 'boat'], ['little', 'girl', 'orange', 'striped', 'outfit', 'airborne', 'whilst', 'bouncing', 'bed'], ['person', 'watching', 'people', 'ski', 'down', 'hill'], ['yard', 'dog'], ['three', 'women', 'cook'], ['woman', 'kneeling', 'next', 'to', 'cat'], ['three', 'guys', 'playing', 'pro', 'game', 'basketball'], ['boys', 'earning', 'next', 'belt', 'karate'], ['woman', 'digging', 'sand'], ['woman', 'drives', 'golf', 'cart'], ['person', 'filming', 'outdoors'], ['human', 'riding', 'skateboard'], ['woman', 'plaid', 'outfit', 'looking', 'bag', 'produce'], ['tennis', 'player', 'hit', 'ball', 'outer', 'space', 'broke', 'death', 'star'], ['boy', 'climbs', 'forest', 'hill'], ['blond', 'boy', 'jumping', 'onto', 'deck'], ['man', 'uses', 'chainsaw', 'to', 'sculpt', 'phallic', 'ice', 'sculpture'], ['group', 'male', 'construction', 'workers', 'repair', 'railroad', 'tracks', 'cloudy', 'day'], ['girl', 'something', 'head'], ['people', 'making', 'structure', 'out', 'cards'], ['there', 'four', 'people', 'outside'], ['girls', 'holding', 'hands', 'blue', 'clothes'], ['man', 'demonstrating', 'how', 'to', 'work', 'clay', 'least', 'two', 'people', 'observe'], ['dog', 'sweater'], ['sculptor', 'applying', 'concrete', 'to', 'large', 'statue', 'human', 'figure', 'standing', 'no', 'head'], ['boy', 'dark', 'hair', 'water', 'looking', 'up'], ['pole', 'behind', 'person', 'playing', 'peekaboo', 'child'], ['woman', 'to', 'paint'], ['man', 'working', 'steel', 'mill'], ['young', 'woman', 'flirting', 'young', 'boy'], ['men', 'to', 'score', 'water', 'polo', 'tournament'], ['man', 'eats', 'popcorn', 'watching', 'cartoons', 'late', 'one', 'night'], ['three', 'men', 'sit', 'bench'], ['road', 'long'], ['young', 'man', 'wearing', 'white', 't-shirt', 'green', 'black', 'shorts', 'standing', 'stump'], ['dog', 'under', 'stairs'], ['two', 'women', 'give', 'demonstration', 'renaissance', 'fair'], ['some', 'guy', 'sitting', 'couch', 'watching', 'television'], ['woman', 'posing', 'christmas', 'card'], ['man', 'working', 'farm'], ['girl', 'talking', 'to', 'dad', 'cellphone'], ['one', 'person', 'wields', 'umbrella'], ['group', 'teenagers', 'jumping', 'good', 'time'], ['man', 'playing', 'guitar', 'joe', 'cafe'], ['someone', 'blanket'], ['man', 'orange', 'shirt'], ['two', 'kids', 'look', 'products', 'sold', 'inside', 'subway', 'shop'], ['baby', 'boy', 'wants', 'mother'], ['boy', 'very', 'close', 'to', 'girl'], ['six', 'children', 'cleaning', 'room'], ['there', 'cook', 'preparing', 'food'], ['two', 'men', 'helping', 'boy'], ['two', 'skiing', 'people', 'cross', 'country', 'skiing'], ['dog', 'taking', 'poop', 'street'], ['kid', 'talking', 'class'], ['women', 'trying', 'to', 'sell', 'something', 'to', 'individual'], ['people', 'waiting', 'fireworks', 'to', 'start'], ['dog', 'prepares', 'to', 'herd', 'three', 'sheep', 'horns'], ['people', 'gathered', 'room'], ['woman', 'overalls', 'paints', 'picture', 'wall'], ['adding', 'aspirin', 'to', 'water', 'could', 'kill', 'plant'], ['woman', 'wearing', 'yellow'], ['man', 'stunt', 'bicycle'], ['ten', 'people', 'riding', 'atvs'], ['yellow', 'vested', 'person', 'road', 'work'], ['two', 'workers', 'sitting', 'next', 'to', 'pipes', 'eating', 'lunch'], ['group', 'people', 'living', 'desert'], ['two', 'kids', 'swimming'], ['people', 'getting', 'dirty', 'clothes', 'cleaned'], ['children', 'holding', 'musical', 'instruments'], ['group', 'people', 'wearing', 'police', 'uniforms', 'conducting', 'arrest'], ['man', 'planning', 'to', 'shoot', 'wedding'], ['child', 'bike', 'got', 'wet'], ['soldier', 'walks', 'dog'], ['shirtless', 'woman', 'operating', 'lawn', 'mower'], ['two', 'officers', 'driving'], ['lady', 'looks', 'sad', 'no', 'one', 'buying', 'wares'], ['flock', 'birds', 'hovered', 'over', 'sandy', 'beach'], ['people', 'walk', 'home'], ['man', 'laughing', 'woman'], ['to', 'run', 'boat'], ['0', 'cows', 'field'], ['wet', 'child', 'enjoys', 'summer'], ['girl', 'driver', 'license'], ['people', 'motorcycles', 'wearing', 'racing', 'gear', 'ride', 'around', 'racetrack'], ['man', 'standing', 'ground', 'paintbrush'], ['kids', 'theater', 'watching', 'movie'], ['two', 'women', 'walk', 'down', 'sidewalk', 'to', 'store'], ['man', 'son', 'back'], ['group', 'dark-skinned', 'people', 'walking', 'past', 'barbed', 'wire'], ['zombies', 'parading', 'around', 'eating', 'brains'], ['group', 'people', 'sitting', 'beach', 'towels', 'watching', 'blue', 'angels'], ['three', 'people', 'meeting', 'coffee'], ['young', 'girl', 'dirt', 'face', 'red', 'child', 'bike', 'background'], ['line', 'scooters', 'parking', 'middle', 'street'], ['man', 'holding', 'cat'], ['cats', 'running', 'grass'], ['two', 'boys', 'playing', 'kick', 'ball', 'back', 'forth', 'to', 'each', 'other'], ['two', 'girls', 'running'], ['little', 'girl', 'white', 'blouse', 'blue', 'pants', 'frolics', 'grass'], ['man', 'white', 'shirt', 'hat', 'playing', 'guitar'], ['black', 'hooded', 'man', 'using', 'large', 'magnifying', 'glass', 'to', 'look', 'booklet'], ['people', 'running', 'marathon'], ['group', 'people', 'nervous', 'crossing', 'water'], ['group', 'kids', 'jumping', 'contest'], ['person', 'wearing', 'fedora'], ['woman', 'man', 'embrace', 'watching', 'horror', 'movie'], ['man', 'blue', 'dress', 'shirt'], ['couple', 'playing', 'game', 'life'], ['head', 'child', 'dark', 'glasses', 'focus'], ['maintenance', 'guy', 'repairing', 'net', 'tennis', 'court'], ['kid', 'sits', 'soccer', 'ball', 'outside'], ['man', 'brown', 'coat', 'rubs', 'nose'], ['dog', 'chasing', 'geese'], ['small', 'child', 'playing', 'letter', 'p'], ['brown', 'dog', 'jumping'], ['group', 'teenagers', 'red', 'shirts', 'smiling'], ['remained', 'under', 'banyan', 'tree', 'exhausted', 'daily', 'ritual', 'dragooning', 'men', 'every', 'two', 'hours'], ['us', 'will', 'depend', 'school'], ['there', 'also', 'string', 'made'], ['also', 'imply', 'may', 'not', 'paid', 'can', 'not', 'place', 'client'], ['one', 'time', 'well'], ['just', 'to', 'base', 'answer', 'know', 'want'], ['not', 'need', 'to', 'worry'], ['should'], ['should', 'just', 'ask', 'boss', 'wants', 'to'], ['need', 'to', 'read', 'lot', 'to', 'know', 'like', 'not'], ['depends', 'want', 'to', 'tank'], ['can', 'too'], ['should'], ['to', 'decide', 'want', 'to', 'get', 'out'], ['few', 'suggestions'], ['want', 'to', 'start', 'room', 'largest', 'to', 'make', 'sure', 'straightest', 'start'], ['not', 'want', 'to', 'derail', 'meeting', 'key', 'to', 'speak', 'up'], ['unfortunately', 'answer', 'to', 'question', 'simply', 'not', 'know'], ['soon', 'possible'], ['just', 'to', 'base', 'answer', 'know', 'want'], ['answer', 'to', 'both', 'questions', 'yes'], ['to', 'give', 'answer'], ['unfortunately', 'answer', 'to', 'question', 'simply', 'not', 'know'], ['rule', '-', 'when', 'doubt', 'throw', 'out', '!'], ['not', 'good', 'idea'], ['yes', 'probably', 'good', 'idea', 'to', 'renew', 'passport'], ['probably', 'depends', 'cut', 'meat'], ['not', 'good', 'idea'], ['pretty', 'much', 'up', 'to'], ['yes', 'there', 'reason'], ['tried', 'asking', 'employees'], ['guys', 'making', 'all', 'waaaaay', 'too', 'complicated'], ['not', 'to', 'know'], ['there', 'two', 'things', 'to', 'consider'], ['work', 'slowly'], ['can', 'buy', 'amazon', '$', '0'], ['coffee', 'simply', 'picks', 'up', 'aluminum', 'from', 'pot', 'coffee', 'acidic'], ['there', 'two', 'ways', 'to', 'start', 'plunging', 'dripping'], ['might', 'to', 'try', 'variety', 'find', 'one', 'clicks'], ['not', 'good', 'idea'], ['just', 'to', 'base', 'answer', 'know', 'want'], ['yes', 'should', 'mention', 'experience'], ['from', 'understand', 'can'], ['take', 'look'], [\"'d\", 'say', 'primarily', 'depends', 'two', 'things'], ['some', 'can'], ['not', 'good', 'idea'], ['answers', 'so', 'far', 'already', 'good', \"'d\", 'like', 'to', 'add', 'map', 'switzerland'], ['similar', 'situation'], ['same', 'problem'], ['there', 'no', 'maximum'], ['not', 'sure', 'right', 'site', 'question'], ['depends', 'want', 'to', 'next', 'where', 'want', 'to'], ['need', 'to', 'read', 'lot', 'to', 'know', 'like', 'not'], ['not', 'disclosing', 'key', 'info'], ['depends', 'want', 'to', 'next', 'where', 'want', 'to'], ['just', 'to', 'base', 'answer', 'know', 'want'], ['depends', 'want', 'to', 'next', 'where', 'want', 'to'], ['problem', 'professor', 'to', 'deal'], ['very', 'unusual', 'request'], ['very', 'much', 'depends', 'grant', 'question'], ['same', 'thing'], ['no', 'not', 'affect', 'ratings'], ['answer', 'to', 'question', '``', 'probably', 'not', \"''\"], ['not', 'think', 'makes', 'any', 'tremendous', 'difference'], ['depends'], ['there', 'not', 'lot', 'can'], ['answered', 'own', 'question'], ['just', 'to', 'base', 'answer', 'know', 'want'], ['not', 'good', 'idea'], ['best', 'thing', 'can', 'to', 'know', 'stuff'], [\"'d\", 'say', 'primarily', 'depends', 'two', 'things'], ['not', 'to', 'know'], ['same', 'thing'], ['not', 'good', 'idea'], ['right', 'path'], ['not', 'answer', 'question'], ['how', 'should', 'proceed'], ['page', 'answer', 'question'], ['can', 'use', 'too'], ['really', 'depends', 'how', 'employer', 'documents'], ['same', 'problem'], ['need', 'to', 'read', 'lot', 'to', 'know', 'like', 'not'], ['depends', 'want', 'to', 'next', 'where', 'want', 'to'], ['yes', 'to', 'file', 'tax', 'return', 'canada'], ['not', 'see', 'why', 'there', 'should', 'any', 'problem', 'whatsoever'], ['hope', 'looking'], ['best', 'thing', 'can', 'to', 'know', 'stuff'], ['depends', 'dish', 'how', 'amenable', 'stage', 'make', 'mistake'], ['just', 'to', 'base', 'answer', 'know', 'want'], ['probably', 'not', 'any', 'chance', 'moment'], ['really', 'not', 'matter'], ['not', 'need', 'to', 'know', 'everything'], ['think', \"'re\", 'looking', 'mikey', '(', '0', ')'], ['makes', 'absolutely', 'no', 'difference'], ['think', 'fine', 'to', 'ask', 'question'], [\"'m\", 'going', 'to', 'very', 'direct', 'here'], ['just', 'to', 'base', 'answer', 'know', 'want'], ['should'], ['there', 'not', 'lot', 'can'], ['kind', 'insulation'], ['depends', 'entirely', 'company', 'contract'], ['answered', 'own', 'question'], ['not', 'think', 'there', 'any'], ['there', 'few', 'things', 'can'], ['tip', 'find', 'most', 'useful'], ['believe'], ['not', 'sure', 'how', 'to', 'not', 'all'], ['all', 'head'], ['not', 'sure', 'how', 'to', 'not', 'all'], ['need', 'to', 'read', 'lot', 'to', 'know', 'like', 'not'], ['would', 'say', 'can', 'would', 'not', 'advised'], ['can'], ['sure', 'done', 'very', 'trip'], ['can', 'use', 'too'], ['how'], ['located', 'article', 'might', 'some', 'help', 'http', '//www.dsattorney.com/qa-pseudonyms-in-contracts/'], ['would', 'say', 'can', 'would', 'not', 'advised'], ['unfortunately', 'answer', 'to', 'question', 'simply', 'not', 'know'], ['not', 'sure', 'how', 'to', 'not', 'all'], ['also', 'matter', 'taste'], ['not', 'good', 'idea'], ['answer', 'based', 'experience', 'teaching', 'undergraduate', 'math', 'us'], ['there', 'few', 'things', 'think', 'should'], ['will', 'want', 'to', 'clean', 'area', 'first'], ['depends', 'want', 'to', 'tank'], ['there', 'couple', 'options', 'could', 'consider'], ['not', 'to', 'worry'], ['vietnamese', 'citizens', 'need', 'visa', 'to', 'visit', 'usa'], ['depends', 'how', 'used'], ['not', 'see', 'why', 'there', 'should', 'any', 'problem', 'whatsoever'], ['there', 'not', 'lot', 'can'], ['got', 'right'], ['just', 'to', 'base', 'answer', 'know', 'want'], ['how'], ['similar', 'situation'], ['lid', 'made'], ['not', 'need', 'any', 'visa'], ['problem', 'not', 'supervisor'], ['depends', 'want', 'to', 'next', 'where', 'want', 'to'], ['there', 'two', 'things', 'to', 'consider'], ['depends', 'entirely', 'company', 'contract'], ['wood', 'probably', 'not', 'rotten', 'just', 'worn', 'out'], ['well', 'would', 'not', 'put', 'cv'], ['great', 'one', '...'], ['answer', 'to', 'both', 'questions', 'yes'], ['yes', 'there', 'reason', 'to', 'not', 'propose'], ['think', 'depends', 'program'], ['can'], ['think', 'there', 'not', 'general', 'answer'], ['there', 'few', 'things', 'can'], ['key', 'to', 'find', 'something', 'works', 'goals'], ['not', 'to', 'know'], ['think', 'pretty', 'much', 'done', 'review'], ['there', 'few', 'things', 'think', 'should'], ['burn', 'more', 'calories', 'digesting', 'protein', 'than', 'carbohydrates', 'fat'], ['depends', 'want', 'to', 'next', 'where', 'want', 'to'], ['got', 'right'], ['answered', 'own', 'question'], ['same', 'thing'], ['yes', 'there', 'chemical', 'difference'], ['can', 'out', 'level', 'bit', 'flat', 'important'], ['would', 'look', 'U.S'], ['right', 'path'], ['not', 'should'], ['yes', 'common', '!'], ['not', 'think', 'there', 'any'], ['looks', 'to', 'set', 'up', 'want'], ['problem', 'system', 'not', 'account', 'people', 'could', 'care', 'less', 'money', 'title'], ['first', 'case', 'think', 'not', 'need'], ['impossible', 'to', 'answer', 'question', 'without', 'form', 'check'], ['need', 'to', 'add', 'to', 'resume', 'only', 'position'], ['work', 'slowly'], ['no', 'not', 'need', 'bread', 'machine'], ['yes', 'possible', 'to', 'publish', 'paper', 'model', 'analysis'], ['just', 'to', 'base', 'answer', 'know', 'want'], ['yes', 'should', 'mention', 'experience'], ['think', 'great', 'test', 'conducted'], ['not', 'to', 'know'], ['yes', 'there', 'rule'], ['goals'], [\"'m\", 'going', 'to', 'go', 'out', 'limb', 'here', '...'], ['long', 'stay', 'visa', 'switzerland', 'valid', 'then', 'will', 'not', 'need', 'transit', 'visa'], ['few', 'more', 'point', 'to', 'think'], ['now', 'not', 'to', 'perfect', 'every', 'answer'], [\"'m\", 'afraid', 'out', 'luck', 'one'], ['more', 'deciding', 'should', 'should', 'get', 'others', 'to'], ['varies', 'situation'], ['same', 'thing'], ['same', 'thing'], ['right', 'path'], ['Primer/paint', 'will', 'not', 'work'], ['best', 'thing', 'can', 'to', 'know', 'stuff'], ['also', 'matter', 'taste'], ['similar', 'situation'], ['can', 'use', 'too'], ['to', 'decide', 'want', 'to', 'get', 'out'], ['depends'], ['same', 'problem'], ['sometime', 'really', 'want', 'might', 'need', 'to', 'pay', 'agency', 'to', 'get', 'place'], ['not', 'need', 'to', 'know', 'everything'], ['also', 'useful', 'to', 'keep', 'consistency', 'story'], ['think', 'just', 'habit'], ['not', 'good', 'idea'], [\"'m\", 'thinking', 'bad', 'idea'], ['depends', 'want', 'to', 'next', 'where', 'want', 'to'], ['problem'], ['unfortunately', 'answer', 'to', 'question', 'simply', 'not', 'know'], ['unfortunately', 'question', 'can', 'not', 'answered', 'full', 'generality'], ['would', 'personally', 'beware', 'motley', 'fool'], ['think', 'there', 'not', 'general', 'answer'], ['not', 'good', 'idea'], ['not', 'need', 'any', 'visa'], ['to', 'decide', 'want', 'to', 'get', 'out'], ['same', 'problem'], ['answer', 'to', 'question', '``', 'probably', 'not', \"''\"], ['should'], ['same', 'problem'], ['hope', 'looking'], ['there', 'two', 'things', 'to', 'consider'], ['pretty', 'much', 'up', 'to'], ['there', 'few', 'things', 'can'], ['answer', 'to', 'all', 'such', 'similar', 'questions', 'two', 'stages'], ['impossible', 'to', 'answer', 'question', 'without', 'form', 'check'], ['there', 'few', 'things', 'can'], ['depends', 'want', 'to', 'next', 'where', 'want', 'to'], ['there', 'few', 'possible', 'reasons'], ['there', 'three', 'options'], ['so', 'think', 'way'], ['maybe', 'could', 'work'], ['depends', 'want', 'to', 'next', 'where', 'want', 'to'], ['microwave', 'would', 'best', 'bet'], ['us', 'will', 'depend', 'school'], ['not', 'good', 'idea'], ['there', 'few', 'things', 'think', 'should'], ['same', 'problem'], ['not', 'good', 'idea'], ['realized', 'there', 'already', 'accepted', 'answer', 'figure', 'would', 'add', '0', 'cents'], ['yes', 'there', 'reason', 'to', 'not', 'propose'], ['yes', 'there', 'least', 'one', 'to', 'knowledge'], ['not', 'to', 'worry'], ['there', 'no', 'test', 'can', 'tell', 'sealed', 'not'], ['yes', 'should', 'make', 'résumé'], ['should', 'not', 'feel', 'any', 'obligation', 'all'], ['same', 'problem'], ['may', 'to', 'experiment', 'find', 'like'], ['answer', 'to', 'question', '``', 'probably', 'not', \"''\"], ['key', 'thing', 'to', 'realize', 'here', 'not', 'job', 'to', 'make', 'people', 'work'], ['not', 'direct', 'answer', 'to', 'question', 'something', 'to', 'consider'], ['there', 'two', 'possible', 'causes'], ['agree', 'other', 'comments'], ['answer', 'to', 'both', 'questions', 'yes'], ['rather', 'depends', 'country', \"'re\"], ['terrible', 'idea'], ['vivendi', 'shares', 'closed', '1.9', 'percent', '15.80', 'euros', 'paris', 'falling', '3.6', 'percent', 'monday'], ['bremer', 'said', 'one', 'initiative', 'to', 'launch', 'us', '$', '0', 'million', 'nationwide', 'program', 'next', 'two', 'weeks', 'to', 'clean', 'up', 'neighborhoods', 'build', 'community', 'projects'], ['governor', 'gray', 'davis', 'estimated', 'yesterday', 'fires', 'could', 'cost', 'nearly', '$', '0', 'billion'], ['american', 'express', 'Corp.', 'pledged', 'least', '$', '0', 'million', 'more', 'than', '$', '0', 'million', 'needed'], ['claudette', 'first', 'hurricane', 'atlantic', 'storm', 'season', 'hit', 'mid-Texas', 'coast', 'july', '0', '85-mph', 'wind'], ['results', 'from', 'no', '0', 'U.S.', 'soft', 'drink', 'maker', 'pepsico', 'Inc.', '(', 'nyse', 'pep', '-', 'news', '-', 'people', ')', 'likely', 'to', 'spotlight'], ['taylor', 'aides', 'warn', 'abrupt', 'departure', 'could', 'trigger', 'more', 'chaos', 'view', 'shared', 'many', 'liberia', 'private', 'even', 'mediators'], ['odette', 'first', 'to', 'form', 'over', 'caribbean', 'sea', 'december', 'center', 'said'], ['AFL-CIO', 'waiting', 'october', 'to', 'decide', 'will', 'endorse', 'candidate'], ['developed', 'consultation', 'from', 'more', 'than', '0', 'leaders', 'academia', 'industry', 'government', 'public'], ['local', 'police', 'authorities', 'treating', 'explosion', 'criminal', 'matter', 'nothing', 'ruled', 'out'], ['chiron', 'already', 'nearly', '0', 'percent', 'acceptances', 'from', 'powderject', 'shareholders'], ['``', 'believe', 'fully', 'prepared', 'to', 'roll', 'out', '[', 'touch-screen', ']', 'machines', '0', 'presidential', 'primary', \"''\", 'said', 'gilles', 'W.', 'burger', 'state', 'board', 'elections', 'chairman'], ['analysts', 'expected', 'earnings', '0', 'cents', 'share', 'revenue', '$', '17.7', 'billion', 'thomson', 'first', 'call', 'says'], ['another', 'serious', 'condition', 'northwest', 'medical', 'center', 'springdale'], ['sean', 'harrigan', 'president', 'california', 'public', 'employees', \"'\", 'retirement', 'system', 'also', 'suggested', 'paring', 'down', 'nyse', '27-member', 'board', 'changing', 'composition', 'making', 'more', 'accountable'], ['swedish', 'central', 'bank', 'also', 'meeting', 'wednesday', 'widely', 'expected', 'to', 'announce', 'cut', 'thursday'], ['0', 'chevrolet', 'tahoe', 'found', 'abandoned', 'virginia', 'beach', 'Va.', 'parking', 'lot', 'june', '0'], ['heatley', 'sixth', 'league', 'goals', 'last', 'season', '0', 'ninth', 'points', '0'], ['``', 'tony', 'not', 'feeling', 'well', \"''\", 'spurs', 'coach', 'gregg', 'popovich', 'said'], ['electronic', 'data', 'systems', 'Corp.', 'thursday', 'said', 'securities', 'exchange', 'commission', 'asked', 'company', 'documents', 'related', 'to', 'large', 'contract', 'U.S.', 'navy'], ['well', 'dolphin', 'scheme', 'chaos', 'allowed', 'foreign', 'companies', 'to', 'engage', 'damaging', 'logging', 'fishing', 'operations', 'without', 'proper', 'monitoring', 'export', 'controls'], ['next', 'court', 'session', 'will', 'when', 'three-judge', 'tribunal', 'announces', 'verdict', 'mid-February'], ['consensus', 'among', 'wall', 'street', 'analysts', 'loss', '0', 'cents', 'share'], ['civilian', 'unemployment', 'rate', 'improved', 'marginally', 'last', 'month', '--', 'slipping', 'to', '6.1', 'percent', '--', 'even', 'companies', 'slashed', 'payrolls', '93,000'], ['moffitt', 'said', 'results', 'need', 'to', 'replicated', 'another', 'study', 'testing', 'individuals', 'presence', 'long', 'short', 'versions', 'gene', 'will', 'pursued'], ['compensation', 'committee', 'will', 'prohibit', 'securities', 'industry', 'directors', 'from', 'sitting'], ['q', 'can', 'buy', 'coverage', 'prescription', 'drugs', 'right', 'away'], ['shares', 'mandalay', 'closed', 'down', 'eight', 'cents', 'to', '$', '29.42', 'earnings', 'announced'], ['0', 'building', 'owners', 'port', 'authority', 'new', 'york', 'new', 'jersey', 'issued', 'guidelines', 'to', 'upgrade', 'fireproofing', 'to', 'thickness', '0', '{', 'inches'], ['dollar', 'last', '$', '1.1149', 'to', 'euro', 'close', 'to', 'strongest', 'level', 'since', 'april', '0'], ['single', 'currency', 'rose', 'far', '135.13', 'yen', 'matching', 'record', 'high', 'hit', 'shortly', 'euro', 'launch', 'january', '0'], ['new', 'castle', 'county', 'woman', 'become', 'first', 'delaware', 'patient', 'to', 'contract', 'west', 'nile', 'virus', 'year', 'state', 'department', 'health', 'reported'], ['also', 'reaffirmed', 'wish', 'to', 'resolve', 'north', 'korean', 'nuclear', 'crisis', 'peacefully'], ['rebel', 'captured', 'said', 'more', 'than', '2,000', 'insurgents', 'involved', 'attack'], ['kyi', 'U.N.', 'envoy', 'says', 'japan', 'adds', 'to', 'growing', 'international', 'pressure', 'saying', 'will', 'halt', 'hefty', 'economic', 'aid', 'unless', 'suu', 'kyi', 'freed'], ['Wal-Mart', 'kohl', 'Corp.', 'family', 'dollar', 'stores', 'Inc.', 'big', 'lots', 'Inc.', 'among', 'merchants', 'posting', 'may', 'sales', 'fell', 'below', 'wall', 'street', 'modest', 'expectations'], ['mr', 'eddington', 'warned', 'yesterday', 'future', 'airline', '``', 'hands', 'negotiators', \"''\"], ['``', 'both', 'kids', 'wonderful', 'physical', 'condition', 'right', 'now', \"''\", 'said', 'press', 'briefing', 'hospital'], ['cell', 'surface', 'foreign', 'components', 'recognised', 'other', 'cells', 'then', 'realise', 'infected', 'kill'], ['trading', 'loral', 'halted', 'yesterday', ';', 'shares', 'closed', 'monday', '$', '3.01'], ['knox', 'county', 'health', 'department', 'following', 'national', 'centers', 'disease', 'control', 'prevention', 'protocol', 'to', 'contain', 'infection'], ['schools', 'chancellor', 'joel', 'klein', 'said', 'push', 'higher', 'standards', 'accountability', '``', 'showing', 'results', \"''\"], ['one', 'witness', 'told', 'anatolian', 'saw', 'plane', 'fire', 'still', 'air'], ['proposed', 'system', 'under', 'would', 'take', 'fewer', 'fewer', 'votes', 'to', 'overcome', 'filibuster'], ['hormone', 'replacement', 'therapy', 'combines', 'estrogen', 'progestin', 'doubles', 'woman', 'risk', 'breast', 'cancer', 'british', 'study', 'more', 'than', 'million', 'women', 'found'], ['barbini', 'comments', 'came', 'tuesday', 'second', 'day', 'ministerial', 'conference', 'expo', 'agricultural', 'science', 'technology'], ['yesterday', 'shares', 'closed', 'up', '0', 'cents', '0.54', 'percent', '$', '54.32'], ['lawtey', 'not', 'first', 'faith-based', 'program', 'florida', 'prison', 'system'], ['transaction', 'will', 'grant', 'handspring', 'stockholders', '0.09', 'share', 'palm', '--', 'no', 'shares', 'palmsource', '--', 'each', 'share', 'handspring', 'common', 'stock'], ['giant', 'rock', 'first', 'observed', 'august', '0', 'lincoln', 'Near-Earth', 'asteroid', 'research', 'program', 'based', 'socorro', 'new', 'mexico'], ['``', 'need', 'to', 'change', 'old', 'habits', 'seriously', 'rethink', 'business-as-usual', \"''\"], ['``', 'despicable', 'acts', 'committed', 'killers', 'whose', 'only', 'faith', 'hate', \"''\", 'bush', 'said', 'adding', 'united', 'states', 'will', 'find', 'killers'], ['there', 'total', '0', 'women', 'enrolled', 'academy', 'report', 'said'], ['national', 'concern', 'will', 'touch', 'virtually', 'every', 'american', \"''\", 'abraham', 'said'], ['united', 'states', '20.7', 'percent', 'all', 'women', 'smoke'], ['margin', 'error', 'plus', 'minus', '0', 'percentage', 'points'], ['shares', 'mony', 'gaining', '$', '2.57', '0', '%', 'to', '$', '31.90', 'after-hours', 'trading', 'instinet'], ['diana', 'lowest', 'ebb', 'when', 'wrote', 'letter', 'to', 'paul', 'burrell', 'claiming', 'there', 'plot', 'to', 'kill'], ['gillespie', 'sent', 'letter', 'to', 'cbs', 'president', 'leslie', 'moonves', 'asking', 'historical', 'review', 'disclaimer'], ['``', 'let', 'show', 'wo', 'not', 'let', 'off', \"''\", 'said', 'marc', 'blondel', 'leader', 'force', 'ouvriere', 'union'], ['contrary', 'to', 'peoplesoft', 'management', 'would', 'believe', 'oracle', 'intends', 'to', 'fully', 'support', 'peoplesoft', 'customers', 'products', 'many', 'years', 'to', 'come', \"''\"], ['under', 'mexican', 'law', 'bounty', 'hunting', 'considered', 'form', 'kidnapping'], ['announcements', 'made', 'international', 'broadcasting', 'convention', '(', 'ibc', ')', 'amsterdam'], ['keywords', 'supported', 'chinese', 'language', 'web', 'portals'], ['consensus', 'estimate', 'analysts', 'polled', 'thomson', 'first', 'call', 'called', 'profit', '$', '1.70', 'per', 'share'], ['initial', 'autopsy', 'reports', 'show', 'died', 'dehydration', 'hyperthermia', 'suffocation'], ['authorities', 'appealed', 'to', 'public', 'friday', 'to', 'come', 'forward', 'provide', 'could', 'key', 'to', 'solving', 'sniper-style', 'shootings', 'killed', 'three', 'people', 'outside', 'area', 'convenience', 'stores'], ['second', 'comes', 'hp', '(', '0', 'percent', '$', '2.9', 'billion', 'up', 'just', '0.4', 'percent', ')'], ['U.S.', 'forces', 'recently', 'apprehended', 'some', '0', 'suspected', 'foreign', 'militants', 'near', 'syrian', 'border', 'now', 'interrogating'], ['compares', 'profit', '$', '0', 'million', 'breakeven', '$', '1.39', 'billion', 'revenue', 'same', 'period', 'last', 'year'], ['bolivia', 'army', 'fought', 'to', 'stop', 'columns', 'protesters', 'from', 'streaming', 'food-starved', 'capital', 'wednesday', 'popular', 'uprising', 'president', 'spread'], ['A920', 'comes', 'printer', 'scanner', 'copier', '$', '0'], ['first', '0', 'seconds', 'young', 'entered', 'ring', 'family', 'knew', 'uneven', 'match', 'meyers', 'said'], ['singapore', 'reported', 'no', 'suspected', 'sars', 'cases', 'wednesday', 'officials', 'quarantined', '0', 'people', 'contact', 'taiwanese', 'patient'], ['downstream', 'mount', 'vernon', 'skagit', 'river', 'expected', 'to', 'crest', '0', 'feet', '--', '0', 'feet', 'flood', 'stage', '--', 'tonight', 'burke', 'said'], ['monday', 'dow', 'declined', '5.25', '0.1', 'percent', '8,983.80', 'shed', '2.3', 'percent', 'last', 'week'], ['injured', 'taken', 'to', 'hospitals', 'jefferson', 'city', 'columbia', 'college', 'town', '0', 'miles', 'to', 'north'], ['dollar', '117.85', 'yen', 'japanese', 'currency', 'up', '0.1', 'percent'], ['addition', 'to', \"O'Connor\", 'rehnquist', 'majority', 'opinion', 'joined', 'justices', 'david', 'souter', 'ruth', 'bader', 'ginsburg', 'stephen', 'breyer'], ['martin', '0', 'will', 'freed', 'today', 'serving', 'two', 'thirds', 'five-year', 'sentence', 'manslaughter', '16-year-old', 'fred', 'barras'], ['idec', 'shareholders', 'would', 'own', '50.5', 'percent', 'stock', 'combined', 'company', 'biogen', 'shareholders', 'remaining', '49.5', 'percent'], ['nonetheless', 'open-source', 'guru', 'insisted', '``', 'attack', 'wrong', 'dangerous', 'to', 'goals', \"''\"], ['frank', 'quattrone', 'former', 'credit', 'suisse', 'first', 'boston', 'technology', 'investment-banking', 'guru', 'reportedly', 'pleaded', 'not', 'guilty', 'tuesday', 'to', 'charges', 'obstruction', 'justice', 'witness', 'tampering'], ['blue-chip', 'dow', 'jones', 'industrial', 'average', '.DJI', 'fell', '86.56', 'points', '0.94', 'percent', 'to', '9,109.99', 'giving', 'up', 'more', 'than', '0', 'percent', 'earlier'], ['dow', 'jones', 'industrial', 'average', 'ended', 'day', 'down', '10.89', '9,837.94', 'advancing', '111.04', 'wednesday'], ['perry', 'since', 'called', 'two', 'special', 'legislative', 'sessions', 'to', 'try', 'force', 'redistricting', 'plan'], ['agency', 'will', '``', 'consider', 'timely', 'any', 'tax', 'returns', 'payments', 'due', \"''\", 'Aug.', '0', 'submitted', 'Aug.', '0'], ['democrats', 'currently', 'hold', '17-15', 'advantage', 'state', 'congressional', 'delegation'], ['chaudhry', 'released', '0', 'days', 'later', 'fiji', 'military', 'installed', 'all-indigenous', 'government', 'led', 'qarase', 'won', 'democratic', 'elections', 'september', '0'], ['new', 'legit', 'download', 'service', 'launches', 'pc', 'users', 'mind'], ['30-year', 'bond', 'US30YT=RR', 'rose', '22/32', 'yield', '4.31', 'percent', 'versus', '4.35', 'percent', 'wednesday', 'close'], ['last', 'week', 'lawyers', 'asked', 'gov', 'mark', 'R.', 'warner', 'to', 'grant', 'clemency', 'governor', 'declined', 'to', 'intervene'], ['gov', 'linda', 'lingle', 'members', 'staff', 'navy', 'base', 'watched', 'launch'], ['best', 'investigators', 'can', 'nitpick', 'process', 'substance', 'isolated', 'business', 'decisions', '...', 'question', 'competence', 'manager', \"''\"], ['justice', 'department', 'filed', 'suit', 'thursday', 'state', 'mississippi', 'failing', 'to', 'end', 'federal', 'officials', 'call', '``', 'disturbing', \"''\", 'abuse', 'juveniles', '``', 'unconscionable', \"''\", 'conditions', 'two', 'state-run', 'facilities'], ['chelsea', 'defender', 'marcel', 'desailly', 'latest', 'to', 'speak', 'out'], ['only', 'woman', 'unit', 'member', 'teamsters', 'local', '0'], ['special', 'police', 'detained', 'khodorkovsky', 'early', 'saturday', 'siberian', 'city', 'novosibirsk', 'where', 'plane', 'made', 'refuelling', 'stop'], ['sony', 'ericsson', 'also', 'said', 'would', 'shut', 'down', 'GSM/UMTS', 'r', '&', 'd', 'center', 'munich', 'germany', 'to', 'increase', 'profitability'], ['country', 'scrambling', 'to', 'prevent', 'spreading', 'to', 'vast', 'countryside', 'where', 'most', '1.3', 'billion', 'people', 'live'], ['kansas', 'department', 'health', 'environment', 'records', 'show', 'there', '0', 'abortions', 'performed', 'girls', 'age', '0', 'younger', 'last', 'year'], ['``', 'discovery', 'map', 'bug', 'present', 'vast', 'majority', 'crohn', 'sufferers', 'means', 'almost', 'certainly', 'causing', 'intestinal', 'inflammation', \"''\", 'said', 'statement'], ['life', 'expectancy', 'boys', 'born', '0', '74.4', 'years', 'up', 'two', 'years', 'since', '0'], ['full', '12-month', 'period', 'high-speed', 'cable', 'modem', 'connections', 'increased', '0', 'percent'], ['believe', 'report', 'fully', 'consistent', 'courts', 'ruled', '...', 'department', 'actions', 'fully', 'within', 'law'], ['indeed', 'Mr.', 'weill', 'self-described', 'workaholic', 'said', 'planned', 'to', 'remain', 'very', 'involved', 'company'], ['gregory', 'parseghian', 'former', 'investment', 'banker', 'appointed', 'chief', 'executive'], ['report', 'cites', 'marriage', 'alleged', 'operational', 'commander', 'bali', 'bombings', 'mukhlas', 'to', 'farida', '``', 'highly', 'cosmopolitan', 'well-educated', 'young', 'woman', \"''\"], ['cradle', 'liberty', 'council', 'not', 'first', 'one', 'to', 'buck', 'national', 'group', 'stance'], ['``', \"''\", 's', 'absurd', \"''\", 'funny', 'cide', 'trainer', 'barclay', 'tagg', 'said'], ['last', 'year', 'cuban', 'officials', 'said', 'none', 'nearly', 'two', 'dozen', 'nominated', 'cuban', 'musicians', 'received', 'U.S.', 'visas', 'time', 'to', 'attend', 'grammys', 'los', 'angeles'], ['american', 'conservatives', 'clearly', 'minority', 'within', 'episcopal', 'church'], ['new', 'york', 'senator', 'new', 'book', '``', 'living', 'history', \"''\", 'appears', 'certain', 'bestseller'], ['``', 'canada', 'small', 'country', 'needs', 'companies', 'like', 'deals', 'like', \"''\"], ['police', 'official', 'S.K', 'tonapi', 'told', 'reuters', 'least', '0', 'people', 'killed', 'more', 'than', '0', 'wounded'], ['``', 'jeremy', 'good', 'guy', \"''\", 'barber', 'said', 'adding', '``', 'jeremy', 'living', 'dream', 'life', 'new', 'york', 'athlete'], ['mitsubishi', 'tokyo', 'financial', '(', 'JP:8306', 'news', 'chart', 'profile', ')', 'declined', '3,000', 'yen', '0.65', 'percent', 'to', '456,000', 'yen'], ['1,557', 'genes', 'chromosome', '0', 'thought', 'to', 'functional'], ['second', 'quarter', 'anadarko', 'now', 'expects', 'volume', '0', 'million', 'boe', 'down', 'from', '0', 'million', 'boe'], ['U.S.', 'troops', 'encountered', 'no', 'resistance', 'five-hour', 'sweep', 'near', 'tikrit', 'saddam', 'hussein', 'hometown', 'center', 'region', 'baath', 'party', 'supporters'], ['miodrag', 'zivkovic', 'liberal', 'alliance', 'montenegro', 'won', '0', 'percent', 'vote', 'independent', 'dragan', 'hajdukovic', 'got', 'four', 'percent'], ['year-ago', 'period', 'pearson', 'posted', '0', 'million', 'pre-tax', 'profit'], ['thursday', 'oracle', 'said', '34.75', 'million', 'peoplesoft', 'shares', 'tendered'], ['yucaipa', 'owned', 'dominick', 'selling', 'chain', 'to', 'safeway', '0', '$', '2.5', 'billion'], ['graves', 'reported', 'from', 'albuquerque', 'villafranca', 'from', 'austin', 'ratcliffe', 'from', 'laredo'], ['0', 'percent', 'increase', 'would', 'raise', 'undergraduate', 'tuition', 'to', '$', '5,247', 'annually', 'including', 'miscellaneous', 'campus-based', 'fees'], ['authorities', 'said', 'scientist', 'properly', 'quarantined', 'home', 'developed', 'sars', 'symptoms', 'Dec.', '0'], ['support', 'will', 'come', 'free', 'software', 'upgrade', 'called', 'webvpn', 'current', 'customers', 'support', 'contracts'], ['hilsenrath', 'klarman', 'each', 'indicted', 'three', 'counts', 'securities', 'fraud'], ['new', 'sensor', '--', 'dubbed', 'canary', '``', 'cellular', 'analysis', 'notification', 'antigen', 'risks', 'yields', \"''\", '--', 'hijacks', 'natural', 'process', 'two', 'important', 'changes'], ['one', 'fort', 'Carson-based', 'sgt', 'ernest', 'bucklew', '0', 'way', 'home', 'to', 'attend', 'mother', 'funeral', 'pennsylvania'], ['waksal', 'pleaded', 'guilty', 'to', 'securities', 'fraud', 'to', 'sentenced', 'next', 'week'], ['device', 'plays', 'internet', 'radio', 'streams', 'comes', '30-day', 'trial', 'realnetworks', \"'\", 'rhapsody', 'music', 'service'], ['dollar', 'fell', 'low', '$', '1.1624', 'per', 'euro', 'from', '$', '1.1486', 'friday', 'traded', '$', '1.1594', '10:15', 'a.m.', 'london'], ['hearing', 'morales', 'expressed', '``', 'sincere', 'regrets', 'remorse', \"''\", 'actions'], ['site', 'finder', 'visited', '0', 'million', 'times', 'since', 'introduction', 'galvin', 'said'], ['according', 'to', 'sunncomm', 'peter', 'jacobs', '``', 'mediamax', 'performs', 'exactly', \"'advertised\", \"'\", 'to', 'companies', 'purchased'], ['tracked', 'to', 'atlanta', 'where', 'arrested', 'tuesday', 'night'], ['bush', 'administration', 'blames', 'hussein', 'loyalists', 'foreign', 'muslim', 'militants', 'entered', 'iraq', 'to', 'fight', 'U.S.', 'troops', 'wave', 'bombings', 'guerrilla', 'attacks'], ['later', 'emerged', 'broken', 'right', 'thigh', 'bones', 'right', 'wrist', 'elbow'], ['senate', 'agreed', 'tuesday', 'to', 'lift', '10-year-old', 'ban', 'research', 'development', 'low-yield', 'nuclear', 'weapons'], ['some', '0', 'million', 'americans', '--', 'half', 'all', 'households', '--', 'invest', 'mutual', 'funds'], ['house', 'passed', 'prescription-drug', 'legislation', 'last', 'two', 'sessions', 'senate', 'failed', 'to', 'so'], ['elderly', 'weakened', 'immune', 'systems', 'also', 'urged', 'to', 'protect', 'mosquito', 'bites'], ['ms', 'lafferty', 'lawyer', 'thomas', 'ezzell', 'told', 'kentucky', 'newspaper', '``', 'understanding', 'there', 'lower', 'percentage', 'successful', 'impregnations', 'frozen'], ['klarman', 'arrested', 'fbi', 'agents', 'hamptons', 'exclusive', 'summer', 'resort', 'enclave', 'east', 'new', 'york', 'city'], ['bishop', 'told', 'police', 'thought', 'hit', 'dog', 'cat', 'someone', 'thrown', 'rock', 'vehicle'], ['promotional', 'poster', 'complete', 'countdown', 'dial', 'reminds', 'readers', 'upcoming', 'release', '``', 'harry', 'potter', 'order', 'phoenix', \"''\"], ['``', 'further', 'testing', 'still', 'under', 'way', 'stage', 'given', 'early', 'detection', 'outlook', 'such', 'instances', 'would', 'positive', \"''\", 'specialist', 'said', 'yesterday'], ['morning', 'trading', 'dow', 'jones', 'industrial', 'average', 'up', '40.12', '0.5', 'percent', '8,571.69', 'fallen', '0', 'points', 'monday'], ['rich', 'media', 'doubled', 'share', 'increasing', 'from', '0', '%', 'Q2', '0', 'to', '0', '%', 'Q2', '0'], ['will', 'take', 'time', 'to', 'oust', 'die-hard', 'remnants', 'saddam', 'hussein', 'deposed', 'regime', 'iraq', 'defense', 'secretary', 'donald', 'H.', 'rumsfeld', 'said', 'tuesday'], ['sayliyah', 'command', 'base', 'iraq', 'war', 'central', 'command', 'sent', 'hundreds', 'ran', 'war', 'back', 'home', 'to', 'tampa', 'florida'], ['sco', 'says', 'pricing', 'terms', 'license', 'will', 'not', 'announced', 'weeks'], ['sources', 'within', 'racing', 'industry', 'told', 'daily', 'bulletin', 'fontana', 'will', 'get', 'second', 'nascar', 'race', 'labor', 'day', 'weekend', 'starting', 'next', 'season'], ['dow', 'jones', 'industrial', 'average', '.DJI', 'ended', 'up', '56.79', 'points', '0.67', 'percent', '8,588.36', '--', 'highest', 'level', 'since', 'january', '0'], ['dennehy', 'transferred', 'to', 'baylor', 'last', 'year', 'getting', 'kicked', 'off', 'university', 'new', 'mexico', 'lobos', 'temper', 'tantrums', 'begun', 'to', 'read', 'bible', 'daily'], ['bashir', 'felt', 'tried', 'opinion', 'not', 'facts', 'mahendradatta', 'told', 'reuters'], ['schofield', 'got', 'toepfer', 'to', 'admit', 'cross-examination', 'ignored', 'many', \"O'Donnell\", 'suggestions', 'projects'], ['case', 'court', 'held', 'cincinnati', 'violated', 'first', 'amendment', 'banning', 'only', 'advertising', 'pamphlets', 'interest', 'aesthetics'], ['box', 'cutters', 'used', 'weapon', 'Sept.', '0', '0', 'hijackers', 'since', 'banned', 'carry-on', 'items'], ['july', '0', 'moore', 'announced', 'would', 'appeal', 'case', 'directly', 'to', 'U.S.', 'supreme', 'court'], ['southwest', 'said', 'traffic', 'up', '4.6', 'percent', 'quarter', 'ended', 'quarter', '$', '2.2', 'billion', 'cash'], ['four', 'versions', 'windows', 'operating', 'systems', 'targeted', 'windows', 'nt', 'windows', '0', 'windows', 'xp', 'windows', 'server', '0'], ['shares', 'mcdonald', 'Corp.', 'wendy', 'international', 'Inc.', 'continued', 'modest', 'run-up', 'new', 'york', 'stock', 'exchange', 'monday'], ['playfully', 'chided', 'senate', '``', 'little', 'bitty', 'tax', 'relief', 'plan', \"''\"], ['looking', 'to', 'buy', 'latest', 'harry', 'potter'], ['mediaq', 'customers', 'include', 'major', 'handheld', 'makers', 'mitsubishi', 'siemens', 'palm', 'sharp', 'philips', 'dell', 'sony'], ['aventis', 'based', 'strasbourg', 'france', 'one', 'handful', 'companies', 'still', 'make', 'flu', 'vaccine'], ['michael', 'bloomberg', 'nyc', 'mayor', '``', \"'m\", 'gon', 'na', 'try', 'march', 'number', 'different', 'groups'], ['attack', 'seemed', 'similar', 'to', 'others', 'staged', 'near', 'foreign', 'compounds', 'riyadh', 'may', '0'], ['``', 'put', 'lot', 'effort', 'energy', 'improving', 'patching', 'process', 'probably', 'later', 'than', 'should', 'now', \"'re\", 'just', 'gaining', 'incredible', 'speed'], ['boy', 'also', 'sprayed', 'room', 'full', 'retardant', 'from', 'fire', 'extinguishers', 'made', 'hard', 'to', 'see', 'chief', 'said'], ['``', 'hrt', 'should', 'not', 'used', 'to', 'prevent', 'heart', 'disease', 'any', 'other', 'chronic', 'condition', \"''\"], ['meat', 'poultry', 'butter', 'cheese', 'nuts', 'impounded', 'year', 'ago', 'lagrou', 'cold', 'storage', 'warehouse', 'chicago'], ['BlueCore3-Multimedia', 'includes', '16-bit', 'stereo', 'audio', 'codec', 'dual', 'adc', 'dac', 'stereo', 'audio'], ['now', 'agency', 'last', 'three', 'shuttles', 'grounded', 'wake', 'columbia', 'disaster', 'wait', 'could', 'even', 'longer'], ['bremer', '0', 'onetime', 'assistant', 'to', 'former', 'secretaries', 'state', 'william', 'P.', 'rogers', 'henry', 'kissinger', 'ambassador-at-large', 'counterterrorism', 'from', '0', 'to', '0'], ['conversations', 'not', 'taken', 'place', 'tuesday', 'night', 'according', 'to', 'oracle', 'spokeswoman'], ['taiwan', 'attempted', 'to', 'gain', 'observer', 'status', 'to', 'united', 'Nations-affiliated', 'seven', 'years', 'again', 'rebuffed', 'march', '0', 'annual', 'conference', 'geneva'], ['washington', 'county', 'man', 'may', 'countys', 'first', 'human', 'case', 'west', 'nile', 'virus', 'health', 'department', 'said', 'friday'], ['national', 'breast', 'cancer', 'centre', 'chief', 'executive', 'professor', 'christine', 'ewan', 'said', 'too', 'early', 'to', 'quantify', 'risk', 'to', 'women'], ['brendsel', 'chief', 'financial', 'officer', 'vaughn', 'clarke', 'resigned', 'june', '0'], ['health', 'care', 'ndp', 'says', 'there', 'will', 'no', 'privatization', 'no', 'health-care', 'premiums'], ['new', 'companies', 'will', 'begin', 'trading', 'nasdaq', 'today', 'under', 'ticker', 'symbols', 'plmo', 'psrc'], ['kids', 'adults', 'booksellers', 'postal', 'workers', 'all', 'preparing', '``', 'harry', 'potter', 'order', 'phoenix', \"''\"], ['government', 'not', 'identify', 'taikonauts', '—', 'term', 'coined', 'from', '‘', '‘', 'taikong', '’', '’', 'chinese', 'word', 'space', '—', 'would', 'travel', 'second', 'mission'], ['think', 'made', 'right', 'case', 'right', 'thing', \"''\"], ['Kollar-Kotelly', 'scheduled', 'another', 'antitrust', 'settlement', 'compliance', 'hearing', 'january'], ['``', 'tomorrow', 'mission', 'inn', 'opportunity', 'to', 'congratulate', 'governor-elect', 'great', 'state', 'california'], ['``', 'expect', 'japan', 'to', 'keep', 'conducting', 'intervention', 'volume', 'likely', 'to', 'fall', 'sharply', \"''\", 'said', 'junya', 'tanase', 'forex', 'strategist', 'jp', 'morgan', 'chase'], ['sunshine', 'group', 'ltd', 'represented', 'developers', 'related', 'companies', 'apollo', 'real', 'estate', 'advisors', 'lp', 'deal'], ['``', 'third', 'owe', 'world', \"''\", 'told', 'reporters'], ['tech-laced', 'nasdaq', 'composite', 'index', 'gained', '2.90', 'points', '0.18', 'percent', 'to', '1,606.87'], ['benchmark', '10-year', 'treasury', 'note', 'yield', '<', 'US10YT=RR', '>', 'dipped', 'below', '4.20', 'percent', 'tuesday'], ['so', 'edie', 'falco', 'critically', 'praised', 'co-star', '``', 'frankie', 'johnny', \"''\"], ['``', 'saddam', 'gone', 'want', '(', 'U.S.', ')', 'occupation', 'to', 'end', \"''\", 'said', 'hit', 'resident', 'abu', 'qasim'], ['joe', 'kernan', 'lieutenant', 'governor', 'past', 'seven', 'years', 'sworn', 'governor', \"O'Bannon\", 'died', 'saturday'], ['advanced', 'micro', 'devices', 'said', 'fujitsu', 'siemens', 'computers', 'offering', 'high-end', 'workstation', 'based', 'amd', 'opteron', '0', 'series'], ['kodak', 'expects', 'earnings', '0', 'cents', 'to', '0', 'cents', 'share', 'quarter'], ['shares', 'corixa', 'fell', '0', 'cents', 'to', '$', '6.88', 'nasdaq', 'stock', 'market'], ['referring', 'to', 'john', 'S.', 'reed', 'former', 'citicorp', 'chief', 'executive', 'became', 'interim', 'chairman', 'chief', 'executive', 'exchange', 'last', 'sunday'], ['refused', 'to', 'reveal', 'percentage', 'flights', 'carried', 'sky', 'marshals', 'whether', 'would', 'increased'], ['nasdaq', 'composite', 'index', 'rose', '19.67', '1.3', 'percent', 'to', '1523.71', 'highest', 'since', 'june', '0'], ['said', 'concluded', 'film', 'failed', '``', 'to', 'present', 'balanced', 'portrayal', \"''\", 'reagans'], ['state', 'health', 'officials', 'said', 'today', 'young', 'northeast', 'kansas', 'woman', 'likely', 'state', 'first', 'case', 'monkeypox', 'among', 'humans', 'animals'], ['navistar', 'shares', 'down', '0', 'cents', '1.1', 'percent', '$', '41.19', 'new', 'york', 'stock', 'exchange', 'falling', 'low', '$', '39.93'], ['only', 'intel', 'Corp.', '0.3', 'percent', 'yield', 'lower'], ['mgm', 'nbc', 'liberty', 'executives', 'not', 'immediately', 'available', 'comment'], ['new', 'analysis', 'found', '0', '16,608', 'participants', 'developed', 'ovarian', 'cancer', '0', 'years', 'follow-up'], ['veteran', 'stage', 'screen', 'actor', 'hume', 'cronyn', 'died', 'cancer', 'sunday'], ['deirdre', 'hisler', 'government', 'canyon', 'manager', 'said', 'state', 'long', 'eye', 'piece', 'property', 'eager', 'to', 'complete', 'deal', 'to', 'obtain'], ['reuters', 'witnesses', 'said', 'many', 'houses', 'flattened', 'city', 'squares', 'packed', 'crying', 'children', 'homeless', 'huddled', 'blankets', 'to', 'protect', 'from', 'cold'], ['three', 'grocery', 'chains', 'relying', 'store', 'managers', 'replacement', 'workers', 'to', 'keep', 'stores', 'open'], ['security', 'official', 'backup', 'could', 'not', 'fill', 'active', 'military', 'duty', 'strutt', 'said'], ['researchers', 'found', 'fossils', 'semidesert', 'area', 'venezuela', '0', 'miles', 'west', 'caracas'], ['mr', 'mcdonnell', 'leading', 'grant', 'thornton', 'international', 'inquiry', 'italian', 'business'], ['industry', 'largest', 'association', 'urging', 'members', 'not', 'call', 'more', 'than', '0', 'million', 'home', 'cellular', 'numbers', 'list'], ['workers', 'accuse', 'general', 'dynamics', '``', 'reverse', 'age', 'discrimination', \"''\", 'change', 'retirement', 'benefits', '0'], ['tech-laced', 'nasdaq', 'composite', 'index', '.IXIC', 'eased', '5.16', 'points', '0.32', 'percent', '1,590.75', 'breaking', 'six-day', 'string', 'gains'], ['space', 'infrared', 'telescope', 'facility', 'mission', 'to', 'search', 'beginnings', 'universe'], ['respected', 'medical', 'journal', 'lancet', 'called', 'complete', 'ban', 'tobacco', 'united', 'kingdom'], ['driver', 'truck', 'escaped', 'now', 'sought', 'police', 'supoyo', 'said'], ['``', 'so', 'many', 'different', 'ways', 'artistry', 'black', 'musicians', 'conveyed', 'experience', 'black', 'americans', 'throughout', 'history', \"''\", 'bush', 'said'], ['geraldine', 'andrews', 'pastor', 'daughter-in-law', 'said', 'robinson', 'recently', 'took', 'daughter', 'out', 'mental', 'health', 'facility'], ['thursday', 'matinee', 'baker', 'called', 'clubhouse', 'meeting', 'concerned', 'controversy', 'distracted', 'cubs'], ['taken', 'ambulance', 'to', 'charing', 'cross', 'hospital', 'hammersmith'], ['shortly', 'opening', 'bell', 'dow', 'jones', 'industrial', 'average', 'up', '11.13', 'to', '9,228.48', 's', '&', 'p', '0', 'index', 'gained', '1.74', 'to', '982.33'], ['addition', 'primary', 'care', 'trusts', '(', 'pcts', ')', 'given', 'star', 'ratings', 'first', 'time', 'year'], ['``', 'expending', 'all', 'available', 'resources', 'toward', 'investigation', \"''\", 'said', 'assistant', 'U.S.', 'attorney', 'todd', 'greenberg', 'counterterrorism', 'prosecutor', 'seattle'], ['technology-laced', 'nasdaq', 'composite', 'index', '.IXIC', 'shed', '0', 'points', '0.98', 'percent', 'to', '1,492'], ['research', 'firm', 'earlier', 'forecast', 'increase', '4.9', 'percent'], ['peoplesoft', 'will', 'commit', '$', '0', 'million', 'cash', 'issue', '52.6', 'million', 'new', 'shares', 'companies', 'said'], ['so', 'state', 'union', 'address', 'january', 'bush', 'declared', 'british', 'government', '``', 'learned', 'saddam', 'hussein', 'recently', 'sought', 'significant', 'quantities', 'uranium', 'from', 'africa', \"''\"], ['other', '0', 'members', 'split', 'representatives', 'securities', 'industry', 'so-called', '``', 'public', \"''\", 'board', 'members'], ['episcopal', 'diocese', 'central', 'florida', 'became', 'one', 'first', 'nation', 'saturday', 'to', 'officially', 'reject', 'national', 'denomination', 'policies', 'homosexuality'], ['mcgill', 'also', 'detailed', 'hole', 'cut', 'caprice', 'trunk'], ['compared', 'year-earlier', 'profit', '$', '0', 'million', '0', 'cents', 'share'], ['``', 'economy', 'nonetheless', 'yet', 'to', 'exhibit', 'sustainable', 'growth'], ['commission', 'estimated', 'california', 'lost', '$', '0', 'million', 'to', 'corporate', 'tax', 'shelters', '0'], ['other', 'markets', 'U.S.', 'treasuries', 'started', 'off', 'monday', 'weaker', 'stocks', 'rose', 'early'], ['technology-laced', 'nasdaq', 'composite', 'index', '.IXIC', 'down', '25.36', 'points', '1.53', 'percent', '1,628.26'], ['pentagon', 'hoped', 'to', 'retain', 'control', 'postwar', 'effort', 'so', 'decision', 'victory', 'secretary', 'state', 'colin', 'L.', 'powell'], ['prof', 'sally', 'baldwin', '0', 'from', 'york', 'fell', 'cavity', 'opened', 'up', 'when', 'structure', 'collapsed', 'tiburtina', 'station', 'italian', 'railway', 'officials', 'said'], ['calls', 'agency', 'to', 'plan', 'independent', 'safety', 'engineering', 'organization'], ['worldcom', 'accounting', 'problems', 'came', 'to', 'light', 'early', 'last', 'year', 'company', 'filed', 'bankruptcy', 'july', '0', 'citing', 'massive', 'accounting', 'irregularities'], ['study', 'also', 'found', 'consumer', 'goods', 'advertisers', 'continued', 'to', 'spend', 'most', 'dollars', 'online', 'representing', '0', '%', 'all', 'web', 'advertising'], ['kiernan', 'testified', 'seifert', 'received', 'gunshot', 'wound', 'to', 'back'], ['priced', '$', '5,995', 'unlimited', 'number', 'users', 'tapping', 'single', 'processor', '$', '0', 'per', 'user', 'minimum', 'five', 'users'], ['tropical', 'storm', 'heads', 'pass', 'along', 'honduras', 'coast'], ['suicide', 'bomber', 'kills', '0', 'nigeria', 'church'], ['us', 'says', 'ready', 'to', 'help', 'blind', 'chinese', 'activist'], ['gazans', 'fire', '0', 'rockets', 'israel', ';', 'no', 'injuries'], ['berri', 'says', 'ready', 'to', 'help', 'launch', 'national', 'unity', 'government'], ['0', 'dead', 'iraq', 'bomb', 'attacks'], ['hurricane', 'isaac', 'moves', 'inland', 'landfall'], ['nigeria', 'mourns', 'over', '0', 'people', 'killed', 'plane', 'crash'], ['icc', 'jails', 'congolese', 'warlord', '0', 'years', 'over', 'child', 'soldiers'], ['0', 'soldiers', 'killed', '0', 'injured', 'pkk', 'attack', 'eastern', 'turkey'], ['schiphol', 'airport', 'partly', 'evacuated', 'bomb', 'threat'], ['mier', 'ups', '0', 'growth', 'forecast', 'to', '4.2pc'], ['activists', 'syrian', 'troops', 'storm', 'damascus', 'suburb'], ['tehran', 'eu', 'sanctions', 'wo', 'not', 'force', 'iran', 'nuclear', 'talks'], ['portugal', 'drownings', 'uk', 'girl', 'grandad', 'named'], ['iran', 'powers', 'set', 'high-stakes', 'nuclear', 'talks'], ['syrian', 'forces', 'kill', 'teen', 'aleppo', 'protests'], ['jaguar', 'to', 'create', '1,100', 'jobs', 'uk'], ['iraq', 'searches', 'syria', 'bound', 'iran', 'plane', 'officials'], ['syria', 'fighting', 'rages', 'russia', 'urges', 'western', 're-think'], ['erdogan', 'party', 'submits', 'plan', 'turkish', 'presidency'], ['publisher', 'acquitted', 'privacy', 'case'], ['samsung', 'overtakes', 'nokia', 'phones'], ['gu', 'kailai', 'murder', 'trial', 'ends', 'china'], ['not', \"'hiding\", 'ball', \"'\", 'russia', 'obama'], ['england', 'captain', 'andrew', 'strauss', 'retires', 'from', 'professional', 'cricket'], ['china', 'backs', 'sri', 'lanka', 'un', 'resolution'], ['ton', 'up', 'tendulkar', 'reaches', '100th', 'international', 'hundred'], ['conspiracy', '-', 'lance'], ['mursi', 'takes', 'oath', 'office', 'becomes', 'egyptian', 'president'], ['syrian', 'opposition', 'pleads', 'criminal', 'court', 'action'], ['sunderland', '2-2', 'bolton', 'davies', 'double', 'gets', 'trotters', 'point', 'stay', 'bottom', 'three'], ['syrian', 'forces', 'shell', 'towns', 'clash', 'rebels'], ['bahraini', 'protesters', 'police', 'clash', 'funeral'], ['apple', 'buying', 'security', 'firm', 'authentec', '$', '0', 'million'], ['trade', 'newspaper', 'variety', 'up', 'sale'], ['australians', 'flee', 'homes', 'amid', 'floods'], ['germany', 'dodges', 'recession', 'growth', 'first', 'quarter'], ['asian', 'stocks', 'rise', 'greek', 'vote', 'eases', 'fears'], ['british', 'soldier', 'killed', 'southern', 'afghanistan'], ['obama', 'silent', 'china', 'dissident'], ['suicide', 'bomber', 'kills', '0', 'afghan', 'capital'], ['denver', 'shooting', 'police', 'to', 'detonate', 'devices', 'suspect', 'home'], ['syria', 'hands', 'over', 'bodies', 'journalists'], ['coroner', 'whitney', 'houston', 'died', 'bathtub'], ['japan', 'suffers', 'severe', 'flooding', '-', 'pictures'], ['japan', 'to', 'deport', 'chinese', 'held', 'over', 'island', 'landing'], ['some', 'syria', 'violence', 'amounts', 'to', 'civil', 'war-Red', 'cross'], ['romney', 'wins', 'nevada', 'caucus'], ['apple', 'ipad', 'mini', 'makes', 'debut'], ['hamas', 'hangs', 'three', 'gaza', 'prisoners'], ['east', 'timor', 'votes', 'presidential', 'election'], ['sunday', 'times', 'journalist', 'marie', 'colvin', 'killed', 'syria'], ['kl', 'shares', 'higher', 'mid-afternoon'], ['chicago', 'teachers', 'strike', 'bitter', 'contract', 'dispute'], ['israel', 'to', 'free', 'palestinian', 'hunger', 'striker'], ['not', 'good', 'beginning', 'hollande', 'plane', 'hit', 'lightning', 'en', 'route', 'to', 'berlin'], ['afghan', 'parliament', 'votes', 'to', 'oust', 'key', 'ministers'], ['attacker', 'afghan', 'uniform', 'kills', '0', 'nato', 'troops'], ['cheap', 'generics', 'no', 'panacea', 'india', '’', 's', 'poorest'], [\"'Arrest\", 'warrant', \"'\", 'maldives', 'ex-president'], ['hrw', 'jordan', 'turning', 'away', 'palestinian', 'refugees', 'from', 'syria'], ['syrian', 'forces', 'overrun', 'rebel', 'stronghold'], ['chinese', 'stocks', 'close', 'higher', 'midday', 'friday'], ['sandy', 'slams', 'northeast', ';', 'least', '0', 'dead', '7.4M', 'without', 'power'], ['putin', 'declares', 'victory', 'russia', 'presidential', 'vote'], ['supreme', 'court', 'to', 'hear', 'voting', 'rights', 'act', 'case'], ['libya', 'postpones', 'assembly', 'election', 'to', 'july', '0'], ['london', '0', 'olympics', 'opening', 'ceremony', \"'to\", 'feature', 'green', 'pleasant', 'land', \"'\"], ['pakistan', 'blocks', 'twitter', 'over', 'anti-Islamic', 'material'], ['annan', 'to', 'visit', 'syrian', 'refugees', 'turkey', 'tuesday'], ['pakistani', 'pm', 'shocked', 'avalanche', 'trapping', 'army', 'personnel'], ['opposition', 'leaders', 'emerge', 'to', 'commemorate', 'cambodian', 'workers', \"'\", 'deaths'], ['mali', 'due', 'to', 'vote', 'president'], ['pussy', 'riot', 'member', 'alyokhina', 'released', 'from', 'jail', 'russia'], ['asiana', 'jet', 'crash', 'lands', 'san', 'francisco', 'airport'], ['blizzard', 'hammers', 'U.S.', 'northeast', 'five', 'dead', '700,000', 'lose', 'power'], ['0', 'french', 'journalists', 'killed', 'mali'], ['vehicles', 'ablaze', 'collapsed', 'japan', 'tunnel'], ['china', 'stocks', 'close', 'lower', 'friday'], ['mayor', 'says', '0', 'dead', 'texas', 'fertilizer', 'plant', 'blast'], ['cbn', 'reiterates', 'plan', 'to', 'phase', 'out', 'polymer', 'notes'], ['U.S.', 'files', 'espionage', 'charges', 'agains', 'nsa', 'leaker'], ['chinese', 'general', 'son', 'gets', '0', 'years', 'jail', 'rape'], ['where', 'rusty', 'red', 'panda', 'vanishes', 'from', 'national', 'zoo'], ['queen', 'beatrix', 'netherlands', 'to', 'abdicate', 'son'], ['U.S.', 'dumps', 'bombs', 'great', 'barrier', 'reef'], ['0', 'taliban', 'militants', 'killed', 'afghanistan'], ['most', 'powerful', 'typhoon', '0', 'hits', 'philippines'], ['calls', 'more', 'egypt', 'protests'], ['us', 'government', \"'on\", 'edge', 'shutdown', \"'\"], ['0', 'killed', 'fighting', 'northern', 'syria'], ['critics', 'say', 'putin', '’', 's', 'security', 'restrictions', 'violate', 'rights'], ['egypt', 'braces', 'more', 'protests', 'prays', 'calm'], ['morsi', 'supporters', 'protest', 'egypt'], ['stocks', 'rise', 'early', 'trading'], ['bangladesh', 'building', 'collapse', 'death', 'toll', 'hits', '0', 'army'], ['defiant', 'mugabe', 'sworn', 'seventh', 'term', 'blasts', \"'vile\", \"'\", 'west'], ['nelson', 'mandela', 'hospital', 'tests'], ['iran', 'six', 'global', 'powers', 'sign', 'landmark', 'nuclear', 'deal'], ['algeria', 'mounts', 'military', 'operation', 'to', 'rescue', 'al', 'qaeda', 'hostages'], ['delhi', 'gang', 'rape', 'victim', 'dies', 'singapore', 'hospital'], ['birth', 'control', 'linked', 'higher', 'glaucoma', 'risk'], ['malaysia', 'sets', 'may', '0', 'date', 'closely', 'contested', 'election'], ['dhawan', 'smashes', 'india', 'to', 'big', 'win', 'over', 'south', 'africa'], ['n', 'korea', 'postpones', 'family', 'reunions'], ['syria', 'rejects', 'us', 'uk', 'chemical', 'arms', 'claims'], ['egypt', 'arrests', 'muslim', 'brotherhood', 'supreme', 'guide'], ['gunmen', 'kill', 'nine', 'people', 'northwest', 'pakistan'], ['news', 'summary', 'march', '0'], ['hawaii', 'passes', 'gay', 'marriage', 'bill'], ['syrian', 'opposition', 'urges', 'eu', 'to', 'send', 'arms', 'to', 'rebels'], ['funeral', 'oscar', 'pistorius', \"'\", 'girlfriend', 'reeva', 'steenkamp', 'takes', 'place'], ['two', 'firefighters', 'killed', 'new', 'york', 'ambush'], ['ten', 'rescued', 'off', 'waterford', 'dublin', 'coasts'], ['mars', 'rover', 'collects', 'first', 'bedrock', 'sample'], ['ankeet', 'chavan', 'granted', 'conditional', 'bail', 'marriage'], ['man', 'battled', 'fukushima', 'disaster', 'dies', 'cancer'], ['iran', 'says', 'nuclear', 'talks', 'to', 'resume', 'next', 'month'], ['us', 'authorities', 'charge', 'man', 'ricin', 'probe'], ['0', 'bodies', 'found', 'raided', 'algerian', 'gas', 'plant'], ['ferrer', 'cruises', 'australian', 'open', 'quarter-finals'], ['ubs', 'settles', 'us', 'mortgage', 'lawsuit'], ['north', 'south', 'korea', 'agree', 'to', 'talks'], ['gunmen', 'kill', 'female', 'politician', 'pakistan'], ['kardashian', 'divorce', 'ready', 'trial'], ['new', 'zealand', 'set', 'to', 'legalise', 'gay', 'marriage'], ['syria', 'regime', 'claims', 'evacuation', '5,000', 'near', 'damascus'], ['nobel', 'prize', 'winning', 'author', 'doris', 'lessing', 'dies'], ['internet', 'phone', 'service', 'restored', 'syrian', 'capital'], ['syrian', 'pm', 'survives', 'bomb', 'attack'], ['us', 'stock', 'futures', 'edge', 'up', 'ahead', 'jobs', 'report'], ['bomb', 'blast', 'kills', '0', 'southwest', 'pakistan'], ['david', 'cameron', 'puts', 'sri', 'lanka', 'notice', 'over', 'war', 'crime', 'allegations'], ['morsi', 'supporters', 'clash', 'riot', 'police', 'cairo'], ['afghan', 'police', 'kill', '0', 'taliban', 'fighters'], ['gunmen', 'kidnap', 'airline', 'pilots', 'lebanon'], ['kurdish', 'rebels', 'to', 'withdraw', 'from', 'turkey', 'march', 'report'], ['japan', 'revises', 'gdp', 'growth', 'to', 'annual', '1.1', 'pct', 'Q3'], ['foundations', 'south', 'africa', 'built', 'nelson', 'mandela', 'memory'], ['ukraine', 'protest', 'leaders', 'name', 'ministers', 'russian', 'troops', 'alert'], ['malala', 'snowden', 'belarusians', 'Short-Listed', 'sakharov', 'prize'], ['elbaradei', 'to', 'become', 'egyptian', 'pm'], ['taiwan', 'economy', 'grows', '2.27', '%', 'April-June', 'quarter'], ['tamerlan', 'tsarnaev', 'buried', 'virginia'], ['state', 'dept', 'issues', 'wide', 'travel', 'alert', 'says', 'terror', 'attack', 'possible'], ['singapore', 'stocks', 'end', 'up', '0.11', 'pct'], ['russia', 'warns', 'ukraine', 'eu', 'deal'], ['hernandez', 'double', 'gives', 'mexico', 'victory'], ['china', 'sacks', 'top', 'economic', 'official'], ['canada', 'approves', 'oil', 'pipeline', 'to', 'pacific', 'coast'], ['storm', 'buries', 'northeast', ';', '0', 'inches', 'snow', 'nj'], ['jamaican', 'connection', 'liverpool', 'win'], ['international', 'weapons', 'experts', 'leave', 'syria', 'obama', 'to', 'make', 'statement'], ['southwest', 'jet', 'hit', 'nose', 'first'], ['twelve', 'killed', 'bomb', 'blast', 'pakistani', 'train'], ['powerful', 'quake', 'strikes', 'off', 'eastern', 'indonesia'], ['obama', 'lashes', 'north', 'korea', 'pariah', 'state'], ['colombia', 'strike', 'three', 'times'], ['lord', 'palumbo', 'offers', 'hope', 'relationship', 'son', 'james'], ['deputy', 'speaker', 'faces', 'new', 'sex', 'claims'], ['cia', 'chief', 'visits', 'israel', 'syria', 'talks'], ['suicide', 'bomb', 'kills', '0', 'injures', '0', 'pakistan'], ['ukraine', 'rebels', \"'flee\", 'eastern', 'stronghold', \"'\"], ['0', 'foreigners', 'among', '0', 'killed', 'kabul', 'hotel', 'attack'], ['firefighters', 'battle', 'forest', 'fire', 'sw', 'china'], ['hassan', 'rouhani', 'wins', 'iran', 'presidential', 'election'], ['woman', 'remanded', 'over', 'child', 'death', 'woman', 'remanded', 'custody', 'charged', 'murder', 'eight-year-old', 'girl', 'found', 'dead', 'block', 'flats'], ['Red-shirt', 'leader', 'calls', 'not', 'to', 'oppose', 'army'], ['russia', 'praises', 'idea', 'to', 'render', 'rights', 'assistance', 'to', 'ukraine'], ['georgian', 'pm', 'ally', 'to', 'become', 'president', '-', 'exit', 'poll'], ['car', 'bombs', 'kill', 'least', '0', 'iraqi', 'capital'], ['saudi', 'arabia', 'gets', 'seat', 'un', 'security', 'council'], ['us', 'drone', 'strike', 'kills', '0', 'pakistan'], ['0', 'killed', 'bomb', 'attack', 'pakistani', 'base'], ['shenzhen', 'stock', 'indices', 'close', 'higher', 'monday'], ['prince', 'harry', 'pays', 'tribute', 'to', 'us', 'war', 'dead'], ['0', 'dead', 'iraq', 'attacks', 'bomb', 'football', 'pitch'], ['myanmar', 'arrests', '0', 'over', 'sectarian', 'violence'], ['iran', 'official', 'us', 'visa', 'denial', 'to', 'iranian', 'envoy', 'will', 'not', 'affect', 'nuke', 'talks'], [\"Gov'ts\", 'groups', 'pledge', 'millions', 'typhoon', 'relief'], ['greece', 'suspends', 'state', 'broadcaster'], ['guatemalan', 'court', 'finds', 'former', 'dictator', 'guilty', 'genocide'], ['beaten', 'florida', 'teen', 'released', 'israel'], ['iran', 'sextet', 'to', 'resume', 'expert', 'talks'], ['bangladesh', 'collapse', 'search', 'over', ';', 'death', 'toll', '1,127'], ['neymar', 'powers', 'brazil', 'last', '0'], ['ukraine', 'to', 'implement', 'unilateral', 'ceasefire'], ['stones', 'add', 'second', 'hyde', 'park', 'concert'], ['papers', 'say', 'Aug.', '0', '0'], ['0', 'nations', 'meet', 'haze'], ['car', 'bomb', 'swedish', 'consulate', 'libya', 'benghazi', 'no', 'casualties'], ['bomber', 'strikes', 'near', 'pakistan', 'army', 'hq'], ['croatia', 'begins', 'countdown', 'to', 'historic', 'eu', 'entry'], ['suicide', 'attack', 'kills', 'eight', 'baghdad'], ['war', 'criminals', 'heroes', 'whitewashing', 'ariel', 'sharon', 'ŕä'], ['rogers', 'videotron', 'extend', 'reach', 'network-sharing', 'deal'], ['prominent', 'aids', 'researchers', 'killed', 'malaysian', 'plane', 'crash'], ['israel', 'forces', 'kill', '0', 'palestinian', 'militants'], ['death', 'toll', \"'rises\", 'to', '0', \"'\", 'typhoon', 'strikes', 'japan'], ['protests', 'continue', 'tense', 'ukraine', 'capital'], ['two', 'french', 'journalists', 'killed', 'mali', 'kidnapping'], ['headlines', 'major', 'iranian', 'newspapers', 'dec', '0'], ['iran', 'warns', 'spillover', 'possible', 'war', 'syria'], ['former', 'pakistan', 'president', 'pervez', 'musharraf', 'arrested', 'again'], ['us', 'drone', 'strike', \"'kills\", '0', 'militants', 'pakistan', \"'\"], ['uk', 'Ex-Premier', 'margaret', 'thatcher', 'dies', '0'], ['polar', 'bear', 'dna', \"'may\", 'help', 'fight', 'obesity', \"'\"], [\"'Fast\", '&', 'amp', ';', 'furious', \"'\", 'star', 'paul', 'walker', 'dies', 'car', 'crash'], ['air', 'strike', 'kills', 'one', 'man', 'syria', 'hama'], ['turkish', 'pm', 'president', 'clash', 'over', 'reply', 'to', 'protests'], ['strong', 'new', 'quake', 'hits', 'shattered', 'pak', 'region'], ['floods', 'central', 'europe', 'continue', 'to', 'create', 'havoc'], ['luxembourg', 'pm', 'quits', 'amid', 'spying', 'scandal'], ['0', 'dead', '0', 'missing', 'central', 'china', 'construction', 'accident'], ['us', 'china', 'fail', 'to', 'paper', 'over', 'cracks', 'ties'], ['world', 'cup', 'live', 'france', '0-0', 'germany'], ['tokyo', 'to', 'host', '0', 'games'], ['france', 'warns', 'extremists', 'benefiting', 'from', 'egypt', 'violence'], ['british', 'teenager', 'killed', 'fall', 'from', 'magaluf', 'hotel'], ['us', 'drone', 'strike', 'kills', 'eight', 'waziristan'], ['russian', 'opposition', 'leader', 'under', 'house', 'arrest'], ['senate', 'confirms', 'janet', 'yellen', 'chair', 'us', 'federal', 'reserve'], ['israel', 'confirms', 'strike', 'syria', 'targeted', 'weapons'], ['jurors', 'find', 'jodi', 'arias', 'eligible', 'death', 'penalty'], ['twitter', 'reports', 'blocking', 'venezuela'], ['goa', 'building', 'collapse', 'death', 'toll', 'touches', '0'], ['pak', 'religious', 'body', 'endorses', 'underage', 'marriage'], ['mt', 'gox', 'reveals', '200,000', \"'forgotten\", \"'\", 'bitcoin', 'haul'], ['more', 'than', '0', 'injured', 'texas', 'plant', 'blast'], ['redford', 'touts', 'alberta', 'economy', 'ahead', 'vote', 'leadership'], ['obama', 'holds', 'out', 'over', 'syria', 'strikes'], ['south', 'korean', 'soldier', 'reportedly', 'flees', 'killing', '0', 'comrades', 'border', 'north', 'korea'], ['tycoon', 'claims', 'win', 'ukraine', 'promises', 'to', 'seek', 'future', 'eu'], ['syria', 'agrees', 'to', 'surrender', 'chemical', 'weapons'], ['abbvie', 'sours', '$', '55B', 'shire', 'deal', 'tax', 'changes'], ['militant', 'attack', 'from', 'afghanistan', 'kills', 'four', 'upper', 'dir'], ['0', 'killed', 'afgan', 'terror', 'attack'], ['rev', 'early', 'reads', 'march', '0'], ['pope', 'canonizes', '0', 'palestinians'], ['funeral', 'ian', 'paisley', 'to', 'take', 'place', 'belfast'], ['waba', 'emerges', 'new', 'nlc', 'president'], ['0', 'us', 'airstrikes', 'target', 'islamic', 'state', 'fighters'], ['us', 'senate', 'votes', 'to', 'advance', 'iran', 'nuclear', 'review', 'bill'], ['editors', 'from', 'around', 'world', 'urge', 'turkey', 'to', 'protect', 'media'], ['philippines', 'canada', 'pledge', 'to', 'further', 'boost', 'relations'], ['israel', 'bars', 'palestinians', 'from', 'jerusalem', 'old', 'city'], ['how', 'much', 'know', 'secret', 'service'], ['obama', 'struggles', 'to', 'soothe', 'saudi', 'fears', 'iran', 'talks', 'resume'], ['south', 'korea', 'declares', 'end', 'to', 'mers', 'outbreak']]\n"
          ]
        }
      ],
      "source": [
        "print(text_nltk1)"
      ]
    },
    {
      "cell_type": "code",
      "execution_count": null,
      "metadata": {
        "colab": {
          "base_uri": "https://localhost:8080/"
        },
        "id": "3nAfa4PpZAgd",
        "outputId": "4e093145-c3fb-4ba2-fac3-0a440317cff5"
      },
      "outputs": [
        {
          "name": "stdout",
          "output_type": "stream",
          "text": [
            "[['girl', 'styling', 'hair'], ['group', 'men', 'play', 'soccer', 'beach'], ['one', 'woman', 'measuring', 'another', 'woman', 'ankle'], ['man', 'cutting', 'up', 'cucumber'], ['man', 'playing', 'harp'], ['woman', 'cutting', 'onions'], ['man', 'riding', 'electric', 'bicycle'], ['man', 'playing', 'drums'], ['man', 'playing', 'guitar'], ['man', 'playing', 'guitar'], ['man', 'playing', 'guitar'], ['man', 'cutting', 'onion'], ['man', 'cycling'], ['man', 'slicing', 'open', 'fish'], ['man', 'slicing', 'tomato'], ['man', 'playing', 'guitar'], ['baby', 'panda', 'goes', 'down', 'slide'], ['man', 'singing', 'playing', 'guitar'], ['man', 'attacks', 'woman'], ['man', 'driving', 'car'], ['woman', 'cutting', 'tofu'], ['woman', 'styling', 'hair'], ['two', 'zebras', 'play', 'open', 'field'], ['man', 'cutting', 'potato'], ['man', 'slicing', 'onion'], ['man', 'dancing'], ['man', 'riding', 'motorcycle'], ['woman', 'slicing', 'garlics'], ['man', 'speaking'], ['little', 'boy', 'singing', 'playing', 'guitar'], ['turtle', 'swimming', 'water'], ['young', 'woman', 'putting', 'stickers', 'all', 'over', 'face'], ['woman', 'wrapping', 'tofu'], ['cat', 'eating', 'some', 'corn'], ['man', 'eating', 'food'], ['man', 'playing', 'guitar'], ['man', 'kicking', 'pots', 'water'], ['man', 'cutting', 'pipe', 'scissors'], ['woman', 'dancing', 'rain'], ['woman', 'taking', 'bath'], ['man', 'mixes', 'vegetables', 'pot'], ['woman', 'talking', 'cell', 'phone'], ['man', 'playing', 'guitar'], ['man', 'playing', 'guitar'], ['man', 'cutting', 'apple', 'hand'], ['man', 'opening', 'door'], ['man', 'slicing', 'tomato'], ['man', 'cutting', 'paper', 'sword'], ['boy', 'studies', 'calendar'], ['ballerina', 'dancing'], ['woman', 'dancing'], ['woman', 'slicing', 'some', 'tomatoes'], ['woman', 'water', 'skiing'], ['man', 'playing', 'flute'], ['man', 'playing', 'piano'], ['woman', 'picking', 'can'], ['man', 'puts', 'three', 'pieces', 'meat', 'pan'], ['woman', 'cutting', 'onion'], ['some', 'men', 'sawing'], ['car', 'driven', 'down', 'road'], ['man', 'kissing', 'hugging', 'woman'], ['train', 'moving'], ['someone', 'slicing', 'onion'], ['woman', 'playing', 'ocean'], ['person', 'playing', 'electronic', 'keyboard'], ['man', 'holding', 'leaf'], ['woman', 'peeling', 'shrimp'], ['man', 'sitting', 'smoking'], ['man', 'playing', 'guitar'], ['man', 'standing', 'front', 'window', 'looking', 'outside'], ['skunk', 'looking', 'here', 'there'], ['man', 'playing', 'guitar', 'singing'], ['woman', 'opens', 'window'], ['people', 'dancing', 'outside'], ['man', 'using', 'camera', 'to', 'hammer', 'nail'], ['woman', 'filing', 'nails'], ['boy', 'crawling', 'dog', 'house'], ['woman', 'swimming', 'underwater'], ['machine', 'sharpening', 'pencil'], ['monkey', 'playing', 'drums'], ['man', 'opening', 'box', 'taking', 'out', 'paper'], ['woman', 'dancing'], ['person', 'drawing', 'large', 'touchscreen'], ['men', 'played', 'follow', 'leader', 'grass'], ['woman', 'cracking', 'eggs'], ['woman', 'peels', 'garlic', 'hands'], ['polar', 'bears', 'fought', 'over', 'kill'], ['man', 'trick', 'play', 'cards'], ['cat', 'licking', 'bottle'], ['person', 'slicing', 'onion'], ['person', 'peeling', 'potato', 'potato', 'peeler'], ['two', 'women', 'dancing', 'singing', 'front', 'crowd'], ['man', 'seasoning', 'some', 'carrots'], ['two', 'men', 'pushed', 'carts', 'woods'], ['man', 'playing', 'football'], ['lady', 'peeled', 'potatoe'], ['woman', 'slicing', 'some', 'tofu'], ['someone', 'typed', 'keyboard'], ['three', 'young', 'men', 'run', 'jump', 'kick', 'off', 'coke', 'machine'], ['young', 'asian', 'girl', 'applying', 'eyeliner'], ['cat', 'walking', 'around', 'house'], ['woman', 'talking', 'to', 'pet', 'bunny', 'fondles'], ['monkey', 'playing', 'drums'], ['man', 'riding', 'white', 'horse', 'enclosed', 'ground'], ['oriental', 'lady', 'cutting', 'carrot', 'thin', 'pieces'], ['group', 'people', 'dancing'], ['man', 'playing', 'guitar'], ['woman', 'mixes', 'up', 'vegetables'], ['woman', 'pours', 'mixture', 'bowl', 'mixes'], ['man', 'cutting', 'pieces', 'butter', 'mixing', 'bowl'], ['man', 'putting', 'garlic', 'some', 'bread', 'slices'], ['panda', 'bear', 'lay', 'logs'], ['five', 'men', 'jump', 'swimming', 'pool'], ['cheetah', 'running', 'behind', 'prey'], ['cat', 'playing', 'floor'], ['boy', 'playing', 'violin', 'stage'], ['dog', 'barking', 'toy'], ['man', 'cycling'], ['woman', 'slicing', 'ginger'], ['man', 'dragging', 'dead', 'deer'], ['man', 'preparing', 'snake', 'cooking'], ['woman', 'spreading', 'mustard', 'bread', 'roll'], ['someone', 'touched', 'kitten', 'chewing', 'string'], ['meat', 'put', 'skillet'], ['baby', 'elephant', 'eating', 'small', 'tree'], ['woman', 'man', 'dancing', 'rain'], ['someone', 'drawing'], ['man', 'playing', 'guitar'], ['two', 'men', 'fistfighting', 'ring'], ['person', 'wipes', 'butter', 'tray'], ['two', 'men', 'playing', 'football'], ['man', 'playing', 'guitar'], ['man', 'peeling', 'potato'], ['woman', 'stabbing', 'potato', 'fork'], ['child', 'waking', 'up'], ['boy', 'playing', 'key-board'], ['woman', 'plays', 'flute'], ['woman', 'playing', 'electric', 'guitar'], ['man', 'playing', 'flute'], ['group', 'people', 'sweeping', 'water', 'out', 'house'], ['man', 'plays', 'guitar'], ['man', 'woman', 'kissing', 'each', 'other'], ['woman', 'climbing', 'cliff'], ['polar', 'bear', 'running', 'towards', 'group', 'walruses'], ['woman', 'cutting', 'some', 'fish'], ['someone', 'playing', 'piano'], ['man', 'pouring', 'rice', 'roni', 'pan'], ['man', 'breaking', 'wooden', 'boards', 'hand'], ['girl', 'playing', 'guitar'], ['man', 'praying'], ['man', 'playing', 'piano'], ['woman', 'slicing', 'onion'], ['man', 'riding', 'horse', 'creek'], ['man', 'playing', 'guitar'], ['man', 'picking', 'up', 'tree'], ['person', 'peeling', 'potato'], ['person', 'playing', 'piano'], ['man', 'spitting'], ['man', 'playing', 'musical', 'keyboard'], ['man', 'dancing'], ['man', 'plays', 'trumpet'], ['woman', 'riding', 'horse'], ['band', 'playing', 'stage'], ['woman', 'playing', 'guitar', 'singing'], ['man', 'eating'], ['little', 'boy', 'hits', 'golf', 'ball'], ['guy', 'taking', 'off', 'sunglasses'], ['someone', 'reading', 'email'], ['person', 'slicing', 'onions'], ['girl', 'coming', 'up', 'car'], ['man', 'playing', 'drums'], ['someone', 'slicing', 'onion'], ['woman', 'dicing', 'some', 'peeled', 'potatoes', 'cut', 'thick', 'strips'], ['little', 'girl', 'peddling', 'scooter'], ['cat', 'cleans'], ['man', 'kicking', 'soccer', 'ball'], ['woman', 'opens', 'window'], ['three', 'men', 'same', 'dance', 'street'], ['man', 'playing', 'guitar'], ['man', 'dancing'], ['woman', 'exercising'], ['boy', 'playing', 'violin', 'onstage'], ['woman', 'measuring', 'other', 'woman'], ['man', 'exercise'], ['dog', 'playing', 'toy'], ['man', 'playing', 'piano'], ['man', 'bowling'], ['woman', 'dancing', 'near', 'fire'], ['man', 'making', 'bed'], ['person', 'riding', 'motorcyle'], ['man', 'pours', 'rice', 'pot'], ['person', 'slicing', 'some', 'garlic'], ['woman', 'slicing', 'ginger'], ['men', 'playing', 'soccer'], ['person', 'scrubbing', 'zucchini'], ['panda', 'bear', 'chewing', 'stick'], ['people', 'lifting', 'bags'], ['man', 'talking', 'phone'], ['woman', 'braiding', 'hair'], ['man', 'throwing', 'knives', 'tree'], ['woman', 'slicing', 'tofu'], ['woman', 'folding', 'paper'], ['someone', 'folding', 'piece', 'paper'], ['man', 'lifting', 'weights'], ['man', 'playing', 'cello'], ['man', 'talking'], ['man', 'tries', 'to', 'feed', 'mouse', 'to', 'snake'], ['man', 'playing', 'drums'], ['man', 'playing', 'ukulele'], ['kitten', 'drinking', 'milk', 'from', 'bowl'], ['man', 'breaks', 'cinder', 'blocks', 'another', 'man'], ['man', 'hitting', 'boy', 'flower', 'vase'], ['man', 'mixing', 'whipping', 'cream'], ['man', 'stirring', 'juice'], ['someone', 'slicing', 'two', 'uncooked', 'racks', 'ribs', 'apart'], ['man', 'kicking', 'pots', 'water'], ['two', 'little', 'girls', 'talk', 'telephone'], ['cat', 'gets', 'stuck', 'moving', 'ceiling', 'fan'], ['cat', 'drinking', 'milk'], ['rocky', 'apollo', 'creed', 'running', 'down', 'beach'], ['man', 'singing', 'playing', 'guitar'], ['boat', 'sails', 'along', 'water'], ['okapi', 'eating', 'from', 'tree'], ['several', 'kids', 'jump', 'up', 'down', 'trampoline'], ['woman', 'pouring', 'egg', 'frying', 'pan'], ['woman', 'frying', 'ground', 'meat'], ['three', 'boys', 'karate', 'costumes', 'fighting'], ['swimmers', 'racing', 'lake'], ['person', 'boiling', 'noodles'], ['person', 'slicing', 'some', 'onions'], ['man', 'reels', 'fish'], ['woman', 'cutting', 'onion'], ['lady', 'mixed', 'up', 'meat', 'mixture', 'bowl'], ['girl', 'applying', 'makeup', 'face'], ['woman', 'puts', 'make-up'], ['cat', 'plays', 'water'], ['person', 'adding', 'food', 'pan'], ['man', 'smoking'], ['person', 'putting', 'shredded', 'cheese', 'pot'], ['man', 'erasing', 'chalk', 'board'], ['man', 'exercising'], ['chimp', 'kicking', 'target'], ['man', 'exercise'], ['girl', 'carrying', 'baby'], ['several', 'swimmers', 'jump', 'water'], ['man', 'spins', 'surf', 'board'], ['young', 'man', 'riding', 'skateboard', 'jumps', 'onto', 'sidewalk', 'then', 'off', 'another', 'curb'], ['person', 'dices', 'up', 'orange', 'pepper'], ['two', 'men', 'dancing', 'together'], ['man', 'reading', 'email'], ['curious', 'boys', 'look', 'shed'], ['moped', 'front', 'steps', 'ruins'], ['man', 'sleeps', 'baby', 'lap'], ['two', 'cats', 'looking', 'window'], ['person', 'wearing', 'helmet', 'rides', 'bike', 'near', 'white', 'structure'], ['man', 'bicycle', 'coffee', 'house'], ['black', 'white', 'cat', 'high', 'up', 'tree', 'branches'], ['young', 'blonde', 'girl', 'wearing', 'helmet', 'sits', 'red', 'bicycle', 'behind'], ['blue', 'couch', 'twin', 'bed', 'living', 'room'], ['flock', 'sheep', 'spread', 'out', 'field'], ['two', 'dogs', 'one', 'cat', 'sitting', 'couch'], ['bicycle', 'parked', 'shop'], ['orange', 'white', 'cat', 'laying', 'blanket', 'black', 'leather', 'chair'], ['young', 'couple', 'sitting', 'black', 'couch'], ['group', 'black', 'people', 'front', 'building', 'moped'], ['elderly', 'woman', 'sitting', 'red', 'patterned', 'couch', 'arm', 'around', 'younger', 'woman'], ['man', 'riding', 'back', 'orange', 'suv'], ['red', 'white', 'bus', 'driving', 'down', 'road'], ['cat', 'laying', 'red', 'cushion', 'looking', 'camera'], ['two', 'green', 'white', 'trains', 'sitting', 'tracks'], ['grey', 'cat', 'lying', 'wooden', 'table'], ['man', 'sitting', 'back', 'yard', 'playing', 'guitar'], ['father', 'napping', 'chair', 'baby', 'lap'], ['close', 'up', 'head', 'ostrich'], ['green', 'white', 'bird', 'perched', 'tree', 'branch'], ['man', 'top', 'hat', 'rides', 'white', 'horse'], ['woman', 'riding', 'brown', 'horse'], ['two', 'men', 'standing', 'grass', 'staring', 'car'], ['two', 'indian', 'women', 'two', 'indian', 'girls', 'near', 'water'], ['table', 'set', 'wine', 'dishes', 'two', 'people'], ['moped', 'front', 'ruins'], ['person', 'driving', 'cart', 'pulled', 'bicycle'], ['dog', 'sniffing', 'bottom', 'door'], ['small', 'bird', 'sitting', 'branch', 'winter'], ['yellow', 'bird', 'eating', 'fruit', 'wire', 'grate'], ['brown', 'duck', 'white', 'duck', 'stand', 'grass'], ['black', 'white', 'cat', 'dog', 'striped', 'couch'], ['man', 'wearing', 'black', 'formal', 'wear', '&', 'black', 'top', 'hat', 'riding', 'white', 'show', 'horse'], ['small', 'brown', 'birds', 'eating', 'from', 'bird', 'feeder', 'hanging', 'from', 'tree'], ['picture', 'countryside', 'large', 'city', 'background'], ['blue', 'red', 'plane', 'mid-air', 'flight'], ['three', 'men', 'posing', 'tent'], ['close-up', 'gray', 'cat', 'green', 'eyes'], ['train', 'train', 'station'], ['train', 'heads', 'down', 'tracks', 'along', 'hedge'], ['little', 'girl', 'laughing', 'camera'], ['three', 'young', 'women', 'standing', 'room', 'together'], ['white', 'bird', 'long', 'orange', 'legs', 'standing', 'lake'], ['red', 'train', 'driving', 'snow', 'covered', 'city'], ['three', 'bicyclists', 'crossing', 'bridge', 'city'], ['red', 'white', 'bus', 'drives', 'down', 'england', 'street'], ['birds', 'swimming', 'water'], ['black', 'dog', 'looking', 'camera'], ['group', 'horses', 'grazing', 'field'], ['several', 'people', 'motorcycles', 'market', 'square'], ['three', 'sheep', 'dirt', 'road', 'viewed', 'from', 'passenger', 'vehicle'], ['group', 'people', 'posing', 'two', 'men', 'dressed', 'elvis'], ['parrot', 'pushing', 'small', 'shopping', 'cart'], ['man', 'yellow', 'canoe', 'paddling', 'water'], ['beer', 'bottles', '(', '-LRB-', 'harp', 'lager', ')', '-RRB-', 'lined', 'up', 'floor'], ['two', 'women', 'sitting', 'outside', 'laughing'], ['steam', 'engine', 'train', 'moving', 'toward', 'camera'], ['brown', 'white', 'cow', 'field', 'looking', 'camera'], ['black', 'white', 'cow', 'standing', 'near', 'pile', 'snow'], ['home', 'office', 'space', 'bright', 'green', 'walls', 'artwork'], ['black', 'white', 'photo', 'man', 'driving', 'car', 'someone', 'motorcycle'], ['three', 'people', 'water', 'yellow', 'canoes'], ['girl', 'riding', 'hat', 'horse'], ['man', 'dressed', 'pale', 'scarf', 'stick'], ['very', 'retro', 'living', 'room', 'television'], ['girl', 'riding', 'hat', 'horse'], ['car', 'pulling', 'off', 'side', 'road', 'onto', 'street'], ['man', 'sitting', 'cross', 'legged', 'wearing', 'cloak', 'holding', 'stick'], ['two', 'black', 'white', 'dogs', 'bottom', 'stairs'], ['old', 'fashioned', 'wooden', 'sailing', 'ship', 'ocean'], ['man', 'sitting', 'cross', 'legged', 'grass', 'tree', 'background'], ['two', 'cats', 'sitting', 'couch', 'looking', 'out', 'window'], ['three', 'goats', 'rounded', 'up', 'dog'], ['tan', 'puppy', 'carpeted', 'floor'], ['black', 'dog', 'standing', 'grassy', 'area'], ['train', 'station'], ['blue', 'bird', 'standing', 'lawn'], ['empty', 'office', 'cubicle'], ['man', 'woman', 'sit', 'table', 'restaurant'], ['young', 'man', 'wearing', 'striped', 'shirt', 'holding', 'two', 'bicycles'], ['television', 'upholstered', 'chair', 'coffee', 'stable', 'bright', 'room'], ['two', 'cats', 'sitting', 'couch', 'looking', 'out', 'window'], ['small', 'dog', 'wearing', 'sweater', 'looking', 'up', 'camera'], ['two', 'men', 'standing', 'grass', 'staring', 'car'], ['woman', 'stands', 'front', 'building', 'snow'], ['home', 'office', 'space', 'bright', 'green', 'walls', 'artwork'], ['green', 'car', 'parked', 'saloon'], ['group', 'people', 'sitting', 'around', 'restaurant', 'dining', 'table'], ['two', 'ducks', 'standing', 'water'], ['black', 'white', 'cow', 'pen', 'hay'], ['man', 'woman', 'posing', 'camera'], ['green', 'white', 'cargo', 'plane', 'taking', 'from', 'airport'], ['yellow', 'school', 'bus', 'parked', 'field'], ['elderly', 'man', 'works', 'laptop', 'home'], ['cat', 'sitting', 'bag', 'cat', 'food'], ['large', 'pile', 'wooden', 'items', 'piled', 'high'], ['woman', 'riding', 'brown', 'horse'], ['black', 'white', 'photo', 'girl', 'sofa'], ['black', 'dog', 'stands', 'next', 'to', 'materials', 'construction', 'site'], ['two', 'women', 'sitting', 'chairs', 'shop'], ['women', 'painting', 'chair', 'dining', 'room', 'background'], ['cat', 'sleeping', 'coach', 'pillow', 'behind'], ['two', 'motorbikes', 'racing', 'dirt', 'course'], ['young', 'woman', 'riding', 'bay', 'hose', 'dirt', 'riding-ring'], ['gray', 'cat', 'laying', 'brown', 'table'], ['motorcycle', 'parked', 'next', 'to', 'car', 'outside'], ['pile', 'used', 'wooden', 'building', 'materials', 'chair', 'top'], ['passenger', 'train', 'waiting', 'city', 'train', 'station'], ['black', 'train', 'moves', 'down', 'tracks'], ['philips', 'flat-screen', 'tv', 'shown', 'two', 'remote', 'controls'], ['cruise', 'ship', 'front', 'docking', 'area'], ['black', 'white', 'cow', 'standing', 'hay', 'looks', 'back', 'camera'], ['four', 'people', 'rowing', 'down', 'river'], ['dark', 'brown', 'horse', 'standing', 'field'], ['two', 'men', 'talking', 'front', 'plane'], ['two', 'cats', 'one', 'brown', 'one', 'white', 'laying', 'bed', 'blue', 'blanket'], ['train', 'sits', 'train', 'station'], ['two', 'animals', 'sitting', 'rock'], ['black', 'white', 'cow', 'looking', 'fence'], ['two', 'women', 'clothing', 'store'], ['older', 'gentleman', 'looking', 'red', 'motorcycle'], ['black', 'white', 'cows', 'grazing', 'pen'], ['small', 'camouflaged', 'airplane', 'parked', 'grass'], ['black', 'white', 'photo', 'love', 'seat'], ['black', 'bird', 'standing', 'concrete'], ['crowd', 'people', 'walking', 'past', 'giant', 'mushroom'], ['sheep', 'beside', 'road', 'lake'], ['group', 'people', 'sit', 'table', 'italian', 'restaurant'], ['tan', 'cows', 'look', 'closely', 'camera'], ['older', 'woman', 'holding', 'newborn', 'baby'], ['two', 'dogs', 'play', 'grass'], ['three', 'people', 'sit', 'picnic', 'table', 'outside', 'building', 'painted', 'like', 'union', 'jack'], ['dog', 'swims', 'water'], ['young', 'laughing', 'girl', 'boy', 'playing', 'big', 'drum'], ['brown', 'dog', 'runs', 'snow', 'white', 'ball', 'mouth'], ['bird', 'flies', 'across', 'water'], ['dog', 'running', 'pond'], ['man', 'woman', 'watch', 'two', 'dogs'], ['man', 'sits', 'dock', 'looking', 'water'], ['brown', 'white', 'dog', 'running', 'snow'], ['man', 'woman', 'standing', 'front', 'building'], ['three', 'dolphins', 'jumping', 'out', 'pool', 'front', 'crowd', 'people'], ['dog', 'running', 'field'], ['black', 'white', 'dog', 'jumping', 'water'], ['tan', 'white', 'dog', 'retrieving', 'ball', 'gravel', 'path'], ['brown', 'white', 'dog', 'walking', 'up', 'snowy', 'steps'], ['woman', 'black', 'orange', 'jacket', 'throws', 'stick', 'brown', 'black', 'dog', 'to', 'fetch'], ['dog', 'running', 'across', 'snow', 'snowball', 'mouth'], ['small', 'boy', 'building', 'some', 'wooden', 'blocks'], ['man', 'woman', 'walk', 'white', 'dog', 'leash'], ['young', 'boy', 'wearing', 'red', 'winter', 'coat', 'eating', 'holding', 'up', 'candy', 'bar'], ['two', 'racing', 'dogs', 'run', 'mud'], ['young', 'boy', 'jumping', 'pool', 'says', '\"', 'no', 'diving', '\"'], ['three', 'dogs', 'running', 'dirt'], ['four', 'children', 'stools', 'diner'], ['boy', 'white', 'dog', 'running', 'grassy', 'field'], ['two', 'boys', 'playing', 'game', 'flag', 'football'], ['black', 'white', 'dog', 'mouth', 'wide', 'open'], ['one', 'white', 'boy', 'one', 'black', 'boy', 'stand', 'arms', 'around', 'each', 'other'], ['girl', 'playing', 'puddle', 'bare', 'feet'], ['two', 'children', 'splashing', 'water'], ['man', 'suit', 'dances', 'young', 'girl', 'front', 'audience'], ['three', 'children', 'playing', 'floor', 'toys'], ['two', 'dogs', 'playing', 'yard'], ['#', '0', 'greyhound', 'dog', 'running', 'around', 'track'], ['four', 'children', 'playing', 'trampoline'], ['black', 'tan', 'dog', 'standing', 'field', 'near', 'trees'], ['black', 'dog', 'running', 'water'], ['man', 'woman', 'walking', 'past', 'record', 'shop'], ['two', 'dogs', 'play', 'grass'], ['three', 'children', 'wrestle', 'floral', 'carpet'], ['boy', 'red', 'jumping', 'sandbox'], ['dog', 'jumps', 'water'], ['wet', 'blond', 'dog', 'carries', 'stick', 'shore'], ['man', 'dog', 'rocks', 'beach'], ['large', 'group', 'people', 'standing', 'outside', 'building'], ['two', 'dogs', 'running', 'field'], ['two', 'people', 'bed'], ['light', 'brown', 'dog', 'runs', 'down', 'path', 'happily'], ['red', 'haired', 'women', 'black', 'posing', 'man', 'resting', 'tree'], ['two', 'black', 'dogs', 'jumping', 'playing', 'yellow', 'tennis', 'ball', 'snow'], ['black', 'white', 'dog', 'jumping', 'over', 'hurdle'], ['two', 'brown', 'dogs', 'runs', 'water'], ['black', 'dog', 'jumping', 'out', 'water'], ['man', 'climbing', 'rock-face'], ['woman', 'playing', 'tennis', 'hitting', 'ball'], ['young', 'boy', 'hair', 'standing', 'up', 'sliding', 'down', 'blue', 'slide'], ['dog', 'standing', 'water'], ['surfer', 'riding', 'breaking', 'wave'], ['two', 'dogs', 'running', 'grass', 'near', 'house', 'trees'], ['brown', 'white', 'dog', 'running', 'across', 'brown', 'field'], ['black', 'dog', 'standing', 'grass', 'near', 'volleyball'], ['white', 'dog', 'light', 'brown', 'markings', 'stick', 'mouth', 'paws', 'snow'], ['man', 'wet', 'suit', 'throwing', 'baby', 'wearing', 'wet', 'suit', 'up', 'air'], ['black', 'white', 'dog', 'running', 'grass'], ['harnessed', 'dog', 'leaps', 'over', 'log', 'another', 'dog', 'follows', 'behind'], ['dog', 'running', 'grass'], ['many', 'football', 'players', 'sitting', 'ground'], ['little', 'boy', 'little', 'girl', 'playing', 'together', 'outside'], ['surfer', 'flip', 'off', 'wave'], ['female', 'dj', 'holds', 'up', 'michael', 'jackson', 'album'], ['two', 'white', 'standard', 'poodles', 'play', 'toy', 'snow'], ['boy', 'lies', 'stomach', 'grass'], ['white', 'dog', 'runs', 'along', 'rocky', 'shoreline'], ['black', 'white', 'dog', 'jumping', 'air', 'to', 'catch', 'frisbee'], ['woman', 'holding', 'harness', 'brown', 'white', 'dog', 'wearing'], ['girl', 'jumping'], ['young', 'pitcher', 'throwing', 'baseball'], ['three', 'children', 'playing', 'snow'], ['two', 'people', 'ride', 'bikes', 'down', 'dirt', 'road'], ['brown', 'dog', 'running', 'field'], ['dog', 'standing', 'sand'], ['four', 'girls', 'swimsuits', 'playing', 'volleyball', 'beach'], ['blonde', 'haired', 'toddler', 'swinging', 'tire', 'swing'], ['child', 'wearing', 'blue', 'white', 'shorts', 'jumping', 'surf'], ['two', 'dogs', 'running', 'shore'], ['yellow', 'car', 'speeds', 'along', 'snowy', 'field'], ['two', 'dogs', 'playing', 'snow'], ['one', 'boy', 'pushing', 'another', 'boy', 'swing'], ['pitcher', 'mound', 'throws', 'baseball'], ['little', 'girl', 'riding', 'toy', 'tricycle', 'springs'], ['woman', 'sitting', 'water'], ['tan', 'girl', 'floral', 'bikini', 'swimming', 'dark', 'blue', 'waters'], ['grey', 'dog', 'swimming', 'river', 'stick', 'mouth'], ['woman', 'blue', 'bathing', 'suit', 'jumping', 'off', 'dock', 'lake'], ['two', 'black', 'dogs', 'playing', 'grass'], ['two', 'puppies', 'playing', 'plastic', 'bag'], ['man', 'black', 'suit', 'surfing', 'along', 'crashing', 'wave'], ['three', 'little', 'girls', 'sitting', 'grass'], ['brown', 'dog', 'runs', 'towards', 'camera', 'dirt', 'trail', 'mountains', 'background'], ['dog', 'jumping', 'down', 'ramp'], ['dog', 'plays', 'park'], ['four', 'dogs', 'stand', 'snow'], ['brown', 'black', 'dogs', 'snow', 'showing', 'teeth', 'barking', 'each', 'other'], ['man', 'running', 'track'], ['light-colored', 'dog', 'runs', 'grass'], ['child', 'holding', 'object', 'fire'], ['small', 'white', 'dog', 'climbs', 'over', 'log'], ['dogs', 'play', 'snow', 'hind', 'legs'], ['boy', 'skateboards', 'down', 'railing', 'some', 'graffiti', 'stairs'], ['black', 'white', 'dog', 'runs', 'water'], ['girl', 'running', 'desert', 'path'], ['man', 'steers', 'blue', 'boat', 'past', 'brightly', 'colored', 'houses'], ['woman', 'wearing', 'large', 'sunglasses', 'holds', 'newspapers', 'both', 'hands'], ['deer', 'jumps', 'fence'], ['person', 'baseball', 'team'], ['bike', 'next', 'to', 'couple', 'women'], ['group', 'eating', 'taking', 'breathtaking', 'view'], ['boy', 'raising', 'hand'], ['man', 'gray', 'beard', 'shaved', 'front', 'lecture', 'hall'], ['young', 'person', 'deep', 'thought'], ['man', 'performing', 'labor'], ['two', 'men', 'wearing', 'traditional', 'clothing', 'standing', 'outside'], ['man', 'wearing', 'gray', 'hat', 'fishing', 'out', 'fishing', 'boat'], ['little', 'girl', 'orange', 'striped', 'outfit', 'airborne', 'whilst', 'bouncing', 'bed'], ['person', 'watching', 'people', 'ski', 'down', 'hill'], ['yard', 'dog'], ['three', 'women', 'cook'], ['woman', 'kneeling', 'next', 'to', 'cat'], ['three', 'guys', 'playing', 'pro', 'game', 'basketball'], ['boys', 'earning', 'next', 'belt', 'karate'], ['woman', 'digging', 'sand'], ['woman', 'drives', 'golf', 'cart'], ['person', 'filming', 'outdoors'], ['human', 'riding', 'skateboard'], ['woman', 'plaid', 'outfit', 'looking', 'bag', 'produce'], ['tennis', 'player', 'hit', 'ball', 'outer', 'space', 'broke', 'death', 'star'], ['boy', 'climbs', 'forest', 'hill'], ['blond', 'boy', 'jumping', 'onto', 'deck'], ['man', 'uses', 'chainsaw', 'to', 'sculpt', 'phallic', 'ice', 'sculpture'], ['group', 'male', 'construction', 'workers', 'repair', 'railroad', 'tracks', 'cloudy', 'day'], ['girl', 'something', 'head'], ['people', 'making', 'structure', 'out', 'cards'], ['there', 'four', 'people', 'outside'], ['girls', 'holding', 'hands', 'blue', 'clothes'], ['man', 'demonstrating', 'how', 'to', 'work', 'clay', 'least', 'two', 'people', 'observe'], ['dog', 'sweater'], ['sculptor', 'applying', 'concrete', 'to', 'large', 'statue', 'human', 'figure', 'standing', 'no', 'head'], ['boy', 'dark', 'hair', 'water', 'looking', 'up'], ['pole', 'behind', 'person', 'playing', 'peekaboo', 'child'], ['woman', 'to', 'paint'], ['man', 'working', 'steel', 'mill'], ['young', 'woman', 'flirting', 'young', 'boy'], ['men', 'to', 'score', 'water', 'polo', 'tournament'], ['man', 'eats', 'popcorn', 'watching', 'cartoons', 'late', 'one', 'night'], ['three', 'men', 'sit', 'bench'], ['road', 'long'], ['young', 'man', 'wearing', 'white', 't-shirt', 'green', 'black', 'shorts', 'standing', 'stump'], ['dog', 'under', 'stairs'], ['two', 'women', 'give', 'demonstration', 'renaissance', 'fair'], ['some', 'guy', 'sitting', 'couch', 'watching', 'television'], ['woman', 'posing', 'christmas', 'card'], ['man', 'working', 'farm'], ['girl', 'talking', 'to', 'dad', 'cellphone'], ['one', 'person', 'wields', 'umbrella'], ['group', 'teenagers', 'jumping', 'good', 'time'], ['man', 'playing', 'guitar', 'joe', 'cafe'], ['someone', 'blanket'], ['man', 'orange', 'shirt'], ['two', 'kids', 'look', 'products', 'sold', 'inside', 'subway', 'shop'], ['baby', 'boy', 'wants', 'mother'], ['boy', 'very', 'close', 'to', 'girl'], ['six', 'children', 'cleaning', 'room'], ['there', 'cook', 'preparing', 'food'], ['two', 'men', 'helping', 'boy'], ['two', 'skiing', 'people', 'cross', 'country', 'skiing'], ['dog', 'taking', 'poop', 'street'], ['kid', 'talking', 'class'], ['women', 'trying', 'to', 'sell', 'something', 'to', 'individual'], ['people', 'waiting', 'fireworks', 'to', 'start'], ['dog', 'prepares', 'to', 'herd', 'three', 'sheep', 'horns'], ['people', 'gathered', 'room'], ['woman', 'overalls', 'paints', 'picture', 'wall'], ['adding', 'aspirin', 'to', 'water', 'could', 'kill', 'plant'], ['woman', 'wearing', 'yellow'], ['man', 'stunt', 'bicycle'], ['ten', 'people', 'riding', 'atvs'], ['yellow', 'vested', 'person', 'road', 'work'], ['two', 'workers', 'sitting', 'next', 'to', 'pipes', 'eating', 'lunch'], ['group', 'people', 'living', 'desert'], ['two', 'kids', 'swimming'], ['people', 'getting', 'dirty', 'clothes', 'cleaned'], ['children', 'holding', 'musical', 'instruments'], ['group', 'people', 'wearing', 'police', 'uniforms', 'conducting', 'arrest'], ['man', 'planning', 'to', 'shoot', 'wedding'], ['child', 'bike', 'got', 'wet'], ['soldier', 'walks', 'dog'], ['shirtless', 'woman', 'operating', 'lawn', 'mower'], ['two', 'officers', 'driving'], ['lady', 'looks', 'sad', 'no', 'one', 'buying', 'wares'], ['flock', 'birds', 'hovered', 'over', 'sandy', 'beach'], ['people', 'walk', 'home'], ['man', 'laughing', 'woman'], ['to', 'run', 'boat'], ['0', 'cows', 'field'], ['wet', 'child', 'enjoys', 'summer'], ['girl', 'driver', 'license'], ['people', 'motorcycles', 'wearing', 'racing', 'gear', 'ride', 'around', 'racetrack'], ['man', 'standing', 'ground', 'paintbrush'], ['kids', 'theater', 'watching', 'movie'], ['two', 'women', 'walk', 'down', 'sidewalk', 'to', 'store'], ['man', 'son', 'back'], ['group', 'dark-skinned', 'people', 'walking', 'past', 'barbed', 'wire'], ['zombies', 'parading', 'around', 'eating', 'brains'], ['group', 'people', 'sitting', 'beach', 'towels', 'watching', 'blue', 'angels'], ['three', 'people', 'meeting', 'coffee'], ['young', 'girl', 'dirt', 'face', 'red', 'child', 'bike', 'background'], ['line', 'scooters', 'parking', 'middle', 'street'], ['man', 'holding', 'cat'], ['cats', 'running', 'grass'], ['two', 'boys', 'playing', 'kick', 'ball', 'back', 'forth', 'to', 'each', 'other'], ['two', 'girls', 'running'], ['little', 'girl', 'white', 'blouse', 'blue', 'pants', 'frolics', 'grass'], ['man', 'white', 'shirt', 'hat', 'playing', 'guitar'], ['black', 'hooded', 'man', 'using', 'large', 'magnifying', 'glass', 'to', 'look', 'booklet'], ['people', 'running', 'marathon'], ['group', 'people', 'nervous', 'crossing', 'water'], ['group', 'kids', 'jumping', 'contest'], ['person', 'wearing', 'fedora'], ['woman', 'man', 'embrace', 'watching', 'horror', 'movie'], ['man', 'blue', 'dress', 'shirt'], ['couple', 'playing', 'game', 'life'], ['head', 'child', 'dark', 'glasses', 'focus'], ['maintenance', 'guy', 'repairing', 'net', 'tennis', 'court'], ['kid', 'sits', 'soccer', 'ball', 'outside'], ['man', 'brown', 'coat', 'rubs', 'nose'], ['dog', 'chasing', 'geese'], ['small', 'child', 'playing', 'letter', 'p'], ['brown', 'dog', 'jumping'], ['group', 'teenagers', 'red', 'shirts', 'smiling'], ['remained', 'under', 'banyan', 'tree', 'exhausted', 'daily', 'ritual', 'dragooning', 'men', 'every', 'two', 'hours'], ['us', 'will', 'depend', 'school'], ['there', 'also', 'string', 'made'], ['also', 'imply', 'may', 'not', 'paid', 'cannot', 'place', 'client'], ['one', 'time', 'well'], ['just', 'to', 'base', 'answer', 'know', 'want'], ['not', 'need', 'to', 'worry'], ['should'], ['should', 'just', 'ask', 'boss', 'wants', 'to'], ['need', 'to', 'read', 'lot', 'to', 'know', 'like', 'don', \"'t\"], ['depends', 'want', 'to', 'tank'], ['can', 'too'], ['should'], ['to', 'decide', 'want', 'to', 'get', 'out'], ['few', 'suggestions'], ['want', 'to', 'start', 'room', 'largest', 'to', 'make', 'sure', 'straightest', 'start'], ['don', \"'t\", 'want', 'to', 'derail', 'meeting', 'key', 'to', 'speak', 'up'], ['unfortunately', 'answer', 'to', 'question', 'simply', 'not', 'know'], ['soon', 'possible'], ['just', 'to', 'base', 'answer', 'know', 'want'], ['answer', 'to', 'both', 'questions', 'yes'], ['to', 'give', 'answer'], ['unfortunately', 'answer', 'to', 'question', 'simply', 'not', 'know'], ['rule', '-', 'when', 'doubt', 'throw', 'out', '!'], ['not', 'good', 'idea'], ['yes', 'probably', 'good', 'idea', 'to', 'renew', 'passport'], ['probably', 'depends', 'cut', 'meat'], ['not', 'good', 'idea'], ['pretty', 'much', 'up', 'to'], ['yes', 'there', 'reason'], ['tried', 'asking', 'employees'], ['guys', 'making', 'all', 'waaaaay', 'too', 'complicated'], ['don', \"'t\", 'to', 'know'], ['there', 'two', 'things', 'to', 'consider'], ['work', 'slowly'], ['can', 'buy', 'amazon', '$', '0'], ['coffee', 'simply', 'picks', 'up', 'aluminum', 'from', 'pot', 'coffee', 'acidic'], ['there', 'two', 'ways', 'to', 'start', 'plunging', 'dripping'], ['might', 'to', 'try', 'variety', 'find', 'one', 'clicks'], ['not', 'good', 'idea'], ['just', 'to', 'base', 'answer', 'know', 'want'], ['yes', 'should', 'mention', 'experience'], ['from', 'understand', 'can'], ['take', 'look'], [\"'d\", 'say', 'primarily', 'depends', 'two', 'things'], ['some', 'can'], ['not', 'good', 'idea'], ['answers', 'so', 'far', 'already', 'good', \"'d\", 'like', 'to', 'add', 'map', 'switzerland'], ['similar', 'situation'], ['same', 'problem'], ['there', 'no', 'maximum'], ['not', 'sure', 'right', 'site', 'question'], ['depends', 'want', 'to', 'next', 'where', 'want', 'to'], ['need', 'to', 'read', 'lot', 'to', 'know', 'like', 'don', \"'t\"], ['not', 'disclosing', 'key', 'info'], ['depends', 'want', 'to', 'next', 'where', 'want', 'to'], ['just', 'to', 'base', 'answer', 'know', 'want'], ['depends', 'want', 'to', 'next', 'where', 'want', 'to'], ['problem', 'professor', 'to', 'deal'], ['very', 'unusual', 'request'], ['very', 'much', 'depends', 'grant', 'question'], ['same', 'thing'], ['no', 'not', 'affect', 'ratings'], ['answer', 'to', 'question', '\"', 'probably', 'not', '\"'], ['don', \"'t\", 'think', 'makes', 'any', 'tremendous', 'difference'], ['depends'], ['there', 'not', 'lot', 'can'], ['answered', 'own', 'question'], ['just', 'to', 'base', 'answer', 'know', 'want'], ['not', 'good', 'idea'], ['best', 'thing', 'can', 'to', 'know', 'stuff'], [\"'d\", 'say', 'primarily', 'depends', 'two', 'things'], ['don', \"'t\", 'to', 'know'], ['same', 'thing'], ['not', 'good', 'idea'], ['right', 'path'], ['doesn', \"'t\", 'answer', 'question'], ['how', 'should', 'proceed'], ['page', 'answer', 'question'], ['can', 'use', 'too'], ['really', 'depends', 'how', 'employer', 'documents'], ['same', 'problem'], ['need', 'to', 'read', 'lot', 'to', 'know', 'like', 'don', \"'t\"], ['depends', 'want', 'to', 'next', 'where', 'want', 'to'], ['yes', 'to', 'file', 'tax', 'return', 'canada'], ['don', \"'t\", 'see', 'why', 'there', 'should', 'any', 'problem', 'whatsoever'], ['hope', 'looking'], ['best', 'thing', 'can', 'to', 'know', 'stuff'], ['depends', 'dish', 'how', 'amenable', 'stage', 'make', 'mistake'], ['just', 'to', 'base', 'answer', 'know', 'want'], ['probably', 'don', \"'t\", 'any', 'chance', 'moment'], ['really', 'doesn', \"'t\", 'matter'], ['don', \"'t\", 'need', 'to', 'know', 'everything'], ['think', \"'re\", 'looking', 'mikey', '(', '0', ')'], ['makes', 'absolutely', 'no', 'difference'], ['think', 'fine', 'to', 'ask', 'question'], [\"'m\", 'going', 'to', 'very', 'direct', 'here'], ['just', 'to', 'base', 'answer', 'know', 'want'], ['should'], ['there', 'not', 'lot', 'can'], ['kind', 'insulation'], ['depends', 'entirely', 'company', 'contract'], ['answered', 'own', 'question'], ['don', \"'t\", 'think', 'there', 'any'], ['there', 'few', 'things', 'can'], ['tip', 'find', 'most', 'useful'], ['believe'], ['not', 'sure', 'how', 'to', 'don', \"'t\", 'all'], ['all', 'head'], ['not', 'sure', 'how', 'to', 'don', \"'t\", 'all'], ['need', 'to', 'read', 'lot', 'to', 'know', 'like', 'don', \"'t\"], ['would', 'say', 'can', 'wouldn', \"'t\", 'advised'], ['can'], ['sure', 'done', 'very', 'trip'], ['can', 'use', 'too'], ['how'], ['located', 'article', 'might', 'some', 'help', 'http', '/', '/', 'www.dsattorney.com', '/', 'qa-pseudonyms-in-contracts', '/'], ['would', 'say', 'can', 'wouldn', \"'t\", 'advised'], ['unfortunately', 'answer', 'to', 'question', 'simply', 'not', 'know'], ['not', 'sure', 'how', 'to', 'don', \"'t\", 'all'], ['also', 'matter', 'taste'], ['not', 'good', 'idea'], ['answer', 'based', 'experience', 'teaching', 'undergraduate', 'math', 'us'], ['there', 'few', 'things', 'think', 'should'], ['will', 'want', 'to', 'clean', 'area', 'first'], ['depends', 'want', 'to', 'tank'], ['there', 'couple', 'options', 'could', 'consider'], ['don', \"'t\", 'to', 'worry'], ['vietnamese', 'citizens', 'need', 'visa', 'to', 'visit', 'usa'], ['depends', 'how', 'used'], ['don', \"'t\", 'see', 'why', 'there', 'should', 'any', 'problem', 'whatsoever'], ['there', 'not', 'lot', 'can'], ['got', 'right'], ['just', 'to', 'base', 'answer', 'know', 'want'], ['how'], ['similar', 'situation'], ['lid', 'made'], ['don', \"'t\", 'need', 'any', 'visa'], ['problem', 'not', 'supervisor'], ['depends', 'want', 'to', 'next', 'where', 'want', 'to'], ['there', 'two', 'things', 'to', 'consider'], ['depends', 'entirely', 'company', 'contract'], ['wood', 'probably', 'isn', \"'t\", 'rotten', 'just', 'worn', 'out'], ['well', 'wouldn', \"'t\", 'put', 'cv'], ['great', 'one', '...'], ['answer', 'to', 'both', 'questions', 'yes'], ['yes', 'there', 'reason', 'to', 'not', 'propose'], ['think', 'depends', 'program'], ['can'], ['think', 'there', 'isn', \"'t\", 'general', 'answer'], ['there', 'few', 'things', 'can'], ['key', 'to', 'find', 'something', 'works', 'goals'], ['don', \"'t\", 'to', 'know'], ['think', 'pretty', 'much', 'done', 'review'], ['there', 'few', 'things', 'think', 'should'], ['burn', 'more', 'calories', 'digesting', 'protein', 'than', 'carbohydrates', 'fat'], ['depends', 'want', 'to', 'next', 'where', 'want', 'to'], ['got', 'right'], ['answered', 'own', 'question'], ['same', 'thing'], ['yes', 'there', 'chemical', 'difference'], ['can', 'out', 'level', 'bit', 'flat', 'important'], ['would', 'look', 'U.S.'], ['right', 'path'], ['haven', \"'t\", 'should'], ['yes', 'common', '!'], ['don', \"'t\", 'think', 'there', 'any'], ['looks', 'to', 'set', 'up', 'want'], ['problem', 'system', 'doesn', \"'t\", 'account', 'people', 'could', 'care', 'less', 'money', 'title'], ['first', 'case', 'think', 'don', \"'t\", 'need'], ['impossible', 'to', 'answer', 'question', 'without', 'form', 'check'], ['need', 'to', 'add', 'to', 'resume', 'only', 'position'], ['work', 'slowly'], ['no', 'not', 'need', 'bread', 'machine'], ['yes', 'possible', 'to', 'publish', 'paper', 'model', 'analysis'], ['just', 'to', 'base', 'answer', 'know', 'want'], ['yes', 'should', 'mention', 'experience'], ['think', 'great', 'test', 'conducted'], ['don', \"'t\", 'to', 'know'], ['yes', 'there', 'rule'], ['goals'], [\"'m\", 'going', 'to', 'go', 'out', 'limb', 'here', '...'], ['long', 'stay', 'visa', 'switzerland', 'valid', 'then', 'will', 'not', 'need', 'transit', 'visa'], ['few', 'more', 'point', 'to', 'think'], ['now', 'don', \"'t\", 'to', 'perfect', 'every', 'answer'], [\"'m\", 'afraid', 'out', 'luck', 'one'], ['more', 'deciding', 'should', 'should', 'get', 'others', 'to'], ['varies', 'situation'], ['same', 'thing'], ['same', 'thing'], ['right', 'path'], ['primer', '/', 'paint', 'will', 'not', 'work'], ['best', 'thing', 'can', 'to', 'know', 'stuff'], ['also', 'matter', 'taste'], ['similar', 'situation'], ['can', 'use', 'too'], ['to', 'decide', 'want', 'to', 'get', 'out'], ['depends'], ['same', 'problem'], ['sometime', 'really', 'want', 'might', 'need', 'to', 'pay', 'agency', 'to', 'get', 'place'], ['don', \"'t\", 'need', 'to', 'know', 'everything'], ['also', 'useful', 'to', 'keep', 'consistency', 'story'], ['think', 'just', 'habit'], ['not', 'good', 'idea'], [\"'m\", 'thinking', 'bad', 'idea'], ['depends', 'want', 'to', 'next', 'where', 'want', 'to'], ['problem'], ['unfortunately', 'answer', 'to', 'question', 'simply', 'not', 'know'], ['unfortunately', 'question', 'cannot', 'answered', 'full', 'generality'], ['would', 'personally', 'beware', 'motley', 'fool'], ['think', 'there', 'isn', \"'t\", 'general', 'answer'], ['not', 'good', 'idea'], ['don', \"'t\", 'need', 'any', 'visa'], ['to', 'decide', 'want', 'to', 'get', 'out'], ['same', 'problem'], ['answer', 'to', 'question', '\"', 'probably', 'not', '\"'], ['should'], ['same', 'problem'], ['hope', 'looking'], ['there', 'two', 'things', 'to', 'consider'], ['pretty', 'much', 'up', 'to'], ['there', 'few', 'things', 'can'], ['answer', 'to', 'all', 'such', 'similar', 'questions', 'two', 'stages'], ['impossible', 'to', 'answer', 'question', 'without', 'form', 'check'], ['there', 'few', 'things', 'can'], ['depends', 'want', 'to', 'next', 'where', 'want', 'to'], ['there', 'few', 'possible', 'reasons'], ['there', 'three', 'options'], ['so', 'think', 'way'], ['maybe', 'could', 'work'], ['depends', 'want', 'to', 'next', 'where', 'want', 'to'], ['microwave', 'would', 'best', 'bet'], ['us', 'will', 'depend', 'school'], ['not', 'good', 'idea'], ['there', 'few', 'things', 'think', 'should'], ['same', 'problem'], ['not', 'good', 'idea'], ['realized', 'there', 'already', 'accepted', 'answer', 'figure', 'would', 'add', '0', 'cents'], ['yes', 'there', 'reason', 'to', 'not', 'propose'], ['yes', 'there', 'least', 'one', 'to', 'knowledge'], ['don', \"'t\", 'to', 'worry'], ['there', 'no', 'test', 'can', 'tell', 'sealed', 'not'], ['yes', 'should', 'make', 'résumé'], ['shouldn', \"'t\", 'feel', 'any', 'obligation', 'all'], ['same', 'problem'], ['may', 'to', 'experiment', 'find', 'like'], ['answer', 'to', 'question', '\"', 'probably', 'not', '\"'], ['key', 'thing', 'to', 'realize', 'here', 'not', 'job', 'to', 'make', 'people', 'work'], ['not', 'direct', 'answer', 'to', 'question', 'something', 'to', 'consider'], ['there', 'two', 'possible', 'causes'], ['agree', 'other', 'comments'], ['answer', 'to', 'both', 'questions', 'yes'], ['rather', 'depends', 'country', \"'re\"], ['terrible', 'idea'], ['vivendi', 'shares', 'closed', '1.9', 'percent', '15.80', 'euros', 'paris', 'falling', '3.6', 'percent', 'monday'], ['bremer', 'said', 'one', 'initiative', 'to', 'launch', 'us', '$', '0', 'million', 'nationwide', 'program', 'next', 'two', 'weeks', 'to', 'clean', 'up', 'neighborhoods', 'build', 'community', 'projects'], ['governor', 'gray', 'davis', 'estimated', 'yesterday', 'fires', 'could', 'cost', 'nearly', '$', '0', 'billion'], ['american', 'express', 'Corp.', 'pledged', 'least', '$', '0', 'million', 'more', 'than', '$', '0', 'million', 'needed'], ['claudette', 'first', 'hurricane', 'atlantic', 'storm', 'season', 'hit', 'mid-Texas', 'coast', 'july', '0', '85-mph', 'wind'], ['results', 'from', 'No.', '0', 'U.S.', 'soft', 'drink', 'maker', 'pepsico', 'Inc.', '(', 'nyse', 'pep', '-', 'news', '-', 'people', ')', 'likely', 'to', 'spotlight'], ['taylor', 'aides', 'warn', 'abrupt', 'departure', 'could', 'trigger', 'more', 'chaos', 'view', 'shared', 'many', 'liberia', 'private', 'even', 'mediators'], ['odette', 'first', 'to', 'form', 'over', 'caribbean', 'sea', 'december', 'center', 'said'], ['AFL-CIO', 'waiting', 'october', 'to', 'decide', 'will', 'endorse', 'candidate'], ['developed', 'consultation', 'from', 'more', 'than', '0', 'leaders', 'academia', 'industry', 'government', 'public'], ['local', 'police', 'authorities', 'treating', 'explosion', 'criminal', 'matter', 'nothing', 'ruled', 'out'], ['chiron', 'already', 'nearly', '0', 'percent', 'acceptances', 'from', 'powderject', 'shareholders'], ['\"', 'believe', 'fully', 'prepared', 'to', 'roll', 'out', '[', 'touch-screen', ']', 'machines', '0', 'presidential', 'primary', '\"', 'said', 'gilles', 'W.', 'burger', 'state', 'board', 'elections', 'chairman'], ['analysts', 'expected', 'earnings', '0', 'cents', 'share', 'revenue', '$', '17.7', 'billion', 'thomson', 'first', 'call', 'says'], ['another', 'serious', 'condition', 'northwest', 'medical', 'center', 'springdale'], ['sean', 'harrigan', 'president', 'california', 'public', 'employees', \"'\", 'retirement', 'system', 'also', 'suggested', 'paring', 'down', 'nyse', '27-member', 'board', 'changing', 'composition', 'making', 'more', 'accountable'], ['swedish', 'central', 'bank', 'also', 'meeting', 'wednesday', 'widely', 'expected', 'to', 'announce', 'cut', 'thursday'], ['0', 'chevrolet', 'tahoe', 'found', 'abandoned', 'virginia', 'beach', 'va', 'parking', 'lot', 'june', '0'], ['heatley', 'sixth', 'league', 'goals', 'last', 'season', '0', 'ninth', 'points', '0'], ['\"', 'tony', 'not', 'feeling', 'well', '\"', 'spurs', 'coach', 'gregg', 'popovich', 'said'], ['electronic', 'data', 'systems', 'Corp.', 'thursday', 'said', 'securities', 'exchange', 'commission', 'asked', 'company', 'documents', 'related', 'to', 'large', 'contract', 'U.S.', 'navy'], ['well', 'dolphin', 'scheme', 'chaos', 'allowed', 'foreign', 'companies', 'to', 'engage', 'damaging', 'logging', 'fishing', 'operations', 'without', 'proper', 'monitoring', 'export', 'controls'], ['next', 'court', 'session', 'will', 'when', 'three-judge', 'tribunal', 'announces', 'verdict', 'mid-February'], ['consensus', 'among', 'wall', 'street', 'analysts', 'loss', '0', 'cents', 'share'], ['civilian', 'unemployment', 'rate', 'improved', 'marginally', 'last', 'month', '--', 'slipping', 'to', '6.1', 'percent', '--', 'even', 'companies', 'slashed', 'payrolls', '93,000'], ['moffitt', 'said', 'results', 'need', 'to', 'replicated', 'another', 'study', 'testing', 'individuals', 'presence', 'long', 'short', 'versions', 'gene', 'will', 'pursued'], ['compensation', 'committee', 'will', 'prohibit', 'securities', 'industry', 'directors', 'from', 'sitting'], ['q', 'can', 'buy', 'coverage', 'prescription', 'drugs', 'right', 'away'], ['shares', 'mandalay', 'closed', 'down', 'eight', 'cents', 'to', '$', '29.42', 'earnings', 'announced'], ['0', 'building', 'owners', 'port', 'authority', 'new', 'york', 'new', 'jersey', 'issued', 'guidelines', 'to', 'upgrade', 'fireproofing', 'to', 'thickness', '0', '{', 'inches'], ['dollar', 'last', '$', '1.1149', 'to', 'euro', 'close', 'to', 'strongest', 'level', 'since', 'april', '0'], ['single', 'currency', 'rose', 'far', '135.13', 'yen', 'matching', 'record', 'high', 'hit', 'shortly', 'euro', 'launch', 'january', '0'], ['new', 'castle', 'county', 'woman', 'become', 'first', 'delaware', 'patient', 'to', 'contract', 'west', 'nile', 'virus', 'year', 'state', 'department', 'health', 'reported'], ['also', 'reaffirmed', 'wish', 'to', 'resolve', 'north', 'korean', 'nuclear', 'crisis', 'peacefully'], ['rebel', 'captured', 'said', 'more', 'than', '2,000', 'insurgents', 'involved', 'attack'], ['kyi', 'U.N.', 'envoy', 'says', 'japan', 'adds', 'to', 'growing', 'international', 'pressure', 'saying', 'will', 'halt', 'hefty', 'economic', 'aid', 'unless', 'suu', 'kyi', 'freed'], ['Wal-Mart', 'kohl', 'Corp.', 'family', 'dollar', 'stores', 'Inc.', 'big', 'lots', 'Inc.', 'among', 'merchants', 'posting', 'may', 'sales', 'fell', 'below', 'wall', 'street', 'modest', 'expectations'], ['mr', 'eddington', 'warned', 'yesterday', 'future', 'airline', '\"', 'hands', 'negotiators', '\"'], ['\"', 'both', 'kids', 'wonderful', 'physical', 'condition', 'right', 'now', '\"', 'said', 'press', 'briefing', 'hospital'], ['cell', 'surface', 'foreign', 'components', 'recognised', 'other', 'cells', 'then', 'realise', 'infected', 'kill'], ['trading', 'loral', 'halted', 'yesterday', ';', 'shares', 'closed', 'monday', '$', '3.01'], ['knox', 'county', 'health', 'department', 'following', 'national', 'centers', 'disease', 'control', 'prevention', 'protocol', 'to', 'contain', 'infection'], ['schools', 'chancellor', 'joel', 'klein', 'said', 'push', 'higher', 'standards', 'accountability', '\"', 'showing', 'results', '\"'], ['one', 'witness', 'told', 'anatolian', 'saw', 'plane', 'fire', 'still', 'air'], ['proposed', 'system', 'under', 'would', 'take', 'fewer', 'fewer', 'votes', 'to', 'overcome', 'filibuster'], ['hormone', 'replacement', 'therapy', 'combines', 'estrogen', 'progestin', 'doubles', 'woman', 'risk', 'breast', 'cancer', 'british', 'study', 'more', 'than', 'million', 'women', 'found'], ['barbini', 'comments', 'came', 'tuesday', 'second', 'day', 'ministerial', 'conference', 'expo', 'agricultural', 'science', 'technology'], ['yesterday', 'shares', 'closed', 'up', '0', 'cents', '0.54', 'percent', '$', '54.32'], ['lawtey', 'not', 'first', 'faith-based', 'program', 'florida', 'prison', 'system'], ['transaction', 'will', 'grant', 'handspring', 'stockholders', '0.09', 'share', 'Palm--and', 'no', 'shares', 'PalmSource--for', 'each', 'share', 'handspring', 'common', 'stock'], ['giant', 'rock', 'first', 'observed', 'august', '0', 'lincoln', 'Near-Earth', 'asteroid', 'research', 'program', 'based', 'socorro', 'new', 'mexico'], ['\"', 'need', 'to', 'change', 'old', 'habits', 'seriously', 'rethink', 'business-as-usual', '\"'], ['\"', 'despicable', 'acts', 'committed', 'killers', 'whose', 'only', 'faith', 'hate', '\"', 'bush', 'said', 'adding', 'united', 'states', 'will', 'find', 'killers'], ['there', 'total', '0', 'women', 'enrolled', 'academy', 'report', 'said'], ['national', 'concern', 'will', 'touch', 'virtually', 'every', 'american', '\"', 'abraham', 'said'], ['united', 'states', '20.7', 'percent', 'all', 'women', 'smoke'], ['margin', 'error', 'plus', 'minus', '0', 'percentage', 'points'], ['shares', 'mony', 'gaining', '$', '2.57', '0', '%', 'to', '$', '31.90', 'after-hours', 'trading', 'instinet'], ['diana', 'lowest', 'ebb', 'when', 'wrote', 'letter', 'to', 'paul', 'burrell', 'claiming', 'there', 'plot', 'to', 'kill'], ['gillespie', 'sent', 'letter', 'to', 'cbs', 'president', 'leslie', 'moonves', 'asking', 'historical', 'review', 'disclaimer'], ['\"', 'let', 'show', 'won', \"'t\", 'let', 'off', '\"', 'said', 'marc', 'blondel', 'leader', 'force', 'ouvriere', 'union'], ['contrary', 'to', 'peoplesoft', 'management', 'would', 'believe', 'oracle', 'intends', 'to', 'fully', 'support', 'peoplesoft', 'customers', 'products', 'many', 'years', 'to', 'come', '\"'], ['under', 'mexican', 'law', 'bounty', 'hunting', 'considered', 'form', 'kidnapping'], ['announcements', 'made', 'international', 'broadcasting', 'convention', '(', 'ibc', ')', 'amsterdam'], ['keywords', 'supported', 'chinese', 'language', 'web', 'portals'], ['consensus', 'estimate', 'analysts', 'polled', 'thomson', 'first', 'call', 'called', 'profit', '$', '1.70', 'per', 'share'], ['initial', 'autopsy', 'reports', 'show', 'died', 'dehydration', 'hyperthermia', 'suffocation'], ['authorities', 'appealed', 'to', 'public', 'friday', 'to', 'come', 'forward', 'provide', 'could', 'key', 'to', 'solving', 'sniper-style', 'shootings', 'killed', 'three', 'people', 'outside', 'area', 'convenience', 'stores'], ['second', 'comes', 'hp', '(', '0', 'percent', '$', '2.9', 'billion', 'up', 'just', '0.4', 'percent', ')'], ['U.S.', 'forces', 'recently', 'apprehended', 'some', '0', 'suspected', 'foreign', 'militants', 'near', 'syrian', 'border', 'now', 'interrogating'], ['compares', 'profit', '$', '0', 'million', 'breakeven', '$', '1.39', 'billion', 'revenue', 'same', 'period', 'last', 'year'], ['bolivia', 'army', 'fought', 'to', 'stop', 'columns', 'protesters', 'from', 'streaming', 'food-starved', 'capital', 'wednesday', 'popular', 'uprising', 'president', 'spread'], ['A920', 'comes', 'printer', 'scanner', 'copier', '$', '0'], ['first', '0', 'seconds', 'young', 'entered', 'ring', 'family', 'knew', 'uneven', 'match', 'meyers', 'said'], ['singapore', 'reported', 'no', 'suspected', 'sars', 'cases', 'wednesday', 'officials', 'quarantined', '0', 'people', 'contact', 'taiwanese', 'patient'], ['downstream', 'mount', 'vernon', 'skagit', 'river', 'expected', 'to', 'crest', '0', 'feet', '--', '0', 'feet', 'flood', 'stage', '--', 'tonight', 'burke', 'said'], ['monday', 'dow', 'declined', '5.25', '0.1', 'percent', '8,983.80', 'shed', '2.3', 'percent', 'last', 'week'], ['injured', 'taken', 'to', 'hospitals', 'jefferson', 'city', 'columbia', 'college', 'town', '0', 'miles', 'to', 'north'], ['dollar', '117.85', 'yen', 'japanese', 'currency', 'up', '0.1', 'percent'], ['addition', 'to', 'o', \"'Connor\", 'rehnquist', 'majority', 'opinion', 'joined', 'justices', 'david', 'souter', 'ruth', 'bader', 'ginsburg', 'stephen', 'breyer'], ['martin', '0', 'will', 'freed', 'today', 'serving', 'two', 'thirds', 'five-year', 'sentence', 'manslaughter', '16-year-old', 'fred', 'barras'], ['idec', 'shareholders', 'would', 'own', '50.5', 'percent', 'stock', 'combined', 'company', 'biogen', 'shareholders', 'remaining', '49.5', 'percent'], ['nonetheless', 'open-source', 'guru', 'insisted', '\"', 'attack', 'wrong', 'dangerous', 'to', 'goals', '\"'], ['frank', 'quattrone', 'former', 'credit', 'suisse', 'first', 'boston', 'technology', 'investment-banking', 'guru', 'reportedly', 'pleaded', 'not', 'guilty', 'tuesday', 'to', 'charges', 'obstruction', 'justice', 'witness', 'tampering'], ['blue-chip', 'dow', 'jones', 'industrial', 'average', '.DJI', 'fell', '86.56', 'points', '0.94', 'percent', 'to', '9,109.99', 'giving', 'up', 'more', 'than', '0', 'percent', 'earlier'], ['dow', 'jones', 'industrial', 'average', 'ended', 'day', 'down', '10.89', '9,837.94', 'advancing', '111.04', 'wednesday'], ['perry', 'since', 'called', 'two', 'special', 'legislative', 'sessions', 'to', 'try', 'force', 'redistricting', 'plan'], ['agency', 'will', '\"', 'consider', 'timely', 'any', 'tax', 'returns', 'payments', 'due', '\"', 'Aug.', '0', 'submitted', 'Aug.', '0'], ['democrats', 'currently', 'hold', '17-15', 'advantage', 'state', 'congressional', 'delegation'], ['chaudhry', 'released', '0', 'days', 'later', 'fiji', 'military', 'installed', 'all-indigenous', 'government', 'led', 'qarase', 'won', 'democratic', 'elections', 'september', '0'], ['new', 'legit', 'download', 'service', 'launches', 'pc', 'users', 'mind'], ['30-year', 'bond', 'US30YT', '=', 'rr', 'rose', '0', '/', '0', 'yield', '4.31', 'percent', 'versus', '4.35', 'percent', 'wednesday', 'close'], ['last', 'week', 'lawyers', 'asked', 'Gov.', 'mark', 'R.', 'warner', 'to', 'grant', 'clemency', 'governor', 'declined', 'to', 'intervene'], ['Gov.', 'linda', 'lingle', 'members', 'staff', 'navy', 'base', 'watched', 'launch'], ['best', 'investigators', 'can', 'nitpick', 'process', 'substance', 'isolated', 'business', 'decisions', '...', 'question', 'competence', 'manager', '\"'], ['justice', 'department', 'filed', 'suit', 'thursday', 'state', 'mississippi', 'failing', 'to', 'end', 'federal', 'officials', 'call', '\"', 'disturbing', '\"', 'abuse', 'juveniles', '\"', 'unconscionable', '\"', 'conditions', 'two', 'state-run', 'facilities'], ['chelsea', 'defender', 'marcel', 'desailly', 'latest', 'to', 'speak', 'out'], ['only', 'woman', 'unit', 'member', 'teamsters', 'local', '0'], ['special', 'police', 'detained', 'khodorkovsky', 'early', 'saturday', 'siberian', 'city', 'novosibirsk', 'where', 'plane', 'made', 'refuelling', 'stop'], ['sony', 'ericsson', 'also', 'said', 'would', 'shut', 'down', 'gsm', '/', 'umts', 'r', '&', 'd', 'center', 'munich', 'germany', 'to', 'increase', 'profitability'], ['country', 'scrambling', 'to', 'prevent', 'spreading', 'to', 'vast', 'countryside', 'where', 'most', '1.3', 'billion', 'people', 'live'], ['kansas', 'department', 'health', 'environment', 'records', 'show', 'there', '0', 'abortions', 'performed', 'girls', 'age', '0', 'younger', 'last', 'year'], ['\"', 'discovery', 'map', 'bug', 'present', 'vast', 'majority', 'crohn', 'sufferers', 'means', 'almost', 'certainly', 'causing', 'intestinal', 'inflammation', '\"', 'said', 'statement'], ['life', 'expectancy', 'boys', 'born', '0', '74.4', 'years', 'up', 'two', 'years', 'since', '0'], ['full', '12-month', 'period', 'high-speed', 'cable', 'modem', 'connections', 'increased', '0', 'percent'], ['believe', 'report', 'fully', 'consistent', 'courts', 'ruled', '...', 'department', 'actions', 'fully', 'within', 'law'], ['indeed', 'Mr.', 'weill', 'self-described', 'workaholic', 'said', 'planned', 'to', 'remain', 'very', 'involved', 'company'], ['gregory', 'parseghian', 'former', 'investment', 'banker', 'appointed', 'chief', 'executive'], ['report', 'cites', 'marriage', 'alleged', 'operational', 'commander', 'bali', 'bombings', 'mukhlas', 'to', 'farida', '\"', 'highly', 'cosmopolitan', 'well-educated', 'young', 'woman', '\"'], ['cradle', 'liberty', 'council', 'isn', \"'t\", 'first', 'one', 'to', 'buck', 'national', 'group', 'stance'], ['\"', '\"', 's', 'absurd', '\"', 'funny', 'cide', 'trainer', 'barclay', 'tagg', 'said'], ['last', 'year', 'cuban', 'officials', 'said', 'none', 'nearly', 'two', 'dozen', 'nominated', 'cuban', 'musicians', 'received', 'U.S.', 'visas', 'time', 'to', 'attend', 'grammys', 'los', 'angeles'], ['american', 'conservatives', 'clearly', 'minority', 'within', 'episcopal', 'church'], ['new', 'york', 'senator', 'new', 'book', '\"', 'living', 'history', '\"', 'appears', 'certain', 'bestseller'], ['\"', 'canada', 'small', 'country', 'needs', 'companies', 'like', 'deals', 'like', '\"'], ['police', 'official', 'S.K.', 'tonapi', 'told', 'reuters', 'least', '0', 'people', 'killed', 'more', 'than', '0', 'wounded'], ['\"', 'jeremy', 'good', 'guy', '\"', 'barber', 'said', 'adding', '\"', 'jeremy', 'living', 'dream', 'life', 'new', 'york', 'athlete'], ['mitsubishi', 'tokyo', 'financial', '(', 'jp', '0', 'news', 'chart', 'profile', ')', 'declined', '3,000', 'yen', '0.65', 'percent', 'to', '456,000', 'yen'], ['1,557', 'genes', 'chromosome', '0', 'thought', 'to', 'functional'], ['second', 'quarter', 'anadarko', 'now', 'expects', 'volume', '0', 'million', 'boe', 'down', 'from', '0', 'million', 'boe'], ['U.S.', 'troops', 'encountered', 'no', 'resistance', 'five-hour', 'sweep', 'near', 'tikrit', 'saddam', 'hussein', 'hometown', 'center', 'region', 'baath', 'party', 'supporters'], ['miodrag', 'zivkovic', 'liberal', 'alliance', 'montenegro', 'won', '0', 'percent', 'vote', 'independent', 'dragan', 'hajdukovic', 'got', 'four', 'percent'], ['year-ago', 'period', 'pearson', 'posted', '0', 'million', 'pre-tax', 'profit'], ['thursday', 'oracle', 'said', '34.75', 'million', 'peoplesoft', 'shares', 'tendered'], ['yucaipa', 'owned', 'dominick', 'selling', 'chain', 'to', 'safeway', '0', '$', '2.5', 'billion'], ['graves', 'reported', 'from', 'albuquerque', 'villafranca', 'from', 'austin', 'ratcliffe', 'from', 'laredo'], ['0', 'percent', 'increase', 'would', 'raise', 'undergraduate', 'tuition', 'to', '$', '5,247', 'annually', 'including', 'miscellaneous', 'campus-based', 'fees'], ['authorities', 'said', 'scientist', 'properly', 'quarantined', 'home', 'developed', 'sars', 'symptoms', 'Dec.', '0'], ['support', 'will', 'come', 'free', 'software', 'upgrade', 'called', 'webvpn', 'current', 'customers', 'support', 'contracts'], ['hilsenrath', 'klarman', 'each', 'indicted', 'three', 'counts', 'securities', 'fraud'], ['new', 'sensor', '--', 'dubbed', 'canary', '\"', 'cellular', 'analysis', 'notification', 'antigen', 'risks', 'yields', '\"', '--', 'hijacks', 'natural', 'process', 'two', 'important', 'changes'], ['one', 'fort', 'Carson-based', 'Sgt.', 'ernest', 'bucklew', '0', 'way', 'home', 'to', 'attend', 'mother', 'funeral', 'pennsylvania'], ['waksal', 'pleaded', 'guilty', 'to', 'securities', 'fraud', 'to', 'sentenced', 'next', 'week'], ['device', 'plays', 'internet', 'radio', 'streams', 'comes', '30-day', 'trial', 'realnetworks', \"'\", 'rhapsody', 'music', 'service'], ['dollar', 'fell', 'low', '$', '1.1624', 'per', 'euro', 'from', '$', '1.1486', 'friday', 'traded', '$', '1.1594', '0', '0', 'a.m.', 'london'], ['hearing', 'morales', 'expressed', '\"', 'sincere', 'regrets', 'remorse', '\"', 'actions'], ['site', 'finder', 'visited', '0', 'million', 'times', 'since', 'introduction', 'galvin', 'said'], ['according', 'to', 'sunncomm', 'peter', 'jacobs', '\"', 'mediamax', 'performs', 'exactly', \"'\", 'advertised', \"'\", 'to', 'companies', 'purchased'], ['tracked', 'to', 'atlanta', 'where', 'arrested', 'tuesday', 'night'], ['bush', 'administration', 'blames', 'hussein', 'loyalists', 'foreign', 'muslim', 'militants', 'entered', 'iraq', 'to', 'fight', 'U.S.', 'troops', 'wave', 'bombings', 'guerrilla', 'attacks'], ['later', 'emerged', 'broken', 'right', 'thigh', 'bones', 'right', 'wrist', 'elbow'], ['senate', 'agreed', 'tuesday', 'to', 'lift', '10-year-old', 'ban', 'research', 'development', 'low-yield', 'nuclear', 'weapons'], ['some', '0', 'million', 'americans', '--', 'half', 'all', 'households', '--', 'invest', 'mutual', 'funds'], ['house', 'passed', 'prescription-drug', 'legislation', 'last', 'two', 'sessions', 'senate', 'failed', 'to', 'so'], ['elderly', 'weakened', 'immune', 'systems', 'also', 'urged', 'to', 'protect', 'mosquito', 'bites'], ['ms', 'lafferty', 'lawyer', 'thomas', 'ezzell', 'told', 'kentucky', 'newspaper', '\"', 'understanding', 'there', 'lower', 'percentage', 'successful', 'impregnations', 'frozen'], ['klarman', 'arrested', 'fbi', 'agents', 'hamptons', 'exclusive', 'summer', 'resort', 'enclave', 'east', 'new', 'york', 'city'], ['bishop', 'told', 'police', 'thought', 'hit', 'dog', 'cat', 'someone', 'thrown', 'rock', 'vehicle'], ['promotional', 'poster', 'complete', 'countdown', 'dial', 'reminds', 'readers', 'upcoming', 'release', '\"', 'harry', 'potter', 'order', 'phoenix', '\"'], ['\"', 'further', 'testing', 'still', 'under', 'way', 'stage', 'given', 'early', 'detection', 'outlook', 'such', 'instances', 'would', 'positive', '\"', 'specialist', 'said', 'yesterday'], ['morning', 'trading', 'dow', 'jones', 'industrial', 'average', 'up', '40.12', '0.5', 'percent', '8,571.69', 'fallen', '0', 'points', 'monday'], ['rich', 'media', 'doubled', 'share', 'increasing', 'from', '0', '%', 'Q2', '0', 'to', '0', '%', 'Q2', '0'], ['will', 'take', 'time', 'to', 'oust', 'die-hard', 'remnants', 'saddam', 'hussein', 'deposed', 'regime', 'iraq', 'defense', 'secretary', 'donald', 'H.', 'rumsfeld', 'said', 'tuesday'], ['sayliyah', 'command', 'base', 'iraq', 'war', 'central', 'command', 'sent', 'hundreds', 'ran', 'war', 'back', 'home', 'to', 'tampa', 'florida'], ['sco', 'says', 'pricing', 'terms', 'license', 'will', 'not', 'announced', 'weeks'], ['sources', 'within', 'racing', 'industry', 'told', 'daily', 'bulletin', 'fontana', 'will', 'get', 'second', 'nascar', 'race', 'labor', 'day', 'weekend', 'starting', 'next', 'season'], ['dow', 'jones', 'industrial', 'average', '.DJI', 'ended', 'up', '56.79', 'points', '0.67', 'percent', '8,588.36', '--', 'highest', 'level', 'since', 'january', '0'], ['dennehy', 'transferred', 'to', 'baylor', 'last', 'year', 'getting', 'kicked', 'off', 'university', 'new', 'mexico', 'lobos', 'temper', 'tantrums', 'begun', 'to', 'read', 'bible', 'daily'], ['bashir', 'felt', 'tried', 'opinion', 'not', 'facts', 'mahendradatta', 'told', 'reuters'], ['schofield', 'got', 'toepfer', 'to', 'admit', 'cross-examination', 'ignored', 'many', 'o', \"'Donnell\", 'suggestions', 'projects'], ['case', 'court', 'held', 'cincinnati', 'violated', 'first', 'amendment', 'banning', 'only', 'advertising', 'pamphlets', 'interest', 'aesthetics'], ['box', 'cutters', 'used', 'weapon', 'sept', '0', '0', 'hijackers', 'since', 'banned', 'carry-on', 'items'], ['july', '0', 'moore', 'announced', 'would', 'appeal', 'case', 'directly', 'to', 'U.S.', 'supreme', 'court'], ['southwest', 'said', 'traffic', 'up', '4.6', 'percent', 'quarter', 'ended', 'quarter', '$', '2.2', 'billion', 'cash'], ['four', 'versions', 'windows', 'operating', 'systems', 'targeted', 'windows', 'nt', 'windows', '0', 'windows', 'xp', 'windows', 'server', '0'], ['shares', 'mcdonald', 'Corp.', 'wendy', 'international', 'Inc.', 'continued', 'modest', 'run-up', 'new', 'york', 'stock', 'exchange', 'monday'], ['playfully', 'chided', 'senate', '\"', 'little', 'bitty', 'tax', 'relief', 'plan', '\"'], ['looking', 'to', 'buy', 'latest', 'harry', 'potter'], ['mediaq', 'customers', 'include', 'major', 'handheld', 'makers', 'mitsubishi', 'siemens', 'palm', 'sharp', 'philips', 'dell', 'sony'], ['aventis', 'based', 'strasbourg', 'france', 'one', 'handful', 'companies', 'still', 'make', 'flu', 'vaccine'], ['michael', 'bloomberg', 'nyc', 'mayor', '\"', \"'m\", 'gonna', 'try', 'march', 'number', 'different', 'groups'], ['attack', 'seemed', 'similar', 'to', 'others', 'staged', 'near', 'foreign', 'compounds', 'riyadh', 'may', '0'], ['\"', 'put', 'lot', 'effort', 'energy', 'improving', 'patching', 'process', 'probably', 'later', 'than', 'should', 'now', \"'re\", 'just', 'gaining', 'incredible', 'speed'], ['boy', 'also', 'sprayed', 'room', 'full', 'retardant', 'from', 'fire', 'extinguishers', 'made', 'hard', 'to', 'see', 'chief', 'said'], ['\"', 'hrt', 'should', 'not', 'used', 'to', 'prevent', 'heart', 'disease', 'any', 'other', 'chronic', 'condition', '\"'], ['meat', 'poultry', 'butter', 'cheese', 'nuts', 'impounded', 'year', 'ago', 'lagrou', 'cold', 'storage', 'warehouse', 'chicago'], ['BlueCore3-Multimedia', 'includes', '16-bit', 'stereo', 'audio', 'codec', 'dual', 'adc', 'dac', 'stereo', 'audio'], ['now', 'agency', 'last', 'three', 'shuttles', 'grounded', 'wake', 'columbia', 'disaster', 'wait', 'could', 'even', 'longer'], ['bremer', '0', 'onetime', 'assistant', 'to', 'former', 'secretaries', 'state', 'william', 'P.', 'rogers', 'henry', 'kissinger', 'ambassador-at-large', 'counterterrorism', 'from', '0', 'to', '0'], ['conversations', 'not', 'taken', 'place', 'tuesday', 'night', 'according', 'to', 'oracle', 'spokeswoman'], ['taiwan', 'attempted', 'to', 'gain', 'observer', 'status', 'to', 'united', 'Nations-affiliated', 'seven', 'years', 'again', 'rebuffed', 'march', '0', 'annual', 'conference', 'geneva'], ['washington', 'county', 'man', 'may', 'countys', 'first', 'human', 'case', 'west', 'nile', 'virus', 'health', 'department', 'said', 'friday'], ['national', 'breast', 'cancer', 'centre', 'chief', 'executive', 'professor', 'christine', 'ewan', 'said', 'too', 'early', 'to', 'quantify', 'risk', 'to', 'women'], ['brendsel', 'chief', 'financial', 'officer', 'vaughn', 'clarke', 'resigned', 'june', '0'], ['health', 'care', 'ndp', 'says', 'there', 'will', 'no', 'privatization', 'no', 'health-care', 'premiums'], ['new', 'companies', 'will', 'begin', 'trading', 'nasdaq', 'today', 'under', 'ticker', 'symbols', 'plmo', 'psrc'], ['kids', 'adults', 'booksellers', 'postal', 'workers', 'all', 'preparing', '\"', 'harry', 'potter', 'order', 'phoenix', '\"'], ['government', 'not', 'identify', 'taikonauts', '—', 'term', 'coined', 'from', '‘', '‘', 'taikong', '’', '’', 'chinese', 'word', 'space', '—', 'would', 'travel', 'second', 'mission'], ['think', 'made', 'right', 'case', 'right', 'thing', '\"'], ['Kollar-Kotelly', 'scheduled', 'another', 'antitrust', 'settlement', 'compliance', 'hearing', 'january'], ['\"', 'tomorrow', 'mission', 'inn', 'opportunity', 'to', 'congratulate', 'governor-elect', 'great', 'state', 'california'], ['\"', 'expect', 'japan', 'to', 'keep', 'conducting', 'intervention', 'volume', 'likely', 'to', 'fall', 'sharply', '\"', 'said', 'junya', 'tanase', 'forex', 'strategist', 'jp', 'morgan', 'chase'], ['sunshine', 'group', 'ltd', 'represented', 'developers', 'related', 'companies', 'apollo', 'real', 'estate', 'advisors', 'lp', 'deal'], ['\"', 'third', 'owe', 'world', '\"', 'told', 'reporters'], ['tech-laced', 'nasdaq', 'composite', 'index', 'gained', '2.90', 'points', '0.18', 'percent', 'to', '1,606.87'], ['benchmark', '10-year', 'treasury', 'note', 'yield', '<', 'US10YT', '=', 'rr', '>', 'dipped', 'below', '4.20', 'percent', 'tuesday'], ['so', 'edie', 'falco', 'critically', 'praised', 'co-star', '\"', 'frankie', 'johnny', '\"'], ['\"', 'saddam', 'gone', 'want', '(', 'U.S.', ')', 'occupation', 'to', 'end', '\"', 'said', 'hit', 'resident', 'abu', 'qasim'], ['joe', 'kernan', 'lieutenant', 'governor', 'past', 'seven', 'years', 'sworn', 'governor', 'o', \"'Bannon\", 'died', 'saturday'], ['advanced', 'micro', 'devices', 'said', 'fujitsu', 'siemens', 'computers', 'offering', 'high-end', 'workstation', 'based', 'amd', 'opteron', '0', 'series'], ['kodak', 'expects', 'earnings', '0', 'cents', 'to', '0', 'cents', 'share', 'quarter'], ['shares', 'corixa', 'fell', '0', 'cents', 'to', '$', '6.88', 'nasdaq', 'stock', 'market'], ['referring', 'to', 'john', 'S.', 'reed', 'former', 'citicorp', 'chief', 'executive', 'became', 'interim', 'chairman', 'chief', 'executive', 'exchange', 'last', 'sunday'], ['refused', 'to', 'reveal', 'percentage', 'flights', 'carried', 'sky', 'marshals', 'whether', 'would', 'increased'], ['nasdaq', 'composite', 'index', 'rose', '19.67', '1.3', 'percent', 'to', '1523.71', 'highest', 'since', 'june', '0'], ['said', 'concluded', 'film', 'failed', '\"', 'to', 'present', 'balanced', 'portrayal', '\"', 'reagans'], ['state', 'health', 'officials', 'said', 'today', 'young', 'northeast', 'kansas', 'woman', 'likely', 'state', 'first', 'case', 'monkeypox', 'among', 'humans', 'animals'], ['navistar', 'shares', 'down', '0', 'cents', '1.1', 'percent', '$', '41.19', 'new', 'york', 'stock', 'exchange', 'falling', 'low', '$', '39.93'], ['only', 'intel', 'Corp.', \"'\", 's', '0.3', 'percent', 'yield', 'lower'], ['mgm', 'nbc', 'liberty', 'executives', 'not', 'immediately', 'available', 'comment'], ['new', 'analysis', 'found', '0', '16,608', 'participants', 'developed', 'ovarian', 'cancer', '0', 'years', 'follow-up'], ['veteran', 'stage', 'screen', 'actor', 'hume', 'cronyn', 'died', 'cancer', 'sunday'], ['deirdre', 'hisler', 'government', 'canyon', 'manager', 'said', 'state', 'long', 'eye', 'piece', 'property', 'eager', 'to', 'complete', 'deal', 'to', 'obtain'], ['reuters', 'witnesses', 'said', 'many', 'houses', 'flattened', 'city', 'squares', 'packed', 'crying', 'children', 'homeless', 'huddled', 'blankets', 'to', 'protect', 'from', 'cold'], ['three', 'grocery', 'chains', 'relying', 'store', 'managers', 'replacement', 'workers', 'to', 'keep', 'stores', 'open'], ['security', 'official', 'backup', 'couldn', \"'t\", 'fill', 'active', 'military', 'duty', 'strutt', 'said'], ['researchers', 'found', 'fossils', 'semidesert', 'area', 'venezuela', '0', 'miles', 'west', 'caracas'], ['mr', 'mcdonnell', 'leading', 'grant', 'thornton', 'international', 'inquiry', 'italian', 'business'], ['industry', 'largest', 'association', 'urging', 'members', 'not', 'call', 'more', 'than', '0', 'million', 'home', 'cellular', 'numbers', 'list'], ['workers', 'accuse', 'general', 'dynamics', '\"', 'reverse', 'age', 'discrimination', '\"', 'change', 'retirement', 'benefits', '0'], ['tech-laced', 'nasdaq', 'composite', 'index', '.IXIC', 'eased', '5.16', 'points', '0.32', 'percent', '1,590.75', 'breaking', 'six-day', 'string', 'gains'], ['space', 'infrared', 'telescope', 'facility', 'mission', 'to', 'search', 'beginnings', 'universe'], ['respected', 'medical', 'journal', 'lancet', 'called', 'complete', 'ban', 'tobacco', 'united', 'kingdom'], ['driver', 'truck', 'escaped', 'now', 'sought', 'police', 'supoyo', 'said'], ['\"', 'so', 'many', 'different', 'ways', 'artistry', 'black', 'musicians', 'conveyed', 'experience', 'black', 'americans', 'throughout', 'history', '\"', 'bush', 'said'], ['geraldine', 'andrews', 'pastor', 'daughter-in-law', 'said', 'robinson', 'recently', 'took', 'daughter', 'out', 'mental', 'health', 'facility'], ['thursday', 'matinee', 'baker', 'called', 'clubhouse', 'meeting', 'concerned', 'controversy', 'distracted', 'cubs'], ['taken', 'ambulance', 'to', 'charing', 'cross', 'hospital', 'hammersmith'], ['shortly', 'opening', 'bell', 'dow', 'jones', 'industrial', 'average', 'up', '11.13', 'to', '9,228.48', 's', '&', 'p', '0', 'index', 'gained', '1.74', 'to', '982.33'], ['addition', 'primary', 'care', 'trusts', '(', 'pcts', ')', 'given', 'star', 'ratings', 'first', 'time', 'year'], ['\"', 'expending', 'all', 'available', 'resources', 'toward', 'investigation', '\"', 'said', 'assistant', 'U.S.', 'attorney', 'todd', 'greenberg', 'counterterrorism', 'prosecutor', 'seattle'], ['technology-laced', 'nasdaq', 'composite', 'index', '.IXIC', 'shed', '0', 'points', '0.98', 'percent', 'to', '1,492'], ['research', 'firm', 'earlier', 'forecast', 'increase', '4.9', 'percent'], ['peoplesoft', 'will', 'commit', '$', '0', 'million', 'cash', 'issue', '52.6', 'million', 'new', 'shares', 'companies', 'said'], ['so', 'state', 'union', 'address', 'january', 'bush', 'declared', 'british', 'government', '\"', 'learned', 'saddam', 'hussein', 'recently', 'sought', 'significant', 'quantities', 'uranium', 'from', 'africa', '\"'], ['other', '0', 'members', 'split', 'representatives', 'securities', 'industry', 'so-called', '\"', 'public', '\"', 'board', 'members'], ['episcopal', 'diocese', 'central', 'florida', 'became', 'one', 'first', 'nation', 'saturday', 'to', 'officially', 'reject', 'national', 'denomination', 'policies', 'homosexuality'], ['mcgill', 'also', 'detailed', 'hole', 'cut', 'caprice', 'trunk'], ['compared', 'year-earlier', 'profit', '$', '0', 'million', '0', 'cents', 'share'], ['\"', 'economy', 'nonetheless', 'yet', 'to', 'exhibit', 'sustainable', 'growth'], ['commission', 'estimated', 'california', 'lost', '$', '0', 'million', 'to', 'corporate', 'tax', 'shelters', '0'], ['other', 'markets', 'U.S.', 'treasuries', 'started', 'off', 'monday', 'weaker', 'stocks', 'rose', 'early'], ['technology-laced', 'nasdaq', 'composite', 'index', '.IXIC', 'down', '25.36', 'points', '1.53', 'percent', '1,628.26'], ['pentagon', 'hoped', 'to', 'retain', 'control', 'postwar', 'effort', 'so', 'decision', 'victory', 'secretary', 'state', 'colin', 'L.', 'powell'], ['prof', 'sally', 'baldwin', '0', 'from', 'york', 'fell', 'cavity', 'opened', 'up', 'when', 'structure', 'collapsed', 'tiburtina', 'station', 'italian', 'railway', 'officials', 'said'], ['calls', 'agency', 'to', 'plan', 'independent', 'safety', 'engineering', 'organization'], ['worldcom', 'accounting', 'problems', 'came', 'to', 'light', 'early', 'last', 'year', 'company', 'filed', 'bankruptcy', 'july', '0', 'citing', 'massive', 'accounting', 'irregularities'], ['study', 'also', 'found', 'consumer', 'goods', 'advertisers', 'continued', 'to', 'spend', 'most', 'dollars', 'online', 'representing', '0', '%', 'all', 'web', 'advertising'], ['kiernan', 'testified', 'seifert', 'received', 'gunshot', 'wound', 'to', 'back'], ['priced', '$', '5,995', 'unlimited', 'number', 'users', 'tapping', 'single', 'processor', '$', '0', 'per', 'user', 'minimum', 'five', 'users'], ['tropical', 'storm', 'heads', 'pass', 'along', 'honduras', 'coast'], ['suicide', 'bomber', 'kills', '0', 'nigeria', 'church'], ['us', 'says', 'ready', 'to', 'help', 'blind', 'chinese', 'activist'], ['gazans', 'fire', '0', 'rockets', 'israel', ';', 'no', 'injuries'], ['berri', 'says', 'ready', 'to', 'help', 'launch', 'national', 'unity', 'government'], ['0', 'dead', 'iraq', 'bomb', 'attacks'], ['hurricane', 'isaac', 'moves', 'inland', 'landfall'], ['nigeria', 'mourns', 'over', '0', 'people', 'killed', 'plane', 'crash'], ['icc', 'jails', 'congolese', 'warlord', '0', 'years', 'over', 'child', 'soldiers'], ['0', 'soldiers', 'killed', '0', 'injured', 'pkk', 'attack', 'eastern', 'turkey'], ['schiphol', 'airport', 'partly', 'evacuated', 'bomb', 'threat'], ['mier', 'ups', '0', 'growth', 'forecast', 'to', '4.2pc'], ['activists', 'syrian', 'troops', 'storm', 'damascus', 'suburb'], ['tehran', 'eu', 'sanctions', 'won', \"'t\", 'force', 'iran', 'nuclear', 'talks'], ['portugal', 'drownings', 'uk', 'girl', 'grandad', 'named'], ['iran', 'powers', 'set', 'high-stakes', 'nuclear', 'talks'], ['syrian', 'forces', 'kill', 'teen', 'aleppo', 'protests'], ['jaguar', 'to', 'create', '1,100', 'jobs', 'uk'], ['iraq', 'searches', 'syria', 'bound', 'iran', 'plane', 'officials'], ['syria', 'fighting', 'rages', 'russia', 'urges', 'western', 're-think'], ['erdogan', 'party', 'submits', 'plan', 'turkish', 'presidency'], ['publisher', 'acquitted', 'privacy', 'case'], ['samsung', 'overtakes', 'nokia', 'phones'], ['gu', 'kailai', 'murder', 'trial', 'ends', 'china'], ['not', \"'\", 'hiding', 'ball', \"'\", 'russia', 'obama'], ['england', 'captain', 'andrew', 'strauss', 'retires', 'from', 'professional', 'cricket'], ['china', 'backs', 'sri', 'lanka', 'un', 'resolution'], ['ton', 'up', 'tendulkar', 'reaches', '100th', 'international', 'hundred'], ['conspiracy', '-', 'lance'], ['mursi', 'takes', 'oath', 'office', 'becomes', 'egyptian', 'president'], ['syrian', 'opposition', 'pleads', 'criminal', 'court', 'action'], ['sunderland', '2-2', 'bolton', 'davies', 'double', 'gets', 'trotters', 'point', 'stay', 'bottom', 'three'], ['syrian', 'forces', 'shell', 'towns', 'clash', 'rebels'], ['bahraini', 'protesters', 'police', 'clash', 'funeral'], ['apple', 'buying', 'security', 'firm', 'authentec', '$', '0', 'million'], ['trade', 'newspaper', 'variety', 'up', 'sale'], ['australians', 'flee', 'homes', 'amid', 'floods'], ['germany', 'dodges', 'recession', 'growth', 'first', 'quarter'], ['asian', 'stocks', 'rise', 'greek', 'vote', 'eases', 'fears'], ['british', 'soldier', 'killed', 'southern', 'afghanistan'], ['obama', 'silent', 'china', 'dissident'], ['suicide', 'bomber', 'kills', '0', 'afghan', 'capital'], ['denver', 'shooting', 'police', 'to', 'detonate', 'devices', 'suspect', 'home'], ['syria', 'hands', 'over', 'bodies', 'journalists'], ['coroner', 'whitney', 'houston', 'died', 'bathtub'], ['japan', 'suffers', 'severe', 'flooding', '-', 'pictures'], ['japan', 'to', 'deport', 'chinese', 'held', 'over', 'island', 'landing'], ['some', 'syria', 'violence', 'amounts', 'to', 'civil', 'war-Red', 'cross'], ['romney', 'wins', 'nevada', 'caucus'], ['apple', 'ipad', 'mini', 'makes', 'debut'], ['hamas', 'hangs', 'three', 'gaza', 'prisoners'], ['east', 'timor', 'votes', 'presidential', 'election'], ['sunday', 'times', 'journalist', 'marie', 'colvin', 'killed', 'syria'], ['kl', 'shares', 'higher', 'mid-afternoon'], ['chicago', 'teachers', 'strike', 'bitter', 'contract', 'dispute'], ['israel', 'to', 'free', 'palestinian', 'hunger', 'striker'], ['not', 'good', 'beginning', 'hollande', 'plane', 'hit', 'lightning', 'en', 'route', 'to', 'berlin'], ['afghan', 'parliament', 'votes', 'to', 'oust', 'key', 'ministers'], ['attacker', 'afghan', 'uniform', 'kills', '0', 'nato', 'troops'], ['cheap', 'generics', 'no', 'panacea', 'india', '’', 's', 'poorest'], [\"'\", 'arrest', 'warrant', \"'\", 'maldives', 'ex-president'], ['hrw', 'jordan', 'turning', 'away', 'palestinian', 'refugees', 'from', 'syria'], ['syrian', 'forces', 'overrun', 'rebel', 'stronghold'], ['chinese', 'stocks', 'close', 'higher', 'midday', 'friday'], ['sandy', 'slams', 'northeast', ';', 'least', '0', 'dead', '7.4M', 'without', 'power'], ['putin', 'declares', 'victory', 'russia', 'presidential', 'vote'], ['supreme', 'court', 'to', 'hear', 'voting', 'rights', 'act', 'case'], ['libya', 'postpones', 'assembly', 'election', 'to', 'july', '0'], ['london', '0', 'olympics', 'opening', 'ceremony', \"'\", 'to', 'feature', 'green', 'pleasant', 'land', \"'\"], ['pakistan', 'blocks', 'twitter', 'over', 'anti-Islamic', 'material'], ['annan', 'to', 'visit', 'syrian', 'refugees', 'turkey', 'tuesday'], ['pakistani', 'pm', 'shocked', 'avalanche', 'trapping', 'army', 'personnel'], ['opposition', 'leaders', 'emerge', 'to', 'commemorate', 'cambodian', 'workers', \"'\", 'deaths'], ['mali', 'due', 'to', 'vote', 'president'], ['pussy', 'riot', 'member', 'alyokhina', 'released', 'from', 'jail', 'russia'], ['asiana', 'jet', 'crash', 'lands', 'san', 'francisco', 'airport'], ['blizzard', 'hammers', 'U.S.', 'northeast', 'five', 'dead', '700,000', 'lose', 'power'], ['0', 'french', 'journalists', 'killed', 'mali'], ['vehicles', 'ablaze', 'collapsed', 'japan', 'tunnel'], ['china', 'stocks', 'close', 'lower', 'friday'], ['mayor', 'says', '0', 'dead', 'texas', 'fertilizer', 'plant', 'blast'], ['cbn', 'reiterates', 'plan', 'to', 'phase', 'out', 'polymer', 'notes'], ['U.S.', 'files', 'espionage', 'charges', 'agains', 'nsa', 'leaker'], ['chinese', 'general', 'son', 'gets', '0', 'years', 'jail', 'rape'], ['where', 'rusty', 'red', 'panda', 'vanishes', 'from', 'national', 'zoo'], ['queen', 'beatrix', 'netherlands', 'to', 'abdicate', 'son'], ['U.S.', 'dumps', 'bombs', 'great', 'barrier', 'reef'], ['0', 'taliban', 'militants', 'killed', 'afghanistan'], ['most', 'powerful', 'typhoon', '0', 'hits', 'philippines'], ['calls', 'more', 'egypt', 'protests'], ['us', 'government', \"'\", 'edge', 'shutdown', \"'\"], ['0', 'killed', 'fighting', 'northern', 'syria'], ['critics', 'say', 'putin', '’', 's', 'security', 'restrictions', 'violate', 'rights'], ['egypt', 'braces', 'more', 'protests', 'prays', 'calm'], ['morsi', 'supporters', 'protest', 'egypt'], ['stocks', 'rise', 'early', 'trading'], ['bangladesh', 'building', 'collapse', 'death', 'toll', 'hits', '0', 'army'], ['defiant', 'mugabe', 'sworn', 'seventh', 'term', 'blasts', \"'\", 'vile', \"'\", 'west'], ['nelson', 'mandela', 'hospital', 'tests'], ['iran', 'six', 'global', 'powers', 'sign', 'landmark', 'nuclear', 'deal'], ['algeria', 'mounts', 'military', 'operation', 'to', 'rescue', 'al', 'qaeda', 'hostages'], ['delhi', 'gang', 'rape', 'victim', 'dies', 'singapore', 'hospital'], ['birth', 'control', 'linked', 'higher', 'glaucoma', 'risk'], ['malaysia', 'sets', 'may', '0', 'date', 'closely', 'contested', 'election'], ['dhawan', 'smashes', 'india', 'to', 'big', 'win', 'over', 'south', 'africa'], ['n', 'korea', 'postpones', 'family', 'reunions'], ['syria', 'rejects', 'us', 'uk', 'chemical', 'arms', 'claims'], ['egypt', 'arrests', 'muslim', 'brotherhood', 'supreme', 'guide'], ['gunmen', 'kill', 'nine', 'people', 'northwest', 'pakistan'], ['news', 'summary', 'march', '0'], ['hawaii', 'passes', 'gay', 'marriage', 'bill'], ['syrian', 'opposition', 'urges', 'eu', 'to', 'send', 'arms', 'to', 'rebels'], ['funeral', 'oscar', 'pistorius', \"'\", 'girlfriend', 'reeva', 'steenkamp', 'takes', 'place'], ['two', 'firefighters', 'killed', 'new', 'york', 'ambush'], ['ten', 'rescued', 'off', 'waterford', 'dublin', 'coasts'], ['mars', 'rover', 'collects', 'first', 'bedrock', 'sample'], ['ankeet', 'chavan', 'granted', 'conditional', 'bail', 'marriage'], ['man', 'battled', 'fukushima', 'disaster', 'dies', 'cancer'], ['iran', 'says', 'nuclear', 'talks', 'to', 'resume', 'next', 'month'], ['us', 'authorities', 'charge', 'man', 'ricin', 'probe'], ['0', 'bodies', 'found', 'raided', 'algerian', 'gas', 'plant'], ['ferrer', 'cruises', 'australian', 'open', 'quarter-finals'], ['ubs', 'settles', 'us', 'mortgage', 'lawsuit'], ['north', 'south', 'korea', 'agree', 'to', 'talks'], ['gunmen', 'kill', 'female', 'politician', 'pakistan'], ['kardashian', 'divorce', 'ready', 'trial'], ['new', 'zealand', 'set', 'to', 'legalise', 'gay', 'marriage'], ['syria', 'regime', 'claims', 'evacuation', '5,000', 'near', 'damascus'], ['nobel', 'prize', 'winning', 'author', 'doris', 'lessing', 'dies'], ['internet', 'phone', 'service', 'restored', 'syrian', 'capital'], ['syrian', 'pm', 'survives', 'bomb', 'attack'], ['us', 'stock', 'futures', 'edge', 'up', 'ahead', 'jobs', 'report'], ['bomb', 'blast', 'kills', '0', 'southwest', 'pakistan'], ['david', 'cameron', 'puts', 'sri', 'lanka', 'notice', 'over', 'war', 'crime', 'allegations'], ['morsi', 'supporters', 'clash', 'riot', 'police', 'cairo'], ['afghan', 'police', 'kill', '0', 'taliban', 'fighters'], ['gunmen', 'kidnap', 'airline', 'pilots', 'lebanon'], ['kurdish', 'rebels', 'to', 'withdraw', 'from', 'turkey', 'march', 'report'], ['japan', 'revises', 'gdp', 'growth', 'to', 'annual', '1.1', 'pct', 'Q3'], ['foundations', 'south', 'africa', 'built', 'nelson', 'mandela', 'memory'], ['ukraine', 'protest', 'leaders', 'name', 'ministers', 'russian', 'troops', 'alert'], ['malala', 'snowden', 'belarusians', 'Short-Listed', 'sakharov', 'prize'], ['elbaradei', 'to', 'become', 'egyptian', 'pm'], ['taiwan', 'economy', 'grows', '2.27', '%', 'April-June', 'quarter'], ['tamerlan', 'tsarnaev', 'buried', 'virginia'], ['state', 'Dept.', 'issues', 'wide', 'travel', 'alert', 'says', 'terror', 'attack', 'possible'], ['singapore', 'stocks', 'end', 'up', '0.11', 'pct'], ['russia', 'warns', 'ukraine', 'eu', 'deal'], ['hernandez', 'double', 'gives', 'mexico', 'victory'], ['china', 'sacks', 'top', 'economic', 'official'], ['canada', 'approves', 'oil', 'pipeline', 'to', 'pacific', 'coast'], ['storm', 'buries', 'northeast', ';', '0', 'inches', 'snow', 'nj'], ['jamaican', 'connection', 'liverpool', 'win'], ['international', 'weapons', 'experts', 'leave', 'syria', 'obama', 'to', 'make', 'statement'], ['southwest', 'jet', 'hit', 'nose', 'first'], ['twelve', 'killed', 'bomb', 'blast', 'pakistani', 'train'], ['powerful', 'quake', 'strikes', 'off', 'eastern', 'indonesia'], ['obama', 'lashes', 'north', 'korea', 'pariah', 'state'], ['colombia', 'strike', 'three', 'times'], ['lord', 'palumbo', 'offers', 'hope', 'relationship', 'son', 'james'], ['deputy', 'speaker', 'faces', 'new', 'sex', 'claims'], ['cia', 'chief', 'visits', 'israel', 'syria', 'talks'], ['suicide', 'bomb', 'kills', '0', 'injures', '0', 'pakistan'], ['ukraine', 'rebels', \"'\", 'flee', 'eastern', 'stronghold', \"'\"], ['0', 'foreigners', 'among', '0', 'killed', 'kabul', 'hotel', 'attack'], ['firefighters', 'battle', 'forest', 'fire', 'sw', 'china'], ['hassan', 'rouhani', 'wins', 'iran', 'presidential', 'election'], ['woman', 'remanded', 'over', 'child', 'death', 'woman', 'remanded', 'custody', 'charged', 'murder', 'eight-year-old', 'girl', 'found', 'dead', 'block', 'flats'], ['Red-shirt', 'leader', 'calls', 'not', 'to', 'oppose', 'army'], ['russia', 'praises', 'idea', 'to', 'render', 'rights', 'assistance', 'to', 'ukraine'], ['georgian', 'pm', 'ally', 'to', 'become', 'president', '-', 'exit', 'poll'], ['car', 'bombs', 'kill', 'least', '0', 'iraqi', 'capital'], ['saudi', 'arabia', 'gets', 'seat', 'un', 'security', 'council'], ['us', 'drone', 'strike', 'kills', '0', 'pakistan'], ['0', 'killed', 'bomb', 'attack', 'pakistani', 'base'], ['shenzhen', 'stock', 'indices', 'close', 'higher', 'monday'], ['prince', 'harry', 'pays', 'tribute', 'to', 'us', 'war', 'dead'], ['0', 'dead', 'iraq', 'attacks', 'bomb', 'football', 'pitch'], ['myanmar', 'arrests', '0', 'over', 'sectarian', 'violence'], ['iran', 'official', 'us', 'visa', 'denial', 'to', 'iranian', 'envoy', 'will', 'not', 'affect', 'nuke', 'talks'], ['gov', \"'ts\", 'groups', 'pledge', 'millions', 'typhoon', 'relief'], ['greece', 'suspends', 'state', 'broadcaster'], ['guatemalan', 'court', 'finds', 'former', 'dictator', 'guilty', 'genocide'], ['beaten', 'florida', 'teen', 'released', 'israel'], ['iran', 'sextet', 'to', 'resume', 'expert', 'talks'], ['bangladesh', 'collapse', 'search', 'over', ';', 'death', 'toll', '1,127'], ['neymar', 'powers', 'brazil', 'last', '0'], ['ukraine', 'to', 'implement', 'unilateral', 'ceasefire'], ['stones', 'add', 'second', 'hyde', 'park', 'concert'], ['papers', 'say', 'Aug.', '0', '0'], ['0', 'nations', 'meet', 'haze'], ['car', 'bomb', 'swedish', 'consulate', 'libya', 'benghazi', 'no', 'casualties'], ['bomber', 'strikes', 'near', 'pakistan', 'army', 'hq'], ['croatia', 'begins', 'countdown', 'to', 'historic', 'eu', 'entry'], ['suicide', 'attack', 'kills', 'eight', 'baghdad'], ['war', 'criminals', 'heroes', 'whitewashing', 'ariel', 'sharon', 'ŕä'], ['rogers', 'videotron', 'extend', 'reach', 'network-sharing', 'deal'], ['prominent', 'aids', 'researchers', 'killed', 'malaysian', 'plane', 'crash'], ['israel', 'forces', 'kill', '0', 'palestinian', 'militants'], ['death', 'toll', \"'\", 'rises', 'to', '0', \"'\", 'typhoon', 'strikes', 'japan'], ['protests', 'continue', 'tense', 'ukraine', 'capital'], ['two', 'french', 'journalists', 'killed', 'mali', 'kidnapping'], ['headlines', 'major', 'iranian', 'newspapers', 'dec', '0'], ['iran', 'warns', 'spillover', 'possible', 'war', 'syria'], ['former', 'pakistan', 'president', 'pervez', 'musharraf', 'arrested', 'again'], ['us', 'drone', 'strike', \"'\", 'kills', '0', 'militants', 'pakistan', \"'\"], ['uk', 'Ex-Premier', 'margaret', 'thatcher', 'dies', '0'], ['polar', 'bear', 'dna', \"'\", 'may', 'help', 'fight', 'obesity', \"'\"], [\"'\", 'fast', '&', 'amp', ';', 'furious', \"'\", 'star', 'paul', 'walker', 'dies', 'car', 'crash'], ['air', 'strike', 'kills', 'one', 'man', 'syria', 'hama'], ['turkish', 'pm', 'president', 'clash', 'over', 'reply', 'to', 'protests'], ['strong', 'new', 'quake', 'hits', 'shattered', 'pak', 'region'], ['floods', 'central', 'europe', 'continue', 'to', 'create', 'havoc'], ['luxembourg', 'pm', 'quits', 'amid', 'spying', 'scandal'], ['0', 'dead', '0', 'missing', 'central', 'china', 'construction', 'accident'], ['us', 'china', 'fail', 'to', 'paper', 'over', 'cracks', 'ties'], ['world', 'cup', 'live', 'france', '0-0', 'germany'], ['tokyo', 'to', 'host', '0', 'games'], ['france', 'warns', 'extremists', 'benefiting', 'from', 'egypt', 'violence'], ['british', 'teenager', 'killed', 'fall', 'from', 'magaluf', 'hotel'], ['us', 'drone', 'strike', 'kills', 'eight', 'waziristan'], ['russian', 'opposition', 'leader', 'under', 'house', 'arrest'], ['senate', 'confirms', 'janet', 'yellen', 'chair', 'us', 'federal', 'reserve'], ['israel', 'confirms', 'strike', 'syria', 'targeted', 'weapons'], ['jurors', 'find', 'jodi', 'arias', 'eligible', 'death', 'penalty'], ['twitter', 'reports', 'blocking', 'venezuela'], ['goa', 'building', 'collapse', 'death', 'toll', 'touches', '0'], ['pak', 'religious', 'body', 'endorses', 'underage', 'marriage'], ['mt', 'gox', 'reveals', '200,000', \"'\", 'forgotten', \"'\", 'bitcoin', 'haul'], ['more', 'than', '0', 'injured', 'texas', 'plant', 'blast'], ['redford', 'touts', 'alberta', 'economy', 'ahead', 'vote', 'leadership'], ['obama', 'holds', 'out', 'over', 'syria', 'strikes'], ['south', 'korean', 'soldier', 'reportedly', 'flees', 'killing', '0', 'comrades', 'border', 'north', 'korea'], ['tycoon', 'claims', 'win', 'ukraine', 'promises', 'to', 'seek', 'future', 'eu'], ['syria', 'agrees', 'to', 'surrender', 'chemical', 'weapons'], ['abbvie', 'sours', '$', '55B', 'shire', 'deal', 'tax', 'changes'], ['militant', 'attack', 'from', 'afghanistan', 'kills', 'four', 'upper', 'dir'], ['0', 'killed', 'afgan', 'terror', 'attack'], ['rev', 'early', 'reads', 'march', '0'], ['pope', 'canonizes', '0', 'palestinians'], ['funeral', 'ian', 'paisley', 'to', 'take', 'place', 'belfast'], ['waba', 'emerges', 'new', 'nlc', 'president'], ['0', 'us', 'airstrikes', 'target', 'islamic', 'state', 'fighters'], ['us', 'senate', 'votes', 'to', 'advance', 'iran', 'nuclear', 'review', 'bill'], ['editors', 'from', 'around', 'world', 'urge', 'turkey', 'to', 'protect', 'media'], ['philippines', 'canada', 'pledge', 'to', 'further', 'boost', 'relations'], ['israel', 'bars', 'palestinians', 'from', 'jerusalem', 'old', 'city'], ['how', 'much', 'know', 'secret', 'service'], ['obama', 'struggles', 'to', 'soothe', 'saudi', 'fears', 'iran', 'talks', 'resume'], ['south', 'korea', 'declares', 'end', 'to', 'mers', 'outbreak']]\n"
          ]
        }
      ],
      "source": [
        "print(text_mt1)"
      ]
    },
    {
      "cell_type": "code",
      "execution_count": null,
      "metadata": {
        "colab": {
          "base_uri": "https://localhost:8080/"
        },
        "id": "zOZI2P2Ky3oD",
        "outputId": "ca4c5fd6-f2d6-46db-bcee-b76cd91a948e"
      },
      "outputs": [
        {
          "name": "stdout",
          "output_type": "stream",
          "text": [
            "[['girl', 'styling', 'hair'], ['group', 'men', 'play', 'soccer', 'beach'], ['one', 'woman', 'measuring', 'another', 'woman', 'ankle'], ['man', 'cutting', 'up', 'cucumber'], ['man', 'playing', 'harp'], ['woman', 'cutting', 'onions'], ['man', 'riding', 'electric', 'bicycle'], ['man', 'playing', 'drums'], ['man', 'playing', 'guitar'], ['man', 'playing', 'guitar'], ['man', 'playing', 'guitar'], ['man', 'cutting', 'onion'], ['man', 'cycling'], ['man', 'slicing', 'open', 'fish'], ['man', 'slicing', 'tomato'], ['man', 'playing', 'guitar'], ['baby', 'panda', 'goes', 'down', 'slide'], ['man', 'singing', 'playing', 'guitar'], ['man', 'attacks', 'woman'], ['man', 'driving', 'car'], ['woman', 'cutting', 'tofu'], ['woman', 'styling', 'hair'], ['two', 'zebras', 'play', 'open', 'field'], ['man', 'cutting', 'potato'], ['man', 'slicing', 'onion'], ['man', 'dancing'], ['man', 'riding', 'motorcycle'], ['woman', 'slicing', 'garlics'], ['man', 'speaking'], ['little', 'boy', 'singing', 'playing', 'guitar'], ['turtle', 'swimming', 'water'], ['young', 'woman', 'putting', 'stickers', 'all', 'over', 'face'], ['woman', 'wrapping', 'tofu'], ['cat', 'eating', 'some', 'corn'], ['man', 'eating', 'food'], ['man', 'playing', 'guitar'], ['man', 'kicking', 'pots', 'water'], ['man', 'cutting', 'pipe', 'scissors'], ['woman', 'dancing', 'rain'], ['woman', 'taking', 'bath'], ['man', 'mixes', 'vegetables', 'pot'], ['woman', 'talking', 'cell', 'phone'], ['man', 'playing', 'guitar'], ['man', 'playing', 'guitar'], ['man', 'cutting', 'apple', 'hand'], ['man', 'opening', 'door'], ['man', 'slicing', 'tomato'], ['man', 'cutting', 'paper', 'sword'], ['boy', 'studies', 'calendar'], ['ballerina', 'dancing'], ['woman', 'dancing'], ['woman', 'slicing', 'some', 'tomatoes'], ['woman', 'water', 'skiing'], ['man', 'playing', 'flute'], ['man', 'playing', 'piano'], ['woman', 'picking', 'can'], ['man', 'puts', 'three', 'pieces', 'meat', 'pan'], ['woman', 'cutting', 'onion'], ['some', 'men', 'sawing'], ['car', 'driven', 'down', 'road'], ['man', 'kissing', 'hugging', 'woman'], ['train', 'moving'], ['someone', 'slicing', 'onion'], ['woman', 'playing', 'ocean'], ['person', 'playing', 'electronic', 'keyboard'], ['man', 'holding', 'leaf'], ['woman', 'peeling', 'shrimp'], ['man', 'sitting', 'smoking'], ['man', 'playing', 'guitar'], ['man', 'standing', 'front', 'window', 'looking', 'outside'], ['skunk', 'looking', 'here', 'there'], ['man', 'playing', 'guitar', 'singing'], ['woman', 'opens', 'window'], ['people', 'dancing', 'outside'], ['man', 'using', 'camera', 'to', 'hammer', 'nail'], ['woman', 'filing', 'nails'], ['boy', 'crawling', 'dog', 'house'], ['woman', 'swimming', 'underwater'], ['machine', 'sharpening', 'pencil'], ['monkey', 'playing', 'drums'], ['man', 'opening', 'box', 'taking', 'out', 'paper'], ['woman', 'dancing'], ['person', 'drawing', 'large', 'touchscreen'], ['men', 'played', 'follow', 'leader', 'grass'], ['woman', 'cracking', 'eggs'], ['woman', 'peels', 'garlic', 'hands'], ['polar', 'bears', 'fought', 'over', 'kill'], ['man', 'trick', 'play', 'cards'], ['cat', 'licking', 'bottle'], ['person', 'slicing', 'onion'], ['person', 'peeling', 'potato', 'potato', 'peeler'], ['two', 'women', 'dancing', 'singing', 'front', 'crowd'], ['man', 'seasoning', 'some', 'carrots'], ['two', 'men', 'pushed', 'carts', 'woods'], ['man', 'playing', 'football'], ['lady', 'peeled', 'potatoe'], ['woman', 'slicing', 'some', 'tofu'], ['someone', 'typed', 'keyboard'], ['three', 'young', 'men', 'run', 'jump', 'kick', 'off', 'coke', 'machine'], ['young', 'asian', 'girl', 'applying', 'eyeliner'], ['cat', 'walking', 'around', 'house'], ['woman', 'talking', 'to', 'pet', 'bunny', 'fondles'], ['monkey', 'playing', 'drums'], ['man', 'riding', 'white', 'horse', 'enclosed', 'ground'], ['oriental', 'lady', 'cutting', 'carrot', 'thin', 'pieces'], ['group', 'people', 'dancing'], ['man', 'playing', 'guitar'], ['woman', 'mixes', 'up', 'vegetables'], ['woman', 'pours', 'mixture', 'bowl', 'mixes'], ['man', 'cutting', 'pieces', 'butter', 'mixing', 'bowl'], ['man', 'putting', 'garlic', 'some', 'bread', 'slices'], ['panda', 'bear', 'lay', 'logs'], ['five', 'men', 'jump', 'swimming', 'pool'], ['cheetah', 'running', 'behind', 'prey'], ['cat', 'playing', 'floor'], ['boy', 'playing', 'violin', 'stage'], ['dog', 'barking', 'toy'], ['man', 'cycling'], ['woman', 'slicing', 'ginger'], ['man', 'dragging', 'dead', 'deer'], ['man', 'preparing', 'snake', 'cooking'], ['woman', 'spreading', 'mustard', 'bread', 'roll'], ['someone', 'touched', 'kitten', 'chewing', 'string'], ['meat', 'put', 'skillet'], ['baby', 'elephant', 'eating', 'small', 'tree'], ['woman', 'man', 'dancing', 'rain'], ['someone', 'drawing'], ['man', 'playing', 'guitar'], ['two', 'men', 'fistfighting', 'ring'], ['person', 'wipes', 'butter', 'tray'], ['two', 'men', 'playing', 'football'], ['man', 'playing', 'guitar'], ['man', 'peeling', 'potato'], ['woman', 'stabbing', 'potato', 'fork'], ['child', 'waking', 'up'], ['boy', 'playing', 'key', '-', 'board'], ['woman', 'plays', 'flute'], ['woman', 'playing', 'electric', 'guitar'], ['man', 'playing', 'flute'], ['group', 'people', 'sweeping', 'water', 'out', 'house'], ['man', 'plays', 'guitar'], ['man', 'woman', 'kissing', 'each', 'other'], ['woman', 'climbing', 'cliff'], ['polar', 'bear', 'running', 'towards', 'group', 'walruses'], ['woman', 'cutting', 'some', 'fish'], ['someone', 'playing', 'piano'], ['man', 'pouring', 'rice', 'roni', 'pan'], ['man', 'breaking', 'wooden', 'boards', 'hand'], ['girl', 'playing', 'guitar'], ['man', 'praying'], ['man', 'playing', 'piano'], ['woman', 'slicing', 'onion'], ['man', 'riding', 'horse', 'creek'], ['man', 'playing', 'guitar'], ['man', 'picking', 'up', 'tree'], ['person', 'peeling', 'potato'], ['person', 'playing', 'piano'], ['man', 'spitting'], ['man', 'playing', 'musical', 'keyboard'], ['man', 'dancing'], ['man', 'plays', 'trumpet'], ['woman', 'riding', 'horse'], ['band', 'playing', 'stage'], ['woman', 'playing', 'guitar', 'singing'], ['man', 'eating'], ['little', 'boy', 'hits', 'golf', 'ball'], ['guy', 'taking', 'off', 'sunglasses'], ['someone', 'reading', 'email'], ['person', 'slicing', 'onions'], ['girl', 'coming', 'up', 'car'], ['man', 'playing', 'drums'], ['someone', 'slicing', 'onion'], ['woman', 'dicing', 'some', 'peeled', 'potatoes', 'cut', 'thick', 'strips'], ['little', 'girl', 'peddling', 'scooter'], ['cat', 'cleans'], ['man', 'kicking', 'soccer', 'ball'], ['woman', 'opens', 'window'], ['three', 'men', 'same', 'dance', 'street'], ['man', 'playing', 'guitar'], ['man', 'dancing'], ['woman', 'exercising'], ['boy', 'playing', 'violin', 'onstage'], ['woman', 'measuring', 'other', 'woman'], ['man', 'exercise'], ['dog', 'playing', 'toy'], ['man', 'playing', 'piano'], ['man', 'bowling'], ['woman', 'dancing', 'near', 'fire'], ['man', 'making', 'bed'], ['person', 'riding', 'motorcyle'], ['man', 'pours', 'rice', 'pot'], ['person', 'slicing', 'some', 'garlic'], ['woman', 'slicing', 'ginger'], ['men', 'playing', 'soccer'], ['person', 'scrubbing', 'zucchini'], ['panda', 'bear', 'chewing', 'stick'], ['people', 'lifting', 'bags'], ['man', 'talking', 'phone'], ['woman', 'braiding', 'hair'], ['man', 'throwing', 'knives', 'tree'], ['woman', 'slicing', 'tofu'], ['woman', 'folding', 'paper'], ['someone', 'folding', 'piece', 'paper'], ['man', 'lifting', 'weights'], ['man', 'playing', 'cello'], ['man', 'talking'], ['man', 'tries', 'to', 'feed', 'mouse', 'to', 'snake'], ['man', 'playing', 'drums'], ['man', 'playing', 'ukulele'], ['kitten', 'drinking', 'milk', 'from', 'bowl'], ['man', 'breaks', 'cinder', 'blocks', 'another', 'man'], ['man', 'hitting', 'boy', 'flower', 'vase'], ['man', 'mixing', 'whipping', 'cream'], ['man', 'stirring', 'juice'], ['someone', 'slicing', 'two', 'uncooked', 'racks', 'ribs', 'apart'], ['man', 'kicking', 'pots', 'water'], ['two', 'little', 'girls', 'talk', 'telephone'], ['cat', 'gets', 'stuck', 'moving', 'ceiling', 'fan'], ['cat', 'drinking', 'milk'], ['rocky', 'apollo', 'creed', 'running', 'down', 'beach'], ['man', 'singing', 'playing', 'guitar'], ['boat', 'sails', 'along', 'water'], ['okapi', 'eating', 'from', 'tree'], ['several', 'kids', 'jump', 'up', 'down', 'trampoline'], ['woman', 'pouring', 'egg', 'frying', 'pan'], ['woman', 'frying', 'ground', 'meat'], ['three', 'boys', 'karate', 'costumes', 'fighting'], ['swimmers', 'racing', 'lake'], ['person', 'boiling', 'noodles'], ['person', 'slicing', 'some', 'onions'], ['man', 'reels', 'fish'], ['woman', 'cutting', 'onion'], ['lady', 'mixed', 'up', 'meat', 'mixture', 'bowl'], ['girl', 'applying', 'makeup', 'face'], ['woman', 'puts', 'make', '-', 'up'], ['cat', 'plays', 'water'], ['person', 'adding', 'food', 'pan'], ['man', 'smoking'], ['person', 'putting', 'shredded', 'cheese', 'pot'], ['man', 'erasing', 'chalk', 'board'], ['man', 'exercising'], ['chimp', 'kicking', 'target'], ['man', 'exercise'], ['girl', 'carrying', 'baby'], ['several', 'swimmers', 'jump', 'water'], ['man', 'spins', 'surf', 'board'], ['young', 'man', 'riding', 'skateboard', 'jumps', 'onto', 'sidewalk', 'then', 'off', 'another', 'curb'], ['person', 'dices', 'up', 'orange', 'pepper'], ['two', 'men', 'dancing', 'together'], ['man', 'reading', 'email'], ['curious', 'boys', 'look', 'shed'], ['moped', 'front', 'steps', 'ruins'], ['man', 'sleeps', 'baby', 'lap'], ['two', 'cats', 'looking', 'window'], ['person', 'wearing', 'helmet', 'rides', 'bike', 'near', 'white', 'structure'], ['man', 'bicycle', 'coffee', 'house'], ['black', 'white', 'cat', 'high', 'up', 'tree', 'branches'], ['young', 'blonde', 'girl', 'wearing', 'helmet', 'sits', 'red', 'bicycle', 'behind'], ['blue', 'couch', 'twin', 'bed', 'living', 'room'], ['flock', 'sheep', 'spread', 'out', 'field'], ['two', 'dogs', 'one', 'cat', 'sitting', 'couch'], ['bicycle', 'parked', 'shop'], ['orange', 'white', 'cat', 'laying', 'blanket', 'black', 'leather', 'chair'], ['young', 'couple', 'sitting', 'black', 'couch'], ['group', 'black', 'people', 'front', 'building', 'moped'], ['elderly', 'woman', 'sitting', 'red', 'patterned', 'couch', 'arm', 'around', 'younger', 'woman'], ['man', 'riding', 'back', 'orange', 'suv'], ['red', 'white', 'bus', 'driving', 'down', 'road'], ['cat', 'laying', 'red', 'cushion', 'looking', 'camera'], ['two', 'green', 'white', 'trains', 'sitting', 'tracks'], ['grey', 'cat', 'lying', 'wooden', 'table'], ['man', 'sitting', 'back', 'yard', 'playing', 'guitar'], ['father', 'napping', 'chair', 'baby', 'lap'], ['close', 'up', 'head', 'ostrich'], ['green', 'white', 'bird', 'perched', 'tree', 'branch'], ['man', 'top', 'hat', 'rides', 'white', 'horse'], ['woman', 'riding', 'brown', 'horse'], ['two', 'men', 'standing', 'grass', 'staring', 'car'], ['two', 'indian', 'women', 'two', 'indian', 'girls', 'near', 'water'], ['table', 'set', 'wine', 'dishes', 'two', 'people'], ['moped', 'front', 'ruins'], ['person', 'driving', 'cart', 'pulled', 'bicycle'], ['dog', 'sniffing', 'bottom', 'door'], ['small', 'bird', 'sitting', 'branch', 'winter'], ['yellow', 'bird', 'eating', 'fruit', 'wire', 'grate'], ['brown', 'duck', 'white', 'duck', 'stand', 'grass'], ['black', 'white', 'cat', 'dog', 'striped', 'couch'], ['man', 'wearing', 'black', 'formal', 'wear', '&', 'black', 'top', 'hat', 'riding', 'white', 'show', 'horse'], ['small', 'brown', 'birds', 'eating', 'from', 'bird', 'feeder', 'hanging', 'from', 'tree'], ['picture', 'countryside', 'large', 'city', 'background'], ['blue', 'red', 'plane', 'mid-air', 'flight'], ['three', 'men', 'posing', 'tent'], ['close', '-', 'up', 'gray', 'cat', 'green', 'eyes'], ['train', 'train', 'station'], ['train', 'heads', 'down', 'tracks', 'along', 'hedge'], ['little', 'girl', 'laughing', 'camera'], ['three', 'young', 'women', 'standing', 'room', 'together'], ['white', 'bird', 'long', 'orange', 'legs', 'standing', 'lake'], ['red', 'train', 'driving', 'snow', 'covered', 'city'], ['three', 'bicyclists', 'crossing', 'bridge', 'city'], ['red', 'white', 'bus', 'drives', 'down', 'england', 'street'], ['birds', 'swimming', 'water'], ['black', 'dog', 'looking', 'camera'], ['group', 'horses', 'grazing', 'field'], ['several', 'people', 'motorcycles', 'market', 'square'], ['three', 'sheep', 'dirt', 'road', 'viewed', 'from', 'passenger', 'vehicle'], ['group', 'people', 'posing', 'two', 'men', 'dressed', 'elvis'], ['parrot', 'pushing', 'small', 'shopping', 'cart'], ['man', 'yellow', 'canoe', 'paddling', 'water'], ['beer', 'bottles', '(', '-', 'lrb', '-', 'harp', 'lager', ')', '-', 'rrb', '-', 'lined', 'up', 'floor'], ['two', 'women', 'sitting', 'outside', 'laughing'], ['steam', 'engine', 'train', 'moving', 'toward', 'camera'], ['brown', 'white', 'cow', 'field', 'looking', 'camera'], ['black', 'white', 'cow', 'standing', 'near', 'pile', 'snow'], ['home', 'office', 'space', 'bright', 'green', 'walls', 'artwork'], ['black', 'white', 'photo', 'man', 'driving', 'car', 'someone', 'motorcycle'], ['three', 'people', 'water', 'yellow', 'canoes'], ['girl', 'riding', 'hat', 'horse'], ['man', 'dressed', 'pale', 'scarf', 'stick'], ['very', 'retro', 'living', 'room', 'television'], ['girl', 'riding', 'hat', 'horse'], ['car', 'pulling', 'off', 'side', 'road', 'onto', 'street'], ['man', 'sitting', 'cross', 'legged', 'wearing', 'cloak', 'holding', 'stick'], ['two', 'black', 'white', 'dogs', 'bottom', 'stairs'], ['old', 'fashioned', 'wooden', 'sailing', 'ship', 'ocean'], ['man', 'sitting', 'cross', 'legged', 'grass', 'tree', 'background'], ['two', 'cats', 'sitting', 'couch', 'looking', 'out', 'window'], ['three', 'goats', 'rounded', 'up', 'dog'], ['tan', 'puppy', 'carpeted', 'floor'], ['black', 'dog', 'standing', 'grassy', 'area'], ['train', 'station'], ['blue', 'bird', 'standing', 'lawn'], ['empty', 'office', 'cubicle'], ['man', 'woman', 'sit', 'table', 'restaurant'], ['young', 'man', 'wearing', 'striped', 'shirt', 'holding', 'two', 'bicycles'], ['television', 'upholstered', 'chair', 'coffee', 'stable', 'bright', 'room'], ['two', 'cats', 'sitting', 'couch', 'looking', 'out', 'window'], ['small', 'dog', 'wearing', 'sweater', 'looking', 'up', 'camera'], ['two', 'men', 'standing', 'grass', 'staring', 'car'], ['woman', 'stands', 'front', 'building', 'snow'], ['home', 'office', 'space', 'bright', 'green', 'walls', 'artwork'], ['green', 'car', 'parked', 'saloon'], ['group', 'people', 'sitting', 'around', 'restaurant', 'dining', 'table'], ['two', 'ducks', 'standing', 'water'], ['black', 'white', 'cow', 'pen', 'hay'], ['man', 'woman', 'posing', 'camera'], ['green', 'white', 'cargo', 'plane', 'taking', 'from', 'airport'], ['yellow', 'school', 'bus', 'parked', 'field'], ['elderly', 'man', 'works', 'laptop', 'home'], ['cat', 'sitting', 'bag', 'cat', 'food'], ['large', 'pile', 'wooden', 'items', 'piled', 'high'], ['woman', 'riding', 'brown', 'horse'], ['black', 'white', 'photo', 'girl', 'sofa'], ['black', 'dog', 'stands', 'next', 'to', 'materials', 'construction', 'site'], ['two', 'women', 'sitting', 'chairs', 'shop'], ['women', 'painting', 'chair', 'dining', 'room', 'background'], ['cat', 'sleeping', 'coach', 'pillow', 'behind'], ['two', 'motorbikes', 'racing', 'dirt', 'course'], ['young', 'woman', 'riding', 'bay', 'hose', 'dirt', 'riding', '-', 'ring'], ['gray', 'cat', 'laying', 'brown', 'table'], ['motorcycle', 'parked', 'next', 'to', 'car', 'outside'], ['pile', 'used', 'wooden', 'building', 'materials', 'chair', 'top'], ['passenger', 'train', 'waiting', 'city', 'train', 'station'], ['black', 'train', 'moves', 'down', 'tracks'], ['philips', 'flat', '-', 'screen', 'tv', 'shown', 'two', 'remote', 'controls'], ['cruise', 'ship', 'front', 'docking', 'area'], ['black', 'white', 'cow', 'standing', 'hay', 'looks', 'back', 'camera'], ['four', 'people', 'rowing', 'down', 'river'], ['dark', 'brown', 'horse', 'standing', 'field'], ['two', 'men', 'talking', 'front', 'plane'], ['two', 'cats', 'one', 'brown', 'one', 'white', 'laying', 'bed', 'blue', 'blanket'], ['train', 'sits', 'train', 'station'], ['two', 'animals', 'sitting', 'rock'], ['black', 'white', 'cow', 'looking', 'fence'], ['two', 'women', 'clothing', 'store'], ['older', 'gentleman', 'looking', 'red', 'motorcycle'], ['black', 'white', 'cows', 'grazing', 'pen'], ['small', 'camouflaged', 'airplane', 'parked', 'grass'], ['black', 'white', 'photo', 'love', 'seat'], ['black', 'bird', 'standing', 'concrete'], ['crowd', 'people', 'walking', 'past', 'giant', 'mushroom'], ['sheep', 'beside', 'road', 'lake'], ['group', 'people', 'sit', 'table', 'italian', 'restaurant'], ['tan', 'cows', 'look', 'closely', 'camera'], ['older', 'woman', 'holding', 'newborn', 'baby'], ['two', 'dogs', 'play', 'grass'], ['three', 'people', 'sit', 'picnic', 'table', 'outside', 'building', 'painted', 'like', 'union', 'jack'], ['dog', 'swims', 'water'], ['young', 'laughing', 'girl', 'boy', 'playing', 'big', 'drum'], ['brown', 'dog', 'runs', 'snow', 'white', 'ball', 'mouth'], ['bird', 'flies', 'across', 'water'], ['dog', 'running', 'pond'], ['man', 'woman', 'watch', 'two', 'dogs'], ['man', 'sits', 'dock', 'looking', 'water'], ['brown', 'white', 'dog', 'running', 'snow'], ['man', 'woman', 'standing', 'front', 'building'], ['three', 'dolphins', 'jumping', 'out', 'pool', 'front', 'crowd', 'people'], ['dog', 'running', 'field'], ['black', 'white', 'dog', 'jumping', 'water'], ['tan', 'white', 'dog', 'retrieving', 'ball', 'gravel', 'path'], ['brown', 'white', 'dog', 'walking', 'up', 'snowy', 'steps'], ['woman', 'black', 'orange', 'jacket', 'throws', 'stick', 'brown', 'black', 'dog', 'to', 'fetch'], ['dog', 'running', 'across', 'snow', 'snowball', 'mouth'], ['small', 'boy', 'building', 'some', 'wooden', 'blocks'], ['man', 'woman', 'walk', 'white', 'dog', 'leash'], ['young', 'boy', 'wearing', 'red', 'winter', 'coat', 'eating', 'holding', 'up', 'candy', 'bar'], ['two', 'racing', 'dogs', 'run', 'mud'], ['young', 'boy', 'jumping', 'pool', 'says', '\"', 'no', 'diving', '\"'], ['three', 'dogs', 'running', 'dirt'], ['four', 'children', 'stools', 'diner'], ['boy', 'white', 'dog', 'running', 'grassy', 'field'], ['two', 'boys', 'playing', 'game', 'flag', 'football'], ['black', 'white', 'dog', 'mouth', 'wide', 'open'], ['one', 'white', 'boy', 'one', 'black', 'boy', 'stand', 'arms', 'around', 'each', 'other'], ['girl', 'playing', 'puddle', 'bare', 'feet'], ['two', 'children', 'splashing', 'water'], ['man', 'suit', 'dances', 'young', 'girl', 'front', 'audience'], ['three', 'children', 'playing', 'floor', 'toys'], ['two', 'dogs', 'playing', 'yard'], ['#', '0', 'greyhound', 'dog', 'running', 'around', 'track'], ['four', 'children', 'playing', 'trampoline'], ['black', 'tan', 'dog', 'standing', 'field', 'near', 'trees'], ['black', 'dog', 'running', 'water'], ['man', 'woman', 'walking', 'past', 'record', 'shop'], ['two', 'dogs', 'play', 'grass'], ['three', 'children', 'wrestle', 'floral', 'carpet'], ['boy', 'red', 'jumping', 'sandbox'], ['dog', 'jumps', 'water'], ['wet', 'blond', 'dog', 'carries', 'stick', 'shore'], ['man', 'dog', 'rocks', 'beach'], ['large', 'group', 'people', 'standing', 'outside', 'building'], ['two', 'dogs', 'running', 'field'], ['two', 'people', 'bed'], ['light', 'brown', 'dog', 'runs', 'down', 'path', 'happily'], ['red', 'haired', 'women', 'black', 'posing', 'man', 'resting', 'tree'], ['two', 'black', 'dogs', 'jumping', 'playing', 'yellow', 'tennis', 'ball', 'snow'], ['black', 'white', 'dog', 'jumping', 'over', 'hurdle'], ['two', 'brown', 'dogs', 'runs', 'water'], ['black', 'dog', 'jumping', 'out', 'water'], ['man', 'climbing', 'rock', '-', 'face'], ['woman', 'playing', 'tennis', 'hitting', 'ball'], ['young', 'boy', 'hair', 'standing', 'up', 'sliding', 'down', 'blue', 'slide'], ['dog', 'standing', 'water'], ['surfer', 'riding', 'breaking', 'wave'], ['two', 'dogs', 'running', 'grass', 'near', 'house', 'trees'], ['brown', 'white', 'dog', 'running', 'across', 'brown', 'field'], ['black', 'dog', 'standing', 'grass', 'near', 'volleyball'], ['white', 'dog', 'light', 'brown', 'markings', 'stick', 'mouth', 'paws', 'snow'], ['man', 'wet', 'suit', 'throwing', 'baby', 'wearing', 'wet', 'suit', 'up', 'air'], ['black', 'white', 'dog', 'running', 'grass'], ['harnessed', 'dog', 'leaps', 'over', 'log', 'another', 'dog', 'follows', 'behind'], ['dog', 'running', 'grass'], ['many', 'football', 'players', 'sitting', 'ground'], ['little', 'boy', 'little', 'girl', 'playing', 'together', 'outside'], ['surfer', 'flip', 'off', 'wave'], ['female', 'dj', 'holds', 'up', 'michael', 'jackson', 'album'], ['two', 'white', 'standard', 'poodles', 'play', 'toy', 'snow'], ['boy', 'lies', 'stomach', 'grass'], ['white', 'dog', 'runs', 'along', 'rocky', 'shoreline'], ['black', 'white', 'dog', 'jumping', 'air', 'to', 'catch', 'frisbee'], ['woman', 'holding', 'harness', 'brown', 'white', 'dog', 'wearing'], ['girl', 'jumping'], ['young', 'pitcher', 'throwing', 'baseball'], ['three', 'children', 'playing', 'snow'], ['two', 'people', 'ride', 'bikes', 'down', 'dirt', 'road'], ['brown', 'dog', 'running', 'field'], ['dog', 'standing', 'sand'], ['four', 'girls', 'swimsuits', 'playing', 'volleyball', 'beach'], ['blonde', 'haired', 'toddler', 'swinging', 'tire', 'swing'], ['child', 'wearing', 'blue', 'white', 'shorts', 'jumping', 'surf'], ['two', 'dogs', 'running', 'shore'], ['yellow', 'car', 'speeds', 'along', 'snowy', 'field'], ['two', 'dogs', 'playing', 'snow'], ['one', 'boy', 'pushing', 'another', 'boy', 'swing'], ['pitcher', 'mound', 'throws', 'baseball'], ['little', 'girl', 'riding', 'toy', 'tricycle', 'springs'], ['woman', 'sitting', 'water'], ['tan', 'girl', 'floral', 'bikini', 'swimming', 'dark', 'blue', 'waters'], ['grey', 'dog', 'swimming', 'river', 'stick', 'mouth'], ['woman', 'blue', 'bathing', 'suit', 'jumping', 'off', 'dock', 'lake'], ['two', 'black', 'dogs', 'playing', 'grass'], ['two', 'puppies', 'playing', 'plastic', 'bag'], ['man', 'black', 'suit', 'surfing', 'along', 'crashing', 'wave'], ['three', 'little', 'girls', 'sitting', 'grass'], ['brown', 'dog', 'runs', 'towards', 'camera', 'dirt', 'trail', 'mountains', 'background'], ['dog', 'jumping', 'down', 'ramp'], ['dog', 'plays', 'park'], ['four', 'dogs', 'stand', 'snow'], ['brown', 'black', 'dogs', 'snow', 'showing', 'teeth', 'barking', 'each', 'other'], ['man', 'running', 'track'], ['light', '-', 'colored', 'dog', 'runs', 'grass'], ['child', 'holding', 'object', 'fire'], ['small', 'white', 'dog', 'climbs', 'over', 'log'], ['dogs', 'play', 'snow', 'hind', 'legs'], ['boy', 'skateboards', 'down', 'railing', 'some', 'graffiti', 'stairs'], ['black', 'white', 'dog', 'runs', 'water'], ['girl', 'running', 'desert', 'path'], ['man', 'steers', 'blue', 'boat', 'past', 'brightly', 'colored', 'houses'], ['woman', 'wearing', 'large', 'sunglasses', 'holds', 'newspapers', 'both', 'hands'], ['deer', 'jumps', 'fence'], ['person', 'baseball', 'team'], ['bike', 'next', 'to', 'couple', 'women'], ['group', 'eating', 'taking', 'breathtaking', 'view'], ['boy', 'raising', 'hand'], ['man', 'gray', 'beard', 'shaved', 'front', 'lecture', 'hall'], ['young', 'person', 'deep', 'thought'], ['man', 'performing', 'labor'], ['two', 'men', 'wearing', 'traditional', 'clothing', 'standing', 'outside'], ['man', 'wearing', 'gray', 'hat', 'fishing', 'out', 'fishing', 'boat'], ['little', 'girl', 'orange', 'striped', 'outfit', 'airborne', 'whilst', 'bouncing', 'bed'], ['person', 'watching', 'people', 'ski', 'down', 'hill'], ['yard', 'dog'], ['three', 'women', 'cook'], ['woman', 'kneeling', 'next', 'to', 'cat'], ['three', 'guys', 'playing', 'pro', 'game', 'basketball'], ['boys', 'earning', 'next', 'belt', 'karate'], ['woman', 'digging', 'sand'], ['woman', 'drives', 'golf', 'cart'], ['person', 'filming', 'outdoors'], ['human', 'riding', 'skateboard'], ['woman', 'plaid', 'outfit', 'looking', 'bag', 'produce'], ['tennis', 'player', 'hit', 'ball', 'outer', 'space', 'broke', 'death', 'star'], ['boy', 'climbs', 'forest', 'hill'], ['blond', 'boy', 'jumping', 'onto', 'deck'], ['man', 'uses', 'chainsaw', 'to', 'sculpt', 'phallic', 'ice', 'sculpture'], ['group', 'male', 'construction', 'workers', 'repair', 'railroad', 'tracks', 'cloudy', 'day'], ['girl', 'something', 'head'], ['people', 'making', 'structure', 'out', 'cards'], ['there', 'four', 'people', 'outside'], ['girls', 'holding', 'hands', 'blue', 'clothes'], ['man', 'demonstrating', 'how', 'to', 'work', 'clay', 'least', 'two', 'people', 'observe'], ['dog', 'sweater'], ['sculptor', 'applying', 'concrete', 'to', 'large', 'statue', 'human', 'figure', 'standing', 'no', 'head'], ['boy', 'dark', 'hair', 'water', 'looking', 'up'], ['pole', 'behind', 'person', 'playing', 'peekaboo', 'child'], ['woman', 'to', 'paint'], ['man', 'working', 'steel', 'mill'], ['young', 'woman', 'flirting', 'young', 'boy'], ['men', 'to', 'score', 'water', 'polo', 'tournament'], ['man', 'eats', 'popcorn', 'watching', 'cartoons', 'late', 'one', 'night'], ['three', 'men', 'sit', 'bench'], ['road', 'long'], ['young', 'man', 'wearing', 'white', 't-', 'shirt', 'green', 'black', 'shorts', 'standing', 'stump'], ['dog', 'under', 'stairs'], ['two', 'women', 'give', 'demonstration', 'renaissance', 'fair'], ['some', 'guy', 'sitting', 'couch', 'watching', 'television'], ['woman', 'posing', 'christmas', 'card'], ['man', 'working', 'farm'], ['girl', 'talking', 'to', 'dad', 'cellphone'], ['one', 'person', 'wields', 'umbrella'], ['group', 'teenagers', 'jumping', 'good', 'time'], ['man', 'playing', 'guitar', 'joe', 'cafe'], ['someone', 'blanket'], ['man', 'orange', 'shirt'], ['two', 'kids', 'look', 'products', 'sold', 'inside', 'subway', 'shop'], ['baby', 'boy', 'wants', 'mother'], ['boy', 'very', 'close', 'to', 'girl'], ['six', 'children', 'cleaning', 'room'], ['there', 'cook', 'preparing', 'food'], ['two', 'men', 'helping', 'boy'], ['two', 'skiing', 'people', 'cross', 'country', 'skiing'], ['dog', 'taking', 'poop', 'street'], ['kid', 'talking', 'class'], ['women', 'trying', 'to', 'sell', 'something', 'to', 'individual'], ['people', 'waiting', 'fireworks', 'to', 'start'], ['dog', 'prepares', 'to', 'herd', 'three', 'sheep', 'horns'], ['people', 'gathered', 'room'], ['woman', 'overalls', 'paints', 'picture', 'wall'], ['adding', 'aspirin', 'to', 'water', 'could', 'kill', 'plant'], ['woman', 'wearing', 'yellow'], ['man', 'stunt', 'bicycle'], ['ten', 'people', 'riding', 'atvs'], ['yellow', 'vested', 'person', 'road', 'work'], ['two', 'workers', 'sitting', 'next', 'to', 'pipes', 'eating', 'lunch'], ['group', 'people', 'living', 'desert'], ['two', 'kids', 'swimming'], ['people', 'getting', 'dirty', 'clothes', 'cleaned'], ['children', 'holding', 'musical', 'instruments'], ['group', 'people', 'wearing', 'police', 'uniforms', 'conducting', 'arrest'], ['man', 'planning', 'to', 'shoot', 'wedding'], ['child', 'bike', 'got', 'wet'], ['soldier', 'walks', 'dog'], ['shirtless', 'woman', 'operating', 'lawn', 'mower'], ['two', 'officers', 'driving'], ['lady', 'looks', 'sad', 'no', 'one', 'buying', 'wares'], ['flock', 'birds', 'hovered', 'over', 'sandy', 'beach'], ['people', 'walk', 'home'], ['man', 'laughing', 'woman'], ['to', 'run', 'boat'], ['0', 'cows', 'field'], ['wet', 'child', 'enjoys', 'summer'], ['girl', 'driver', 'license'], ['people', 'motorcycles', 'wearing', 'racing', 'gear', 'ride', 'around', 'racetrack'], ['man', 'standing', 'ground', 'paintbrush'], ['kids', 'theater', 'watching', 'movie'], ['two', 'women', 'walk', 'down', 'sidewalk', 'to', 'store'], ['man', 'son', 'back'], ['group', 'dark', '-', 'skinned', 'people', 'walking', 'past', 'barbed', 'wire'], ['zombies', 'parading', 'around', 'eating', 'brains'], ['group', 'people', 'sitting', 'beach', 'towels', 'watching', 'blue', 'angels'], ['three', 'people', 'meeting', 'coffee'], ['young', 'girl', 'dirt', 'face', 'red', 'child', 'bike', 'background'], ['line', 'scooters', 'parking', 'middle', 'street'], ['man', 'holding', 'cat'], ['cats', 'running', 'grass'], ['two', 'boys', 'playing', 'kick', 'ball', 'back', 'forth', 'to', 'each', 'other'], ['two', 'girls', 'running'], ['little', 'girl', 'white', 'blouse', 'blue', 'pants', 'frolics', 'grass'], ['man', 'white', 'shirt', 'hat', 'playing', 'guitar'], ['black', 'hooded', 'man', 'using', 'large', 'magnifying', 'glass', 'to', 'look', 'booklet'], ['people', 'running', 'marathon'], ['group', 'people', 'nervous', 'crossing', 'water'], ['group', 'kids', 'jumping', 'contest'], ['person', 'wearing', 'fedora'], ['woman', 'man', 'embrace', 'watching', 'horror', 'movie'], ['man', 'blue', 'dress', 'shirt'], ['couple', 'playing', 'game', 'life'], ['head', 'child', 'dark', 'glasses', 'focus'], ['maintenance', 'guy', 'repairing', 'net', 'tennis', 'court'], ['kid', 'sits', 'soccer', 'ball', 'outside'], ['man', 'brown', 'coat', 'rubs', 'nose'], ['dog', 'chasing', 'geese'], ['small', 'child', 'playing', 'letter', 'p'], ['brown', 'dog', 'jumping'], ['group', 'teenagers', 'red', 'shirts', 'smiling'], ['remained', 'under', 'banyan', 'tree', 'exhausted', 'daily', 'ritual', 'dragooning', 'men', 'every', 'two', 'hours'], ['us', 'will', 'depend', 'school'], ['there', 'also', 'string', 'made'], ['also', 'imply', 'may', 'not', 'paid', 'cannot', 'place', 'client'], ['one', 'time', 'well'], ['just', 'to', 'base', 'answer', 'know', 'want'], ['not', 'need', 'to', 'worry'], ['should'], ['should', 'just', 'ask', 'boss', 'wants', 'to'], ['need', 'to', 'read', 'lot', 'to', 'know', 'like', 'not'], ['depends', 'want', 'to', 'tank'], ['can', 'too'], ['should'], ['to', 'decide', 'want', 'to', 'get', 'out'], ['few', 'suggestions'], ['want', 'to', 'start', 'room', 'largest', 'to', 'make', 'sure', 'straightest', 'start'], ['not', 'want', 'to', 'derail', 'meeting', 'key', 'to', 'speak', 'up'], ['unfortunately', 'answer', 'to', 'question', 'simply', 'not', 'know'], ['soon', 'possible'], ['just', 'to', 'base', 'answer', 'know', 'want'], ['answer', 'to', 'both', 'questions', 'yes'], ['to', 'give', 'answer'], ['unfortunately', 'answer', 'to', 'question', 'simply', 'not', 'know'], ['rule', '-', 'when', 'doubt', 'throw', 'out', '!'], ['not', 'good', 'idea'], ['yes', 'probably', 'good', 'idea', 'to', 'renew', 'passport'], ['probably', 'depends', 'cut', 'meat'], ['not', 'good', 'idea'], ['pretty', 'much', 'up', 'to'], ['yes', 'there', 'reason'], ['tried', 'asking', 'employees'], ['guys', 'making', 'all', 'waaaaay', 'too', 'complicated'], ['not', 'to', 'know'], ['there', 'two', 'things', 'to', 'consider'], ['work', 'slowly'], ['can', 'buy', 'amazon', '$', '0'], ['coffee', 'simply', 'picks', 'up', 'aluminum', 'from', 'pot', 'coffee', 'acidic'], ['there', 'two', 'ways', 'to', 'start', 'plunging', 'dripping'], ['might', 'to', 'try', 'variety', 'find', 'one', 'clicks'], ['not', 'good', 'idea'], ['just', 'to', 'base', 'answer', 'know', 'want'], ['yes', 'should', 'mention', 'experience'], ['from', 'understand', 'can'], ['take', 'look'], [\"'d\", 'say', 'primarily', 'depends', 'two', 'things'], ['some', 'can'], ['not', 'good', 'idea'], ['answers', 'so', 'far', 'already', 'good', \"'d\", 'like', 'to', 'add', 'map', 'switzerland'], ['similar', 'situation'], ['same', 'problem'], ['there', 'no', 'maximum'], ['not', 'sure', 'right', 'site', 'question'], ['depends', 'want', 'to', 'next', 'where', 'want', 'to'], ['need', 'to', 'read', 'lot', 'to', 'know', 'like', 'not'], ['not', 'disclosing', 'key', 'info'], ['depends', 'want', 'to', 'next', 'where', 'want', 'to'], ['just', 'to', 'base', 'answer', 'know', 'want'], ['depends', 'want', 'to', 'next', 'where', 'want', 'to'], ['problem', 'professor', 'to', 'deal'], ['very', 'unusual', 'request'], ['very', 'much', 'depends', 'grant', 'question'], ['same', 'thing'], ['no', 'not', 'affect', 'ratings'], ['answer', 'to', 'question', '\"', 'probably', 'not', '\"'], ['not', 'think', 'makes', 'any', 'tremendous', 'difference'], ['depends'], ['there', 'not', 'lot', 'can'], ['answered', 'own', 'question'], ['just', 'to', 'base', 'answer', 'know', 'want'], ['not', 'good', 'idea'], ['best', 'thing', 'can', 'to', 'know', 'stuff'], [\"'d\", 'say', 'primarily', 'depends', 'two', 'things'], ['not', 'to', 'know'], ['same', 'thing'], ['not', 'good', 'idea'], ['right', 'path'], ['not', 'answer', 'question'], ['how', 'should', 'proceed'], ['page', 'answer', 'question'], ['can', 'use', 'too'], ['really', 'depends', 'how', 'employer', 'documents'], ['same', 'problem'], ['need', 'to', 'read', 'lot', 'to', 'know', 'like', 'not'], ['depends', 'want', 'to', 'next', 'where', 'want', 'to'], ['yes', 'to', 'file', 'tax', 'return', 'canada'], ['not', 'see', 'why', 'there', 'should', 'any', 'problem', 'whatsoever'], ['hope', 'looking'], ['best', 'thing', 'can', 'to', 'know', 'stuff'], ['depends', 'dish', 'how', 'amenable', 'stage', 'make', 'mistake'], ['just', 'to', 'base', 'answer', 'know', 'want'], ['probably', 'not', 'any', 'chance', 'moment'], ['really', 'not', 'matter'], ['not', 'need', 'to', 'know', 'everything'], ['think', \"'re\", 'looking', 'mikey', '(', '0', ')'], ['makes', 'absolutely', 'no', 'difference'], ['think', 'fine', 'to', 'ask', 'question'], [\"'m\", 'going', 'to', 'very', 'direct', 'here'], ['just', 'to', 'base', 'answer', 'know', 'want'], ['should'], ['there', 'not', 'lot', 'can'], ['kind', 'insulation'], ['depends', 'entirely', 'company', 'contract'], ['answered', 'own', 'question'], ['not', 'think', 'there', 'any'], ['there', 'few', 'things', 'can'], ['tip', 'find', 'most', 'useful'], ['believe'], ['not', 'sure', 'how', 'to', 'not', 'all'], ['all', 'head'], ['not', 'sure', 'how', 'to', 'not', 'all'], ['need', 'to', 'read', 'lot', 'to', 'know', 'like', 'not'], ['would', 'say', 'can', 'would', 'not', 'advised'], ['can'], ['sure', 'done', 'very', 'trip'], ['can', 'use', 'too'], ['how'], ['located', 'article', 'might', 'some', 'help', 'http://www.dsattorney.com/qa-pseudonyms-in-contracts/'], ['would', 'say', 'can', 'would', 'not', 'advised'], ['unfortunately', 'answer', 'to', 'question', 'simply', 'not', 'know'], ['not', 'sure', 'how', 'to', 'not', 'all'], ['also', 'matter', 'taste'], ['not', 'good', 'idea'], ['answer', 'based', 'experience', 'teaching', 'undergraduate', 'math', 'us'], ['there', 'few', 'things', 'think', 'should'], ['will', 'want', 'to', 'clean', 'area', 'first'], ['depends', 'want', 'to', 'tank'], ['there', 'couple', 'options', 'could', 'consider'], ['not', 'to', 'worry'], ['vietnamese', 'citizens', 'need', 'visa', 'to', 'visit', 'usa'], ['depends', 'how', 'used'], ['not', 'see', 'why', 'there', 'should', 'any', 'problem', 'whatsoever'], ['there', 'not', 'lot', 'can'], ['got', 'right'], ['just', 'to', 'base', 'answer', 'know', 'want'], ['how'], ['similar', 'situation'], ['lid', 'made'], ['not', 'need', 'any', 'visa'], ['problem', 'not', \"supervisor's\"], ['depends', 'want', 'to', 'next', 'where', 'want', 'to'], ['there', 'two', 'things', 'to', 'consider'], ['depends', 'entirely', 'company', 'contract'], ['wood', 'probably', 'not', 'rotten', 'just', 'worn', 'out'], ['well', 'would', 'not', 'put', 'cv'], ['great', 'one', '...'], ['answer', 'to', 'both', 'questions', 'yes'], ['yes', 'there', 'reason', 'to', 'not', 'propose'], ['think', 'depends', 'program'], ['can'], ['think', 'there', 'not', 'general', 'answer'], ['there', 'few', 'things', 'can'], ['key', 'to', 'find', 'something', 'works', 'goals'], ['not', 'to', 'know'], ['think', 'pretty', 'much', 'done', 'review'], ['there', 'few', 'things', 'think', 'should'], ['burn', 'more', 'calories', 'digesting', 'protein', 'than', 'carbohydrates', 'fat'], ['depends', 'want', 'to', 'next', 'where', 'want', 'to'], ['got', 'right'], ['answered', 'own', 'question'], ['same', 'thing'], ['yes', 'there', 'chemical', 'difference'], ['can', 'out', 'level', 'bit', 'flat', 'important'], ['would', 'look', 'U.S'], ['right', 'path'], ['not', 'should'], ['yes', 'common', '!'], ['not', 'think', 'there', 'any'], ['looks', 'to', 'set', 'up', 'want'], ['problem', 'system', 'not', 'account', 'people', 'could', 'care', 'less', 'money', 'title'], ['first', 'case', 'think', 'not', 'need'], ['impossible', 'to', 'answer', 'question', 'without', 'form', 'check'], ['need', 'to', 'add', 'to', 'resume', 'only', 'position'], ['work', 'slowly'], ['no', 'not', 'need', 'bread', 'machine'], ['yes', 'possible', 'to', 'publish', 'paper', 'model', 'analysis'], ['just', 'to', 'base', 'answer', 'know', 'want'], ['yes', 'should', 'mention', 'experience'], ['think', 'great', 'test', 'conducted'], ['not', 'to', 'know'], ['yes', 'there', 'rule'], ['goals'], [\"'m\", 'going', 'to', 'go', 'out', 'limb', 'here', '...'], ['long', 'stay', 'visa', 'switzerland', 'valid', 'then', 'will', 'not', 'need', 'transit', 'visa'], ['few', 'more', 'point', 'to', 'think'], ['now', 'not', 'to', 'perfect', 'every', 'answer'], [\"'m\", 'afraid', 'out', 'luck', 'one'], ['more', 'deciding', 'should', 'should', 'get', 'others', 'to'], ['varies', 'situation'], ['same', 'thing'], ['same', 'thing'], ['right', 'path'], ['primer', '/', 'paint', 'will', 'not', 'work'], ['best', 'thing', 'can', 'to', 'know', 'stuff'], ['also', 'matter', 'taste'], ['similar', 'situation'], ['can', 'use', 'too'], ['to', 'decide', 'want', 'to', 'get', 'out'], ['depends'], ['same', 'problem'], ['sometime', 'really', 'want', 'might', 'need', 'to', 'pay', 'agency', 'to', 'get', 'place'], ['not', 'need', 'to', 'know', 'everything'], ['also', 'useful', 'to', 'keep', 'consistency', 'story'], ['think', 'just', 'habit'], ['not', 'good', 'idea'], [\"'m\", 'thinking', 'bad', 'idea'], ['depends', 'want', 'to', 'next', 'where', 'want', 'to'], ['problem'], ['unfortunately', 'answer', 'to', 'question', 'simply', 'not', 'know'], ['unfortunately', 'question', 'cannot', 'answered', 'full', 'generality'], ['would', 'personally', 'beware', 'motley', 'fool'], ['think', 'there', 'not', 'general', 'answer'], ['not', 'good', 'idea'], ['not', 'need', 'any', 'visa'], ['to', 'decide', 'want', 'to', 'get', 'out'], ['same', 'problem'], ['answer', 'to', 'question', '\"', 'probably', 'not', '\"'], ['should'], ['same', 'problem'], ['hope', 'looking'], ['there', 'two', 'things', 'to', 'consider'], ['pretty', 'much', 'up', 'to'], ['there', 'few', 'things', 'can'], ['answer', 'to', 'all', 'such', 'similar', 'questions', 'two', 'stages'], ['impossible', 'to', 'answer', 'question', 'without', 'form', 'check'], ['there', 'few', 'things', 'can'], ['depends', 'want', 'to', 'next', 'where', 'want', 'to'], ['there', 'few', 'possible', 'reasons'], ['there', 'three', 'options'], ['so', 'think', 'way'], ['maybe', 'could', 'work'], ['depends', 'want', 'to', 'next', 'where', 'want', 'to'], ['microwave', 'would', 'best', 'bet'], ['us', 'will', 'depend', 'school'], ['not', 'good', 'idea'], ['there', 'few', 'things', 'think', 'should'], ['same', 'problem'], ['not', 'good', 'idea'], ['realized', 'there', 'already', 'accepted', 'answer', 'figure', 'would', 'add', '0', 'cents'], ['yes', 'there', 'reason', 'to', 'not', 'propose'], ['yes', 'there', 'least', 'one', 'to', 'knowledge'], ['not', 'to', 'worry'], ['there', 'no', 'test', 'can', 'tell', 'sealed', 'not'], ['yes', 'should', 'make', 'résumé'], ['should', 'not', 'feel', 'any', 'obligation', 'all'], ['same', 'problem'], ['may', 'to', 'experiment', 'find', 'like'], ['answer', 'to', 'question', '\"', 'probably', 'not', '\"'], ['key', 'thing', 'to', 'realize', 'here', 'not', 'job', 'to', 'make', 'people', 'work'], ['not', 'direct', 'answer', 'to', 'question', 'something', 'to', 'consider'], ['there', 'two', 'possible', 'causes'], ['agree', 'other', 'comments'], ['answer', 'to', 'both', 'questions', 'yes'], ['rather', 'depends', 'country', \"'re\"], ['terrible', 'idea'], ['vivendi', 'shares', 'closed', '1.9', 'percent', '15.80', 'euros', 'paris', 'falling', '3.6', 'percent', 'monday'], ['bremer', 'said', 'one', 'initiative', 'to', 'launch', 'us', '$', '0', 'million', 'nationwide', 'program', 'next', 'two', 'weeks', 'to', 'clean', 'up', 'neighborhoods', 'build', 'community', 'projects'], ['governor', 'gray', 'davis', 'estimated', 'yesterday', 'fires', 'could', 'cost', 'nearly', '$', '0', 'billion'], ['american', 'express', 'Corp.', 'pledged', 'least', '$', '0', 'million', 'more', 'than', '$', '0', 'million', 'needed'], ['claudette', 'first', 'hurricane', 'atlantic', 'storm', 'season', 'hit', 'mid-Texas', 'coast', 'july', '0', '0', '-', 'mph', 'wind'], ['results', 'from', 'No.', '0', 'U.S.', 'soft', 'drink', 'maker', 'pepsico', 'Inc.', '(', 'nyse', 'pep', '-', 'news', '-', 'people', ')', 'likely', 'to', 'spotlight'], ['taylor', 'aides', 'warn', 'abrupt', 'departure', 'could', 'trigger', 'more', 'chaos', 'view', 'shared', 'many', 'liberia', 'private', 'even', 'mediators'], ['odette', 'first', 'to', 'form', 'over', 'caribbean', 'sea', 'december', 'center', 'said'], ['afl', '-', 'cio', 'waiting', 'october', 'to', 'decide', 'will', 'endorse', 'candidate'], ['developed', 'consultation', 'from', 'more', 'than', '0', 'leaders', 'academia', 'industry', 'government', 'public'], ['local', 'police', 'authorities', 'treating', 'explosion', 'criminal', 'matter', 'nothing', 'ruled', 'out'], ['chiron', 'already', 'nearly', '0', 'percent', 'acceptances', 'from', 'powderject', 'shareholders'], ['\"', 'believe', 'fully', 'prepared', 'to', 'roll', 'out', '[', 'touch', '-', 'screen', ']', 'machines', '0', 'presidential', 'primary', '\"', 'said', 'gilles', 'W.', 'burger', 'state', 'board', 'elections', 'chairman'], ['analysts', 'expected', 'earnings', '0', 'cents', 'share', 'revenue', '$', '17.7', 'billion', 'thomson', 'first', 'call', 'says'], ['another', 'serious', 'condition', 'northwest', 'medical', 'center', 'springdale'], ['sean', 'harrigan', 'president', 'california', 'public', 'employees', \"'\", 'retirement', 'system', 'also', 'suggested', 'paring', 'down', 'nyse', '0', '-', 'member', 'board', 'changing', 'composition', 'making', 'more', 'accountable'], ['swedish', 'central', 'bank', 'also', 'meeting', 'wednesday', 'widely', 'expected', 'to', 'announce', 'cut', 'thursday'], ['0', 'chevrolet', 'tahoe', 'found', 'abandoned', 'virginia', 'beach', 'Va.', 'parking', 'lot', 'june', '0'], ['heatley', 'sixth', 'league', 'goals', 'last', 'season', '0', 'ninth', 'points', '0'], ['\"', 'tony', 'not', 'feeling', 'well', '\"', 'spurs', 'coach', 'gregg', 'popovich', 'said'], ['electronic', 'data', 'systems', 'Corp.', 'thursday', 'said', 'securities', 'exchange', 'commission', 'asked', 'company', 'documents', 'related', 'to', 'large', 'contract', 'U.S.', 'navy'], ['well', 'dolphin', 'scheme', 'chaos', 'allowed', 'foreign', 'companies', 'to', 'engage', 'damaging', 'logging', 'fishing', 'operations', 'without', 'proper', 'monitoring', 'export', 'controls'], ['next', 'court', 'session', 'will', 'when', 'three', '-', 'judge', 'tribunal', 'announces', 'verdict', 'mid-February'], ['consensus', 'among', 'wall', 'street', 'analysts', 'loss', '0', 'cents', 'share'], ['civilian', 'unemployment', 'rate', 'improved', 'marginally', 'last', 'month', '--', 'slipping', 'to', '6.1', 'percent', '--', 'even', 'companies', 'slashed', 'payrolls', '93,000'], ['moffitt', 'said', 'results', 'need', 'to', 'replicated', 'another', 'study', 'testing', 'individuals', 'presence', 'long', 'short', 'versions', 'gene', 'will', 'pursued'], ['compensation', 'committee', 'will', 'prohibit', 'securities', 'industry', 'directors', 'from', 'sitting'], ['q', 'can', 'buy', 'coverage', 'prescription', 'drugs', 'right', 'away'], ['shares', 'mandalay', 'closed', 'down', 'eight', 'cents', 'to', '$', '29.42', 'earnings', 'announced'], ['0', 'building', 'owners', 'port', 'authority', 'new', 'york', 'new', 'jersey', 'issued', 'guidelines', 'to', 'upgrade', 'fireproofing', 'to', 'thickness', '1{', 'inches'], ['dollar', 'last', '$', '1.1149', 'to', 'euro', 'close', 'to', 'strongest', 'level', 'since', 'april', '0'], ['single', 'currency', 'rose', 'far', '135.13', 'yen', 'matching', 'record', 'high', 'hit', 'shortly', 'euro', 'launch', 'january', '0'], ['new', 'castle', 'county', 'woman', 'become', 'first', 'delaware', 'patient', 'to', 'contract', 'west', 'nile', 'virus', 'year', 'state', 'department', 'health', 'reported'], ['also', 'reaffirmed', 'wish', 'to', 'resolve', 'north', 'korean', 'nuclear', 'crisis', 'peacefully'], ['rebel', 'captured', 'said', 'more', 'than', '2,000', 'insurgents', 'involved', 'attack'], ['kyi', 'U.N.', 'envoy', 'says', 'japan', 'adds', 'to', 'growing', 'international', 'pressure', 'saying', 'will', 'halt', 'hefty', 'economic', 'aid', 'unless', 'suu', 'kyi', 'freed'], ['wal', '-', 'mart', \"Kohl's\", 'Corp.', 'family', 'dollar', 'stores', 'Inc.', 'big', 'lots', 'Inc.', 'among', 'merchants', 'posting', 'may', 'sales', 'fell', 'below', 'wall', 'street', 'modest', 'expectations'], ['mr', 'eddington', 'warned', 'yesterday', 'future', 'airline', '\"', 'hands', 'negotiators', '\"'], ['\"', 'both', 'kids', 'wonderful', 'physical', 'condition', 'right', 'now', '\"', 'said', 'press', 'briefing', 'hospital'], ['cell', 'surface', 'foreign', 'components', 'recognised', 'other', 'cells', 'then', 'realise', 'infected', 'kill'], ['trading', 'loral', 'halted', 'yesterday', ';', 'shares', 'closed', 'monday', '$', '3.01'], ['knox', 'county', 'health', 'department', 'following', 'national', 'centers', 'disease', 'control', 'prevention', 'protocol', 'to', 'contain', 'infection'], ['schools', 'chancellor', 'joel', 'klein', 'said', 'push', 'higher', 'standards', 'accountability', '\"', 'showing', 'results', '\"'], ['one', 'witness', 'told', 'anatolian', 'saw', 'plane', 'fire', 'still', 'air'], ['proposed', 'system', 'under', 'would', 'take', 'fewer', 'fewer', 'votes', 'to', 'overcome', 'filibuster'], ['hormone', 'replacement', 'therapy', 'combines', 'estrogen', 'progestin', 'doubles', 'woman', 'risk', 'breast', 'cancer', 'british', 'study', 'more', 'than', 'million', 'women', 'found'], [\"Barbini's\", 'comments', 'came', 'tuesday', 'second', 'day', 'ministerial', 'conference', 'expo', 'agricultural', 'science', 'technology'], ['yesterday', 'shares', 'closed', 'up', '0', 'cents', '0.54', 'percent', '$', '54.32'], ['lawtey', 'not', 'first', 'faith', '-', 'based', 'program', 'florida', 'prison', 'system'], ['transaction', 'will', 'grant', 'handspring', 'stockholders', '0.09', 'share', 'palm', '-', '-', 'no', 'shares', 'palmsource', '-', '-', 'each', 'share', 'handspring', 'common', 'stock'], ['giant', 'rock', 'first', 'observed', 'august', '0', 'lincoln', 'near', '-', 'earth', 'asteroid', 'research', 'program', 'based', 'socorro', 'new', 'mexico'], ['\"', 'need', 'to', 'change', 'old', 'habits', 'seriously', 'rethink', 'business', '-', '-', 'usual', '\"'], ['\"', 'despicable', 'acts', 'committed', 'killers', 'whose', 'only', 'faith', 'hate', '\"', 'bush', 'said', 'adding', 'united', 'states', 'will', 'find', 'killers'], ['there', 'total', '0', 'women', 'enrolled', 'academy', 'report', 'said'], ['national', 'concern', 'will', 'touch', 'virtually', 'every', 'american', '\"', 'abraham', 'said'], ['united', 'states', '20.7', 'percent', 'all', 'women', 'smoke'], ['margin', 'error', 'plus', 'minus', '0', 'percentage', 'points'], ['shares', 'mony', 'gaining', '$', '2.57', '0', '%', 'to', '$', '31.90', '-', 'hours', 'trading', 'instinet'], ['diana', 'lowest', 'ebb', 'when', 'wrote', 'letter', 'to', 'paul', 'burrell', 'claiming', 'there', 'plot', 'to', 'kill'], ['gillespie', 'sent', 'letter', 'to', 'cbs', 'president', 'leslie', 'moonves', 'asking', 'historical', 'review', 'disclaimer'], ['\"', 'let', 'show', 'wo', 'not', 'let', 'off', '\"', 'said', 'marc', 'blondel', 'leader', 'force', 'ouvriere', 'union'], ['contrary', 'to', 'peoplesoft', 'management', 'would', 'believe', 'oracle', 'intends', 'to', 'fully', 'support', 'peoplesoft', 'customers', 'products', 'many', 'years', 'to', 'come', '\"'], ['under', 'mexican', 'law', 'bounty', 'hunting', 'considered', 'form', 'kidnapping'], ['announcements', 'made', 'international', 'broadcasting', 'convention', '(', 'ibc', ')', 'amsterdam'], ['keywords', 'supported', 'chinese', 'language', 'web', 'portals'], ['consensus', 'estimate', 'analysts', 'polled', 'thomson', 'first', 'call', 'called', 'profit', '$', '1.70', 'per', 'share'], ['initial', 'autopsy', 'reports', 'show', 'died', 'dehydration', 'hyperthermia', 'suffocation'], ['authorities', 'appealed', 'to', 'public', 'friday', 'to', 'come', 'forward', 'provide', 'could', 'key', 'to', 'solving', 'sniper', '-', 'style', 'shootings', 'killed', 'three', 'people', 'outside', 'area', 'convenience', 'stores'], ['second', 'comes', 'hp', '(', '0', 'percent', '$', '2.9', 'billion', 'up', 'just', '0.4', 'percent', ')'], ['U.S.', 'forces', 'recently', 'apprehended', 'some', '0', 'suspected', 'foreign', 'militants', 'near', 'syrian', 'border', 'now', 'interrogating'], ['compares', 'profit', '$', '0', 'million', 'breakeven', '$', '1.39', 'billion', 'revenue', 'same', 'period', 'last', 'year'], ['bolivia', 'army', 'fought', 'to', 'stop', 'columns', 'protesters', 'from', 'streaming', 'food', '-', 'starved', 'capital', 'wednesday', 'popular', 'uprising', 'president', 'spread'], ['A920', 'comes', 'printer', 'scanner', 'copier', '$', '0'], ['first', '0', 'seconds', 'young', 'entered', 'ring', 'family', 'knew', 'uneven', 'match', 'meyers', 'said'], ['singapore', 'reported', 'no', 'suspected', 'sars', 'cases', 'wednesday', 'officials', 'quarantined', '0', 'people', 'contact', 'taiwanese', 'patient'], ['downstream', 'mount', 'vernon', 'skagit', 'river', 'expected', 'to', 'crest', '0', 'feet', '--', '0', 'feet', 'flood', 'stage', '--', 'tonight', 'burke', 'said'], ['monday', 'dow', 'declined', '5.25', '0.1', 'percent', '8,983.80', 'shed', '2.3', 'percent', 'last', 'week'], ['injured', 'taken', 'to', 'hospitals', 'jefferson', 'city', 'columbia', 'college', 'town', '0', 'miles', 'to', 'north'], ['dollar', '117.85', 'yen', 'japanese', 'currency', 'up', '0.1', 'percent'], ['addition', 'to', \"O'Connor\", 'rehnquist', 'majority', 'opinion', 'joined', 'justices', 'david', 'souter', 'ruth', 'bader', 'ginsburg', 'stephen', 'breyer'], ['martin', '0', 'will', 'freed', 'today', 'serving', 'two', 'thirds', 'five', '-', 'year', 'sentence', 'manslaughter', '0', '-', 'year', '-', 'old', 'fred', 'barras'], ['idec', 'shareholders', 'would', 'own', '50.5', 'percent', 'stock', 'combined', 'company', 'biogen', 'shareholders', 'remaining', '49.5', 'percent'], ['nonetheless', 'open', '-', 'source', 'guru', 'insisted', '\"', 'attack', 'wrong', 'dangerous', 'to', 'goals', '\"'], ['frank', 'quattrone', 'former', 'credit', 'suisse', 'first', 'boston', 'technology', 'investment', '-', 'banking', 'guru', 'reportedly', 'pleaded', 'not', 'guilty', 'tuesday', 'to', 'charges', 'obstruction', 'justice', 'witness', 'tampering'], ['blue', '-', 'chip', 'dow', 'jones', 'industrial', 'average', 'dji', 'fell', '86.56', 'points', '0.94', 'percent', 'to', '9,109.99', 'giving', 'up', 'more', 'than', '0', 'percent', 'earlier'], ['dow', 'jones', 'industrial', 'average', 'ended', 'day', 'down', '10.89', '9,837.94', 'advancing', '111.04', 'wednesday'], ['perry', 'since', 'called', 'two', 'special', 'legislative', 'sessions', 'to', 'try', 'force', 'redistricting', 'plan'], ['agency', 'will', '\"', 'consider', 'timely', 'any', 'tax', 'returns', 'payments', 'due', '\"', 'Aug.', '0', 'submitted', 'Aug.', '0'], ['democrats', 'currently', 'hold', '0', '-', '0', 'advantage', 'state', 'congressional', 'delegation'], ['chaudhry', 'released', '0', 'days', 'later', 'fiji', 'military', 'installed', 'all', '-', 'indigenous', 'government', 'led', 'qarase', 'won', 'democratic', 'elections', 'september', '0'], ['new', 'legit', 'download', 'service', 'launches', 'pc', 'users', 'mind'], ['0', '-', 'year', 'bond', 'US30YT=RR', 'rose', '22/32', 'yield', '4.31', 'percent', 'versus', '4.35', 'percent', 'wednesday', 'close'], ['last', 'week', 'lawyers', 'asked', 'Gov.', 'mark', 'R.', 'warner', 'to', 'grant', 'clemency', 'governor', 'declined', 'to', 'intervene'], ['Gov.', 'linda', 'lingle', 'members', 'staff', 'navy', 'base', 'watched', 'launch'], ['best', 'investigators', 'can', 'nitpick', 'process', 'substance', 'isolated', 'business', 'decisions', '...', 'question', 'competence', 'manager', '\"'], ['justice', 'department', 'filed', 'suit', 'thursday', 'state', 'mississippi', 'failing', 'to', 'end', 'federal', 'officials', 'call', '\"', 'disturbing', '\"', 'abuse', 'juveniles', '\"', 'unconscionable', '\"', 'conditions', 'two', 'state', '-', 'run', 'facilities'], ['chelsea', 'defender', 'marcel', 'desailly', 'latest', 'to', 'speak', 'out'], ['only', 'woman', 'unit', 'member', 'teamsters', 'local', '0'], ['special', 'police', 'detained', 'khodorkovsky', 'early', 'saturday', 'siberian', 'city', 'novosibirsk', 'where', 'plane', 'made', 'refuelling', 'stop'], ['sony', 'ericsson', 'also', 'said', 'would', 'shut', 'down', 'gsm', '/', 'umts', 'R&D', 'center', 'munich', 'germany', 'to', 'increase', 'profitability'], ['country', 'scrambling', 'to', 'prevent', 'spreading', 'to', 'vast', 'countryside', 'where', 'most', '1.3', 'billion', 'people', 'live'], ['kansas', 'department', 'health', 'environment', 'records', 'show', 'there', '0', 'abortions', 'performed', 'girls', 'age', '0', 'younger', 'last', 'year'], ['\"', 'discovery', 'map', 'bug', 'present', 'vast', 'majority', 'crohn', 'sufferers', 'means', 'almost', 'certainly', 'causing', 'intestinal', 'inflammation', '\"', 'said', 'statement'], ['life', 'expectancy', 'boys', 'born', '0', '74.4', 'years', 'up', 'two', 'years', 'since', '0'], ['full', '0', '-', 'month', 'period', 'high', '-', 'speed', 'cable', 'modem', 'connections', 'increased', '0', 'percent'], ['believe', 'report', 'fully', 'consistent', 'courts', 'ruled', '...', 'department', 'actions', 'fully', 'within', 'law'], ['indeed', 'Mr.', 'weill', 'self', '-', 'described', 'workaholic', 'said', 'planned', 'to', 'remain', 'very', 'involved', 'company'], ['gregory', 'parseghian', 'former', 'investment', 'banker', 'appointed', 'chief', 'executive'], ['report', 'cites', 'marriage', 'alleged', 'operational', 'commander', 'bali', 'bombings', 'mukhlas', 'to', 'farida', '\"', 'highly', 'cosmopolitan', 'well', '-', 'educated', 'young', 'woman', '\"'], ['cradle', 'liberty', 'council', 'not', 'first', 'one', 'to', 'buck', 'national', 'group', 'stance'], ['\"', \"''s\", 'absurd', '\"', 'funny', 'cide', 'trainer', 'barclay', 'tagg', 'said'], ['last', 'year', 'cuban', 'officials', 'said', 'none', 'nearly', 'two', 'dozen', 'nominated', 'cuban', 'musicians', 'received', 'U.S.', 'visas', 'time', 'to', 'attend', 'grammys', 'los', 'angeles'], ['american', 'conservatives', 'clearly', 'minority', 'within', 'episcopal', 'church'], ['new', 'york', 'senator', 'new', 'book', '\"', 'living', 'history', '\"', 'appears', 'certain', 'bestseller'], ['\"', 'canada', 'small', 'country', 'needs', 'companies', 'like', 'deals', 'like', '\"'], ['police', 'official', 'S.K.', 'tonapi', 'told', 'reuters', 'least', '0', 'people', 'killed', 'more', 'than', '0', 'wounded'], ['\"', 'jeremy', 'good', 'guy', '\"', 'barber', 'said', 'adding', '\"', 'jeremy', 'living', 'dream', 'life', 'new', 'york', 'athlete'], ['mitsubishi', 'tokyo', 'financial', '(', 'JP:8306', 'news', 'chart', 'profile', ')', 'declined', '3,000', 'yen', '0.65', 'percent', 'to', '456,000', 'yen'], ['1,557', 'genes', 'chromosome', '0', 'thought', 'to', 'functional'], ['second', 'quarter', 'anadarko', 'now', 'expects', 'volume', '0', 'million', 'boe', 'down', 'from', '0', 'million', 'boe'], ['U.S.', 'troops', 'encountered', 'no', 'resistance', 'five', '-', 'hour', 'sweep', 'near', 'tikrit', 'saddam', 'hussein', 'hometown', 'center', 'region', 'baath', 'party', 'supporters'], ['miodrag', 'zivkovic', 'liberal', 'alliance', 'montenegro', 'won', '0', 'percent', 'vote', 'independent', 'dragan', 'hajdukovic', 'got', 'four', 'percent'], ['year', '-', 'ago', 'period', 'pearson', 'posted', '0', 'million', 'pre-tax', 'profit'], ['thursday', 'oracle', 'said', '34.75', 'million', 'peoplesoft', 'shares', 'tendered'], ['yucaipa', 'owned', 'dominick', 'selling', 'chain', 'to', 'safeway', '0', '$', '2.5', 'billion'], ['graves', 'reported', 'from', 'albuquerque', 'villafranca', 'from', 'austin', 'ratcliffe', 'from', 'laredo'], ['0', 'percent', 'increase', 'would', 'raise', 'undergraduate', 'tuition', 'to', '$', '5,247', 'annually', 'including', 'miscellaneous', 'campus', '-', 'based', 'fees'], ['authorities', 'said', 'scientist', 'properly', 'quarantined', 'home', 'developed', 'sars', 'symptoms', 'Dec.', '0'], ['support', 'will', 'come', 'free', 'software', 'upgrade', 'called', 'webvpn', 'current', 'customers', 'support', 'contracts'], ['hilsenrath', 'klarman', 'each', 'indicted', 'three', 'counts', 'securities', 'fraud'], ['new', 'sensor', '--', 'dubbed', 'canary', \"''\", 'cellular', 'analysis', 'notification', 'antigen', 'risks', 'yields', \"'\", \"'\", '--', 'hijacks', 'natural', 'process', 'two', 'important', 'changes'], ['one', 'fort', 'carson', '-', 'based', 'Sgt.', 'ernest', 'bucklew', '0', 'way', 'home', 'to', 'attend', 'mother', 'funeral', 'pennsylvania'], ['waksal', 'pleaded', 'guilty', 'to', 'securities', 'fraud', 'to', 'sentenced', 'next', 'week'], ['device', 'plays', 'internet', 'radio', 'streams', 'comes', '0', '-', 'day', 'trial', 'realnetworks', \"'\", 'rhapsody', 'music', 'service'], ['dollar', 'fell', 'low', '$', '1.1624', 'per', 'euro', 'from', '$', '1.1486', 'friday', 'traded', '$', '1.1594', '10:15', 'a.m.', 'london'], ['hearing', 'morales', 'expressed', '\"', 'sincere', 'regrets', 'remorse', '\"', 'actions'], ['site', 'finder', 'visited', '0', 'million', 'times', 'since', 'introduction', 'galvin', 'said'], ['according', 'to', \"SunnComm's\", 'peter', 'jacobs', '\"', 'mediamax', 'performs', 'exactly', \"'\", 'advertised', \"'\", 'to', 'companies', 'purchased'], ['tracked', 'to', 'atlanta', 'where', 'arrested', 'tuesday', 'night'], ['bush', 'administration', 'blames', 'hussein', 'loyalists', 'foreign', 'muslim', 'militants', 'entered', 'iraq', 'to', 'fight', 'U.S.', 'troops', 'wave', 'bombings', 'guerrilla', 'attacks'], ['later', 'emerged', 'broken', 'right', 'thigh', 'bones', 'right', 'wrist', 'elbow'], ['senate', 'agreed', 'tuesday', 'to', 'lift', '0', '-', 'year', '-', 'old', 'ban', 'research', 'development', 'low', '-', 'yield', 'nuclear', 'weapons'], ['some', '0', 'million', 'americans', '--', 'half', 'all', 'households', '--', 'invest', 'mutual', 'funds'], ['house', 'passed', 'prescription', '-', 'drug', 'legislation', 'last', 'two', 'sessions', 'senate', 'failed', 'to', 'so'], ['elderly', 'weakened', 'immune', 'systems', 'also', 'urged', 'to', 'protect', 'mosquito', 'bites'], ['ms', 'lafferty', 'lawyer', 'thomas', 'ezzell', 'told', 'kentucky', 'newspaper', '\"', 'understanding', 'there', 'lower', 'percentage', 'successful', 'impregnations', 'frozen'], ['klarman', 'arrested', 'fbi', 'agents', 'hamptons', 'exclusive', 'summer', 'resort', 'enclave', 'east', 'new', 'york', 'city'], ['bishop', 'told', 'police', 'thought', 'hit', 'dog', 'cat', 'someone', 'thrown', 'rock', 'vehicle'], ['promotional', 'poster', 'complete', 'countdown', 'dial', 'reminds', 'readers', 'upcoming', 'release', '\"', 'harry', 'potter', 'order', 'phoenix', '\"'], ['\"', 'further', 'testing', 'still', 'under', 'way', 'stage', 'given', 'early', 'detection', 'outlook', 'such', 'instances', 'would', 'positive', '\"', 'specialist', 'said', 'yesterday'], ['morning', 'trading', 'dow', 'jones', 'industrial', 'average', 'up', '40.12', '0.5', 'percent', '8,571.69', 'fallen', '0', 'points', 'monday'], ['rich', 'media', 'doubled', 'share', 'increasing', 'from', '0', '%', 'Q2', '0', 'to', '0', '%', 'Q2', '0'], ['will', 'take', 'time', 'to', 'oust', 'die', '-', 'hard', 'remnants', 'saddam', 'hussein', 'deposed', 'regime', 'iraq', 'defense', 'secretary', 'donald', 'H.', 'rumsfeld', 'said', 'tuesday'], ['sayliyah', 'command', 'base', 'iraq', 'war', 'central', 'command', 'sent', 'hundreds', 'ran', 'war', 'back', 'home', 'to', 'tampa', 'florida'], ['sco', 'says', 'pricing', 'terms', 'license', 'will', 'not', 'announced', 'weeks'], ['sources', 'within', 'racing', 'industry', 'told', 'daily', 'bulletin', 'fontana', 'will', 'get', 'second', 'nascar', 'race', 'labor', 'day', 'weekend', 'starting', 'next', 'season'], ['dow', 'jones', 'industrial', 'average', '.DJI', 'ended', 'up', '56.79', 'points', '0.67', 'percent', '8,588.36', '--', 'highest', 'level', 'since', 'january', '0'], ['dennehy', 'transferred', 'to', 'baylor', 'last', 'year', 'getting', 'kicked', 'off', 'university', 'new', 'mexico', 'lobos', 'temper', 'tantrums', 'begun', 'to', 'read', 'bible', 'daily'], ['bashir', 'felt', 'tried', 'opinion', 'not', 'facts', 'mahendradatta', 'told', 'reuters'], ['schofield', 'got', 'toepfer', 'to', 'admit', 'cross-examination', 'ignored', 'many', \"O'Donnell\", 'suggestions', 'projects'], ['case', 'court', 'held', 'cincinnati', 'violated', 'first', 'amendment', 'banning', 'only', 'advertising', 'pamphlets', 'interest', 'aesthetics'], ['box', 'cutters', 'used', 'weapon', 'Sept.', '0', '0', 'hijackers', 'since', 'banned', 'carry', '-', 'items'], ['july', '0', 'moore', 'announced', 'would', 'appeal', 'case', 'directly', 'to', 'U.S.', 'supreme', 'court'], ['southwest', 'said', 'traffic', 'up', '4.6', 'percent', 'quarter', 'ended', 'quarter', '$', '2.2', 'billion', 'cash'], ['four', 'versions', 'windows', 'operating', 'systems', 'targeted', 'windows', 'nt', 'windows', '0', 'windows', 'xp', 'windows', 'server', '0'], ['shares', 'mcdonald', 'Corp.', \"Wendy's\", 'international', 'Inc.', 'continued', 'modest', 'run-up', 'new', 'york', 'stock', 'exchange', 'monday'], ['playfully', 'chided', 'senate', '\"', 'little', 'bitty', 'tax', 'relief', 'plan', '\"'], ['looking', 'to', 'buy', 'latest', 'harry', 'potter'], ['mediaq', 'customers', 'include', 'major', 'handheld', 'makers', 'mitsubishi', 'siemens', 'palm', 'sharp', 'philips', 'dell', 'sony'], ['aventis', 'based', 'strasbourg', 'france', 'one', 'handful', 'companies', 'still', 'make', 'flu', 'vaccine'], ['michael', 'bloomberg', 'nyc', 'mayor', '\"', \"'m\", 'gonna', 'try', 'march', 'number', 'different', 'groups'], ['attack', 'seemed', 'similar', 'to', 'others', 'staged', 'near', 'foreign', 'compounds', 'riyadh', 'may', '0'], ['\"', 'put', 'lot', 'effort', 'energy', 'improving', 'patching', 'process', 'probably', 'later', 'than', 'should', 'now', \"'re\", 'just', 'gaining', 'incredible', 'speed'], ['boy', 'also', 'sprayed', 'room', 'full', 'retardant', 'from', 'fire', 'extinguishers', 'made', 'hard', 'to', 'see', 'chief', 'said'], ['\"', 'hrt', 'should', 'not', 'used', 'to', 'prevent', 'heart', 'disease', 'any', 'other', 'chronic', 'condition', '\"'], ['meat', 'poultry', 'butter', 'cheese', 'nuts', 'impounded', 'year', 'ago', 'lagrou', 'cold', 'storage', 'warehouse', 'chicago'], ['BlueCore3', '-', 'multimedia', 'includes', '0', '-', 'bit', 'stereo', 'audio', 'codec', 'dual', 'adc', 'dac', 'stereo', 'audio'], ['now', 'agency', 'last', 'three', 'shuttles', 'grounded', 'wake', 'columbia', 'disaster', 'wait', 'could', 'even', 'longer'], ['bremer', '0', 'onetime', 'assistant', 'to', 'former', 'secretaries', 'state', 'william', 'P.', 'rogers', 'henry', 'kissinger', 'ambassador', '-', '-', 'large', 'counterterrorism', 'from', '0', 'to', '0'], ['conversations', 'not', 'taken', 'place', 'tuesday', 'night', 'according', 'to', 'oracle', 'spokeswoman'], ['taiwan', 'attempted', 'to', 'gain', 'observer', 'status', 'to', 'united', 'nations', '-', 'affiliated', 'seven', 'years', 'again', 'rebuffed', 'march', '0', 'annual', 'conference', 'geneva'], ['washington', 'county', 'man', 'may', 'countys', 'first', 'human', 'case', 'west', 'nile', 'virus', 'health', 'department', 'said', 'friday'], ['national', 'breast', 'cancer', 'centre', 'chief', 'executive', 'professor', 'christine', 'ewan', 'said', 'too', 'early', 'to', 'quantify', 'risk', 'to', 'women'], ['brendsel', 'chief', 'financial', 'officer', 'vaughn', 'clarke', 'resigned', 'june', '0'], ['health', 'care', 'ndp', 'says', 'there', 'will', 'no', 'privatization', 'no', 'health', '-', 'care', 'premiums'], ['new', 'companies', 'will', 'begin', 'trading', 'nasdaq', 'today', 'under', 'ticker', 'symbols', 'plmo', 'psrc'], ['kids', 'adults', 'booksellers', 'postal', 'workers', 'all', 'preparing', '\"', 'harry', 'potter', 'order', 'phoenix', '\"'], ['government', 'not', 'identify', 'taikonauts', '—', 'term', 'coined', 'from', '‘‘', 'taikong', '’’', 'chinese', 'word', 'space', '—', 'would', 'travel', 'second', 'mission'], ['think', 'made', 'right', 'case', 'right', 'thing', '\"'], ['kollar', '-', 'kotelly', 'scheduled', 'another', 'antitrust', 'settlement', 'compliance', 'hearing', 'january'], ['\"', 'tomorrow', 'mission', 'inn', 'opportunity', 'to', 'congratulate', 'governor', '-', 'elect', 'great', 'state', 'california'], ['\"', 'expect', 'japan', 'to', 'keep', 'conducting', 'intervention', 'volume', 'likely', 'to', 'fall', 'sharply', '\"', 'said', 'junya', 'tanase', 'forex', 'strategist', 'jp', 'morgan', 'chase'], ['sunshine', 'group', 'ltd', 'represented', 'developers', 'related', 'companies', 'apollo', 'real', 'estate', 'advisors', 'lp', 'deal'], ['\"', 'third', 'owe', 'world', '\"', 'told', 'reporters'], ['tech', '-', 'laced', 'nasdaq', 'composite', 'index', 'gained', '2.90', 'points', '0.18', 'percent', 'to', '1,606.87'], ['benchmark', '0', '-', 'year', 'treasury', 'note', 'yield', '<', 'US10YT=RR', '>', 'dipped', 'below', '4.20', 'percent', 'tuesday'], ['so', 'edie', 'falco', 'critically', 'praised', 'co-star', '\"', 'frankie', 'johnny', '\"'], ['\"', 'saddam', 'gone', 'want', '(', 'U.S.', ')', 'occupation', 'to', 'end', '\"', 'said', 'hit', 'resident', 'abu', 'qasim'], ['joe', 'kernan', 'lieutenant', 'governor', 'past', 'seven', 'years', 'sworn', 'governor', \"O'Bannon\", 'died', 'saturday'], ['advanced', 'micro', 'devices', 'said', 'fujitsu', 'siemens', 'computers', 'offering', 'high', '-', 'end', 'workstation', 'based', 'amd', 'opteron', '0', 'series'], ['kodak', 'expects', 'earnings', '0', 'cents', 'to', '0', 'cents', 'share', 'quarter'], ['shares', 'corixa', 'fell', '0', 'cents', 'to', '$', '6.88', 'nasdaq', 'stock', 'market'], ['referring', 'to', 'john', 'S.', 'reed', 'former', 'citicorp', 'chief', 'executive', 'became', 'interim', 'chairman', 'chief', 'executive', 'exchange', 'last', 'sunday'], ['refused', 'to', 'reveal', 'percentage', 'flights', 'carried', 'sky', 'marshals', 'whether', 'would', 'increased'], ['nasdaq', 'composite', 'index', 'rose', '19.67', '1.3', 'percent', 'to', '1523.71', 'highest', 'since', 'june', '0'], ['said', 'concluded', 'film', 'failed', '\"', 'to', 'present', 'balanced', 'portrayal', '\"', 'reagans'], ['state', 'health', 'officials', 'said', 'today', 'young', 'northeast', 'kansas', 'woman', 'likely', 'state', 'first', 'case', 'monkeypox', 'among', 'humans', 'animals'], ['navistar', 'shares', 'down', '0', 'cents', '1.1', 'percent', '$', '41.19', 'new', 'york', 'stock', 'exchange', 'falling', 'low', '$', '39.93'], ['only', 'intel', 'corp', \".'s\", '0.3', 'percent', 'yield', 'lower'], ['mgm', 'nbc', 'liberty', 'executives', 'not', 'immediately', 'available', 'comment'], ['new', 'analysis', 'found', '0', '16,608', 'participants', 'developed', 'ovarian', 'cancer', '0', 'years', 'follow', '-', 'up'], ['veteran', 'stage', 'screen', 'actor', 'hume', 'cronyn', 'died', 'cancer', 'sunday'], ['deirdre', 'hisler', 'government', 'canyon', 'manager', 'said', 'state', 'long', 'eye', 'piece', 'property', 'eager', 'to', 'complete', 'deal', 'to', 'obtain'], ['reuters', 'witnesses', 'said', 'many', 'houses', 'flattened', 'city', 'squares', 'packed', 'crying', 'children', 'homeless', 'huddled', 'blankets', 'to', 'protect', 'from', 'cold'], ['three', 'grocery', 'chains', 'relying', 'store', 'managers', 'replacement', 'workers', 'to', 'keep', 'stores', 'open'], ['security', 'official', 'backup', 'could', 'not', 'fill', 'active', 'military', 'duty', 'strutt', 'said'], ['researchers', 'found', 'fossils', 'semidesert', 'area', 'venezuela', '0', 'miles', 'west', 'caracas'], ['mr', 'mcdonnell', 'leading', 'grant', 'thornton', 'international', 'inquiry', 'italian', 'business'], ['industry', 'largest', 'association', 'urging', 'members', 'not', 'call', 'more', 'than', '0', 'million', 'home', 'cellular', 'numbers', 'list'], ['workers', 'accuse', 'general', 'dynamics', '\"', 'reverse', 'age', 'discrimination', '\"', 'change', 'retirement', 'benefits', '0'], ['tech', '-', 'laced', 'nasdaq', 'composite', 'index', '.IXIC', 'eased', '5.16', 'points', '0.32', 'percent', '1,590.75', 'breaking', 'six', '-', 'day', 'string', 'gains'], ['space', 'infrared', 'telescope', 'facility', 'mission', 'to', 'search', 'beginnings', 'universe'], ['respected', 'medical', 'journal', 'lancet', 'called', 'complete', 'ban', 'tobacco', 'united', 'kingdom'], ['driver', 'truck', 'escaped', 'now', 'sought', 'police', 'supoyo', 'said'], ['\"', 'so', 'many', 'different', 'ways', 'artistry', 'black', 'musicians', 'conveyed', 'experience', 'black', 'americans', 'throughout', 'history', '\"', 'bush', 'said'], ['geraldine', 'andrews', 'pastor', 'daughter', '-', '-', 'law', 'said', 'robinson', 'recently', 'took', 'daughter', 'out', 'mental', 'health', 'facility'], ['thursday', 'matinee', 'baker', 'called', 'clubhouse', 'meeting', 'concerned', 'controversy', 'distracted', 'cubs'], ['taken', 'ambulance', 'to', 'charing', 'cross', 'hospital', 'hammersmith'], ['shortly', 'opening', 'bell', 'dow', 'jones', 'industrial', 'average', 'up', '11.13', 'to', '9,228.48', 'S&P', '0', 'index', 'gained', '1.74', 'to', '982.33'], ['addition', 'primary', 'care', 'trusts', '(', 'pcts', ')', 'given', 'star', 'ratings', 'first', 'time', 'year'], ['\"', 'expending', 'all', 'available', 'resources', 'toward', 'investigation', '\"', 'said', 'assistant', 'U.S.', 'attorney', 'todd', 'greenberg', 'counterterrorism', 'prosecutor', 'seattle'], ['technology', '-', 'laced', 'nasdaq', 'composite', 'index', '.IXIC', 'shed', '0', 'points', '0.98', 'percent', 'to', '1,492'], ['research', 'firm', 'earlier', 'forecast', 'increase', '4.9', 'percent'], ['peoplesoft', 'will', 'commit', '$', '0', 'million', 'cash', 'issue', '52.6', 'million', 'new', 'shares', 'companies', 'said'], ['so', 'state', 'union', 'address', 'january', 'bush', 'declared', 'british', 'government', '\"', 'learned', 'saddam', 'hussein', 'recently', 'sought', 'significant', 'quantities', 'uranium', 'from', 'africa', '\"'], ['other', '0', 'members', 'split', 'representatives', 'securities', 'industry', 'so', '-', 'called', '\"', 'public', '\"', 'board', 'members'], ['episcopal', 'diocese', 'central', 'florida', 'became', 'one', 'first', 'nation', 'saturday', 'to', 'officially', 'reject', 'national', 'denomination', 'policies', 'homosexuality'], ['mcgill', 'also', 'detailed', 'hole', 'cut', 'caprice', 'trunk'], ['compared', 'year', '-', 'earlier', 'profit', '$', '0', 'million', '0', 'cents', 'share'], ['\"', 'economy', 'nonetheless', 'yet', 'to', 'exhibit', 'sustainable', 'growth'], ['commission', 'estimated', 'california', 'lost', '$', '0', 'million', 'to', 'corporate', 'tax', 'shelters', '0'], ['other', 'markets', 'U.S.', 'treasuries', 'started', 'off', 'monday', 'weaker', 'stocks', 'rose', 'early'], ['technology', '-', 'laced', 'nasdaq', 'composite', 'index', '.IXIC', 'down', '25.36', 'points', '1.53', 'percent', '1,628.26'], ['pentagon', 'hoped', 'to', 'retain', 'control', 'postwar', 'effort', 'so', 'decision', 'victory', 'secretary', 'state', 'colin', 'L.', 'powell'], ['prof', 'sally', 'baldwin', '0', 'from', 'york', 'fell', 'cavity', 'opened', 'up', 'when', 'structure', 'collapsed', 'tiburtina', 'station', 'italian', 'railway', 'officials', 'said'], ['calls', 'agency', 'to', 'plan', 'independent', 'safety', 'engineering', 'organization'], ['worldcom', 'accounting', 'problems', 'came', 'to', 'light', 'early', 'last', 'year', 'company', 'filed', 'bankruptcy', 'july', '0', 'citing', 'massive', 'accounting', 'irregularities'], ['study', 'also', 'found', 'consumer', 'goods', 'advertisers', 'continued', 'to', 'spend', 'most', 'dollars', 'online', 'representing', '0', '%', 'all', 'web', 'advertising'], ['kiernan', 'testified', 'seifert', 'received', 'gunshot', 'wound', 'to', 'back'], ['priced', '$', '5,995', 'unlimited', 'number', 'users', 'tapping', 'single', 'processor', '$', '0', 'per', 'user', 'minimum', 'five', 'users'], ['tropical', 'storm', 'heads', 'pass', 'along', 'honduras', 'coast'], ['suicide', 'bomber', 'kills', '0', 'nigeria', 'church'], ['us', 'says', 'ready', 'to', 'help', 'blind', 'chinese', 'activist'], ['gazans', 'fire', '0', 'rockets', 'israel', ';', 'no', 'injuries'], ['berri', 'says', 'ready', 'to', 'help', 'launch', 'national', 'unity', 'government'], ['0', 'dead', 'iraq', 'bomb', 'attacks'], ['hurricane', 'isaac', 'moves', 'inland', 'landfall'], ['nigeria', 'mourns', 'over', '0', 'people', 'killed', 'plane', 'crash'], ['icc', 'jails', 'congolese', 'warlord', '0', 'years', 'over', 'child', 'soldiers'], ['0', 'soldiers', 'killed', '0', 'injured', 'pkk', 'attack', 'eastern', 'turkey'], ['schiphol', 'airport', 'partly', 'evacuated', 'bomb', 'threat'], ['mier', 'ups', '0', 'growth', 'forecast', 'to', '4.2', 'pc'], ['activists', 'syrian', 'troops', 'storm', 'damascus', 'suburb'], ['tehran', 'eu', 'sanctions', 'wo', 'not', 'force', 'iran', 'nuclear', 'talks'], ['portugal', 'drownings', 'uk', 'girl', 'grandad', 'named'], ['iran', 'powers', 'set', 'high', '-', 'stakes', 'nuclear', 'talks'], ['syrian', 'forces', 'kill', 'teen', 'aleppo', 'protests'], ['jaguar', 'to', 'create', '1,100', 'jobs', 'uk'], ['iraq', 'searches', 'syria', 'bound', 'iran', 'plane', 'officials'], ['syria', 'fighting', 'rages', 'russia', 'urges', 'western', 're-think'], ['erdogan', 'party', 'submits', 'plan', 'turkish', 'presidency'], ['publisher', 'acquitted', 'privacy', 'case'], ['samsung', 'overtakes', 'nokia', 'phones'], ['gu', 'kailai', 'murder', 'trial', 'ends', 'china'], ['not', \"'\", 'hiding', 'ball', \"'\", 'russia', 'obama'], ['england', 'captain', 'andrew', 'strauss', 'retires', 'from', 'professional', 'cricket'], ['china', 'backs', 'sri', 'lanka', 'un', 'resolution'], ['ton', 'up', 'tendulkar', 'reaches', '100th', 'international', 'hundred'], ['conspiracy', '-', 'lance'], ['mursi', 'takes', 'oath', 'office', 'becomes', 'egyptian', 'president'], ['syrian', 'opposition', 'pleads', 'criminal', 'court', 'action'], ['sunderland', '0', '-', '0', 'bolton', 'davies', 'double', 'gets', 'trotters', 'point', 'stay', 'bottom', 'three'], ['syrian', 'forces', 'shell', 'towns', 'clash', 'rebels'], ['bahraini', 'protesters', 'police', 'clash', 'funeral'], ['apple', 'buying', 'security', 'firm', 'authentec', '$', '0', 'million'], ['trade', 'newspaper', 'variety', 'up', 'sale'], ['australians', 'flee', 'homes', 'amid', 'floods'], ['germany', 'dodges', 'recession', 'growth', 'first', 'quarter'], ['asian', 'stocks', 'rise', 'greek', 'vote', 'eases', 'fears'], ['british', 'soldier', 'killed', 'southern', 'afghanistan'], ['obama', 'silent', 'china', 'dissident'], ['suicide', 'bomber', 'kills', '0', 'afghan', 'capital'], ['denver', 'shooting', 'police', 'to', 'detonate', 'devices', 'suspect', 'home'], ['syria', 'hands', 'over', 'bodies', 'journalists'], ['coroner', 'whitney', 'houston', 'died', 'bathtub'], ['japan', 'suffers', 'severe', 'flooding', '-', 'pictures'], ['japan', 'to', 'deport', 'chinese', 'held', 'over', 'island', 'landing'], ['some', 'syria', 'violence', 'amounts', 'to', 'civil', 'war', '-', 'red', 'cross'], ['romney', 'wins', 'nevada', 'caucus'], ['apple', 'ipad', 'mini', 'makes', 'debut'], ['hamas', 'hangs', 'three', 'gaza', 'prisoners'], ['east', 'timor', 'votes', 'presidential', 'election'], ['sunday', 'times', 'journalist', 'marie', 'colvin', 'killed', 'syria'], ['kl', 'shares', 'higher', 'mid-afternoon'], ['chicago', 'teachers', 'strike', 'bitter', 'contract', 'dispute'], ['israel', 'to', 'free', 'palestinian', 'hunger', 'striker'], ['not', 'good', 'beginning', 'hollande', 'plane', 'hit', 'lightning', 'en', 'route', 'to', 'berlin'], ['afghan', 'parliament', 'votes', 'to', 'oust', 'key', 'ministers'], ['attacker', 'afghan', 'uniform', 'kills', '0', 'nato', 'troops'], ['cheap', 'generics', 'no', 'panacea', 'india', '’s', 'poorest'], [\"'\", 'arrest', 'warrant', \"'\", 'maldives', 'ex-president'], ['hrw', 'jordan', 'turning', 'away', 'palestinian', 'refugees', 'from', 'syria'], ['syrian', 'forces', 'overrun', 'rebel', 'stronghold'], ['chinese', 'stocks', 'close', 'higher', 'midday', 'friday'], ['sandy', 'slams', 'northeast', ';', 'least', '0', 'dead', '7.4', 'm', 'without', 'power'], ['putin', 'declares', 'victory', 'russia', 'presidential', 'vote'], ['supreme', 'court', 'to', 'hear', 'voting', 'rights', 'act', 'case'], ['libya', 'postpones', 'assembly', 'election', 'to', 'july', '0'], ['london', '0', 'olympics', 'opening', 'ceremony', \"'\", 'to', 'feature', 'green', 'pleasant', 'land', \"'\"], ['pakistan', 'blocks', 'twitter', 'over', 'anti-Islamic', 'material'], ['annan', 'to', 'visit', 'syrian', 'refugees', 'turkey', 'tuesday'], ['pakistani', 'pm', 'shocked', 'avalanche', 'trapping', 'army', 'personnel'], ['opposition', 'leaders', 'emerge', 'to', 'commemorate', 'cambodian', 'workers', \"'\", 'deaths'], ['mali', 'due', 'to', 'vote', 'president'], ['pussy', 'riot', 'member', 'alyokhina', 'released', 'from', 'jail', 'russia'], ['asiana', 'jet', 'crash', 'lands', 'san', 'francisco', 'airport'], ['blizzard', 'hammers', 'U.S.', 'northeast', 'five', 'dead', '700,000', 'lose', 'power'], ['0', 'french', 'journalists', 'killed', 'mali'], ['vehicles', 'ablaze', 'collapsed', 'japan', 'tunnel'], ['china', 'stocks', 'close', 'lower', 'friday'], ['mayor', 'says', '0', 'dead', 'texas', 'fertilizer', 'plant', 'blast'], ['cbn', 'reiterates', 'plan', 'to', 'phase', 'out', 'polymer', 'notes'], ['U.S.', 'files', 'espionage', 'charges', 'agains', 'nsa', 'leaker'], ['chinese', 'general', 'son', 'gets', '0', 'years', 'jail', 'rape'], ['where', 'rusty', 'red', 'panda', 'vanishes', 'from', 'national', 'zoo'], ['queen', 'beatrix', 'netherlands', 'to', 'abdicate', 'son'], ['U.S.', 'dumps', 'bombs', 'great', 'barrier', 'reef'], ['0', 'taliban', 'militants', 'killed', 'afghanistan'], ['most', 'powerful', 'typhoon', '0', 'hits', 'philippines'], ['calls', 'more', 'egypt', 'protests'], ['us', 'government', \"'\", 'edge', 'shutdown', \"'\"], ['0', 'killed', 'fighting', 'northern', 'syria'], ['critics', 'say', 'putin', '’s', 'security', 'restrictions', 'violate', 'rights'], ['egypt', 'braces', 'more', 'protests', 'prays', 'calm'], ['morsi', 'supporters', 'protest', 'egypt'], ['stocks', 'rise', 'early', 'trading'], ['bangladesh', 'building', 'collapse', 'death', 'toll', 'hits', '0', 'army'], ['defiant', 'mugabe', 'sworn', 'seventh', 'term', 'blasts', \"'\", 'vile', \"'\", 'west'], ['nelson', 'mandela', 'hospital', 'tests'], ['iran', 'six', 'global', 'powers', 'sign', 'landmark', 'nuclear', 'deal'], ['algeria', 'mounts', 'military', 'operation', 'to', 'rescue', 'al', 'qaeda', 'hostages'], ['delhi', 'gang', 'rape', 'victim', 'dies', 'singapore', 'hospital'], ['birth', 'control', 'linked', 'higher', 'glaucoma', 'risk'], ['malaysia', 'sets', 'may', '0', 'date', 'closely', 'contested', 'election'], ['dhawan', 'smashes', 'india', 'to', 'big', 'win', 'over', 'south', 'africa'], ['n', 'korea', 'postpones', 'family', 'reunions'], ['syria', 'rejects', 'us', 'uk', 'chemical', 'arms', 'claims'], ['egypt', 'arrests', 'muslim', 'brotherhood', 'supreme', 'guide'], ['gunmen', 'kill', 'nine', 'people', 'northwest', 'pakistan'], ['news', 'summary', 'march', '0'], ['hawaii', 'passes', 'gay', 'marriage', 'bill'], ['syrian', 'opposition', 'urges', 'eu', 'to', 'send', 'arms', 'to', 'rebels'], ['funeral', 'oscar', 'pistorius', \"'\", 'girlfriend', 'reeva', 'steenkamp', 'takes', 'place'], ['two', 'firefighters', 'killed', 'new', 'york', 'ambush'], ['ten', 'rescued', 'off', 'waterford', 'dublin', 'coasts'], ['mars', 'rover', 'collects', 'first', 'bedrock', 'sample'], ['ankeet', 'chavan', 'granted', 'conditional', 'bail', 'marriage'], ['man', 'battled', 'fukushima', 'disaster', 'dies', 'cancer'], ['iran', 'says', 'nuclear', 'talks', 'to', 'resume', 'next', 'month'], ['us', 'authorities', 'charge', 'man', 'ricin', 'probe'], ['0', 'bodies', 'found', 'raided', 'algerian', 'gas', 'plant'], ['ferrer', 'cruises', 'australian', 'open', 'quarter', '-', 'finals'], ['ubs', 'settles', 'us', 'mortgage', 'lawsuit'], ['north', 'south', 'korea', 'agree', 'to', 'talks'], ['gunmen', 'kill', 'female', 'politician', 'pakistan'], ['kardashian', 'divorce', 'ready', 'trial'], ['new', 'zealand', 'set', 'to', 'legalise', 'gay', 'marriage'], ['syria', 'regime', 'claims', 'evacuation', '5,000', 'near', 'damascus'], ['nobel', 'prize', 'winning', 'author', 'doris', 'lessing', 'dies'], ['internet', 'phone', 'service', 'restored', 'syrian', 'capital'], ['syrian', 'pm', 'survives', 'bomb', 'attack'], ['us', 'stock', 'futures', 'edge', 'up', 'ahead', 'jobs', 'report'], ['bomb', 'blast', 'kills', '0', 'southwest', 'pakistan'], ['david', 'cameron', 'puts', 'sri', 'lanka', 'notice', 'over', 'war', 'crime', 'allegations'], ['morsi', 'supporters', 'clash', 'riot', 'police', 'cairo'], ['afghan', 'police', 'kill', '0', 'taliban', 'fighters'], ['gunmen', 'kidnap', 'airline', 'pilots', 'lebanon'], ['kurdish', 'rebels', 'to', 'withdraw', 'from', 'turkey', 'march', 'report'], ['japan', 'revises', 'gdp', 'growth', 'to', 'annual', '1.1', 'pct', 'Q3'], ['foundations', 'south', 'africa', 'built', 'nelson', 'mandela', 'memory'], ['ukraine', 'protest', 'leaders', 'name', 'ministers', 'russian', 'troops', 'alert'], ['malala', 'snowden', 'belarusians', 'short', '-', 'listed', 'sakharov', 'prize'], ['elbaradei', 'to', 'become', 'egyptian', 'pm'], ['taiwan', 'economy', 'grows', '2.27', '%', 'april', '-', 'june', 'quarter'], ['tamerlan', 'tsarnaev', 'buried', 'virginia'], ['state', 'Dept.', 'issues', 'wide', 'travel', 'alert', 'says', 'terror', 'attack', 'possible'], ['singapore', 'stocks', 'end', 'up', '0.11', 'pct'], ['russia', 'warns', 'ukraine', 'eu', 'deal'], ['hernandez', 'double', 'gives', 'mexico', 'victory'], ['china', 'sacks', 'top', 'economic', 'official'], ['canada', 'approves', 'oil', 'pipeline', 'to', 'pacific', 'coast'], ['storm', 'buries', 'northeast', ';', '0', 'inches', 'snow', 'nj'], ['jamaican', 'connection', 'liverpool', 'win'], ['international', 'weapons', 'experts', 'leave', 'syria', 'obama', 'to', 'make', 'statement'], ['southwest', 'jet', 'hit', 'nose', 'first'], ['twelve', 'killed', 'bomb', 'blast', 'pakistani', 'train'], ['powerful', 'quake', 'strikes', 'off', 'eastern', 'indonesia'], ['obama', 'lashes', 'north', 'korea', 'pariah', 'state'], ['colombia', 'strike', 'three', 'times'], ['lord', 'palumbo', 'offers', 'hope', 'relationship', 'son', 'james'], ['deputy', 'speaker', 'faces', 'new', 'sex', 'claims'], ['cia', 'chief', 'visits', 'israel', 'syria', 'talks'], ['suicide', 'bomb', 'kills', '0', 'injures', '0', 'pakistan'], ['ukraine', 'rebels', \"'\", 'flee', 'eastern', 'stronghold', \"'\"], ['0', 'foreigners', 'among', '0', 'killed', 'kabul', 'hotel', 'attack'], ['firefighters', 'battle', 'forest', 'fire', 'sw', 'china'], ['hassan', 'rouhani', 'wins', 'iran', 'presidential', 'election'], ['woman', 'remanded', 'over', 'child', 'death', 'woman', 'remanded', 'custody', 'charged', 'murder', 'eight', '-', 'year', '-', 'old', 'girl', 'found', 'dead', 'block', 'flats'], ['red', '-', 'shirt', 'leader', 'calls', 'not', 'to', 'oppose', 'army'], ['russia', 'praises', 'idea', 'to', 'render', 'rights', 'assistance', 'to', 'ukraine'], ['georgian', 'pm', 'ally', 'to', 'become', 'president', '-', 'exit', 'poll'], ['car', 'bombs', 'kill', 'least', '0', 'iraqi', 'capital'], ['saudi', 'arabia', 'gets', 'seat', 'un', 'security', 'council'], ['us', 'drone', 'strike', 'kills', '0', 'pakistan'], ['0', 'killed', 'bomb', 'attack', 'pakistani', 'base'], ['shenzhen', 'stock', 'indices', 'close', 'higher', 'monday'], ['prince', 'harry', 'pays', 'tribute', 'to', 'us', 'war', 'dead'], ['0', 'dead', 'iraq', 'attacks', 'bomb', 'football', 'pitch'], ['myanmar', 'arrests', '0', 'over', 'sectarian', 'violence'], ['iran', 'official', 'us', 'visa', 'denial', 'to', 'iranian', 'envoy', 'will', 'not', 'affect', 'nuke', 'talks'], [\"Gov'ts\", 'groups', 'pledge', 'millions', 'typhoon', 'relief'], ['greece', 'suspends', 'state', 'broadcaster'], ['guatemalan', 'court', 'finds', 'former', 'dictator', 'guilty', 'genocide'], ['beaten', 'florida', 'teen', 'released', 'israel'], ['iran', 'sextet', 'to', 'resume', 'expert', 'talks'], ['bangladesh', 'collapse', 'search', 'over', ';', 'death', 'toll', '1,127'], ['neymar', 'powers', 'brazil', 'last', '0'], ['ukraine', 'to', 'implement', 'unilateral', 'ceasefire'], ['stones', 'add', 'second', 'hyde', 'park', 'concert'], ['papers', 'say', 'Aug.', '0', '0'], ['0', 'nations', 'meet', 'haze'], ['car', 'bomb', 'swedish', 'consulate', 'libya', 'benghazi', 'no', 'casualties'], ['bomber', 'strikes', 'near', 'pakistan', 'army', 'hq'], ['croatia', 'begins', 'countdown', 'to', 'historic', 'eu', 'entry'], ['suicide', 'attack', 'kills', 'eight', 'baghdad'], ['war', 'criminals', 'heroes', 'whitewashing', 'ariel', 'sharon', 'ŕä'], ['rogers', 'videotron', 'extend', 'reach', 'network', '-', 'sharing', 'deal'], ['prominent', 'aids', 'researchers', 'killed', 'malaysian', 'plane', 'crash'], ['israel', 'forces', 'kill', '0', 'palestinian', 'militants'], ['death', 'toll', \"'\", 'rises', 'to', '0', \"'\", 'typhoon', 'strikes', 'japan'], ['protests', 'continue', 'tense', 'ukraine', 'capital'], ['two', 'french', 'journalists', 'killed', 'mali', 'kidnapping'], ['headlines', 'major', 'iranian', 'newspapers', 'dec', '0'], ['iran', 'warns', 'spillover', 'possible', 'war', 'syria'], ['former', 'pakistan', 'president', 'pervez', 'musharraf', 'arrested', 'again'], ['us', 'drone', 'strike', \"'\", 'kills', '0', 'militants', 'pakistan', \"'\"], [\"UK's\", 'Ex-Premier', 'margaret', 'thatcher', 'dies', '0'], ['polar', 'bear', 'dna', \"'\", 'may', 'help', 'fight', 'obesity', \"'\"], [\"'\", 'fast', '&amp', ';', 'furious', \"'\", 'star', 'paul', 'walker', 'dies', 'car', 'crash'], ['air', 'strike', 'kills', 'one', 'man', 'syria', 'hama'], ['turkish', 'pm', 'president', 'clash', 'over', 'reply', 'to', 'protests'], ['strong', 'new', 'quake', 'hits', 'shattered', 'pak', 'region'], ['floods', 'central', 'europe', 'continue', 'to', 'create', 'havoc'], ['luxembourg', 'pm', 'quits', 'amid', 'spying', 'scandal'], ['0', 'dead', '0', 'missing', 'central', 'china', 'construction', 'accident'], ['us', 'china', 'fail', 'to', 'paper', 'over', 'cracks', 'ties'], ['world', 'cup', 'live', 'france', '0', '-', '0', 'germany'], ['tokyo', 'to', 'host', '0', 'games'], ['france', 'warns', 'extremists', 'benefiting', 'from', 'egypt', 'violence'], ['british', 'teenager', 'killed', 'fall', 'from', 'magaluf', 'hotel'], ['us', 'drone', 'strike', 'kills', 'eight', 'waziristan'], ['russian', 'opposition', 'leader', 'under', 'house', 'arrest'], ['senate', 'confirms', 'janet', 'yellen', 'chair', 'us', 'federal', 'reserve'], ['israel', 'confirms', 'strike', 'syria', 'targeted', 'weapons'], ['jurors', 'find', 'jodi', 'arias', 'eligible', 'death', 'penalty'], ['twitter', 'reports', 'blocking', 'venezuela'], ['goa', 'building', 'collapse', 'death', 'toll', 'touches', '0'], ['pak', 'religious', 'body', 'endorses', 'underage', 'marriage'], ['mt', 'gox', 'reveals', '200,000', \"'\", 'forgotten', \"'\", 'bitcoin', 'haul'], ['more', 'than', '0', 'injured', 'texas', 'plant', 'blast'], ['redford', 'touts', 'alberta', 'economy', 'ahead', 'vote', 'leadership'], ['obama', 'holds', 'out', 'over', 'syria', 'strikes'], ['south', 'korean', 'soldier', 'reportedly', 'flees', 'killing', '0', 'comrades', 'border', 'north', 'korea'], ['tycoon', 'claims', 'win', 'ukraine', 'promises', 'to', 'seek', 'future', 'eu'], ['syria', 'agrees', 'to', 'surrender', 'chemical', 'weapons'], ['abbvie', 'sours', '$', '55B', 'shire', 'deal', 'tax', 'changes'], ['militant', 'attack', 'from', 'afghanistan', 'kills', 'four', 'upper', 'dir'], ['0', 'killed', 'afgan', 'terror', 'attack'], [\"Rev's\", 'early', 'reads', 'march', '0'], ['pope', 'canonizes', '0', 'palestinians'], ['funeral', 'ian', 'paisley', 'to', 'take', 'place', 'belfast'], ['waba', 'emerges', 'new', 'nlc', 'president'], ['0', 'us', 'airstrikes', 'target', 'islamic', 'state', 'fighters'], ['us', 'senate', 'votes', 'to', 'advance', 'iran', 'nuclear', 'review', 'bill'], ['editors', 'from', 'around', 'world', 'urge', 'turkey', 'to', 'protect', 'media'], ['philippines', 'canada', 'pledge', 'to', 'further', 'boost', 'relations'], ['israel', 'bars', 'palestinians', 'from', 'jerusalem', 'old', 'city'], ['how', 'much', 'know', 'secret', 'service'], ['obama', 'struggles', 'to', 'soothe', 'saudi', 'fears', 'iran', 'talks', 'resume'], ['south', 'korea', 'declares', 'end', 'to', 'mers', 'outbreak']]\n"
          ]
        }
      ],
      "source": [
        "print(text_st1)"
      ]
    },
    {
      "cell_type": "code",
      "execution_count": null,
      "metadata": {
        "colab": {
          "base_uri": "https://localhost:8080/"
        },
        "id": "F5SJvYvzmND5",
        "outputId": "c0eb5f13-ebc5-4061-8a2d-6a94b012c1ec"
      },
      "outputs": [
        {
          "output_type": "stream",
          "name": "stdout",
          "text": [
            "Looking in indexes: https://pypi.org/simple, https://us-python.pkg.dev/colab-wheels/public/simple/\n",
            "Requirement already satisfied: gensim in /usr/local/lib/python3.7/dist-packages (3.6.0)\n",
            "Requirement already satisfied: scipy>=0.18.1 in /usr/local/lib/python3.7/dist-packages (from gensim) (1.7.3)\n",
            "Requirement already satisfied: six>=1.5.0 in /usr/local/lib/python3.7/dist-packages (from gensim) (1.15.0)\n",
            "Requirement already satisfied: smart-open>=1.2.1 in /usr/local/lib/python3.7/dist-packages (from gensim) (5.2.1)\n",
            "Requirement already satisfied: numpy>=1.11.3 in /usr/local/lib/python3.7/dist-packages (from gensim) (1.21.6)\n"
          ]
        }
      ],
      "source": [
        "# ライブラリのインストール\n",
        "! pip install gensim"
      ]
    },
    {
      "cell_type": "code",
      "execution_count": null,
      "metadata": {
        "id": "Oss2MuBVmEbO"
      },
      "outputs": [],
      "source": [
        "# 単語ベクトルの読み込み\n",
        "import gensim.downloader as api\n",
        "import gensim\n",
        "\n",
        "en_w2v = api.load(\"word2vec-google-news-300\")\n",
        "\n",
        "#en_w2v = gensim.models.KeyedVectors.load_word2vec_format(\"/content/drive/MyDrive/exp5-3model/crawl-300d-2M.vec\", binary=False)\n",
        "#https://github.com/RaRe-Technologies/gensim-data"
      ]
    },
    {
      "cell_type": "code",
      "execution_count": null,
      "metadata": {
        "colab": {
          "base_uri": "https://localhost:8080/"
        },
        "id": "OHAFivswSXBG",
        "outputId": "07d5949d-0402-4494-dbc1-aed8daa396e3"
      },
      "outputs": [
        {
          "output_type": "stream",
          "name": "stderr",
          "text": [
            "/usr/local/lib/python3.7/dist-packages/ipykernel_launcher.py:4: DeprecationWarning: Call to deprecated `wv` (Attribute will be removed in 4.0.0, use self instead).\n",
            "  after removing the cwd from sys.path.\n"
          ]
        },
        {
          "output_type": "stream",
          "name": "stdout",
          "text": [
            "[ 0.00681015 -0.00865534 -0.04791635 -0.02049954  0.00717445 -0.01146622\n",
            " -0.02317206 -0.01860099 -0.02043321 -0.00533921]\n"
          ]
        }
      ],
      "source": [
        "#ベクトル中心化　*頻度\n",
        "import numpy as np\n",
        "\n",
        "vocab = en_w2v.wv.index2word\n",
        "meanvec = np.zeros(en_w2v.vector_size)\n",
        "for voc in set(prob_dict.keys()) & set(vocab):\n",
        "    meanvec +=  en_w2v[voc] * prob_dict[voc]\n",
        "print(meanvec[:10])"
      ]
    },
    {
      "cell_type": "code",
      "execution_count": null,
      "metadata": {
        "id": "23ANaU7Tlb7W"
      },
      "outputs": [],
      "source": [
        "# 単語リストをベクトル化するための関数を定義\n",
        "\n",
        "def vectorize(words, w2v):\n",
        "    vectors = list()\n",
        "    for word in words:\n",
        "        if not word.isalpha():\n",
        "            word = ''\n",
        "        if word in w2v:\n",
        "            vectors.append((w2v[word]-meanvec)*idf(word))\n",
        "    return np.array(vectors).mean(axis=0)"
      ]
    },
    {
      "cell_type": "code",
      "execution_count": null,
      "metadata": {
        "id": "MnoJyCannqiw"
      },
      "outputs": [],
      "source": [
        "# 類似度推定: 2つのベクトル -> コサイン類似度\n",
        "\n",
        "def cos(v1, v2):\n",
        "    return np.dot(v1, v2) / (np.linalg.norm(v1) * np.linalg.norm(v2))"
      ]
    },
    {
      "cell_type": "code",
      "execution_count": null,
      "metadata": {
        "id": "khPULrrVlt0B"
      },
      "outputs": [],
      "source": [
        "y_nltk = list()\n",
        "y_bow = list()\n",
        "y_mt = list()\n",
        "y_st = list()\n",
        "\n",
        "for i in range(len(text_nltk1)):\n",
        "    # nltk\n",
        "    vector_nltk1 = vectorize(text_nltk1[i], en_w2v)\n",
        "    vector_nltk2 = vectorize(text_nltk2[i], en_w2v)\n",
        "    y_nltk.append('{:f}'.format(cos(vector_nltk1, vector_nltk2)))\n",
        "\n",
        "    # bow\n",
        "    vector_bow1 = vectorize_bow(text_nltk1[i], vocab, word2id)\n",
        "    vector_bow2 = vectorize_bow(text_nltk2[i], vocab, word2id)\n",
        "    y_bow.append('{:f}'.format(cos(vector_bow1, vector_bow2)))\n",
        "\n",
        "    # Moses Tokenizer\n",
        "    vector_mt1 = vectorize(text_mt1[i], en_w2v)\n",
        "    vector_mt2 = vectorize(text_mt2[i], en_w2v)\n",
        "    y_mt.append('{:f}'.format(cos(vector_mt1, vector_mt2)))\n",
        "\n",
        "    # Stanza\n",
        "    vector_st1 = vectorize(text_st1[i], en_w2v)\n",
        "    vector_st2 = vectorize(text_st2[i], en_w2v)\n",
        "    y_st.append('{:f}'.format(cos(vector_st1, vector_st2)))"
      ]
    },
    {
      "cell_type": "code",
      "execution_count": null,
      "metadata": {
        "colab": {
          "base_uri": "https://localhost:8080/"
        },
        "id": "K6hqouiooYtA",
        "outputId": "dc2d0468-9476-4f86-98cb-4b0946c41b7e"
      },
      "outputs": [
        {
          "output_type": "stream",
          "name": "stdout",
          "text": [
            "['0.790365', '0.952832', '0.994613', '0.848892', '0.560098', '0.542333', '0.915283', '0.683901', '0.859759', '0.644116', '0.644116', '1.000000', '0.306777', '0.706709', '0.684080', '0.695964', '0.894920', '0.874910', '0.636035', '0.327671', '0.524613', '0.384031', '0.963582', '0.808633', '0.663413', '0.909488', '0.722898', '0.694831', '0.431470', '0.924146', '0.806604', '0.859731', '0.365362', '0.860807', '0.734750', '0.266117', '0.385142', '0.651316', '0.942620', '0.393938', '0.853248', '0.883174', '0.874910', '0.375725', '0.552483', '0.226537', '0.190615', '0.477973', '0.860785', '0.681878', '0.518971', '0.575380', '0.360556', '0.182572', '0.813555', '0.339098', '0.939330', '0.350484', '0.574818', '0.655778', '1.000000', '0.139026', '0.796803', '0.358899', '0.768528', '0.371997', '0.323103', '0.751190', '0.182236', '0.636274', '0.846030', '0.965702', '0.267897', '0.811002', '0.712707', '0.299181', '0.343656', '0.124899', '0.707853', '0.866157', '0.210397', '0.456602', '0.454799', '0.451988', '0.367783', '0.545770', '0.894940', '0.894241', '0.801819', '0.539045', '0.501729', '0.874159', '0.431095', '0.869037', '0.593361', '0.866838', '0.721323', '0.694268', '0.643823', '0.610922', '0.140281', '0.405702', '0.767843', '0.659165', '0.742511', '0.722504', '0.334644', '0.507363', '0.399414', '0.738917', '0.740240', '0.774441', '0.772227', '0.889587', '0.106496', '0.155219', '0.926430', '0.393342', '0.210536', '0.403849', '0.377904', '0.293906', '0.397411', '0.327482', '0.290590', '1.000000', '0.468737', '0.941450', '1.000000', '0.855228', '0.845119', '0.896798', '0.709846', '0.852165', '0.842986', '0.680462', '1.000000', '0.814739', '0.723912', '0.961675', '1.000000', '0.892389', '0.792711', '0.944093', '0.565243', '0.823157', '0.908719', '0.668037', '0.844685', '0.382558', '0.845600', '0.665664', '0.853496', '0.874910', '0.747028', '0.974511', '0.217650', '0.422860', '0.907625', '0.413988', '1.000000', '0.964194', '0.562835', '0.878123', '0.919570', '0.921171', '0.778531', '0.906734', '0.906588', '0.717597', '0.683901', '0.274788', '0.838554', '0.744051', '0.686772', '0.751100', '0.818655', '0.738102', '0.186111', '0.378869', '0.378869', '0.700533', '0.772800', '0.320365', '0.704928', '0.177113', '0.329332', '0.201039', '0.232773', '0.194916', '0.858077', '0.671633', '0.480038', '0.879102', '0.906659', '0.808413', '0.682009', '0.288366', '0.225164', '0.662592', '0.280958', '0.236947', '0.421220', '0.287701', '0.181554', '0.343587', '0.782806', '0.181653', '0.642610', '0.679912', '0.408177', '0.373285', '0.303897', '0.377869', '0.605886', '0.359253', '0.560259', '0.716175', '0.819175', '0.421621', '0.241377', '0.156879', '0.368631', '0.814897', '0.175563', '0.344861', '0.715192', '0.714493', '0.222613', '0.528057', '0.250592', '0.184547', '0.783745', '0.756850', '0.406721', '0.614351', '0.215286', '0.132799', '0.355453', '0.197039', '0.493772', '0.131015', '0.199525', '0.331523', '0.793689', '0.191204', '0.758983', '0.646380', '0.184735', '0.205888', '0.655519', '0.944640', '0.731095', '0.924245', '0.676539', '0.844411', '0.524824', '0.853065', '0.694413', '0.214426', '0.948253', '0.824080', '0.764210', '0.963984', '0.387524', '0.640590', '0.536559', '0.777751', '0.667256', '0.967721', '0.750743', '0.292888', '0.676642', '0.933686', '0.941338', '1.000000', '0.358765', '0.422092', '0.949917', '0.642969', '0.323002', '0.513711', '0.880264', '0.772335', '0.772836', '0.908188', '0.753370', '0.822229', '0.933103', '0.496470', '0.945988', '0.352892', '0.537458', '0.916310', '0.365339', '0.570101', '0.394549', '0.861576', '0.701956', '0.916292', '1.000000', '0.711889', '0.787923', '0.898569', '0.679626', '0.814136', '0.920398', '0.791417', '0.937913', '0.812521', '0.588995', '0.324736', '0.755841', '0.804558', '0.647204', '0.845724', '0.742803', '0.788102', '0.361185', '0.342066', '0.830706', '0.706698', '0.896713', '0.730596', '0.879390', '0.298667', '0.794291', '0.862463', '0.920891', '0.904268', '1.000000', '0.868305', '0.949608', '0.823707', '0.566658', '0.694616', '0.790604', '0.902680', '0.439692', '0.394671', '0.900443', '0.974506', '0.833821', '0.608252', '0.751417', '0.500403', '0.726614', '0.555395', '0.681852', '0.343168', '0.800313', '0.959988', '0.674895', '0.853149', '0.782027', '0.370387', '0.621365', '0.909691', '0.360908', '0.843602', '0.968153', '0.823197', '0.738844', '0.766870', '0.907635', '0.274579', '0.749640', '0.759680', '0.835339', '0.963614', '0.806373', '0.885175', '0.420144', '0.689908', '0.205344', '0.847799', '0.720086', '0.421676', '0.742033', '0.700073', '0.905994', '0.826967', '0.639858', '0.540577', '0.583339', '0.738614', '0.925851', '0.478298', '0.785808', '0.566986', '0.949413', '0.579616', '0.379458', '0.545530', '0.860620', '0.352281', '0.331271', '1.000000', '0.812208', '0.708447', '0.732111', '0.639374', '0.564624', '0.676454', '0.662570', '0.916960', '0.369615', '0.714826', '0.885529', '0.679076', '0.819983', '0.978327', '0.648727', '0.915747', '0.373771', '0.519126', '0.310666', '0.916607', '0.801662', '0.913113', '0.880158', '0.626542', '1.000000', '0.510912', '0.675419', '0.473289', '0.389045', '1.000000', '0.785494', '0.774756', '0.369711', '1.000000', '0.210537', '0.802654', '0.475806', '0.845050', '0.674648', '1.000000', '0.761733', '0.827513', '0.794100', '0.766306', '0.258495', '0.752138', '0.776312', '0.279790', '0.707635', '0.855529', '0.504784', '0.677190', '0.864607', '0.981864', '0.669285', '0.372114', '0.986374', '0.682930', '0.662748', '0.980987', '0.398018', '0.731823', '0.325260', '0.548193', '0.242979', '0.545596', '0.724337', '0.684465', '0.676220', '0.958049', '0.973178', '0.542026', '0.790211', '0.750145', '0.738614', '0.995230', '0.644564', '0.645506', '0.376587', '0.679249', '0.887339', '0.509281', '0.803581', '0.546459', '0.760923', '0.386801', '0.910944', '0.524259', '0.622938', '0.899877', '0.849206', '1.000000', '1.000000', '0.836143', '0.764957', '0.764387', '0.714223', '0.865997', '0.280513', '0.711758', '0.460357', '0.989993', '0.692058', '0.772467', '0.494738', '0.901781', '0.719117', '0.912940', '0.675543', '0.595139', '0.793364', '0.496177', '0.584338', '0.771445', '0.993171', '0.591366', '0.798622', '0.383632', '0.803452', '0.642332', '0.762313', '0.925463', '0.558422', '0.766100', '0.935150', '0.613456', '0.829374', '0.684483', '0.699131', '0.352928', '0.908694', '0.482088', '0.452956', '0.614122', '0.457958', '0.674091', '0.407880', '0.389929', '0.553395', '0.592429', '0.439024', '0.686148', '0.996072', '0.567209', '0.764240', '0.920163', '0.927100', '0.961411', '0.465344', '0.691831', '0.806673', '0.758132', '0.615434', '0.484343', '0.890788', '0.968635', '0.629830', '0.902495', '0.805134', '0.684449', '0.906436', '0.733526', '0.954686', '0.465560', '0.676340', '0.694630', '0.569831', '0.753643', '0.937186', '0.755463', '0.506623', '0.950286', '0.641689', '0.521547', '0.365517', '0.769097', '0.839273', '0.953803', '0.943363', '0.766220', '0.764557', '0.804271', '0.685648', '0.869904', '0.840870', '0.540366', '0.624278', '0.772514', '0.334929', '1.000000', '0.674783', '0.678348', '0.705799', '0.939979', '0.892452', '0.621592', '0.336639', '0.901237', '0.602456', '0.355714', '0.751571', '0.894798', '0.827386', '0.546613', '0.801008', '0.820492', '0.626710', '0.771347', '0.905936', '0.768344', '0.950826', '0.977321', '1.000000', '0.590176', '0.504961', '0.593662', '0.780187', '0.896860', '0.747233', '0.449560', '0.722049', '0.951328', '0.588354', '0.769967', '0.299730', '1.000000', '0.717345', '0.872534', '0.770597', '0.223853', '0.460131', '0.333896', '0.532655', '0.937023', '0.765904', '0.796887', '0.442130', '0.782998', '0.565872', '0.485509', '0.739232', '0.941463', '0.295522', '0.663340', '0.869025', '0.595381', '0.662225', '1.000000', '0.775907', '0.878515', '0.948493', '0.764157', '0.408250', '0.931889', '0.555841', '0.405259', '0.606168', '0.792904', '0.693450', '0.503770', '0.454701', '0.301991', '0.724944', '0.805525', '0.309480', '0.563538', '1.000000', '0.413682', '0.918017', '0.568510', '1.000000', '0.644352', '0.518622', '1.000000', '0.645937', '1.000000', '1.000000', '0.318295', '0.459739', '0.658702', '0.299301', '0.186604', '0.731433', '0.469329', '0.833022', '0.567516', '0.402734', '0.788957', '0.610282', '0.396392', '0.880143', '0.849467', '0.757426', '0.246825', '1.000000', '0.676772', '0.691456', '0.594062', '0.740101', '0.438663', '0.284455', '0.914668', '0.446118', '0.964881', '0.726930', '0.888360', '0.708037', '0.687364', '0.375710', '0.556638', '0.874941', '0.842840', '0.762493', '0.507682', '0.311654', '0.579815', '0.312974', '0.534526', '0.766158', '0.782669', '0.805473', '0.864874', '0.921157', '0.663325', '0.663946', '0.506183', '0.787075', '0.368602', '0.797638', '0.957996', '0.674829', '0.779414', '0.658560', '0.652182', '0.472434', '0.000784', '0.413146', '0.781343', '0.611337', '1.000000', '0.073145', '0.864557', '0.979279', '0.746755', '0.685798', '0.880069', '0.586163', '0.666601', '0.905789', '0.592432', '0.849043', '0.547162', '0.716553', '0.436305', '0.721119', '0.752490', '0.879209', '0.752364', '0.751279', '0.485535', '0.561185', '0.779348', '1.000000', '0.140551', '0.324133', '0.834883', '0.713406', '0.848081', '0.808719', '0.526460', '0.537751', '0.349592', '0.799855', '0.554222', '0.774549', '0.870583', '0.949149', '0.804052', '0.379229', '0.207469', '0.597638', '0.799123', '0.795092', '0.918600', '1.000000', '0.861679', '0.610282', '0.610362', '0.621072', '0.921606', '1.000000', '0.987400', '0.728018', '0.830073', '0.645977', '0.504120', '0.721458', '0.850164', '0.350440', '1.000000', '0.380360', '0.661405', '0.481812', '0.528480', '0.483136', '0.163747', '0.776421', '1.000000', '0.545281', '0.931830', '0.800898', '0.420544', '0.723405', '0.558420', '0.654056', '0.610282', '0.589069', '0.311654', '0.502546', '0.663631', '0.916054', '0.481167', '0.497573', '0.583133', '0.869469', '0.939698', '0.664971', '0.829097', '0.513766', '0.542597', '0.692043', '1.000000', '0.660289', '0.805602', '0.805556', '0.733088', '0.850965', '0.568716', '1.000000', '0.343991', '0.654244', '0.861478', '0.943435', '0.845185', '0.731982', '0.525704', '0.924733', '0.458259', '0.773358', '0.589020', '0.775040', '0.858500', '0.794951', '0.453361', '0.975438', '0.946609', '0.943990', '0.724962', '0.593813', '0.814094', '0.931113', '0.646111', '0.606821', '1.000000', '0.785887', '0.453491', '0.600756', '0.348747', '0.655714', '0.415206', '0.332480', '0.888155', '0.554535', '0.916478', '0.731241', '0.827113', '0.372699', '0.937497', '0.643815', '0.938974', '0.827146', '0.769697', '0.847801', '0.752810', '0.749388', '0.908259', '0.700613', '0.782573', '0.907997', '0.863659', '0.737856', '0.695398', '0.870109', '0.907682', '0.691252', '0.748616', '0.827625', '0.948569', '0.803846', '0.432796', '0.532813', '0.579594', '0.898340', '0.754270', '0.749496', '0.902745', '0.958850', '0.873372', '0.763792', '0.646152', '0.843537', '0.868596', '0.867185', '0.838685', '0.705303', '0.817509', '0.875298', '0.946700', '0.597302', '0.658220', '0.858497', '0.866180', '0.773031', '0.872271', '0.940274', '0.845952', '0.962490', '0.885951', '0.744531', '0.337457', '0.843979', '0.789052', '0.839532', '0.916129', '0.899076', '0.666267', '0.557002', '0.781157', '0.737079', '0.746148', '0.431924', '0.759788', '0.913140', '0.850453', '0.615500', '0.966134', '0.720527', '0.918325', '0.820011', '0.798285', '0.771885', '0.736750', '0.887131', '0.899851', '0.763059', '0.801704', '0.861340', '0.814017', '0.899320', '0.628342', '0.971744', '0.909483', '0.788027', '0.770648', '0.842071', '0.868275', '0.902280', '0.669091', '0.849326', '0.749777', '0.889914', '0.841932', '0.900634', '0.808001', '0.861020', '0.779691', '0.838640', '0.890801', '0.766245', '0.979363', '0.608722', '0.837722', '0.889381', '0.960409', '0.683604', '0.417272', '0.470041', '0.755506', '0.746556', '0.833347', '0.331567', '0.941762', '0.896845', '0.714727', '0.755019', '0.789332', '0.640364', '0.717052', '0.930807', '0.699623', '0.470647', '0.644169', '0.595472', '0.732678', '0.793860', '0.793456', '0.326194', '0.742638', '0.964343', '0.713228', '0.640595', '0.878198', '0.865957', '0.666018', '0.902815', '0.960425', '0.852387', '0.708063', '0.795325', '0.912428', '0.999775', '0.818297', '0.811242', '0.748707', '0.786908', '0.758146', '0.599053', '0.666997', '0.880841', '0.660698', '0.863769', '0.797291', '0.613038', '0.955113', '0.721950', '0.737050', '0.922821', '0.805323', '0.921389', '0.943264', '0.771938', '0.994056', '0.914337', '0.768062', '0.810212', '0.737132', '0.884356', '0.702993', '0.853765', '0.801692', '0.876460', '0.504937', '0.892624', '0.882004', '0.905196', '0.513144', '0.847682', '0.954113', '0.858178', '0.901609', '0.819099', '0.744997', '0.762153', '0.742026', '0.751628', '0.751864', '0.832855', '0.733274', '0.975213', '0.583923', '0.676052', '0.837866', '1.000000', '0.788299', '0.571130', '0.645637', '0.753144', '0.892258', '0.479232', '0.821140', '0.908027', '0.821114', '0.593831', '0.965677', '0.586680', '0.659151', '0.779749', '0.902869', '0.841646', '0.832184', '0.519872', '0.890682', '0.792636', '0.854381', '0.946123', '0.890049', '0.698254', '0.452201', '0.773122', '0.697181', '0.742209', '0.814825', '0.641067', '0.620450', '0.832593', '0.931714', '0.548472', '0.663075', '0.720772', '0.910188', '0.755852', '0.649816', '0.661719', '0.819778', '0.825329', '0.929310', '0.836929', '0.897894', '0.852949', '0.796522', '0.812248', '0.871261', '0.696775', '0.738271', '0.898070', '0.740932', '0.704487', '0.787648', '0.780105', '0.948953', '0.817209', '0.827842', '0.777480', '0.853263', '0.897545', '0.272357', '0.670033', '0.698711', '0.755716', '0.540513', '0.807619', '0.954020', '0.918621', '0.659695', '0.793241', '0.888565', '0.822362', '0.848959', '0.385998', '0.736435', '0.942936', '0.883778', '0.299699', '0.241272', '1.000000', '0.991644', '0.885833', '0.896529', '0.396144', '0.058961', '0.850577', '0.780547', '0.787186', '0.931225', '0.590086', '0.658819', '0.609322', '0.078459', '0.718480', '0.698005', '0.984322', '0.744055', '0.774481', '0.928564', '0.767449', '0.912041', '0.291174', '0.433746', '0.947671', '0.536076', '0.907289', '0.336235', '0.538351', '0.852511', '0.984289', '0.807024', '0.441371', '0.784031', '0.946172', '0.940806', '0.785015', '0.715304', '0.887700', '0.820688', '0.921950', '0.608016', '0.559732', '0.781620', '0.954829', '0.957971', '0.978095', '0.922140', '0.531026', '0.515462', '0.794004', '0.814337', '0.978473', '0.695238', '0.994819', '0.696452', '0.817437', '0.753733', '0.542299', '0.697502', '0.912302', '0.809653', '0.949316', '0.753059', '0.955136', '0.940619', '0.835928', '0.489156', '0.704230', '0.343042', '0.994958', '0.767892', '0.550864', '0.859152', '0.613886', '0.840052', '0.865098', '0.470950', '0.971698', '0.622200', '0.845113', '0.893586', '0.818997', '0.796888', '0.915470', '0.695860', '0.710054', '0.754776', '0.739997', '0.815537', '0.894519', '0.692570', '0.234595', '0.786132', '0.870301', '0.658131', '0.319173', '0.817174', '0.887228', '0.943516', '0.917600', '0.944128', '0.298404', '0.955089', '0.932510', '0.922218', '0.684369', '0.976772', '0.773853', '0.761326', '0.908206', '0.920440', '0.962875', '0.854630', '0.960501', '0.855987', '0.812401', '0.672946', '0.540541', '0.602254', '0.577304', '0.841816', '0.627749', '0.811062', '0.191347', '0.889493', '0.520521', '0.890723', '0.240622', '0.356687', '0.826650', '0.850712', '0.417290', '0.980051', '0.928720', '0.051293', '0.240885', '0.739354', '0.912294', '0.564791', '0.763473', '0.975861', '0.657819', '0.469250', '0.911155', '0.236186', '0.499619', '0.705787', '0.905216', '0.870809', '0.965044', '0.698238', '0.907928', '0.515074', '0.634531', '0.661322', '0.726707', '0.628262', '0.587361', '0.665090', '0.444108', '0.749332', '0.898074', '0.914498', '0.936852', '0.914253', '1.000000', '0.079230', '0.795795', '0.686677', '0.755890', '0.923467', '1.000000', '0.689182', '0.713776', '0.903433', '0.567645', '0.807165', '0.949965', '0.899920', '0.797568', '0.797986', '0.928844', '0.933773', '0.779657', '0.907730', '0.543920', '0.630794', '0.815972', '0.967858', '0.433600', '0.662561', '0.522363', '0.919537', '0.532797', '0.962999', '0.996755', '0.809495', '0.989707', '0.982185', '0.937502', '0.969902', '0.869349', '0.579506', '0.642191', '0.943181', '0.842213', '0.431445', '0.711781', '0.912891', '0.303362', '0.729060', '0.817087', '0.775893', '0.522694', '0.897514', '0.574155', '0.460930', '0.432793', '0.649962', '0.763656', '0.572952', '0.669757', '0.820159', '0.427833', '0.503064', '0.657955']\n",
            "['0.666667', '0.800000', '0.894427', '0.577350', '0.666667', '0.666667', '0.866025', '0.666667', '0.666667', '0.666667', '0.666667', '1.000000', '0.500000', '0.500000', '0.666667', '0.666667', '0.774597', '0.866025', '0.666667', '0.333333', '0.666667', '0.333333', '0.894427', '0.577350', '0.333333', '0.816497', '0.333333', '0.666667', '0.500000', '0.670820', '0.333333', '0.507093', '0.333333', '0.750000', '0.577350', '0.333333', '0.288675', '0.500000', '0.774597', '0.333333', '0.500000', '0.750000', '0.866025', '0.333333', '0.500000', '0.333333', '0.333333', '0.288675', '0.666667', '0.500000', '0.408248', '0.288675', '0.333333', '0.333333', '0.666667', '0.000000', '0.816497', '0.333333', '0.666667', '0.500000', '1.000000', '0.000000', '0.333333', '0.258199', '0.577350', '0.333333', '0.000000', '0.666667', '0.000000', '0.408248', '0.577350', '0.866025', '0.000000', '0.666667', '0.365148', '0.000000', '0.250000', '0.000000', '0.577350', '0.666667', '0.000000', '0.408248', '0.204124', '0.258199', '0.288675', '0.288675', '0.600000', '0.750000', '0.577350', '0.333333', '0.000000', '0.707107', '0.000000', '0.894427', '0.258199', '0.333333', '0.408248', '0.816497', '0.596285', '0.223607', '0.000000', '0.166667', '0.471405', '0.471405', '0.235702', '0.333333', '0.000000', '0.223607', '0.223607', '0.365148', '0.288675', '0.288675', '0.223607', '0.447214', '0.000000', '0.000000', '0.774597', '0.000000', '0.000000', '0.223607', '0.223607', '0.223607', '0.258199', '0.258199', '0.000000', '1.000000', '0.500000', '0.666667', '1.000000', '0.866025', '0.750000', '0.666667', '0.666667', '0.750000', '0.666667', '0.577350', '1.000000', '0.500000', '0.666667', '0.912871', '1.000000', '0.912871', '0.577350', '0.730297', '0.577350', '0.666667', '0.774597', '0.670820', '0.666667', '0.500000', '0.666667', '0.666667', '0.866025', '0.866025', '0.577350', '0.666667', '0.333333', '0.500000', '0.750000', '0.500000', '1.000000', '0.666667', '0.333333', '0.866025', '0.816497', '0.800000', '0.288675', '0.666667', '0.333333', '0.500000', '0.666667', '0.333333', '0.316228', '0.577350', '0.500000', '0.670820', '0.577350', '0.800000', '0.333333', '0.000000', '0.000000', '0.577350', '0.774597', '0.408248', '0.333333', '0.000000', '0.000000', '0.288675', '0.288675', '0.333333', '0.670820', '0.447214', '0.333333', '0.577350', '0.516398', '0.500000', '0.516398', '0.288675', '0.000000', '0.408248', '0.333333', '0.288675', '0.223607', '0.288675', '0.258199', '0.353553', '0.612372', '0.000000', '0.516398', '0.365148', '0.223607', '0.258199', '0.288675', '0.333333', '0.188982', '0.288675', '0.400000', '0.471405', '0.654654', '0.235702', '0.250000', '0.000000', '0.250000', '0.204124', '0.000000', '0.000000', '0.365148', '0.235702', '0.000000', '0.000000', '0.000000', '0.000000', '0.408248', '0.288675', '0.666667', '0.436436', '0.000000', '0.000000', '0.000000', '0.000000', '0.500000', '0.000000', '0.000000', '0.000000', '0.288675', '0.223607', '0.522233', '0.223607', '0.000000', '0.000000', '0.566947', '0.866025', '0.447214', '0.670820', '0.111803', '0.566947', '0.308607', '0.629941', '0.547723', '0.000000', '0.730297', '0.577350', '0.500000', '0.894427', '0.547723', '0.272166', '0.298142', '0.730297', '0.288675', '1.000000', '0.600000', '0.365148', '0.182574', '0.750000', '0.866025', '1.000000', '0.223607', '0.000000', '0.500000', '0.433013', '0.235702', '0.158114', '0.612372', '0.600000', '0.730297', '0.730297', '0.500000', '0.738549', '0.801784', '0.298142', '0.670820', '0.500000', '0.447214', '0.816497', '0.000000', '0.204124', '0.408248', '0.668153', '0.408248', '0.670820', '1.000000', '0.516398', '0.670820', '0.894427', '0.223607', '0.668153', '0.714286', '0.400000', '0.730297', '0.474342', '0.600000', '0.182574', '0.500000', '0.676123', '0.507093', '0.801784', '0.600000', '0.750000', '0.000000', '0.000000', '0.750000', '0.428571', '0.782624', '0.288675', '0.771517', '0.142857', '0.755929', '0.670820', '0.612372', '0.730297', '1.000000', '0.670820', '0.866025', '0.474342', '0.625000', '0.154303', '0.755929', '0.801784', '0.182574', '0.169031', '0.771517', '0.894427', '0.845154', '0.288675', '0.600000', '0.204124', '0.428571', '0.223607', '0.200000', '0.223607', '0.447214', '0.750000', '0.547723', '0.721688', '0.670820', '0.154303', '0.200000', '0.670820', '0.000000', '0.400000', '0.912871', '0.676123', '0.447214', '0.516398', '0.571429', '0.182574', '0.433013', '0.600000', '0.670820', '0.912871', '0.707107', '0.666667', '0.223607', '0.600000', '0.577350', '0.670820', '0.507093', '0.158114', '0.507093', '0.447214', '0.771517', '0.612372', '0.617213', '0.338062', '0.600000', '0.750000', '0.818182', '0.258199', '0.377964', '0.285714', '0.866025', '0.471405', '0.169031', '0.400000', '0.800000', '0.169031', '0.288675', '1.000000', '0.600000', '0.428571', '0.338062', '0.141421', '0.462910', '0.577350', '0.617213', '0.746203', '0.000000', '0.507093', '0.670820', '0.530330', '0.612372', '0.912871', '0.547723', '0.804030', '0.182574', '0.500000', '0.000000', '0.845154', '0.750000', '0.771517', '0.500000', '0.308607', '1.000000', '0.333333', '0.670820', '0.447214', '0.000000', '1.000000', '0.387298', '0.500000', '0.333333', '1.000000', '0.333333', '0.676123', '0.267261', '0.629941', '0.547723', '1.000000', '0.600000', '0.577350', '0.670820', '0.288675', '0.000000', '0.250000', '0.507093', '0.000000', '0.258199', '0.629941', '0.125000', '0.223607', '0.782624', '0.866025', '0.258199', '0.000000', '0.866025', '0.462910', '0.377964', '0.894427', '0.204124', '0.632456', '0.125988', '0.000000', '0.000000', '0.750000', '0.507093', '0.816497', '0.471405', '0.771517', '0.800000', '0.154303', '0.500000', '0.365148', '0.750000', '0.894427', '0.223607', '0.547723', '0.333333', '0.133631', '0.666667', '0.133631', '0.730297', '0.447214', '0.377964', '0.000000', '0.703526', '0.288675', '0.516398', '0.750000', '0.596285', '1.000000', '0.866025', '0.755929', '0.547723', '0.670820', '0.169031', '0.600000', '0.223607', '0.500000', '0.235702', '0.866025', '0.577350', '0.670820', '0.365148', '0.666667', '0.377964', '0.750000', '0.666667', '0.239046', '0.571429', '0.000000', '0.333333', '0.408248', '0.666667', '0.400000', '0.547723', '0.000000', '0.333333', '0.288675', '0.333333', '0.666667', '0.154303', '0.471405', '0.866025', '0.365148', '0.668153', '0.447214', '0.408248', '0.134840', '0.577350', '0.000000', '0.239046', '0.000000', '0.106600', '0.235702', '0.235702', '0.288675', '0.577350', '0.288675', '0.365148', '0.474342', '0.750000', '0.353553', '0.527046', '0.666667', '0.730297', '0.730297', '0.000000', '0.471405', '0.516398', '0.750000', '0.670820', '0.447214', '0.408248', '0.666667', '0.176777', '0.612372', '0.632456', '0.353553', '0.577350', '0.500000', '0.894427', '0.176777', '0.288675', '0.333333', '0.547723', '0.377964', '0.866025', '0.670820', '0.267261', '0.666667', '0.333333', '0.500000', '0.223607', '0.668153', '0.750000', '0.577350', '0.894427', '0.447214', '0.507093', '0.447214', '0.288675', '0.666667', '0.400000', '0.666667', '0.218218', '0.471405', '0.408248', '1.000000', '0.408248', '0.333333', '0.500000', '0.666667', '0.790569', '0.500000', '0.000000', '0.771517', '0.577350', '0.000000', '0.447214', '0.935414', '0.500000', '0.000000', '0.730297', '0.666667', '0.288675', '0.597614', '0.333333', '0.288675', '0.721688', '0.737865', '1.000000', '0.774597', '0.577350', '0.333333', '0.730297', '0.530330', '0.500000', '0.200000', '0.408248', '0.800000', '0.158114', '0.577350', '0.000000', '1.000000', '0.400000', '0.833333', '0.500000', '0.577350', '0.353553', '0.408248', '0.308607', '0.866025', '0.707107', '0.433013', '0.125988', '0.577350', '0.500000', '0.000000', '0.516398', '0.500000', '0.250000', '0.433013', '0.676123', '0.408248', '0.365148', '1.000000', '0.333333', '0.771517', '0.801784', '0.258199', '0.534522', '0.750000', '0.408248', '0.500000', '0.333333', '0.816497', '0.707107', '0.288675', '0.447214', '0.408248', '0.730297', '0.400892', '0.571429', '0.569803', '1.000000', '0.182574', '0.866025', '0.577350', '1.000000', '0.500000', '0.353553', '1.000000', '0.572078', '1.000000', '1.000000', '0.577350', '0.447214', '0.316228', '0.133631', '0.353553', '0.400000', '0.204124', '0.670820', '0.353553', '0.333333', '0.600000', '0.500000', '0.707107', '0.547723', '0.730297', '0.577350', '0.612372', '1.000000', '0.408248', '0.654654', '0.462910', '0.612372', '0.577350', '0.353553', '0.866025', '0.500000', '0.577350', '0.666667', '0.816497', '0.577350', '0.447214', '0.408248', '0.133631', '0.670820', '0.645497', '0.790569', '0.316228', '0.547723', '0.188982', '0.288675', '0.547723', '0.707107', '0.774597', '0.566947', '0.866025', '0.800000', '0.666667', '0.365148', '0.577350', '0.755929', '0.500000', '0.500000', '0.866025', '0.816497', '0.816497', '0.288675', '0.500000', '0.365148', '0.500000', '0.365148', '0.436436', '0.547723', '1.000000', '0.000000', '0.816497', '0.707107', '0.500000', '0.474342', '0.676123', '0.258199', '0.288675', '0.577350', '0.462910', '0.474342', '0.500000', '0.750000', '0.365148', '0.707107', '0.571429', '0.577350', '0.632456', '0.612372', '0.500000', '0.333333', '0.707107', '1.000000', '0.000000', '0.500000', '0.471405', '0.670820', '0.670820', '0.707107', '0.676123', '0.600000', '0.408248', '0.547723', '0.462910', '0.516398', '0.707107', '0.894427', '0.670820', '0.308607', '0.577350', '0.447214', '0.600000', '0.534522', '0.774597', '1.000000', '0.774597', '0.500000', '0.577350', '0.365148', '0.666667', '0.816497', '0.816497', '0.577350', '0.894427', '0.670820', '0.474342', '0.507093', '0.534522', '0.144338', '1.000000', '0.447214', '0.428571', '0.182574', '0.500000', '0.577350', '0.258199', '0.666667', '1.000000', '0.617213', '0.559017', '0.670820', '0.471405', '0.507093', '0.154303', '0.500000', '0.500000', '0.408248', '0.353553', '0.866025', '0.516398', '0.666667', '0.500000', '0.408248', '0.447214', '0.577350', '0.816497', '0.335410', '0.600000', '0.500000', '0.333333', '0.577350', '0.866025', '0.474342', '0.707107', '0.668153', '0.566947', '0.600000', '0.600000', '1.000000', '0.288675', '0.404520', '0.816497', '0.800000', '0.707107', '0.500000', '0.353553', '0.845154', '0.707107', '0.612372', '0.474342', '0.566947', '0.670820', '0.670820', '0.670820', '0.866025', '0.816497', '0.666667', '0.400000', '0.577350', '0.577350', '0.774597', '0.547723', '0.500000', '1.000000', '0.335410', '0.408248', '0.500000', '0.577350', '0.771517', '0.447214', '0.408248', '0.707107', '0.447214', '0.670820', '0.300000', '0.571429', '0.500000', '0.666667', '0.632456', '0.707107', '0.500000', '0.301511', '0.697863', '0.612372', '0.585369', '0.793857', '0.512989', '0.793857', '0.478091', '0.746203', '0.544949', '0.456435', '0.750000', '0.771517', '0.483494', '0.717137', '0.715097', '0.866025', '0.501745', '0.527046', '0.421637', '0.377964', '0.777778', '0.527046', '0.481125', '0.708010', '0.876714', '0.623610', '0.408248', '0.703526', '0.721688', '0.622543', '0.564076', '0.571662', '0.478091', '0.503953', '0.638915', '0.872082', '0.358569', '0.700649', '0.533002', '0.547723', '0.623610', '0.683763', '0.737865', '0.653197', '0.579751', '0.483494', '0.730297', '0.308607', '0.538462', '0.521749', '0.746203', '0.774597', '0.668153', '0.534522', '0.428571', '0.683763', '0.585369', '0.624038', '0.483494', '0.571548', '0.839146', '0.400892', '0.555556', '0.774597', '0.462910', '0.686406', '0.592349', '0.538462', '0.500000', '0.624038', '0.770054', '0.628971', '0.745356', '0.472456', '0.710047', '0.253546', '0.617213', '0.400892', '0.787726', '0.712697', '0.730297', '0.629941', '0.559503', '0.612372', '0.500000', '0.617213', '0.745356', '0.433013', '0.725241', '0.500000', '0.572078', '0.534522', '0.589256', '0.605406', '0.545545', '0.400892', '0.478091', '0.783349', '0.625000', '0.741249', '0.644503', '0.812500', '0.547723', '0.600000', '0.476731', '0.481125', '0.507093', '0.621059', '0.533002', '0.589256', '0.895979', '0.503953', '0.534522', '0.683763', '0.500000', '0.673575', '0.596285', '0.571429', '0.527046', '0.451848', '0.476731', '0.500000', '0.625000', '0.700000', '0.666667', '0.483046', '0.667424', '0.600000', '0.365148', '0.613572', '0.609272', '0.408248', '0.745356', '0.762770', '0.629941', '0.572078', '0.666667', '0.400892', '0.944444', '0.472456', '0.583333', '0.569803', '0.426401', '0.516398', '0.661438', '0.510310', '0.703526', '0.392232', '0.766965', '0.440959', '0.701646', '0.947368', '0.613941', '0.555556', '0.852013', '0.400163', '0.757033', '0.559017', '0.632456', '0.963624', '0.639602', '0.456435', '0.639010', '0.600000', '0.566947', '0.668153', '0.547723', '0.577350', '0.870388', '0.639010', '0.819892', '0.731272', '0.787726', '0.522233', '0.522233', '0.755929', '0.615385', '0.866025', '0.782624', '0.721688', '0.501280', '0.554700', '0.534522', '0.400000', '0.526235', '0.426401', '0.731272', '0.447214', '0.534522', '0.700000', '1.000000', '0.461538', '0.474342', '0.344265', '0.480384', '0.577350', '0.801784', '0.527046', '0.626224', '0.784465', '0.572078', '0.713024', '0.402015', '0.320256', '0.500000', '0.668153', '0.606339', '0.771517', '0.534522', '0.856349', '0.500000', '0.897085', '0.800327', '0.668994', '0.668994', '0.559017', '0.577350', '0.552052', '0.639602', '0.526235', '0.527046', '0.489898', '0.534522', '0.714286', '0.762713', '0.447214', '0.569803', '0.647059', '0.609272', '0.544949', '0.467099', '0.714286', '0.592999', '0.789474', '0.547723', '0.500000', '0.717137', '0.670820', '0.462910', '0.572078', '0.435194', '0.277350', '0.774597', '0.544331', '0.426401', '0.713024', '0.476290', '0.755929', '0.725241', '0.507093', '0.666667', '0.668153', '0.801784', '0.149071', '0.600000', '0.316228', '0.288675', '0.421637', '0.632456', '0.771517', '0.462910', '0.154303', '0.447214', '0.730297', '0.500000', '0.547723', '0.500000', '0.566947', '0.617213', '0.730297', '0.000000', '0.000000', '1.000000', '0.912871', '0.866025', '0.771517', '0.285714', '0.000000', '0.433013', '0.365148', '0.674200', '0.666667', '0.507093', '0.507093', '0.676123', '0.000000', '0.308607', '0.338062', '0.800000', '0.223607', '0.666667', '0.875000', '0.316228', '0.730297', '0.333333', '0.125000', '0.668153', '0.377964', '0.912871', '0.223607', '0.600000', '0.571429', '0.500000', '0.462910', '0.144338', '0.727273', '0.857143', '0.571429', '0.534522', '0.377964', '0.400892', '0.365148', '0.547723', '0.400000', '0.000000', '0.750000', '0.857143', '0.696311', '0.730297', '0.857143', '0.154303', '0.408248', '0.400000', '0.714286', '0.833333', '0.272166', '0.800000', '0.447214', '0.600000', '0.400892', '0.500000', '0.428571', '0.782624', '0.500000', '0.833333', '0.680414', '0.400000', '0.666667', '0.353553', '0.154303', '0.200000', '0.377964', '0.866025', '0.377964', '0.447214', '0.530330', '0.530330', '0.670820', '0.577350', '0.298142', '0.801784', '0.365148', '0.474342', '0.632456', '0.547723', '0.462910', '0.547723', '0.365148', '0.750000', '0.547723', '0.400892', '0.530330', '0.721688', '0.333333', '0.166667', '0.547723', '0.721688', '0.250000', '0.000000', '0.857143', '0.507093', '0.845154', '0.666667', '0.730297', '0.223607', '0.714286', '0.428571', '0.617213', '0.408248', '0.912871', '0.400892', '0.547723', '0.717137', '0.547723', '0.833333', '0.676123', '0.866025', '0.632456', '0.285714', '0.288675', '0.408248', '0.188982', '0.251976', '0.471405', '0.335410', '0.500000', '0.223607', '0.845154', '0.182574', '0.668153', '0.000000', '0.204124', '0.503953', '0.730297', '0.166667', '0.912871', '0.730297', '0.250000', '0.000000', '0.365148', '0.617213', '0.204124', '0.507093', '0.771517', '0.612372', '0.400000', '0.785714', '0.400892', '0.133631', '0.589256', '0.714286', '0.857143', '0.912871', '0.617213', '0.577350', '0.577350', '0.676123', '0.288675', '0.226455', '0.365148', '0.566947', '0.617213', '0.169031', '0.333333', '0.316228', '0.845154', '0.670820', '0.771517', '0.750000', '0.000000', '0.625000', '0.166667', '0.507093', '0.730297', '1.000000', '0.833333', '0.571429', '0.333333', '0.534522', '0.894427', '0.771517', '0.833333', '0.166667', '0.534522', '0.771517', '0.500000', '0.534522', '0.547723', '0.308607', '0.400892', '0.507093', '0.925820', '0.408248', '0.571429', '0.144338', '0.833333', '0.790569', '0.801784', '0.925820', '0.666667', '0.925820', '0.875000', '0.833333', '0.714286', '0.670820', '0.428571', '0.612372', '0.617213', '0.571429', '0.428571', '0.333333', '0.738549', '0.000000', '0.258199', '0.750000', '0.625000', '0.547723', '0.730297', '0.000000', '0.400892', '0.258199', '0.285714', '0.408248', '0.272166', '0.169031', '0.308607', '0.316228', '0.235702', '0.285714']\n",
            "['0.686868', '0.932099', '0.897044', '0.887394', '0.588836', '0.590764', '0.932840', '0.768303', '0.872620', '0.670028', '0.670028', '0.920840', '0.347160', '0.777095', '0.701954', '0.722144', '0.855751', '0.913918', '0.596091', '0.456623', '0.573105', '0.325595', '0.940222', '0.861987', '0.697056', '0.923666', '0.779814', '0.736698', '0.341387', '0.923189', '0.815656', '0.844315', '0.328405', '0.863612', '0.733011', '0.274976', '0.381315', '0.729911', '0.873065', '0.356980', '0.800289', '0.889838', '0.913918', '0.384445', '0.612902', '0.214978', '0.172131', '0.542350', '0.814684', '0.716519', '0.510585', '0.659732', '0.326114', '0.228140', '0.766720', '0.360865', '0.889436', '0.390308', '0.876913', '0.598055', '1.000000', '0.134954', '0.839761', '0.344177', '0.782991', '0.375525', '0.334799', '0.798509', '0.275411', '0.750856', '0.784629', '0.828416', '0.169972', '0.852906', '0.716489', '0.344484', '0.359975', '0.173535', '0.638667', '0.807165', '0.183369', '0.414665', '0.451904', '0.407914', '0.381630', '0.558683', '0.842361', '0.834011', '0.706343', '0.499815', '0.508906', '0.887193', '0.481702', '0.837820', '0.572277', '0.755135', '0.791392', '0.799097', '0.575529', '0.610801', '0.171554', '0.395530', '0.754459', '0.767727', '0.725868', '0.777587', '0.363052', '0.463768', '0.311532', '0.735438', '0.744631', '0.755865', '0.776941', '0.852636', '0.117653', '0.178166', '0.855435', '0.620421', '0.228767', '0.425998', '0.332488', '0.291712', '0.387755', '0.310208', '0.306417', '1.000000', '0.471762', '0.946955', '0.678621', '0.636256', '0.797567', '0.906874', '0.746234', '0.801187', '0.900535', '0.714041', '0.936004', '0.826190', '0.746335', '0.960347', '0.900300', '0.903829', '0.786009', '0.939839', '0.618524', '0.838837', '0.835537', '0.651257', '0.858741', '0.380920', '0.860774', '0.688314', '0.880679', '0.913918', '0.701732', '0.975647', '0.201574', '0.518472', '0.913634', '0.429990', '0.926032', '0.861752', '0.553092', '0.917707', '0.923077', '0.829775', '0.772034', '0.911717', '0.918933', '0.652248', '0.768303', '0.332207', '0.862476', '0.815119', '0.510911', '0.706378', '0.704562', '0.701157', '0.189589', '0.411430', '0.411430', '0.722383', '0.690063', '0.267754', '0.715204', '0.215151', '0.309376', '0.212225', '0.214305', '0.118688', '0.682728', '0.849973', '0.584490', '0.827183', '0.913507', '0.784381', '0.730885', '0.287124', '0.274836', '0.672979', '0.297055', '0.205728', '0.388948', '0.272873', '0.212949', '0.405238', '0.747135', '0.190995', '0.674330', '0.678359', '0.435478', '0.365502', '0.260687', '0.368598', '0.605370', '0.365834', '0.507601', '0.662803', '0.804734', '0.413489', '0.207218', '0.122687', '0.359081', '0.758683', '0.194364', '0.300882', '0.699186', '0.733476', '0.265646', '0.605116', '0.196757', '0.207643', '0.765226', '0.753388', '0.314187', '0.501220', '0.243977', '0.198802', '0.384317', '0.157316', '0.420259', '0.114141', '0.164298', '0.344892', '0.788164', '0.153927', '0.773570', '0.548589', '0.113700', '0.235075', '0.643456', '0.922168', '0.681130', '0.857071', '0.677248', '0.855133', '0.497937', '0.846203', '0.701893', '0.189596', '0.941527', '0.864639', '0.769580', '0.964745', '0.440992', '0.646863', '0.508693', '0.735695', '0.678900', '0.936675', '0.816781', '0.352612', '0.693465', '0.933686', '0.942730', '0.951698', '0.376497', '0.452485', '0.949917', '0.646002', '0.461105', '0.647112', '0.875414', '0.773907', '0.776418', '0.837919', '0.754193', '0.848200', '0.896819', '0.496470', '0.945988', '0.401349', '0.507660', '0.886695', '0.350457', '0.552984', '0.408805', '0.863284', '0.770489', '0.921689', '1.000000', '0.682057', '0.794013', '0.886987', '0.745849', '0.827314', '0.933559', '0.796760', '0.945013', '0.802910', '0.641409', '0.344909', '0.759640', '0.813274', '0.659069', '0.851783', '0.697035', '0.810232', '0.346918', '0.365601', '0.857315', '0.689716', '0.900875', '0.695233', '0.855378', '0.283262', '0.771114', '0.819527', '0.860191', '0.855416', '1.000000', '0.873718', '0.949608', '0.823707', '0.624676', '0.697234', '0.800744', '0.889985', '0.511334', '0.379989', '0.904465', '0.981737', '0.935839', '0.624957', '0.719782', '0.537440', '0.731393', '0.502305', '0.669395', '0.274236', '0.737049', '0.964432', '0.674895', '0.848483', '0.764133', '0.419750', '0.625675', '0.925072', '0.460310', '0.838018', '0.978844', '0.855853', '0.751708', '0.747196', '0.910911', '0.235963', '0.752560', '0.738941', '0.840162', '0.966276', '0.814671', '0.838544', '0.392737', '0.700232', '0.331186', '0.856358', '0.732730', '0.387207', '0.742033', '0.713795', '0.910055', '0.826967', '0.616834', '0.486268', '0.614413', '0.735545', '0.917753', '0.417970', '0.784464', '0.529741', '0.954903', '0.600750', '0.311784', '0.492761', '0.866572', '0.350458', '0.314321', '0.905631', '0.763557', '0.672534', '0.676469', '0.612098', '0.575848', '0.691659', '0.700001', '0.884828', '0.321199', '0.684212', '0.844501', '0.728205', '0.826482', '0.978782', '0.622977', '0.894175', '0.392339', '0.574298', '0.303590', '0.931135', '0.820371', '0.849574', '0.920411', '0.635707', '1.000000', '0.521381', '0.682170', '0.437455', '0.421208', '0.871729', '0.756993', '0.795258', '0.370780', '1.000000', '0.210537', '0.807910', '0.529612', '0.833987', '0.687620', '0.950496', '0.749316', '0.832919', '0.771310', '0.747432', '0.277643', '0.784298', '0.796891', '0.297375', '0.704839', '0.777048', '0.519568', '0.686509', '0.784380', '0.935698', '0.331857', '0.361890', '0.986374', '0.642788', '0.664995', '0.932502', '0.398153', '0.748986', '0.355456', '0.528341', '0.239194', '0.558501', '0.840273', '0.647662', '0.697870', '0.952732', '0.974101', '0.499982', '0.750251', '0.709409', '0.763207', '0.931077', '0.632794', '0.621737', '0.372991', '0.645536', '0.872762', '0.496037', '0.816925', '0.576238', '0.772718', '0.405749', '0.911266', '0.558018', '0.583428', '0.888725', '0.846501', '1.000000', '1.000000', '0.778390', '0.732424', '0.765628', '0.704151', '0.870394', '0.304463', '0.676995', '0.442141', '0.928462', '0.690809', '0.772467', '0.418599', '0.909285', '0.716132', '0.913846', '0.664141', '0.731543', '0.807854', '0.561791', '0.555356', '0.766867', '0.818758', '0.656324', '0.819333', '0.379462', '0.786856', '0.720285', '0.725166', '0.937759', '0.617266', '0.735261', '0.863731', '0.633121', '0.817266', '0.685762', '0.699131', '0.369813', '0.908694', '0.654865', '0.454057', '0.615411', '0.478842', '0.675931', '0.398111', '0.389929', '0.578120', '0.579919', '0.439024', '0.698356', '0.996072', '0.567209', '0.836573', '0.860674', '0.927100', '0.962306', '0.484970', '0.690705', '0.815286', '0.696413', '0.676098', '0.507122', '0.879192', '0.968635', '0.539592', '0.856932', '0.766194', '0.702512', '0.892530', '0.697511', '0.954066', '0.463610', '0.670719', '0.697190', '0.526257', '0.709235', '0.934061', '0.667202', '0.464464', '0.953546', '0.641689', '0.633162', '0.257329', '0.824072', '0.836503', '0.939359', '0.933040', '0.794147', '0.772562', '0.770186', '0.634267', '0.888134', '0.850625', '0.597734', '0.727245', '0.711233', '0.291396', '1.000000', '0.663396', '0.717222', '0.595323', '0.939979', '0.898774', '0.479096', '0.373628', '0.901237', '0.649989', '0.386423', '0.743038', '0.884131', '0.831305', '0.568063', '0.798274', '0.837327', '0.658545', '0.754228', '0.912341', '0.638236', '0.952156', '0.981517', '1.000000', '0.572373', '0.484685', '0.619294', '0.749603', '0.911961', '0.756834', '0.462531', '0.737766', '0.890879', '0.578747', '0.780291', '0.303987', '1.000000', '0.758807', '0.888781', '0.620310', '0.242442', '0.444613', '0.333896', '0.467862', '0.871342', '0.718963', '0.783144', '0.476014', '0.772257', '0.565872', '0.485509', '0.739232', '0.941463', '0.260622', '0.639854', '0.869025', '0.595381', '0.661665', '1.000000', '0.775907', '0.847874', '0.948493', '0.764157', '0.408250', '0.928637', '0.555841', '0.405259', '0.662904', '0.817704', '0.680043', '0.507507', '0.426290', '0.311170', '0.724944', '0.775343', '0.296929', '0.531340', '1.000000', '0.408253', '0.918017', '0.568510', '1.000000', '0.635588', '0.518622', '1.000000', '0.626811', '1.000000', '1.000000', '0.318295', '0.452148', '0.643244', '0.331324', '0.162155', '0.705030', '0.469329', '0.823840', '0.567516', '0.541384', '0.778337', '0.610282', '0.387256', '0.880143', '0.893251', '0.725553', '0.246825', '1.000000', '0.648885', '0.691456', '0.594062', '0.727185', '0.707826', '0.223379', '0.914668', '0.446118', '0.843157', '0.726930', '0.835376', '0.708037', '0.648841', '0.391667', '0.509846', '0.869327', '0.843271', '0.805551', '0.466979', '0.311654', '0.568761', '0.312974', '0.648705', '0.839017', '0.870921', '0.796975', '0.883486', '0.921157', '0.601633', '0.663946', '0.506183', '0.787075', '0.377060', '0.794942', '0.967463', '0.773295', '0.779414', '0.658560', '0.652182', '0.621398', '0.000784', '0.556616', '0.783129', '0.543814', '1.000000', '0.224178', '0.864557', '0.979279', '0.687032', '0.706236', '0.880069', '0.725587', '0.666601', '0.905789', '0.479431', '0.849043', '0.526906', '0.697212', '0.436305', '0.798034', '0.752490', '0.880152', '0.796955', '0.751279', '0.561843', '0.532801', '0.779348', '1.000000', '0.147237', '0.506138', '0.834883', '0.716270', '0.848081', '0.792222', '0.574768', '0.623452', '0.349592', '0.816591', '0.538825', '0.770974', '0.870583', '0.863405', '0.804052', '0.344183', '0.290788', '0.532531', '0.768324', '0.778067', '0.734944', '1.000000', '0.878630', '0.610282', '0.610362', '0.454841', '0.921606', '1.000000', '0.613978', '0.728018', '0.839008', '0.580346', '0.619214', '0.823215', '0.850164', '0.317042', '1.000000', '0.380360', '0.645269', '0.481812', '0.528480', '0.467775', '0.494388', '0.776421', '1.000000', '0.506624', '0.931830', '0.800898', '0.597562', '0.723405', '0.502760', '0.690701', '0.610282', '0.589069', '0.311654', '0.228697', '0.690603', '0.916054', '0.506973', '0.497573', '0.510332', '0.868525', '0.939698', '0.664971', '0.894739', '0.513766', '0.542597', '0.692043', '0.886446', '0.657655', '0.805602', '0.805556', '0.754641', '0.841863', '0.648520', '1.000000', '0.545796', '0.580204', '0.861478', '0.943435', '0.845185', '0.731982', '0.553904', '0.924733', '0.458259', '0.773358', '0.742507', '0.775040', '0.858500', '0.774433', '0.451116', '0.975438', '0.946609', '0.943990', '0.710381', '0.593813', '0.814094', '0.931113', '0.646111', '0.606821', '1.000000', '0.725318', '0.453491', '0.600756', '0.617328', '0.552162', '0.415206', '0.431142', '0.888155', '0.537794', '0.916478', '0.685217', '0.752532', '0.396469', '0.930207', '0.657331', '0.933665', '0.827146', '0.760937', '0.865829', '0.722943', '0.746214', '0.915026', '0.694825', '0.806931', '0.900957', '0.862789', '0.710009', '0.695421', '0.874229', '0.922958', '0.671181', '0.748616', '0.805457', '0.945789', '0.847982', '0.478330', '0.477199', '0.555707', '0.912348', '0.740143', '0.737335', '0.910006', '0.933804', '0.872126', '0.769163', '0.709696', '0.848990', '0.878534', '0.867053', '0.844012', '0.702258', '0.782010', '0.857565', '0.935107', '0.599040', '0.610932', '0.834447', '0.878338', '0.768010', '0.864304', '0.938422', '0.809419', '0.950118', '0.884500', '0.777682', '0.337457', '0.832350', '0.786229', '0.828624', '0.900558', '0.852061', '0.664575', '0.606256', '0.785042', '0.731688', '0.742261', '0.466942', '0.701222', '0.903808', '0.841179', '0.617271', '0.953975', '0.745651', '0.917603', '0.812895', '0.793797', '0.793800', '0.735762', '0.870110', '0.895703', '0.791394', '0.785840', '0.853755', '0.808520', '0.886123', '0.628342', '0.973605', '0.889099', '0.783995', '0.772090', '0.837162', '0.870600', '0.893606', '0.660575', '0.864137', '0.749777', '0.855870', '0.819345', '0.936042', '0.827116', '0.707995', '0.753927', '0.830479', '0.887057', '0.773276', '0.958657', '0.858056', '0.846763', '0.887661', '0.950579', '0.706744', '0.411942', '0.518218', '0.752608', '0.698050', '0.817679', '0.321244', '0.948709', '0.891551', '0.709863', '0.755006', '0.755186', '0.694277', '0.707131', '0.945065', '0.726494', '0.491533', '0.671852', '0.592675', '0.767579', '0.817823', '0.723513', '0.315595', '0.756498', '0.965700', '0.708170', '0.740486', '0.893721', '0.863814', '0.723977', '0.889404', '0.958051', '0.850129', '0.655616', '0.894773', '0.877728', '0.999803', '0.832733', '0.787512', '0.741802', '0.776801', '0.747678', '0.571410', '0.663946', '0.816072', '0.647607', '0.852604', '0.809927', '0.611635', '0.945668', '0.736813', '0.745319', '0.922224', '0.811400', '0.917812', '0.954992', '0.775608', '0.993169', '0.922102', '0.773109', '0.797503', '0.712479', '0.881853', '0.677116', '0.848520', '0.839455', '0.878972', '0.609571', '0.879787', '0.899215', '0.881546', '0.489215', '0.877664', '0.954738', '0.877775', '0.901609', '0.780083', '0.709792', '0.775643', '0.735268', '0.712736', '0.753217', '0.837437', '0.736767', '0.974879', '0.556426', '0.696548', '0.829916', '1.000000', '0.793710', '0.569995', '0.647560', '0.703760', '0.917257', '0.476978', '0.845333', '0.905569', '0.797123', '0.547283', '0.961139', '0.583927', '0.637280', '0.791115', '0.913007', '0.857653', '0.814230', '0.519872', '0.881472', '0.776567', '0.884095', '0.965847', '0.892506', '0.713630', '0.494267', '0.763364', '0.711352', '0.695020', '0.782593', '0.636320', '0.577454', '0.794059', '0.931356', '0.547995', '0.638253', '0.810126', '0.903945', '0.732901', '0.642226', '0.682301', '0.843209', '0.782565', '0.931647', '0.852008', '0.900952', '0.853410', '0.846101', '0.713403', '0.887986', '0.696026', '0.751237', '0.890062', '0.757892', '0.681633', '0.797561', '0.769096', '0.975205', '0.801290', '0.793153', '0.788494', '0.852886', '0.916529', '0.239709', '0.707674', '0.694129', '0.738546', '0.525684', '0.749938', '0.950789', '0.753921', '0.662114', '0.816849', '0.760219', '0.802484', '0.852202', '0.456766', '0.763329', '0.937977', '0.838028', '0.222803', '0.134921', '1.000000', '0.989178', '0.897694', '0.896403', '0.461333', '0.062546', '0.796238', '0.806819', '0.780151', '0.935223', '0.590086', '0.681625', '0.609322', '0.083570', '0.742391', '0.635336', '0.974121', '0.744055', '0.782548', '0.926468', '0.763105', '0.933552', '0.316731', '0.405174', '0.922481', '0.549191', '0.908105', '0.343209', '0.525368', '0.875626', '0.984113', '0.787155', '0.439021', '0.797727', '0.950377', '0.946264', '0.780306', '0.825576', '0.869293', '0.821573', '0.928534', '0.522927', '0.553879', '0.807625', '0.962406', '0.974959', '0.899031', '0.922140', '0.563395', '0.487395', '0.752000', '0.804001', '0.978791', '0.651390', '0.994796', '0.684382', '0.838685', '0.750250', '0.547387', '0.722521', '0.912878', '0.807811', '0.842555', '0.700496', '0.950192', '0.947690', '0.829836', '0.471016', '0.701835', '0.334295', '0.995923', '0.767892', '0.673244', '0.839331', '0.552577', '0.843864', '0.870049', '0.434215', '0.953053', '0.600147', '0.843408', '0.867870', '0.862648', '0.792828', '0.909043', '0.695860', '0.710054', '0.755827', '0.736218', '0.812528', '0.865531', '0.669824', '0.203970', '0.788424', '0.895478', '0.605039', '0.319173', '0.788189', '0.882557', '0.938724', '0.919231', '0.944128', '0.298404', '0.944517', '0.936407', '0.928411', '0.655104', '0.977759', '0.754408', '0.773644', '0.897494', '0.920440', '0.945801', '0.869613', '0.960955', '0.833232', '0.815361', '0.624388', '0.529801', '0.604966', '0.545769', '0.832173', '0.718048', '0.830702', '0.203605', '0.887658', '0.506813', '0.899259', '0.230511', '0.368613', '0.801416', '0.869649', '0.417733', '0.979804', '0.936826', '0.054045', '0.403303', '0.718006', '0.849565', '0.561454', '0.686780', '0.984997', '0.589530', '0.477133', '0.922294', '0.207447', '0.483083', '0.689431', '0.908455', '0.863970', '0.966402', '0.694947', '0.907928', '0.494605', '0.636202', '0.665055', '0.728355', '0.606810', '0.438547', '0.660653', '0.435741', '0.743023', '0.898074', '0.916746', '0.919344', '0.910864', '1.000000', '0.079230', '0.789412', '0.671033', '0.717682', '0.850252', '1.000000', '0.689182', '0.731139', '0.897420', '0.648506', '0.821053', '0.935174', '0.903997', '0.783919', '0.793119', '0.957788', '0.935563', '0.790483', '0.921339', '0.557285', '0.632429', '0.790713', '0.969746', '0.480214', '0.657774', '0.488813', '0.919537', '0.552794', '0.935533', '0.996778', '0.814546', '0.970458', '0.981352', '0.932413', '0.965637', '0.835545', '0.559893', '0.674597', '0.950416', '0.804543', '0.402720', '0.698775', '0.888477', '0.243813', '0.740303', '0.713055', '0.781209', '0.517516', '0.564971', '0.574937', '0.420814', '0.421981', '0.654377', '0.762325', '0.536641', '0.608722', '0.804025', '0.398194', '0.520648', '0.648936']\n",
            "['0.686868', '0.932099', '0.897044', '0.887394', '0.588836', '0.590764', '0.932840', '0.768303', '0.872620', '0.670028', '0.670028', '0.920840', '0.347160', '0.777095', '0.701954', '0.722144', '0.855751', '0.913918', '0.596091', '0.456623', '0.573105', '0.325595', '0.940222', '0.861987', '0.697056', '0.923666', '0.779814', '0.736698', '0.341387', '0.923189', '0.815656', '0.844315', '0.328405', '0.863612', '0.733011', '0.274976', '0.381315', '0.729911', '0.873065', '0.356980', '0.800289', '0.889838', '0.913918', '0.384445', '0.612902', '0.214978', '0.172131', '0.542350', '0.814684', '0.716519', '0.510585', '0.659732', '0.326114', '0.228140', '0.766720', '0.360865', '0.889436', '0.390308', '0.876913', '0.598055', '1.000000', '0.134954', '0.839761', '0.344177', '0.782991', '0.375525', '0.334799', '0.798509', '0.275411', '0.750856', '0.784629', '0.828416', '0.169972', '0.852906', '0.716489', '0.344484', '0.359975', '0.173535', '0.638667', '0.807165', '0.183369', '0.414665', '0.451904', '0.407914', '0.381630', '0.558683', '0.842361', '0.834011', '0.706343', '0.499815', '0.508906', '0.887193', '0.481702', '0.837820', '0.572277', '0.755135', '0.791392', '0.799097', '0.575529', '0.610801', '0.171554', '0.395530', '0.754459', '0.767727', '0.725868', '0.777587', '0.363052', '0.463768', '0.311532', '0.735438', '0.744631', '0.755865', '0.776941', '0.852636', '0.117653', '0.178166', '0.855435', '0.620421', '0.228767', '0.425998', '0.332488', '0.291712', '0.387755', '0.310208', '0.306417', '1.000000', '0.471762', '0.946955', '0.678621', '0.636256', '0.797567', '0.906874', '0.746234', '0.801187', '0.900535', '0.643871', '0.936004', '0.826190', '0.746335', '0.960347', '0.900300', '0.903829', '0.786009', '0.939839', '0.618524', '0.838837', '0.683647', '0.651257', '0.858741', '0.380920', '0.860774', '0.688314', '0.880679', '0.913918', '0.701732', '0.975647', '0.201574', '0.518472', '0.913634', '0.429990', '0.926032', '0.861752', '0.553092', '0.917707', '0.923077', '0.829775', '0.772034', '0.911717', '0.918933', '0.652248', '0.768303', '0.332207', '0.862476', '0.815119', '0.510911', '0.706378', '0.704562', '0.701157', '0.189589', '0.411430', '0.411430', '0.722383', '0.690063', '0.267754', '0.715204', '0.215151', '0.309376', '0.212225', '0.214305', '0.118688', '0.682728', '0.849973', '0.584490', '0.827183', '0.913507', '0.784381', '0.730885', '0.370418', '0.274836', '0.672979', '0.297055', '0.205728', '0.388948', '0.272873', '0.212949', '0.405238', '0.747135', '0.190995', '0.674330', '0.678359', '0.435478', '0.365502', '0.260687', '0.368598', '0.605370', '0.365834', '0.507601', '0.662803', '0.804734', '0.413489', '0.207218', '0.122687', '0.359081', '0.758683', '0.194364', '0.300882', '0.699186', '0.733476', '0.265646', '0.605116', '0.196757', '0.207643', '0.765226', '0.753388', '0.295186', '0.501220', '0.243977', '0.198802', '0.384317', '0.157316', '0.149622', '0.114141', '0.164298', '0.344892', '0.788164', '0.153927', '0.773570', '0.548589', '0.113700', '0.235075', '0.643456', '0.922168', '0.681130', '0.857071', '0.677248', '0.855133', '0.497937', '0.846203', '0.701893', '0.189596', '0.941527', '0.864639', '0.769580', '0.964745', '0.440992', '0.646863', '0.508693', '0.735695', '0.678900', '0.936675', '0.816781', '0.352612', '0.693465', '0.933686', '0.942730', '0.951698', '0.376497', '0.452485', '0.949917', '0.646002', '0.461105', '0.647112', '0.875414', '0.773907', '0.776418', '0.837919', '0.754193', '0.848200', '0.896819', '0.496470', '0.945988', '0.401349', '0.559663', '0.886695', '0.350457', '0.552984', '0.408805', '0.863284', '0.770489', '0.921689', '1.000000', '0.682057', '0.794013', '0.886987', '0.745849', '0.827314', '0.933559', '0.796760', '0.945013', '0.802725', '0.641409', '0.344909', '0.759640', '0.813274', '0.659069', '0.851783', '0.697035', '0.810232', '0.346918', '0.365601', '0.857315', '0.689716', '0.900875', '0.695233', '0.855378', '0.283262', '0.771114', '0.819527', '0.860191', '0.796811', '1.000000', '0.873718', '0.949608', '0.823707', '0.624676', '0.697234', '0.800744', '0.889985', '0.511334', '0.379989', '0.904465', '0.981737', '0.935839', '0.624957', '0.719782', '0.537440', '0.731393', '0.502305', '0.669395', '0.274236', '0.737049', '0.964432', '0.674895', '0.848483', '0.764133', '0.419750', '0.625675', '0.925072', '0.476869', '0.838018', '0.978844', '0.855853', '0.751708', '0.747196', '0.978679', '0.235963', '0.752560', '0.738941', '0.840162', '0.966276', '0.814671', '0.838544', '0.392737', '0.700232', '0.331186', '0.856358', '0.732730', '0.387207', '0.742033', '0.713795', '0.910055', '0.826967', '0.616834', '0.486268', '0.614413', '0.735545', '0.917753', '0.417970', '0.784464', '0.529741', '0.954903', '0.600750', '0.311784', '0.492761', '0.866572', '0.350458', '0.314321', '0.905631', '0.763557', '0.672534', '0.676469', '0.612098', '0.575848', '0.691659', '0.700001', '0.884828', '0.321199', '0.684212', '0.844501', '0.728205', '0.826482', '0.978782', '0.622977', '0.894175', '0.392339', '0.574298', '0.303590', '0.931135', '0.820371', '0.849574', '0.920411', '0.635707', '1.000000', '0.521381', '0.682170', '0.437455', '0.421208', '0.871729', '0.756993', '0.795258', '0.370780', '1.000000', '0.210537', '0.807910', '0.529612', '0.833987', '0.687620', '0.950496', '0.749316', '0.894720', '0.771310', '0.747432', '0.277643', '0.784298', '0.796891', '0.297375', '0.704839', '0.777048', '0.519568', '0.686509', '0.784380', '0.935698', '0.331857', '0.361890', '0.986374', '0.642788', '0.664995', '0.932502', '0.398153', '0.748986', '0.355456', '0.528341', '0.239194', '0.558501', '0.840273', '0.647662', '0.697870', '0.952732', '0.974101', '0.499982', '0.750251', '0.709409', '0.763207', '0.931077', '0.632794', '0.621737', '0.372991', '0.645536', '0.872762', '0.496037', '0.816925', '0.576238', '0.772718', '0.405749', '0.911266', '0.558018', '0.583428', '0.888725', '0.846501', '1.000000', '0.842781', '0.778390', '0.732424', '0.765628', '0.704151', '0.870394', '0.304463', '0.676995', '0.442141', '0.928462', '0.690809', '0.772467', '0.418599', '0.909285', '0.716132', '0.913846', '0.664141', '0.731543', '0.807854', '0.561791', '0.555356', '0.766867', '0.818758', '0.656324', '0.819333', '0.379462', '0.786856', '0.720285', '0.725166', '0.937759', '0.617266', '0.735261', '0.863731', '0.633121', '0.817266', '0.685762', '0.699131', '0.369813', '0.908694', '0.654865', '0.454057', '0.615411', '0.478842', '0.675931', '0.398111', '0.389929', '0.578120', '0.579919', '0.439024', '0.698356', '0.996072', '0.567209', '0.891804', '0.860674', '0.927100', '0.962306', '0.484970', '0.690705', '0.815286', '0.696413', '0.676098', '0.507122', '0.879192', '0.968635', '0.539592', '0.856932', '0.766194', '0.702512', '0.892530', '0.697511', '0.954066', '0.463610', '0.670719', '0.697190', '0.526257', '0.709235', '0.934061', '0.667202', '0.464464', '0.953546', '0.641689', '0.633162', '0.257329', '0.824072', '0.836503', '0.939359', '0.933040', '0.794147', '0.772562', '0.770186', '0.634267', '0.888134', '0.850625', '0.597734', '0.727245', '0.711233', '0.291396', '1.000000', '0.663396', '0.717222', '0.595323', '0.939979', '0.898774', '0.479096', '0.373628', '0.901237', '0.649989', '0.344633', '0.743038', '0.884131', '0.831305', '0.579985', '0.798274', '0.837327', '0.658545', '0.754228', '0.912341', '0.638236', '0.952156', '0.981517', '1.000000', '0.572373', '0.484685', '0.619294', '0.749603', '0.911961', '0.756834', '0.462531', '0.737766', '0.890879', '0.578747', '0.780291', '0.303987', '1.000000', '0.758807', '0.888781', '0.620310', '0.161051', '0.444613', '0.333896', '0.467862', '0.937023', '0.718963', '0.783144', '0.433723', '0.772257', '0.565872', '0.485509', '0.739232', '0.941463', '0.260622', '0.626444', '0.869025', '0.595381', '0.661665', '1.000000', '0.775907', '0.878515', '0.948493', '0.764157', '0.408250', '0.928637', '0.555841', '0.405259', '0.662904', '0.817704', '0.680043', '0.503770', '0.426290', '0.311170', '0.724944', '0.775343', '0.296929', '0.531340', '1.000000', '0.408253', '0.918017', '0.568510', '1.000000', '0.635588', '0.518622', '1.000000', '0.626811', '1.000000', '1.000000', '0.318295', '0.452148', '0.643244', '0.329775', '0.162155', '0.705030', '0.469329', '0.823840', '0.567516', '0.541384', '0.778337', '0.610282', '0.387256', '0.880143', '0.861316', '0.725553', '0.246825', '1.000000', '0.648885', '0.691456', '0.594062', '0.727185', '0.438663', '0.223379', '0.914668', '0.446118', '0.964881', '0.726930', '0.835376', '0.708037', '0.648841', '0.391667', '0.528593', '0.869327', '0.843271', '0.762493', '0.466979', '0.311654', '0.568761', '0.312974', '0.550334', '0.766158', '0.782669', '0.796975', '0.883486', '0.921157', '0.671710', '0.663946', '0.506183', '0.787075', '0.377060', '0.794942', '0.967463', '0.674829', '0.599101', '0.658560', '0.652182', '0.472434', '0.000784', '0.413146', '0.781343', '0.574633', '1.000000', '0.224178', '0.864557', '0.979279', '0.759646', '0.670584', '0.880069', '0.586163', '0.666601', '0.905789', '0.479431', '0.849043', '0.526906', '0.697212', '0.436305', '0.721119', '0.752490', '0.880152', '0.752364', '0.751279', '0.561843', '0.532801', '0.779348', '1.000000', '0.147237', '0.324133', '0.648590', '0.716270', '0.848081', '0.792222', '0.578888', '0.537751', '0.349592', '0.816591', '0.538825', '0.770974', '0.870583', '0.949149', '0.804052', '0.344183', '0.084518', '0.532531', '0.799123', '0.778067', '0.734944', '1.000000', '0.878630', '0.610282', '0.610362', '0.454841', '0.921606', '1.000000', '0.987400', '0.728018', '0.751466', '0.580346', '0.504120', '0.721458', '0.850164', '0.317042', '1.000000', '0.380360', '0.645269', '0.481812', '0.528480', '0.467775', '0.163747', '0.776421', '1.000000', '0.506624', '0.931830', '0.800898', '0.420544', '0.723405', '0.496655', '0.690701', '0.610282', '0.589069', '0.311654', '0.228697', '0.690603', '0.916054', '0.506973', '0.497573', '0.510332', '0.868525', '0.939698', '0.664971', '0.829097', '0.513766', '0.542597', '0.692043', '0.886446', '0.657655', '0.805602', '0.805556', '0.705056', '0.841863', '0.568716', '1.000000', '0.343991', '0.580204', '0.861478', '0.943435', '0.845185', '0.731982', '0.553904', '0.924733', '0.458259', '0.773358', '0.742507', '0.775040', '0.858500', '0.774433', '0.451116', '0.975438', '0.946609', '0.943990', '0.710381', '0.593813', '0.814094', '0.931113', '0.511513', '0.606821', '1.000000', '0.725318', '0.453491', '0.600756', '0.348747', '0.552162', '0.415206', '0.332480', '0.888155', '0.537794', '0.916478', '0.706191', '0.752532', '0.396469', '0.930207', '0.657331', '0.933665', '0.827146', '0.760937', '0.888124', '0.722943', '0.746214', '0.936521', '0.694825', '0.806931', '0.900957', '0.866015', '0.710009', '0.695421', '0.874229', '0.883092', '0.677804', '0.748616', '0.813060', '0.945789', '0.793003', '0.521878', '0.477199', '0.555707', '0.912348', '0.797049', '0.737335', '0.910006', '0.933804', '0.852423', '0.769163', '0.709696', '0.848990', '0.878534', '0.867053', '0.847080', '0.702258', '0.782010', '0.857565', '0.967864', '0.599040', '0.610932', '0.834447', '0.878338', '0.768010', '0.864304', '0.938422', '0.809419', '0.950118', '0.892449', '0.777682', '0.333708', '0.855062', '0.831428', '0.853305', '0.900558', '0.852061', '0.659818', '0.606256', '0.785042', '0.747832', '0.742261', '0.466942', '0.732093', '0.903808', '0.841179', '0.617271', '0.953975', '0.745651', '0.917603', '0.798195', '0.793797', '0.793800', '0.735762', '0.788548', '0.867224', '0.791394', '0.785840', '0.853755', '0.808520', '0.897096', '0.628342', '0.971450', '0.885822', '0.783995', '0.735362', '0.843521', '0.854257', '0.893606', '0.660575', '0.864137', '0.749777', '0.870956', '0.775209', '0.910843', '0.827116', '0.707995', '0.753927', '0.842341', '0.887057', '0.773276', '0.958657', '0.839663', '0.846763', '0.887661', '0.950579', '0.706744', '0.588588', '0.518218', '0.700059', '0.698050', '0.782438', '0.331567', '0.953886', '0.891551', '0.709863', '0.755006', '0.771723', '0.694277', '0.707131', '0.917865', '0.726494', '0.491533', '0.603625', '0.592675', '0.858111', '0.817823', '0.723513', '0.315595', '0.774707', '0.965700', '0.708170', '0.740486', '0.893721', '0.824699', '0.723977', '0.892143', '0.958051', '0.850129', '0.712421', '0.894773', '0.874702', '0.999803', '0.832733', '0.817807', '0.741802', '0.677681', '0.747678', '0.571410', '0.663946', '0.847409', '0.647607', '0.852604', '0.809927', '0.611635', '0.951890', '0.736813', '0.745319', '0.922224', '0.811400', '0.910582', '0.954992', '0.723742', '0.993169', '0.881432', '0.773109', '0.797503', '0.712479', '0.883439', '0.699977', '0.848520', '0.801692', '0.878972', '0.609571', '0.866002', '0.899215', '0.881546', '0.489215', '0.877664', '0.961440', '0.877775', '0.883452', '0.780083', '0.671489', '0.778166', '0.735268', '0.712736', '0.820801', '0.837437', '0.736767', '0.974879', '0.556426', '0.698168', '0.887173', '1.000000', '0.793710', '0.661881', '0.595385', '0.763069', '0.917257', '0.476978', '0.835324', '0.906940', '0.797123', '0.547283', '0.961139', '0.583927', '0.618087', '0.791115', '0.913007', '0.857653', '0.793686', '0.519872', '0.886680', '0.776567', '0.884095', '0.965847', '0.892506', '0.700199', '0.494267', '0.763364', '0.711352', '0.695020', '0.781191', '0.636320', '0.577454', '0.794059', '0.931356', '0.611176', '0.603454', '0.810126', '0.889957', '0.732901', '0.669375', '0.673190', '0.843209', '0.782565', '0.931647', '0.841388', '0.900952', '0.853410', '0.871154', '0.773614', '0.887986', '0.674877', '0.660445', '0.890062', '0.757892', '0.681633', '0.797561', '0.769096', '0.975205', '0.801290', '0.793153', '0.788494', '0.852886', '0.916529', '0.239709', '0.707674', '0.694129', '0.738546', '0.525684', '0.749938', '0.950789', '0.609348', '0.662114', '0.808850', '0.760219', '0.704793', '0.787610', '0.456766', '0.800549', '0.937977', '0.838028', '0.222803', '0.134921', '1.000000', '0.989178', '0.897694', '0.896403', '0.461333', '0.062546', '0.796238', '0.806819', '0.780151', '0.935223', '0.590086', '0.663619', '0.609322', '0.083570', '0.742391', '0.635336', '0.974121', '0.744055', '0.782548', '0.926468', '0.763105', '0.933552', '0.316731', '0.405174', '0.937894', '0.549191', '0.908105', '0.343209', '0.525368', '0.875626', '0.984113', '0.787155', '0.439021', '0.797727', '0.950377', '0.946264', '0.785833', '0.825576', '0.869293', '0.821573', '0.928534', '0.565336', '0.553879', '0.807625', '0.962406', '0.974959', '0.899031', '0.922140', '0.563395', '0.487395', '0.752000', '0.804001', '0.978791', '0.651390', '0.994796', '0.684382', '0.838685', '0.750250', '0.547387', '0.722521', '0.966942', '0.807811', '0.842555', '0.700496', '0.950192', '0.947690', '0.829836', '0.471016', '0.701835', '0.335973', '0.995923', '0.767892', '0.673244', '0.915842', '0.552577', '0.843864', '0.870049', '0.434215', '0.953053', '0.600147', '0.843408', '0.867870', '0.829246', '0.792828', '0.909043', '0.695860', '0.710054', '0.755827', '0.736218', '0.812528', '0.865531', '0.669824', '0.203970', '0.788424', '0.895478', '0.605039', '0.319173', '0.788189', '0.893485', '0.911993', '0.919231', '0.944128', '0.314659', '0.941222', '0.902202', '0.928411', '0.655104', '0.977759', '0.754408', '0.773644', '0.897494', '0.920440', '0.945801', '0.869613', '0.960955', '0.835058', '0.815361', '0.624388', '0.595615', '0.604966', '0.385636', '0.832173', '0.698896', '0.830702', '0.203605', '0.887658', '0.506813', '0.899259', '0.230511', '0.368613', '0.801416', '0.739253', '0.417733', '0.894474', '0.936826', '0.054045', '0.403303', '0.718006', '0.849565', '0.561454', '0.686780', '0.984997', '0.589530', '0.477133', '0.925800', '0.280953', '0.483083', '0.740471', '0.908455', '0.863970', '0.966402', '0.694947', '0.907928', '0.494605', '0.636202', '0.665055', '0.728355', '0.657324', '0.438547', '0.660653', '0.435741', '0.767395', '0.898074', '0.916746', '0.919344', '0.910864', '1.000000', '0.079230', '0.789412', '0.671033', '0.717682', '0.850252', '1.000000', '0.824918', '0.731139', '0.897420', '0.648506', '0.821053', '0.935174', '0.903997', '0.783919', '0.793119', '0.957788', '0.928165', '0.790483', '0.964292', '0.557285', '0.632429', '0.790713', '0.969746', '0.480214', '0.657774', '0.488813', '0.919537', '0.552794', '0.935533', '0.996778', '0.814546', '0.970458', '0.981352', '0.932413', '0.965637', '0.835545', '0.559893', '0.674597', '0.950416', '0.804543', '0.402720', '0.698775', '0.888477', '0.243813', '0.790287', '0.666311', '0.781209', '0.517516', '0.738547', '0.574937', '0.420814', '0.421981', '0.654377', '0.762325', '0.536641', '0.608722', '0.808825', '0.398194', '0.520648', '0.648936']\n",
            "False\n",
            "False\n"
          ]
        }
      ],
      "source": [
        "print(y_nltk)\n",
        "print(y_bow)\n",
        "print(y_mt)\n",
        "print(y_st)\n",
        "print(y_nltk == y_mt)\n",
        "print(y_mt == y_st)"
      ]
    },
    {
      "cell_type": "code",
      "execution_count": null,
      "metadata": {
        "colab": {
          "base_uri": "https://localhost:8080/"
        },
        "id": "w6jVbnFVR8_r",
        "outputId": "b26eb731-d769-4fa1-c08d-f5867ff409f2"
      },
      "outputs": [
        {
          "output_type": "stream",
          "name": "stdout",
          "text": [
            "['6.808077', '8.924693', '8.962589', '7.943808', '6.121853', '6.135349', '9.127955', '7.378122', '8.108341', '6.690197', '6.690197', '9.445880', '3.930120', '6.939665', '6.913679', '7.055009', '8.314048', '8.995501', '6.172638', '4.196360', '6.011736', '3.279164', '9.264835', '7.765959', '5.879391', '8.915153', '6.458697', '7.156887', '3.889709', '8.474783', '6.709591', '7.431484', '3.298834', '8.295284', '6.863127', '2.924831', '3.535230', '6.609377', '8.435246', '3.498859', '7.102023', '8.478866', '8.995501', '3.691114', '5.790314', '2.504845', '2.204916', '4.662475', '7.702789', '6.515633', '4.798839', '5.484149', '3.282797', '2.596979', '7.367041', '2.526055', '8.675543', '3.732155', '8.138392', '5.686385', '10.000000', '0.944678', '6.878326', '3.183836', '7.212987', '3.628674', '2.343593', '7.589564', '1.927877', '6.480736', '7.224453', '8.396987', '1.189804', '7.970343', '6.110867', '2.411388', '3.269825', '1.214745', '6.202719', '7.650156', '1.283583', '4.127399', '3.775700', '3.629995', '3.537435', '4.776806', '7.696527', '8.088077', '6.676451', '4.498704', '3.562342', '8.331672', '3.371914', '8.548021', '4.780536', '6.285944', '6.764488', '8.043170', '5.817558', '4.946428', '1.200878', '3.268711', '6.695428', '6.788304', '5.788182', '6.443108', '2.541364', '3.917197', '2.851545', '6.243510', '6.078442', '6.157080', '6.109408', '7.310094', '0.823571', '1.247162', '8.311836', '4.342947', '1.601369', '3.652807', '2.998237', '2.712805', '3.488882', '2.946053', '2.144919', '10.000000', '4.802334', '8.628686', '7.750347', '7.051867', '7.832969', '8.348119', '7.223639', '7.858309', '8.303746', '6.379487', '9.552028', '7.283330', '7.224346', '9.461042', '9.302100', '9.065416', '7.234113', '8.769764', '6.061718', '7.871860', '7.413100', '6.571259', '8.011188', '4.166440', '8.025419', '6.818199', '8.762828', '8.995501', '6.644174', '8.829530', '2.411017', '5.129304', '8.645438', '4.509930', '9.482224', '8.032265', '4.871643', '9.022024', '8.911030', '8.208425', '6.270263', '8.382020', '7.432530', '6.065736', '7.378122', '3.325448', '6.986016', '7.437883', '5.076377', '6.957106', '6.663984', '7.308099', '2.327122', '2.880010', '2.880010', '6.788731', '7.154232', '3.099022', '6.006427', '1.506057', '2.165632', '2.351600', '2.366160', '1.830815', '6.791556', '7.291453', '5.091429', '7.522331', '7.943743', '6.990667', '6.665389', '3.292363', '1.923852', '5.935597', '3.079384', '2.306121', '3.393457', '2.776136', '2.265240', '3.897325', '7.067061', '1.336965', '6.269504', '5.843957', '3.719167', '3.333111', '2.690834', '3.580185', '4.804536', '3.426863', '4.753207', '6.053836', '7.597100', '3.601529', '2.200526', '0.858809', '3.263567', '5.923153', '1.360548', '2.106174', '5.989746', '5.841438', '1.859522', '4.235812', '1.377299', '1.453501', '6.581326', '6.139741', '4.104305', '4.817848', '1.707839', '1.391614', '2.690219', '1.101212', '3.088628', '0.798987', '1.150086', '2.414244', '6.383173', '1.748310', '6.981689', '4.510944', '0.795900', '1.645525', '6.205033', '9.053251', '6.109552', '8.011957', '5.076145', '7.686772', '4.411380', '7.813244', '6.556420', '1.327172', '8.781580', '7.784523', '6.887060', '9.436496', '4.730113', '5.344539', '4.455277', '7.340756', '5.618325', '9.556725', '7.517467', '3.563728', '5.401977', '8.785802', '9.197185', '9.661886', '3.306300', '3.167395', '8.149419', '5.821053', '3.934841', '5.004126', '7.965014', '7.217349', '7.625817', '8.056324', '6.779351', '8.153047', '8.683085', '4.369716', '8.634376', '4.309443', '5.155277', '8.656356', '2.453199', '4.483260', '4.086379', '8.047447', '6.618167', '8.464283', '10.000000', '6.323593', '7.570551', '8.892190', '5.891764', '7.795657', '8.677771', '6.777320', '8.805982', '7.042471', '6.289863', '2.962085', '6.817480', '7.721287', '6.134762', '8.367833', '6.679245', '7.921624', '2.428426', '2.559207', '8.251205', '6.113725', '8.653997', '5.732656', '8.302197', '2.411405', '7.665585', '7.749149', '7.858453', '7.885778', '10.000000', '8.128486', '9.245331', '7.188975', '6.247732', '5.343547', '7.872995', '8.635247', '4.127060', '3.167016', '8.645806', '9.555440', '9.086335', '5.240724', '6.838474', '4.374452', '6.405464', '4.186956', '5.285765', '2.590473', '6.500985', '9.001024', '6.367434', '8.104445', '7.361391', '3.401159', '4.979725', '8.487964', '3.304965', '7.066126', '9.590521', '8.019340', '6.603598', '6.779566', '8.429504', '2.199463', '6.566959', '6.972587', '7.893594', '9.502545', '7.824018', '7.869809', '3.419980', '6.701624', '4.050352', '8.006966', '6.650389', '3.184791', '6.715510', '6.338207', '8.684936', '7.625885', '6.169477', '4.418062', '6.100891', '7.398815', '8.878817', '3.700387', '6.625140', '4.565329', '9.282396', '5.619465', '2.689581', '4.649327', '8.466004', '2.960299', '3.066272', '9.339417', '7.144899', '5.993451', '5.749469', '4.708949', '5.419666', '6.573663', '6.751646', '8.432405', '2.248393', '6.310763', '7.923967', '6.688425', '7.622490', '9.590087', '6.004008', '8.671315', '3.294095', '5.520086', '2.125130', '9.053407', '7.992597', '8.261569', '7.942877', '5.375770', '10.000000', '4.649666', '6.787650', '4.403827', '2.948456', '9.102103', '6.460845', '7.066806', '3.595459', '10.000000', '2.473758', '7.683739', '4.509067', '7.727732', '6.456509', '9.653472', '7.045212', '7.871488', '7.411630', '6.098049', '1.943501', '6.240086', '7.099516', '2.081625', '5.708470', '7.329159', '4.011976', '5.476384', '7.838532', '9.147961', '3.097596', '2.533230', '9.502693', '5.888246', '5.788857', '9.210795', '3.399443', '7.140270', '2.866156', '3.698387', '1.674358', '6.159507', '7.403190', '6.983125', '6.299305', '8.983675', '9.218707', '3.962783', '6.751757', '6.061307', '7.592449', '9.200820', '5.100379', '5.995328', '3.610936', '4.919645', '8.109335', '3.873152', '7.909366', '5.375308', '6.542918', '2.840243', '8.489440', '4.772151', '5.633190', '8.471075', '7.714362', '10.000000', '8.811980', '7.716517', '6.770137', '7.371856', '5.436150', '7.892758', '2.802062', '6.238965', '3.802093', '9.097309', '6.567713', '7.419729', '4.025637', '8.364996', '6.146816', '8.646922', '6.648988', '5.837939', '7.369265', '3.932537', '4.887491', '6.592813', '7.731307', '5.794268', '7.378500', '2.656234', '6.507991', '5.908020', '6.076161', '8.564314', '4.783771', '6.561042', '8.644192', '5.527291', '7.725321', '6.141976', '6.118661', '2.993211', '8.092908', '4.584055', '3.895537', '4.307877', '3.671694', '5.438623', '3.493883', '3.595528', '5.778890', '4.925458', '4.168612', '6.311518', '9.222504', '5.031122', '7.713304', '8.024719', '8.680591', '8.927033', '3.394790', '6.249150', '7.256196', '7.124891', '6.745146', '4.891496', '7.379088', '8.780446', '4.307475', '7.835640', '7.260726', '5.978243', '7.979760', '6.382577', '9.361743', '3.775601', '5.561058', '5.880329', '5.326968', '6.098537', '9.136502', '6.682874', '4.053031', '8.674823', '5.491822', '5.932134', '2.472124', '7.772963', '8.105521', '8.307563', '9.214561', '6.900671', '6.929213', '6.732944', '5.305894', '8.216939', '7.154375', '6.184139', '5.745369', '6.392846', '3.264516', '10.000000', '5.868516', '6.020553', '5.667261', '8.579854', '8.663125', '4.853672', '2.615396', '8.623210', '6.281973', '2.496011', '6.542908', '8.995159', '7.319135', '4.036051', '7.778809', '7.861290', '5.475840', '7.072438', '7.386386', '5.333677', '8.830156', '9.084214', '10.000000', '6.330402', '5.124845', '5.335057', '7.438112', '7.974717', '6.797838', '3.837717', '6.389106', '8.636153', '4.525571', '7.194087', '2.127909', '10.000000', '6.511649', '8.721466', '5.842170', '3.022189', '4.172950', '3.562016', '4.200855', '9.025874', '7.154062', '6.781047', '3.498607', '7.137849', '5.461104', '3.398563', '6.723818', '8.090241', '2.574354', '5.710967', '8.111544', '5.392411', '5.727099', '10.000000', '6.431348', '8.402874', '9.044803', '6.123696', '4.461316', '8.750459', '5.115631', '4.336813', '5.640327', '8.173419', '6.881622', '4.399889', '4.325672', '3.402934', '7.265499', '6.630077', '3.792790', '5.428789', '10.000000', '3.405493', '9.024194', '5.711620', '10.000000', '5.949116', '4.691013', '10.000000', '6.103911', '10.000000', '10.000000', '3.960115', '4.506678', '5.451392', '2.712416', '2.195744', '6.135210', '3.897675', '7.779340', '5.033271', '4.789687', '7.248359', '5.771974', '4.832113', '7.804170', '8.283973', '6.810921', '3.564891', '10.000000', '5.766939', '6.804154', '5.547164', '6.927411', '5.341017', '2.624312', '9.000751', '4.622826', '8.242769', '7.088511', '8.297123', '6.688309', '5.883529', '3.966413', '4.063550', '8.097749', '7.839388', '7.795274', '4.217537', '3.824747', '4.548273', '3.056843', '5.692249', '7.630145', '7.978978', '7.279666', '8.782477', '8.848099', '6.561817', '5.743066', '5.275331', '7.777312', '4.139420', '7.064594', '9.370316', '7.370226', '7.003824', '5.475945', '6.065274', '4.700410', '1.505488', '4.274406', '6.782281', '5.603962', '10.000000', '1.569246', '8.501390', '8.976274', '6.672294', '6.188418', '8.188852', '5.156586', '5.532232', '8.072573', '4.744747', '7.366327', '5.188342', '7.130484', '4.149579', '7.322984', '6.981717', '7.893114', '7.253098', '7.096069', '5.432901', '4.729606', '7.576757', '10.000000', '1.030659', '4.132941', '6.326931', '7.026350', '7.949027', '7.666875', '6.072345', '5.735659', '3.671888', '7.359306', '5.160505', '6.946012', '8.215402', '9.155836', '7.640824', '3.335102', '2.736216', '5.069359', '7.332263', '7.050035', '7.468399', '10.000000', '8.474201', '5.771974', '6.004584', '4.279331', '8.451243', '9.449491', '8.614447', '6.828176', '8.118627', '6.074882', '5.182054', '6.774999', '7.554714', '2.652308', '10.000000', '4.004162', '5.802596', '3.920406', '5.199360', '5.006475', '2.582108', '7.434948', '10.000000', '5.398007', '8.199861', '7.618746', '4.712059', '6.585114', '3.951704', '6.334907', '5.771974', '5.348227', '3.242237', '4.198954', '6.383415', '8.412379', '5.048811', '4.707755', '4.913966', '7.811725', '9.027377', '5.661027', '7.734963', '5.096362', '4.798178', '6.576351', '8.803197', '6.026611', '7.760535', '7.643351', '6.735403', '7.693041', '5.940620', '10.000000', '3.677572', '5.274988', '8.479837', '9.004045', '8.037616', '6.623874', '4.937987', '9.008593', '5.329134', '7.250622', '6.620575', '7.126121', '8.021960', '7.433491', '5.170272', '9.426141', '9.075754', '8.607931', '6.172667', '5.888741', '7.430708', '8.841582', '5.492956', '5.747747', '10.000000', '6.083456', '4.399181', '5.705292', '4.710441', '6.179685', '4.248084', '3.749428', '8.338406', '5.106200', '8.427806', '5.801389', '6.982011', '4.275283', '8.511450', '6.498685', '8.656976', '7.290022', '6.231092', '8.265867', '6.897717', '6.979605', '8.894228', '6.402742', '8.030088', '7.740972', '8.294262', '6.604910', '6.237252', '8.369603', '8.575927', '6.181864', '7.391723', '7.821505', '9.218598', '7.166214', '5.147188', '4.605304', '5.023841', '8.719770', '7.046669', '6.604720', '8.494072', '9.166770', '7.877197', '6.608885', '7.078450', '8.107994', '8.017367', '7.761599', '7.638410', '6.350079', '6.985929', '7.919700', '9.325780', '5.268987', '6.378471', '7.440135', '7.791535', '7.246900', '8.101417', '8.782549', '7.625524', '8.390079', '7.681727', '7.634665', '3.269275', '7.555396', '7.294845', '8.162382', '8.627697', '7.968886', '6.231806', '5.529505', '7.546583', '6.958643', '7.067941', '4.719076', '6.777553', '8.844094', '7.090929', '5.987565', '9.001616', '6.608287', '8.482439', '7.393812', '7.171965', '7.056600', '7.022448', '7.993122', '8.014439', '7.775826', '6.918248', '8.106426', '6.420278', '8.109365', '5.601070', '9.167638', '8.345399', '7.678856', '7.110813', '7.570438', '7.849601', '7.755242', '6.475664', '8.285027', '6.547478', '8.242243', '7.014735', '8.142533', '7.393378', '6.723733', '7.093707', '7.509298', '7.412075', '6.847205', '9.060646', '7.789427', '8.151088', '8.147136', '9.091553', '6.590377', '5.566824', '5.057719', '6.448886', '6.407629', '7.410725', '3.899329', '8.434616', '8.928794', '6.480900', '6.888608', '7.420276', '6.359939', '6.970642', '8.268310', '6.799745', '5.021869', '5.717373', '5.578918', '7.325713', '7.599761', '7.164591', '4.209166', '6.835669', '8.762172', '6.757190', '6.278846', '8.096763', '7.678939', '6.292583', '8.475591', '8.994667', '7.840726', '6.589571', '8.263412', '7.331642', '9.831953', '7.246499', '7.414058', '6.902023', '6.221210', '6.782940', '5.984184', '6.178552', '7.979767', '5.709945', '8.269123', '6.992366', '6.386383', '9.492890', '6.999514', '6.883901', '9.011607', '6.880289', '8.659633', '8.361995', '7.067294', '9.843055', '8.170170', '6.781068', '7.499551', '6.787353', '7.881742', '6.858576', '7.582809', '7.419420', '8.763968', '6.184027', '8.549260', '8.488321', '8.534000', '4.991204', '7.710347', '8.984463', '7.990580', '8.818553', '7.808453', '6.942093', '6.945956', '6.810976', '6.592718', '6.810439', '7.440764', '6.436572', '9.017969', '5.236624', '6.487502', '8.195697', '10.000000', '6.940584', '5.872421', '5.304840', '6.664017', '8.152849', '5.744198', '7.448424', '8.224510', '7.933256', '5.547215', '8.867045', '5.293534', '5.325763', '7.037805', '8.395508', '7.822588', '7.911441', '5.242670', '8.765391', '6.935969', '8.879920', '9.161910', '8.254524', '6.935237', '5.136920', '7.075598', '6.635620', '6.783946', '7.049846', '6.035378', '5.511872', '7.161979', '8.662350', '6.440009', '5.635418', '7.380291', '8.198852', '6.958123', '6.266174', '6.131849', '8.045321', '7.256952', '8.889951', '7.554125', '7.806664', '8.125281', '8.060432', '6.683606', '7.932136', '6.072019', '5.636749', '8.554225', '6.938237', '6.050634', '7.721999', '6.812542', '9.094222', '7.784753', '7.073350', '7.519459', '7.974661', '8.821055', '2.125176', '6.753718', '5.807587', '6.035847', '4.944699', '7.146934', '8.970074', '5.943312', '5.097707', '7.019590', '7.512424', '6.628933', '7.285623', '4.697362', '7.230244', '8.417478', '8.057087', '1.559621', '0.944447', '10.000000', '9.662859', '8.881933', '8.589372', '4.086473', '0.437822', '6.872705', '6.743177', '7.483657', '8.546562', '5.651881', '6.202624', '6.293623', '0.584990', '6.122558', '5.461538', '9.218847', '5.879206', '7.477837', '9.110276', '6.290419', '8.725755', '3.217116', '3.211218', '8.538891', '4.978229', '9.095348', '3.073284', '5.477576', '7.843669', '8.388791', '6.898815', '3.506161', '7.765908', '9.224068', '8.338135', '7.093343', '6.912924', '7.287727', '6.846455', '8.142907', '5.072534', '3.877153', '7.903375', '9.308271', '8.913646', '8.484108', '9.026409', '4.406674', '4.636509', '6.464000', '7.770865', '9.351536', '5.376228', '9.363572', '6.132316', '7.670795', '6.454426', '5.331709', '6.343360', '9.008338', '7.154677', '8.397884', '6.944714', '7.851344', '8.633831', '6.869511', '3.760021', '5.512845', '3.482347', '9.569536', '6.509136', '6.054350', '7.848862', '5.459029', '7.919508', '7.822393', '3.933931', '9.076723', '5.296473', '7.326882', '7.972458', '7.514695', '6.938526', '8.006470', '5.966464', '7.220378', '6.933958', '6.356202', '7.278686', '8.223781', '5.688767', '1.927791', '7.162137', '8.433410', '4.985273', '2.234211', '8.088752', '7.753818', '8.972875', '8.434618', '8.799787', '2.840924', '8.738002', '7.669537', '8.350516', '5.810472', '9.582926', '6.483532', '7.058677', '8.433869', '8.086249', '9.120606', '8.115660', '9.324760', '7.739122', '6.564669', '5.236741', '5.262421', '4.801708', '3.775646', '7.239426', '5.936806', '7.314914', '2.096056', '8.749068', '4.095413', '8.299272', '1.613577', '3.192663', '7.121771', '7.626454', '3.424132', '9.170591', '8.748673', '1.128315', '2.823121', '6.121486', '7.798594', '4.542550', '6.328739', '9.209530', '5.963826', '4.539931', '8.830730', '3.022335', '3.782474', '6.848985', '8.502043', '8.619219', '9.503427', '6.716268', '8.087546', '5.194285', '6.481783', '5.521410', '5.777850', '5.595684', '4.770670', '6.476210', '3.557280', '6.323020', '7.235202', '8.952684', '8.447868', '8.690599', '9.250000', '0.554610', '7.400884', '5.197232', '6.545053', '8.142655', '10.000000', '8.002953', '6.832260', '7.281939', '6.143108', '8.430652', '8.860769', '8.827978', '5.987434', '7.155399', '9.019067', '8.011951', '7.136947', '8.307307', '4.826816', '5.629679', '7.056270', '9.565682', '4.586242', '6.318705', '3.854705', '8.936758', '6.241265', '8.954083', '9.754906', '7.701823', '9.570666', '9.494464', '9.026890', '8.902317', '7.861275', '5.204964', '6.559295', '8.504551', '7.346088', '4.104753', '5.891424', '8.434986', '1.706691', '6.206638', '7.007665', '7.343463', '5.265781', '7.013568', '4.024559', '4.148374', '3.728464', '5.437781', '6.561019', '4.572985', '4.768147', '6.577996', '3.736042', '4.351642', '5.399694']\n"
          ]
        }
      ],
      "source": [
        "# アンサンブル\n",
        "y = list()\n",
        "for i in range(len(y_nltk)):\n",
        "    avg = float(y_nltk[i])*0 + float(y_bow[i])*3 + float(y_mt[i])*2 + float(y_st[i])*5\n",
        "    y.append('{:f}'.format(avg))\n",
        "print(y)\n",
        "\n",
        "# ファイルへの書き込み\n",
        "with open('/content/drive/MyDrive/exp5-3_english/eng.test.label.txt', 'w') as f:\n",
        "    for i, label in enumerate(y):\n",
        "        if i == len(y)-1:\n",
        "            f.write(label)\n",
        "        else:\n",
        "            f.write(label+'\\n')"
      ]
    },
    {
      "cell_type": "markdown",
      "source": [
        "#スコアメモ"
      ],
      "metadata": {
        "id": "wIvVb7r6fuiF"
      }
    },
    {
      "cell_type": "markdown",
      "source": [
        "ベクトル中心化+idf+textfast(crawl-300d-2M.vec\")+nltk正規化\n",
        "\n",
        "* 0 : 3 : 2 : 6 : 0.744\n",
        "* 0 : 3 : 2 : 5 : 0.746\n",
        "* 0 : 2 : 2 : 5 : 0.739\n",
        "* 1 : 3 : 2 : 5 : 0.744\n",
        "* 0.1 : 3 : 2 : 5 : 0.745\n",
        "* 5 : 3 : 2 : 5 : 0.738"
      ],
      "metadata": {
        "id": "lpkphNEy7y_y"
      }
    },
    {
      "cell_type": "markdown",
      "source": [
        "ベクトル中心化+idf+fasttext\n",
        "\n",
        "1:1:1:1 ： 0.740\n",
        "\n",
        "0:3:2:5 ： 0.743"
      ],
      "metadata": {
        "id": "_Wn2BAhNsAis"
      }
    },
    {
      "cell_type": "markdown",
      "source": [
        "ベクトル中心化\n",
        "*   0.00: 0.40: 0.20: 0.40  :  0.725"
      ],
      "metadata": {
        "id": "G6Youortr9XO"
      }
    },
    {
      "cell_type": "markdown",
      "metadata": {
        "id": "K5b9MIZQ4WZV"
      },
      "source": [
        "nltk : bow : mt : st\n",
        "*   0.00: 0.20: 0.40: 0.40  :  0.730\n",
        "*   0.00: 0.30: 0.10: 0.60  :  0.733\n",
        "*   0.00: 0.30: 0.20: 0.50  :  0.734\n",
        "*   0.00: 0.30: 0.30: 0.40  :  0.734\n",
        "*   0.00: 0.30: 0.40: 0.30  :  0.734\n",
        "*   0.00: 0.40: 0.50: 0.10  :  0.733\n",
        "*   0.00: 0.40: 0.40: 0.20  :  0.734\n",
        "*   0.00: 0.40: 0.30: 0.30  :  0.734\n",
        "*   0.00: 0.40: 0.20: 0.40  :  0.734\n",
        "*   0.00: 0.40: 0.10: 0.50  :  0.733\n",
        "*   0.00: 0.50: 0.20: 0.30  :  0.730"
      ]
    },
    {
      "cell_type": "markdown",
      "metadata": {
        "id": "wn4_NO-xZxab"
      },
      "source": [
        "nltk : bow : mt\n",
        "*   0.00: 0.25: 0.75  :  0.731\n",
        "*   0.00: 0.36: 0.64  :  0.733\n",
        "*   0.00: 0.40: 0.60  :  0.733\n",
        "*   0.00: 0.50: 0.50  :  0.729\n",
        "*   0.36: 0.00: 0.64  :  0.705\n",
        "*   0.02: 0.36: 0.62  :  0.733\n",
        "*   0.12: 0.36: 0.52  :  0.733\n",
        "*   0.22: 0.36: 0.42  :  0.732\n",
        "*   0.32: 0.36: 0.32  :  0.731\n",
        "*   0.42: 0.36: 0.22  :  0.731\n",
        "*   0.52: 0.36: 0.12  :  0.730"
      ]
    },
    {
      "cell_type": "markdown",
      "metadata": {
        "id": "6FA9mKdlUzl1"
      },
      "source": [
        "nltk : bow\n",
        "*   0.5: 0.5  :  0.725\n",
        "*   0.6: 0.4  :  0.725\n",
        "*   0.64: 0.36  : 0.728\n",
        "*   0.65: 0.35  :  0.728\n",
        "*   0.7: 0.3  :  0.727\n",
        "*   0.75: 0.25  :  0.726\n",
        "*   0.8: 0.2  :  0.723\n",
        "*   0.9: 0.1  :  0.714\n",
        "\n",
        "\n"
      ]
    },
    {
      "cell_type": "markdown",
      "metadata": {
        "id": "MI6HX2WPJ7oA"
      },
      "source": [
        "ストップワード[:26]\n",
        "*   max:0.623\n",
        "*   mean:0.647\n",
        "*   min:0.656\n",
        "\n",
        "ストップワード[:56]\n",
        "*   max:0.591\n",
        "*   mean:0.681\n",
        "*   min:0.607\n",
        "\n",
        "ストップワード[:65]\n",
        "*   max:0.546\n",
        "*   mean:0.701\n",
        "*   min:0.561\n",
        "\n",
        "ストップワード[:75]\n",
        "*   max:0.524\n",
        "*   mean:0.700\n",
        "*   min:0.537\n",
        "\n",
        "ストップワード[:85]\n",
        "*   max:0.529\n",
        "*   mean:0.701\n",
        "*   min:0.541\n",
        "\n",
        "ストップワード[:85]+'on'+'in'+\"'s\"\n",
        "*   mean:0.703\n",
        "\n",
        "ストップワード[:85]+'on'+'in'+\"'s\"+'one'+'two'\n",
        "*   mean:0.702"
      ]
    },
    {
      "cell_type": "markdown",
      "metadata": {
        "id": "cmBmkgk_bsjx"
      },
      "source": [
        "y1 : y2  \n",
        "\n",
        "y1 ：word2vec-google-news-300\n",
        "\n",
        "y2：conceptnet-numberbatch-17-06-300\n",
        "\n",
        "*   1.00 : 0.10 = 0.610\n",
        "*   0.50 : 0.10 = 0.604\n",
        "*   0.50 : 0.30 = 0.576\n",
        "*   0.50 : 0.50 = 0.549\n",
        "*   0.50 : 0.70 = 0.524\n",
        "*   0.10 : 1.00 = 0.352\n",
        "\n",
        "\n",
        "y1 ：word2vec-google-news-300\n",
        "\n",
        "y2：glove-twitter-200\n",
        "\n",
        "*   0.50 : 0.10 = 0.614\n",
        "*   0.80 : 0.10 = 0.611\n",
        "*   0.50 : 0.50 = 0.575\n",
        "*   0.70 : 0.50 = 0.586\n",
        "*   0.50 : 0.70 = 0.558\n",
        "\n",
        "\n",
        "\n"
      ]
    },
    {
      "cell_type": "markdown",
      "source": [
        "#延長戦"
      ],
      "metadata": {
        "id": "ZsBFdGmXfxf2"
      }
    },
    {
      "cell_type": "markdown",
      "source": [
        "* word2vec-google-news-300 :  0.728\n",
        "* glove-wiki-gigaword-300 :  0.716\n",
        "* fasttext-wiki-news-subwords-300 :  0.705\n",
        "* glove-twitter-200 :  0.712\n",
        "* word2vec-ruscorpora-300 :  0.000 nan\n",
        "* ParaNMTコーパスで学習された単語ベクトル : 0.775\n",
        "\n",
        "\n"
      ],
      "metadata": {
        "id": "w8lgOm4rf4o-"
      }
    }
  ],
  "metadata": {
    "colab": {
      "provenance": []
    },
    "kernelspec": {
      "display_name": "Python 3",
      "name": "python3"
    },
    "language_info": {
      "name": "python"
    },
    "widgets": {
      "application/vnd.jupyter.widget-state+json": {
        "07bfc38084d748a4a9f54ab524661e93": {
          "model_module": "@jupyter-widgets/controls",
          "model_name": "HBoxModel",
          "model_module_version": "1.5.0",
          "state": {
            "_dom_classes": [],
            "_model_module": "@jupyter-widgets/controls",
            "_model_module_version": "1.5.0",
            "_model_name": "HBoxModel",
            "_view_count": null,
            "_view_module": "@jupyter-widgets/controls",
            "_view_module_version": "1.5.0",
            "_view_name": "HBoxView",
            "box_style": "",
            "children": [
              "IPY_MODEL_f297e0e567054f45afae0e194c4f1336",
              "IPY_MODEL_cdbce566bc084e87b6a8d57eed5e55d7",
              "IPY_MODEL_4767f13d4ed04a7f8966ea84037763a2"
            ],
            "layout": "IPY_MODEL_59f4f697385b4f09a186b6b5efb9ac28"
          }
        },
        "f297e0e567054f45afae0e194c4f1336": {
          "model_module": "@jupyter-widgets/controls",
          "model_name": "HTMLModel",
          "model_module_version": "1.5.0",
          "state": {
            "_dom_classes": [],
            "_model_module": "@jupyter-widgets/controls",
            "_model_module_version": "1.5.0",
            "_model_name": "HTMLModel",
            "_view_count": null,
            "_view_module": "@jupyter-widgets/controls",
            "_view_module_version": "1.5.0",
            "_view_name": "HTMLView",
            "description": "",
            "description_tooltip": null,
            "layout": "IPY_MODEL_c70e947ddd77448087098faa538d5ad1",
            "placeholder": "​",
            "style": "IPY_MODEL_f2dc4d0fc6be470bb42c9460f65a55cd",
            "value": "Downloading https://raw.githubusercontent.com/stanfordnlp/stanza-resources/main/resources_1.4.1.json: "
          }
        },
        "cdbce566bc084e87b6a8d57eed5e55d7": {
          "model_module": "@jupyter-widgets/controls",
          "model_name": "FloatProgressModel",
          "model_module_version": "1.5.0",
          "state": {
            "_dom_classes": [],
            "_model_module": "@jupyter-widgets/controls",
            "_model_module_version": "1.5.0",
            "_model_name": "FloatProgressModel",
            "_view_count": null,
            "_view_module": "@jupyter-widgets/controls",
            "_view_module_version": "1.5.0",
            "_view_name": "ProgressView",
            "bar_style": "success",
            "description": "",
            "description_tooltip": null,
            "layout": "IPY_MODEL_f2989bda2a624c5eba352e84dfa62ee8",
            "max": 28918,
            "min": 0,
            "orientation": "horizontal",
            "style": "IPY_MODEL_de2722f41e7341ce82509b479b00dbd8",
            "value": 28918
          }
        },
        "4767f13d4ed04a7f8966ea84037763a2": {
          "model_module": "@jupyter-widgets/controls",
          "model_name": "HTMLModel",
          "model_module_version": "1.5.0",
          "state": {
            "_dom_classes": [],
            "_model_module": "@jupyter-widgets/controls",
            "_model_module_version": "1.5.0",
            "_model_name": "HTMLModel",
            "_view_count": null,
            "_view_module": "@jupyter-widgets/controls",
            "_view_module_version": "1.5.0",
            "_view_name": "HTMLView",
            "description": "",
            "description_tooltip": null,
            "layout": "IPY_MODEL_ccea53f75a494589a8032505fa378eed",
            "placeholder": "​",
            "style": "IPY_MODEL_e7a3af0659eb4d25b9b0b5e8e5c51f56",
            "value": " 193k/? [00:00&lt;00:00, 1.95MB/s]"
          }
        },
        "59f4f697385b4f09a186b6b5efb9ac28": {
          "model_module": "@jupyter-widgets/base",
          "model_name": "LayoutModel",
          "model_module_version": "1.2.0",
          "state": {
            "_model_module": "@jupyter-widgets/base",
            "_model_module_version": "1.2.0",
            "_model_name": "LayoutModel",
            "_view_count": null,
            "_view_module": "@jupyter-widgets/base",
            "_view_module_version": "1.2.0",
            "_view_name": "LayoutView",
            "align_content": null,
            "align_items": null,
            "align_self": null,
            "border": null,
            "bottom": null,
            "display": null,
            "flex": null,
            "flex_flow": null,
            "grid_area": null,
            "grid_auto_columns": null,
            "grid_auto_flow": null,
            "grid_auto_rows": null,
            "grid_column": null,
            "grid_gap": null,
            "grid_row": null,
            "grid_template_areas": null,
            "grid_template_columns": null,
            "grid_template_rows": null,
            "height": null,
            "justify_content": null,
            "justify_items": null,
            "left": null,
            "margin": null,
            "max_height": null,
            "max_width": null,
            "min_height": null,
            "min_width": null,
            "object_fit": null,
            "object_position": null,
            "order": null,
            "overflow": null,
            "overflow_x": null,
            "overflow_y": null,
            "padding": null,
            "right": null,
            "top": null,
            "visibility": null,
            "width": null
          }
        },
        "c70e947ddd77448087098faa538d5ad1": {
          "model_module": "@jupyter-widgets/base",
          "model_name": "LayoutModel",
          "model_module_version": "1.2.0",
          "state": {
            "_model_module": "@jupyter-widgets/base",
            "_model_module_version": "1.2.0",
            "_model_name": "LayoutModel",
            "_view_count": null,
            "_view_module": "@jupyter-widgets/base",
            "_view_module_version": "1.2.0",
            "_view_name": "LayoutView",
            "align_content": null,
            "align_items": null,
            "align_self": null,
            "border": null,
            "bottom": null,
            "display": null,
            "flex": null,
            "flex_flow": null,
            "grid_area": null,
            "grid_auto_columns": null,
            "grid_auto_flow": null,
            "grid_auto_rows": null,
            "grid_column": null,
            "grid_gap": null,
            "grid_row": null,
            "grid_template_areas": null,
            "grid_template_columns": null,
            "grid_template_rows": null,
            "height": null,
            "justify_content": null,
            "justify_items": null,
            "left": null,
            "margin": null,
            "max_height": null,
            "max_width": null,
            "min_height": null,
            "min_width": null,
            "object_fit": null,
            "object_position": null,
            "order": null,
            "overflow": null,
            "overflow_x": null,
            "overflow_y": null,
            "padding": null,
            "right": null,
            "top": null,
            "visibility": null,
            "width": null
          }
        },
        "f2dc4d0fc6be470bb42c9460f65a55cd": {
          "model_module": "@jupyter-widgets/controls",
          "model_name": "DescriptionStyleModel",
          "model_module_version": "1.5.0",
          "state": {
            "_model_module": "@jupyter-widgets/controls",
            "_model_module_version": "1.5.0",
            "_model_name": "DescriptionStyleModel",
            "_view_count": null,
            "_view_module": "@jupyter-widgets/base",
            "_view_module_version": "1.2.0",
            "_view_name": "StyleView",
            "description_width": ""
          }
        },
        "f2989bda2a624c5eba352e84dfa62ee8": {
          "model_module": "@jupyter-widgets/base",
          "model_name": "LayoutModel",
          "model_module_version": "1.2.0",
          "state": {
            "_model_module": "@jupyter-widgets/base",
            "_model_module_version": "1.2.0",
            "_model_name": "LayoutModel",
            "_view_count": null,
            "_view_module": "@jupyter-widgets/base",
            "_view_module_version": "1.2.0",
            "_view_name": "LayoutView",
            "align_content": null,
            "align_items": null,
            "align_self": null,
            "border": null,
            "bottom": null,
            "display": null,
            "flex": null,
            "flex_flow": null,
            "grid_area": null,
            "grid_auto_columns": null,
            "grid_auto_flow": null,
            "grid_auto_rows": null,
            "grid_column": null,
            "grid_gap": null,
            "grid_row": null,
            "grid_template_areas": null,
            "grid_template_columns": null,
            "grid_template_rows": null,
            "height": null,
            "justify_content": null,
            "justify_items": null,
            "left": null,
            "margin": null,
            "max_height": null,
            "max_width": null,
            "min_height": null,
            "min_width": null,
            "object_fit": null,
            "object_position": null,
            "order": null,
            "overflow": null,
            "overflow_x": null,
            "overflow_y": null,
            "padding": null,
            "right": null,
            "top": null,
            "visibility": null,
            "width": null
          }
        },
        "de2722f41e7341ce82509b479b00dbd8": {
          "model_module": "@jupyter-widgets/controls",
          "model_name": "ProgressStyleModel",
          "model_module_version": "1.5.0",
          "state": {
            "_model_module": "@jupyter-widgets/controls",
            "_model_module_version": "1.5.0",
            "_model_name": "ProgressStyleModel",
            "_view_count": null,
            "_view_module": "@jupyter-widgets/base",
            "_view_module_version": "1.2.0",
            "_view_name": "StyleView",
            "bar_color": null,
            "description_width": ""
          }
        },
        "ccea53f75a494589a8032505fa378eed": {
          "model_module": "@jupyter-widgets/base",
          "model_name": "LayoutModel",
          "model_module_version": "1.2.0",
          "state": {
            "_model_module": "@jupyter-widgets/base",
            "_model_module_version": "1.2.0",
            "_model_name": "LayoutModel",
            "_view_count": null,
            "_view_module": "@jupyter-widgets/base",
            "_view_module_version": "1.2.0",
            "_view_name": "LayoutView",
            "align_content": null,
            "align_items": null,
            "align_self": null,
            "border": null,
            "bottom": null,
            "display": null,
            "flex": null,
            "flex_flow": null,
            "grid_area": null,
            "grid_auto_columns": null,
            "grid_auto_flow": null,
            "grid_auto_rows": null,
            "grid_column": null,
            "grid_gap": null,
            "grid_row": null,
            "grid_template_areas": null,
            "grid_template_columns": null,
            "grid_template_rows": null,
            "height": null,
            "justify_content": null,
            "justify_items": null,
            "left": null,
            "margin": null,
            "max_height": null,
            "max_width": null,
            "min_height": null,
            "min_width": null,
            "object_fit": null,
            "object_position": null,
            "order": null,
            "overflow": null,
            "overflow_x": null,
            "overflow_y": null,
            "padding": null,
            "right": null,
            "top": null,
            "visibility": null,
            "width": null
          }
        },
        "e7a3af0659eb4d25b9b0b5e8e5c51f56": {
          "model_module": "@jupyter-widgets/controls",
          "model_name": "DescriptionStyleModel",
          "model_module_version": "1.5.0",
          "state": {
            "_model_module": "@jupyter-widgets/controls",
            "_model_module_version": "1.5.0",
            "_model_name": "DescriptionStyleModel",
            "_view_count": null,
            "_view_module": "@jupyter-widgets/base",
            "_view_module_version": "1.2.0",
            "_view_name": "StyleView",
            "description_width": ""
          }
        },
        "0f061436771a4e72a88ba199e6b3a915": {
          "model_module": "@jupyter-widgets/controls",
          "model_name": "HBoxModel",
          "model_module_version": "1.5.0",
          "state": {
            "_dom_classes": [],
            "_model_module": "@jupyter-widgets/controls",
            "_model_module_version": "1.5.0",
            "_model_name": "HBoxModel",
            "_view_count": null,
            "_view_module": "@jupyter-widgets/controls",
            "_view_module_version": "1.5.0",
            "_view_name": "HBoxView",
            "box_style": "",
            "children": [
              "IPY_MODEL_bb5d77d1aeb04c1eb288a69a2dfc5792",
              "IPY_MODEL_ffb354eea87849569aa69c8928f54726",
              "IPY_MODEL_f52e5885e7d4425ca41ee7e2b6426c07"
            ],
            "layout": "IPY_MODEL_541029afbd8e4fbe819e6cb557af6c41"
          }
        },
        "bb5d77d1aeb04c1eb288a69a2dfc5792": {
          "model_module": "@jupyter-widgets/controls",
          "model_name": "HTMLModel",
          "model_module_version": "1.5.0",
          "state": {
            "_dom_classes": [],
            "_model_module": "@jupyter-widgets/controls",
            "_model_module_version": "1.5.0",
            "_model_name": "HTMLModel",
            "_view_count": null,
            "_view_module": "@jupyter-widgets/controls",
            "_view_module_version": "1.5.0",
            "_view_name": "HTMLView",
            "description": "",
            "description_tooltip": null,
            "layout": "IPY_MODEL_27f0ce1e3be64e049179d63bd05e2996",
            "placeholder": "​",
            "style": "IPY_MODEL_b8cb77eff6424358b8be7dadaa87b203",
            "value": "Downloading https://huggingface.co/stanfordnlp/stanza-en/resolve/v1.4.1/models/tokenize/combined.pt: 100%"
          }
        },
        "ffb354eea87849569aa69c8928f54726": {
          "model_module": "@jupyter-widgets/controls",
          "model_name": "FloatProgressModel",
          "model_module_version": "1.5.0",
          "state": {
            "_dom_classes": [],
            "_model_module": "@jupyter-widgets/controls",
            "_model_module_version": "1.5.0",
            "_model_name": "FloatProgressModel",
            "_view_count": null,
            "_view_module": "@jupyter-widgets/controls",
            "_view_module_version": "1.5.0",
            "_view_name": "ProgressView",
            "bar_style": "success",
            "description": "",
            "description_tooltip": null,
            "layout": "IPY_MODEL_0b96029253b24a8a83d00b501e0eae64",
            "max": 647021,
            "min": 0,
            "orientation": "horizontal",
            "style": "IPY_MODEL_7a900c3411b24ca3865f8eb50f366d9e",
            "value": 647021
          }
        },
        "f52e5885e7d4425ca41ee7e2b6426c07": {
          "model_module": "@jupyter-widgets/controls",
          "model_name": "HTMLModel",
          "model_module_version": "1.5.0",
          "state": {
            "_dom_classes": [],
            "_model_module": "@jupyter-widgets/controls",
            "_model_module_version": "1.5.0",
            "_model_name": "HTMLModel",
            "_view_count": null,
            "_view_module": "@jupyter-widgets/controls",
            "_view_module_version": "1.5.0",
            "_view_name": "HTMLView",
            "description": "",
            "description_tooltip": null,
            "layout": "IPY_MODEL_01cff41132d0431282c8a68e8bd8eaf6",
            "placeholder": "​",
            "style": "IPY_MODEL_29e71557171e427ab2f263494c473a6d",
            "value": " 647k/647k [00:00&lt;00:00, 646kB/s]"
          }
        },
        "541029afbd8e4fbe819e6cb557af6c41": {
          "model_module": "@jupyter-widgets/base",
          "model_name": "LayoutModel",
          "model_module_version": "1.2.0",
          "state": {
            "_model_module": "@jupyter-widgets/base",
            "_model_module_version": "1.2.0",
            "_model_name": "LayoutModel",
            "_view_count": null,
            "_view_module": "@jupyter-widgets/base",
            "_view_module_version": "1.2.0",
            "_view_name": "LayoutView",
            "align_content": null,
            "align_items": null,
            "align_self": null,
            "border": null,
            "bottom": null,
            "display": null,
            "flex": null,
            "flex_flow": null,
            "grid_area": null,
            "grid_auto_columns": null,
            "grid_auto_flow": null,
            "grid_auto_rows": null,
            "grid_column": null,
            "grid_gap": null,
            "grid_row": null,
            "grid_template_areas": null,
            "grid_template_columns": null,
            "grid_template_rows": null,
            "height": null,
            "justify_content": null,
            "justify_items": null,
            "left": null,
            "margin": null,
            "max_height": null,
            "max_width": null,
            "min_height": null,
            "min_width": null,
            "object_fit": null,
            "object_position": null,
            "order": null,
            "overflow": null,
            "overflow_x": null,
            "overflow_y": null,
            "padding": null,
            "right": null,
            "top": null,
            "visibility": null,
            "width": null
          }
        },
        "27f0ce1e3be64e049179d63bd05e2996": {
          "model_module": "@jupyter-widgets/base",
          "model_name": "LayoutModel",
          "model_module_version": "1.2.0",
          "state": {
            "_model_module": "@jupyter-widgets/base",
            "_model_module_version": "1.2.0",
            "_model_name": "LayoutModel",
            "_view_count": null,
            "_view_module": "@jupyter-widgets/base",
            "_view_module_version": "1.2.0",
            "_view_name": "LayoutView",
            "align_content": null,
            "align_items": null,
            "align_self": null,
            "border": null,
            "bottom": null,
            "display": null,
            "flex": null,
            "flex_flow": null,
            "grid_area": null,
            "grid_auto_columns": null,
            "grid_auto_flow": null,
            "grid_auto_rows": null,
            "grid_column": null,
            "grid_gap": null,
            "grid_row": null,
            "grid_template_areas": null,
            "grid_template_columns": null,
            "grid_template_rows": null,
            "height": null,
            "justify_content": null,
            "justify_items": null,
            "left": null,
            "margin": null,
            "max_height": null,
            "max_width": null,
            "min_height": null,
            "min_width": null,
            "object_fit": null,
            "object_position": null,
            "order": null,
            "overflow": null,
            "overflow_x": null,
            "overflow_y": null,
            "padding": null,
            "right": null,
            "top": null,
            "visibility": null,
            "width": null
          }
        },
        "b8cb77eff6424358b8be7dadaa87b203": {
          "model_module": "@jupyter-widgets/controls",
          "model_name": "DescriptionStyleModel",
          "model_module_version": "1.5.0",
          "state": {
            "_model_module": "@jupyter-widgets/controls",
            "_model_module_version": "1.5.0",
            "_model_name": "DescriptionStyleModel",
            "_view_count": null,
            "_view_module": "@jupyter-widgets/base",
            "_view_module_version": "1.2.0",
            "_view_name": "StyleView",
            "description_width": ""
          }
        },
        "0b96029253b24a8a83d00b501e0eae64": {
          "model_module": "@jupyter-widgets/base",
          "model_name": "LayoutModel",
          "model_module_version": "1.2.0",
          "state": {
            "_model_module": "@jupyter-widgets/base",
            "_model_module_version": "1.2.0",
            "_model_name": "LayoutModel",
            "_view_count": null,
            "_view_module": "@jupyter-widgets/base",
            "_view_module_version": "1.2.0",
            "_view_name": "LayoutView",
            "align_content": null,
            "align_items": null,
            "align_self": null,
            "border": null,
            "bottom": null,
            "display": null,
            "flex": null,
            "flex_flow": null,
            "grid_area": null,
            "grid_auto_columns": null,
            "grid_auto_flow": null,
            "grid_auto_rows": null,
            "grid_column": null,
            "grid_gap": null,
            "grid_row": null,
            "grid_template_areas": null,
            "grid_template_columns": null,
            "grid_template_rows": null,
            "height": null,
            "justify_content": null,
            "justify_items": null,
            "left": null,
            "margin": null,
            "max_height": null,
            "max_width": null,
            "min_height": null,
            "min_width": null,
            "object_fit": null,
            "object_position": null,
            "order": null,
            "overflow": null,
            "overflow_x": null,
            "overflow_y": null,
            "padding": null,
            "right": null,
            "top": null,
            "visibility": null,
            "width": null
          }
        },
        "7a900c3411b24ca3865f8eb50f366d9e": {
          "model_module": "@jupyter-widgets/controls",
          "model_name": "ProgressStyleModel",
          "model_module_version": "1.5.0",
          "state": {
            "_model_module": "@jupyter-widgets/controls",
            "_model_module_version": "1.5.0",
            "_model_name": "ProgressStyleModel",
            "_view_count": null,
            "_view_module": "@jupyter-widgets/base",
            "_view_module_version": "1.2.0",
            "_view_name": "StyleView",
            "bar_color": null,
            "description_width": ""
          }
        },
        "01cff41132d0431282c8a68e8bd8eaf6": {
          "model_module": "@jupyter-widgets/base",
          "model_name": "LayoutModel",
          "model_module_version": "1.2.0",
          "state": {
            "_model_module": "@jupyter-widgets/base",
            "_model_module_version": "1.2.0",
            "_model_name": "LayoutModel",
            "_view_count": null,
            "_view_module": "@jupyter-widgets/base",
            "_view_module_version": "1.2.0",
            "_view_name": "LayoutView",
            "align_content": null,
            "align_items": null,
            "align_self": null,
            "border": null,
            "bottom": null,
            "display": null,
            "flex": null,
            "flex_flow": null,
            "grid_area": null,
            "grid_auto_columns": null,
            "grid_auto_flow": null,
            "grid_auto_rows": null,
            "grid_column": null,
            "grid_gap": null,
            "grid_row": null,
            "grid_template_areas": null,
            "grid_template_columns": null,
            "grid_template_rows": null,
            "height": null,
            "justify_content": null,
            "justify_items": null,
            "left": null,
            "margin": null,
            "max_height": null,
            "max_width": null,
            "min_height": null,
            "min_width": null,
            "object_fit": null,
            "object_position": null,
            "order": null,
            "overflow": null,
            "overflow_x": null,
            "overflow_y": null,
            "padding": null,
            "right": null,
            "top": null,
            "visibility": null,
            "width": null
          }
        },
        "29e71557171e427ab2f263494c473a6d": {
          "model_module": "@jupyter-widgets/controls",
          "model_name": "DescriptionStyleModel",
          "model_module_version": "1.5.0",
          "state": {
            "_model_module": "@jupyter-widgets/controls",
            "_model_module_version": "1.5.0",
            "_model_name": "DescriptionStyleModel",
            "_view_count": null,
            "_view_module": "@jupyter-widgets/base",
            "_view_module_version": "1.2.0",
            "_view_name": "StyleView",
            "description_width": ""
          }
        },
        "ee168f04f69a417f862b8463e483584e": {
          "model_module": "@jupyter-widgets/controls",
          "model_name": "HBoxModel",
          "model_module_version": "1.5.0",
          "state": {
            "_dom_classes": [],
            "_model_module": "@jupyter-widgets/controls",
            "_model_module_version": "1.5.0",
            "_model_name": "HBoxModel",
            "_view_count": null,
            "_view_module": "@jupyter-widgets/controls",
            "_view_module_version": "1.5.0",
            "_view_name": "HBoxView",
            "box_style": "",
            "children": [
              "IPY_MODEL_3f744c14b56742cc9a1854af066506aa",
              "IPY_MODEL_d3675f4807584abbbc5c8d441758f8a4",
              "IPY_MODEL_66e511c8bbaf4be181633c069318f02b"
            ],
            "layout": "IPY_MODEL_c188f523daed4ad0ad2ca59a2d122e14"
          }
        },
        "3f744c14b56742cc9a1854af066506aa": {
          "model_module": "@jupyter-widgets/controls",
          "model_name": "HTMLModel",
          "model_module_version": "1.5.0",
          "state": {
            "_dom_classes": [],
            "_model_module": "@jupyter-widgets/controls",
            "_model_module_version": "1.5.0",
            "_model_name": "HTMLModel",
            "_view_count": null,
            "_view_module": "@jupyter-widgets/controls",
            "_view_module_version": "1.5.0",
            "_view_name": "HTMLView",
            "description": "",
            "description_tooltip": null,
            "layout": "IPY_MODEL_d51dd41fb0a2456a8dd805edf3a9c4f7",
            "placeholder": "​",
            "style": "IPY_MODEL_ee6d5cb74ba94264a7eb6683273bbe3c",
            "value": "Downloading https://huggingface.co/stanfordnlp/stanza-en/resolve/v1.4.1/models/pos/combined.pt: 100%"
          }
        },
        "d3675f4807584abbbc5c8d441758f8a4": {
          "model_module": "@jupyter-widgets/controls",
          "model_name": "FloatProgressModel",
          "model_module_version": "1.5.0",
          "state": {
            "_dom_classes": [],
            "_model_module": "@jupyter-widgets/controls",
            "_model_module_version": "1.5.0",
            "_model_name": "FloatProgressModel",
            "_view_count": null,
            "_view_module": "@jupyter-widgets/controls",
            "_view_module_version": "1.5.0",
            "_view_name": "ProgressView",
            "bar_style": "success",
            "description": "",
            "description_tooltip": null,
            "layout": "IPY_MODEL_b5d297f47d7f4c5aa8d48a657dd5eca3",
            "max": 38501920,
            "min": 0,
            "orientation": "horizontal",
            "style": "IPY_MODEL_1d174683592e4b77b9c8201b789953d4",
            "value": 38501920
          }
        },
        "66e511c8bbaf4be181633c069318f02b": {
          "model_module": "@jupyter-widgets/controls",
          "model_name": "HTMLModel",
          "model_module_version": "1.5.0",
          "state": {
            "_dom_classes": [],
            "_model_module": "@jupyter-widgets/controls",
            "_model_module_version": "1.5.0",
            "_model_name": "HTMLModel",
            "_view_count": null,
            "_view_module": "@jupyter-widgets/controls",
            "_view_module_version": "1.5.0",
            "_view_name": "HTMLView",
            "description": "",
            "description_tooltip": null,
            "layout": "IPY_MODEL_5fdc7ef91bde41bfb6cca0a637cd2aab",
            "placeholder": "​",
            "style": "IPY_MODEL_4864a43e203a459bad8daea181e63181",
            "value": " 38.5M/38.5M [00:00&lt;00:00, 54.0MB/s]"
          }
        },
        "c188f523daed4ad0ad2ca59a2d122e14": {
          "model_module": "@jupyter-widgets/base",
          "model_name": "LayoutModel",
          "model_module_version": "1.2.0",
          "state": {
            "_model_module": "@jupyter-widgets/base",
            "_model_module_version": "1.2.0",
            "_model_name": "LayoutModel",
            "_view_count": null,
            "_view_module": "@jupyter-widgets/base",
            "_view_module_version": "1.2.0",
            "_view_name": "LayoutView",
            "align_content": null,
            "align_items": null,
            "align_self": null,
            "border": null,
            "bottom": null,
            "display": null,
            "flex": null,
            "flex_flow": null,
            "grid_area": null,
            "grid_auto_columns": null,
            "grid_auto_flow": null,
            "grid_auto_rows": null,
            "grid_column": null,
            "grid_gap": null,
            "grid_row": null,
            "grid_template_areas": null,
            "grid_template_columns": null,
            "grid_template_rows": null,
            "height": null,
            "justify_content": null,
            "justify_items": null,
            "left": null,
            "margin": null,
            "max_height": null,
            "max_width": null,
            "min_height": null,
            "min_width": null,
            "object_fit": null,
            "object_position": null,
            "order": null,
            "overflow": null,
            "overflow_x": null,
            "overflow_y": null,
            "padding": null,
            "right": null,
            "top": null,
            "visibility": null,
            "width": null
          }
        },
        "d51dd41fb0a2456a8dd805edf3a9c4f7": {
          "model_module": "@jupyter-widgets/base",
          "model_name": "LayoutModel",
          "model_module_version": "1.2.0",
          "state": {
            "_model_module": "@jupyter-widgets/base",
            "_model_module_version": "1.2.0",
            "_model_name": "LayoutModel",
            "_view_count": null,
            "_view_module": "@jupyter-widgets/base",
            "_view_module_version": "1.2.0",
            "_view_name": "LayoutView",
            "align_content": null,
            "align_items": null,
            "align_self": null,
            "border": null,
            "bottom": null,
            "display": null,
            "flex": null,
            "flex_flow": null,
            "grid_area": null,
            "grid_auto_columns": null,
            "grid_auto_flow": null,
            "grid_auto_rows": null,
            "grid_column": null,
            "grid_gap": null,
            "grid_row": null,
            "grid_template_areas": null,
            "grid_template_columns": null,
            "grid_template_rows": null,
            "height": null,
            "justify_content": null,
            "justify_items": null,
            "left": null,
            "margin": null,
            "max_height": null,
            "max_width": null,
            "min_height": null,
            "min_width": null,
            "object_fit": null,
            "object_position": null,
            "order": null,
            "overflow": null,
            "overflow_x": null,
            "overflow_y": null,
            "padding": null,
            "right": null,
            "top": null,
            "visibility": null,
            "width": null
          }
        },
        "ee6d5cb74ba94264a7eb6683273bbe3c": {
          "model_module": "@jupyter-widgets/controls",
          "model_name": "DescriptionStyleModel",
          "model_module_version": "1.5.0",
          "state": {
            "_model_module": "@jupyter-widgets/controls",
            "_model_module_version": "1.5.0",
            "_model_name": "DescriptionStyleModel",
            "_view_count": null,
            "_view_module": "@jupyter-widgets/base",
            "_view_module_version": "1.2.0",
            "_view_name": "StyleView",
            "description_width": ""
          }
        },
        "b5d297f47d7f4c5aa8d48a657dd5eca3": {
          "model_module": "@jupyter-widgets/base",
          "model_name": "LayoutModel",
          "model_module_version": "1.2.0",
          "state": {
            "_model_module": "@jupyter-widgets/base",
            "_model_module_version": "1.2.0",
            "_model_name": "LayoutModel",
            "_view_count": null,
            "_view_module": "@jupyter-widgets/base",
            "_view_module_version": "1.2.0",
            "_view_name": "LayoutView",
            "align_content": null,
            "align_items": null,
            "align_self": null,
            "border": null,
            "bottom": null,
            "display": null,
            "flex": null,
            "flex_flow": null,
            "grid_area": null,
            "grid_auto_columns": null,
            "grid_auto_flow": null,
            "grid_auto_rows": null,
            "grid_column": null,
            "grid_gap": null,
            "grid_row": null,
            "grid_template_areas": null,
            "grid_template_columns": null,
            "grid_template_rows": null,
            "height": null,
            "justify_content": null,
            "justify_items": null,
            "left": null,
            "margin": null,
            "max_height": null,
            "max_width": null,
            "min_height": null,
            "min_width": null,
            "object_fit": null,
            "object_position": null,
            "order": null,
            "overflow": null,
            "overflow_x": null,
            "overflow_y": null,
            "padding": null,
            "right": null,
            "top": null,
            "visibility": null,
            "width": null
          }
        },
        "1d174683592e4b77b9c8201b789953d4": {
          "model_module": "@jupyter-widgets/controls",
          "model_name": "ProgressStyleModel",
          "model_module_version": "1.5.0",
          "state": {
            "_model_module": "@jupyter-widgets/controls",
            "_model_module_version": "1.5.0",
            "_model_name": "ProgressStyleModel",
            "_view_count": null,
            "_view_module": "@jupyter-widgets/base",
            "_view_module_version": "1.2.0",
            "_view_name": "StyleView",
            "bar_color": null,
            "description_width": ""
          }
        },
        "5fdc7ef91bde41bfb6cca0a637cd2aab": {
          "model_module": "@jupyter-widgets/base",
          "model_name": "LayoutModel",
          "model_module_version": "1.2.0",
          "state": {
            "_model_module": "@jupyter-widgets/base",
            "_model_module_version": "1.2.0",
            "_model_name": "LayoutModel",
            "_view_count": null,
            "_view_module": "@jupyter-widgets/base",
            "_view_module_version": "1.2.0",
            "_view_name": "LayoutView",
            "align_content": null,
            "align_items": null,
            "align_self": null,
            "border": null,
            "bottom": null,
            "display": null,
            "flex": null,
            "flex_flow": null,
            "grid_area": null,
            "grid_auto_columns": null,
            "grid_auto_flow": null,
            "grid_auto_rows": null,
            "grid_column": null,
            "grid_gap": null,
            "grid_row": null,
            "grid_template_areas": null,
            "grid_template_columns": null,
            "grid_template_rows": null,
            "height": null,
            "justify_content": null,
            "justify_items": null,
            "left": null,
            "margin": null,
            "max_height": null,
            "max_width": null,
            "min_height": null,
            "min_width": null,
            "object_fit": null,
            "object_position": null,
            "order": null,
            "overflow": null,
            "overflow_x": null,
            "overflow_y": null,
            "padding": null,
            "right": null,
            "top": null,
            "visibility": null,
            "width": null
          }
        },
        "4864a43e203a459bad8daea181e63181": {
          "model_module": "@jupyter-widgets/controls",
          "model_name": "DescriptionStyleModel",
          "model_module_version": "1.5.0",
          "state": {
            "_model_module": "@jupyter-widgets/controls",
            "_model_module_version": "1.5.0",
            "_model_name": "DescriptionStyleModel",
            "_view_count": null,
            "_view_module": "@jupyter-widgets/base",
            "_view_module_version": "1.2.0",
            "_view_name": "StyleView",
            "description_width": ""
          }
        },
        "c2155eaf2e7a49ce8e9d9fb119e7b69b": {
          "model_module": "@jupyter-widgets/controls",
          "model_name": "HBoxModel",
          "model_module_version": "1.5.0",
          "state": {
            "_dom_classes": [],
            "_model_module": "@jupyter-widgets/controls",
            "_model_module_version": "1.5.0",
            "_model_name": "HBoxModel",
            "_view_count": null,
            "_view_module": "@jupyter-widgets/controls",
            "_view_module_version": "1.5.0",
            "_view_name": "HBoxView",
            "box_style": "",
            "children": [
              "IPY_MODEL_88b0eefda8bd43a4bc305a24f940dd01",
              "IPY_MODEL_041d7d610b1846ecbe053c8c4ab96482",
              "IPY_MODEL_41a2d59e41a7413b9ce117dc431031ee"
            ],
            "layout": "IPY_MODEL_aeafa9865321422f8bc94a0d10dbf038"
          }
        },
        "88b0eefda8bd43a4bc305a24f940dd01": {
          "model_module": "@jupyter-widgets/controls",
          "model_name": "HTMLModel",
          "model_module_version": "1.5.0",
          "state": {
            "_dom_classes": [],
            "_model_module": "@jupyter-widgets/controls",
            "_model_module_version": "1.5.0",
            "_model_name": "HTMLModel",
            "_view_count": null,
            "_view_module": "@jupyter-widgets/controls",
            "_view_module_version": "1.5.0",
            "_view_name": "HTMLView",
            "description": "",
            "description_tooltip": null,
            "layout": "IPY_MODEL_52cf29e993ac4a8db872e5bb4f090a95",
            "placeholder": "​",
            "style": "IPY_MODEL_312387fd42c146008bb684f9ac7e397e",
            "value": "Downloading https://huggingface.co/stanfordnlp/stanza-en/resolve/v1.4.1/models/backward_charlm/1billion.pt: 100%"
          }
        },
        "041d7d610b1846ecbe053c8c4ab96482": {
          "model_module": "@jupyter-widgets/controls",
          "model_name": "FloatProgressModel",
          "model_module_version": "1.5.0",
          "state": {
            "_dom_classes": [],
            "_model_module": "@jupyter-widgets/controls",
            "_model_module_version": "1.5.0",
            "_model_name": "FloatProgressModel",
            "_view_count": null,
            "_view_module": "@jupyter-widgets/controls",
            "_view_module_version": "1.5.0",
            "_view_name": "ProgressView",
            "bar_style": "success",
            "description": "",
            "description_tooltip": null,
            "layout": "IPY_MODEL_70e60e64f19c46a9a6127b11b08fe534",
            "max": 22743430,
            "min": 0,
            "orientation": "horizontal",
            "style": "IPY_MODEL_b9d6d62d0f6a4961b2f5f8df4fd8550b",
            "value": 22743430
          }
        },
        "41a2d59e41a7413b9ce117dc431031ee": {
          "model_module": "@jupyter-widgets/controls",
          "model_name": "HTMLModel",
          "model_module_version": "1.5.0",
          "state": {
            "_dom_classes": [],
            "_model_module": "@jupyter-widgets/controls",
            "_model_module_version": "1.5.0",
            "_model_name": "HTMLModel",
            "_view_count": null,
            "_view_module": "@jupyter-widgets/controls",
            "_view_module_version": "1.5.0",
            "_view_name": "HTMLView",
            "description": "",
            "description_tooltip": null,
            "layout": "IPY_MODEL_2aa802d6d16747e798ea1aab48d6a4c5",
            "placeholder": "​",
            "style": "IPY_MODEL_9eff38b1b3b04c218fe037725f0fd0ca",
            "value": " 22.7M/22.7M [00:00&lt;00:00, 111MB/s]"
          }
        },
        "aeafa9865321422f8bc94a0d10dbf038": {
          "model_module": "@jupyter-widgets/base",
          "model_name": "LayoutModel",
          "model_module_version": "1.2.0",
          "state": {
            "_model_module": "@jupyter-widgets/base",
            "_model_module_version": "1.2.0",
            "_model_name": "LayoutModel",
            "_view_count": null,
            "_view_module": "@jupyter-widgets/base",
            "_view_module_version": "1.2.0",
            "_view_name": "LayoutView",
            "align_content": null,
            "align_items": null,
            "align_self": null,
            "border": null,
            "bottom": null,
            "display": null,
            "flex": null,
            "flex_flow": null,
            "grid_area": null,
            "grid_auto_columns": null,
            "grid_auto_flow": null,
            "grid_auto_rows": null,
            "grid_column": null,
            "grid_gap": null,
            "grid_row": null,
            "grid_template_areas": null,
            "grid_template_columns": null,
            "grid_template_rows": null,
            "height": null,
            "justify_content": null,
            "justify_items": null,
            "left": null,
            "margin": null,
            "max_height": null,
            "max_width": null,
            "min_height": null,
            "min_width": null,
            "object_fit": null,
            "object_position": null,
            "order": null,
            "overflow": null,
            "overflow_x": null,
            "overflow_y": null,
            "padding": null,
            "right": null,
            "top": null,
            "visibility": null,
            "width": null
          }
        },
        "52cf29e993ac4a8db872e5bb4f090a95": {
          "model_module": "@jupyter-widgets/base",
          "model_name": "LayoutModel",
          "model_module_version": "1.2.0",
          "state": {
            "_model_module": "@jupyter-widgets/base",
            "_model_module_version": "1.2.0",
            "_model_name": "LayoutModel",
            "_view_count": null,
            "_view_module": "@jupyter-widgets/base",
            "_view_module_version": "1.2.0",
            "_view_name": "LayoutView",
            "align_content": null,
            "align_items": null,
            "align_self": null,
            "border": null,
            "bottom": null,
            "display": null,
            "flex": null,
            "flex_flow": null,
            "grid_area": null,
            "grid_auto_columns": null,
            "grid_auto_flow": null,
            "grid_auto_rows": null,
            "grid_column": null,
            "grid_gap": null,
            "grid_row": null,
            "grid_template_areas": null,
            "grid_template_columns": null,
            "grid_template_rows": null,
            "height": null,
            "justify_content": null,
            "justify_items": null,
            "left": null,
            "margin": null,
            "max_height": null,
            "max_width": null,
            "min_height": null,
            "min_width": null,
            "object_fit": null,
            "object_position": null,
            "order": null,
            "overflow": null,
            "overflow_x": null,
            "overflow_y": null,
            "padding": null,
            "right": null,
            "top": null,
            "visibility": null,
            "width": null
          }
        },
        "312387fd42c146008bb684f9ac7e397e": {
          "model_module": "@jupyter-widgets/controls",
          "model_name": "DescriptionStyleModel",
          "model_module_version": "1.5.0",
          "state": {
            "_model_module": "@jupyter-widgets/controls",
            "_model_module_version": "1.5.0",
            "_model_name": "DescriptionStyleModel",
            "_view_count": null,
            "_view_module": "@jupyter-widgets/base",
            "_view_module_version": "1.2.0",
            "_view_name": "StyleView",
            "description_width": ""
          }
        },
        "70e60e64f19c46a9a6127b11b08fe534": {
          "model_module": "@jupyter-widgets/base",
          "model_name": "LayoutModel",
          "model_module_version": "1.2.0",
          "state": {
            "_model_module": "@jupyter-widgets/base",
            "_model_module_version": "1.2.0",
            "_model_name": "LayoutModel",
            "_view_count": null,
            "_view_module": "@jupyter-widgets/base",
            "_view_module_version": "1.2.0",
            "_view_name": "LayoutView",
            "align_content": null,
            "align_items": null,
            "align_self": null,
            "border": null,
            "bottom": null,
            "display": null,
            "flex": null,
            "flex_flow": null,
            "grid_area": null,
            "grid_auto_columns": null,
            "grid_auto_flow": null,
            "grid_auto_rows": null,
            "grid_column": null,
            "grid_gap": null,
            "grid_row": null,
            "grid_template_areas": null,
            "grid_template_columns": null,
            "grid_template_rows": null,
            "height": null,
            "justify_content": null,
            "justify_items": null,
            "left": null,
            "margin": null,
            "max_height": null,
            "max_width": null,
            "min_height": null,
            "min_width": null,
            "object_fit": null,
            "object_position": null,
            "order": null,
            "overflow": null,
            "overflow_x": null,
            "overflow_y": null,
            "padding": null,
            "right": null,
            "top": null,
            "visibility": null,
            "width": null
          }
        },
        "b9d6d62d0f6a4961b2f5f8df4fd8550b": {
          "model_module": "@jupyter-widgets/controls",
          "model_name": "ProgressStyleModel",
          "model_module_version": "1.5.0",
          "state": {
            "_model_module": "@jupyter-widgets/controls",
            "_model_module_version": "1.5.0",
            "_model_name": "ProgressStyleModel",
            "_view_count": null,
            "_view_module": "@jupyter-widgets/base",
            "_view_module_version": "1.2.0",
            "_view_name": "StyleView",
            "bar_color": null,
            "description_width": ""
          }
        },
        "2aa802d6d16747e798ea1aab48d6a4c5": {
          "model_module": "@jupyter-widgets/base",
          "model_name": "LayoutModel",
          "model_module_version": "1.2.0",
          "state": {
            "_model_module": "@jupyter-widgets/base",
            "_model_module_version": "1.2.0",
            "_model_name": "LayoutModel",
            "_view_count": null,
            "_view_module": "@jupyter-widgets/base",
            "_view_module_version": "1.2.0",
            "_view_name": "LayoutView",
            "align_content": null,
            "align_items": null,
            "align_self": null,
            "border": null,
            "bottom": null,
            "display": null,
            "flex": null,
            "flex_flow": null,
            "grid_area": null,
            "grid_auto_columns": null,
            "grid_auto_flow": null,
            "grid_auto_rows": null,
            "grid_column": null,
            "grid_gap": null,
            "grid_row": null,
            "grid_template_areas": null,
            "grid_template_columns": null,
            "grid_template_rows": null,
            "height": null,
            "justify_content": null,
            "justify_items": null,
            "left": null,
            "margin": null,
            "max_height": null,
            "max_width": null,
            "min_height": null,
            "min_width": null,
            "object_fit": null,
            "object_position": null,
            "order": null,
            "overflow": null,
            "overflow_x": null,
            "overflow_y": null,
            "padding": null,
            "right": null,
            "top": null,
            "visibility": null,
            "width": null
          }
        },
        "9eff38b1b3b04c218fe037725f0fd0ca": {
          "model_module": "@jupyter-widgets/controls",
          "model_name": "DescriptionStyleModel",
          "model_module_version": "1.5.0",
          "state": {
            "_model_module": "@jupyter-widgets/controls",
            "_model_module_version": "1.5.0",
            "_model_name": "DescriptionStyleModel",
            "_view_count": null,
            "_view_module": "@jupyter-widgets/base",
            "_view_module_version": "1.2.0",
            "_view_name": "StyleView",
            "description_width": ""
          }
        },
        "7b7a2aefd90b4ba1ae7b509c88c20f09": {
          "model_module": "@jupyter-widgets/controls",
          "model_name": "HBoxModel",
          "model_module_version": "1.5.0",
          "state": {
            "_dom_classes": [],
            "_model_module": "@jupyter-widgets/controls",
            "_model_module_version": "1.5.0",
            "_model_name": "HBoxModel",
            "_view_count": null,
            "_view_module": "@jupyter-widgets/controls",
            "_view_module_version": "1.5.0",
            "_view_name": "HBoxView",
            "box_style": "",
            "children": [
              "IPY_MODEL_d62498234e9047d79ae89f45f174cffe",
              "IPY_MODEL_a1bf8e82a67d4da5af4e3b3c49e7d6a3",
              "IPY_MODEL_be4367d7e0f6422c945ed668cabd9fae"
            ],
            "layout": "IPY_MODEL_178133d38aa8474bba2e0d8cb564d66c"
          }
        },
        "d62498234e9047d79ae89f45f174cffe": {
          "model_module": "@jupyter-widgets/controls",
          "model_name": "HTMLModel",
          "model_module_version": "1.5.0",
          "state": {
            "_dom_classes": [],
            "_model_module": "@jupyter-widgets/controls",
            "_model_module_version": "1.5.0",
            "_model_name": "HTMLModel",
            "_view_count": null,
            "_view_module": "@jupyter-widgets/controls",
            "_view_module_version": "1.5.0",
            "_view_name": "HTMLView",
            "description": "",
            "description_tooltip": null,
            "layout": "IPY_MODEL_25bdda97072e4cb29376746fab981e84",
            "placeholder": "​",
            "style": "IPY_MODEL_8bc83087aff84281ab08b80bbd10be4d",
            "value": "Downloading https://huggingface.co/stanfordnlp/stanza-en/resolve/v1.4.1/models/pretrain/combined.pt: 100%"
          }
        },
        "a1bf8e82a67d4da5af4e3b3c49e7d6a3": {
          "model_module": "@jupyter-widgets/controls",
          "model_name": "FloatProgressModel",
          "model_module_version": "1.5.0",
          "state": {
            "_dom_classes": [],
            "_model_module": "@jupyter-widgets/controls",
            "_model_module_version": "1.5.0",
            "_model_name": "FloatProgressModel",
            "_view_count": null,
            "_view_module": "@jupyter-widgets/controls",
            "_view_module_version": "1.5.0",
            "_view_name": "ProgressView",
            "bar_style": "success",
            "description": "",
            "description_tooltip": null,
            "layout": "IPY_MODEL_507efdd53fb34a69a537cbfbf65cd137",
            "max": 106701198,
            "min": 0,
            "orientation": "horizontal",
            "style": "IPY_MODEL_2a9db0035eed49aeb7d68bd848b9429c",
            "value": 106701198
          }
        },
        "be4367d7e0f6422c945ed668cabd9fae": {
          "model_module": "@jupyter-widgets/controls",
          "model_name": "HTMLModel",
          "model_module_version": "1.5.0",
          "state": {
            "_dom_classes": [],
            "_model_module": "@jupyter-widgets/controls",
            "_model_module_version": "1.5.0",
            "_model_name": "HTMLModel",
            "_view_count": null,
            "_view_module": "@jupyter-widgets/controls",
            "_view_module_version": "1.5.0",
            "_view_name": "HTMLView",
            "description": "",
            "description_tooltip": null,
            "layout": "IPY_MODEL_27cee0137d0b492b92304b55766b1200",
            "placeholder": "​",
            "style": "IPY_MODEL_29339ba766e74dd483fbaba6b2c6add4",
            "value": " 107M/107M [00:00&lt;00:00, 143MB/s]"
          }
        },
        "178133d38aa8474bba2e0d8cb564d66c": {
          "model_module": "@jupyter-widgets/base",
          "model_name": "LayoutModel",
          "model_module_version": "1.2.0",
          "state": {
            "_model_module": "@jupyter-widgets/base",
            "_model_module_version": "1.2.0",
            "_model_name": "LayoutModel",
            "_view_count": null,
            "_view_module": "@jupyter-widgets/base",
            "_view_module_version": "1.2.0",
            "_view_name": "LayoutView",
            "align_content": null,
            "align_items": null,
            "align_self": null,
            "border": null,
            "bottom": null,
            "display": null,
            "flex": null,
            "flex_flow": null,
            "grid_area": null,
            "grid_auto_columns": null,
            "grid_auto_flow": null,
            "grid_auto_rows": null,
            "grid_column": null,
            "grid_gap": null,
            "grid_row": null,
            "grid_template_areas": null,
            "grid_template_columns": null,
            "grid_template_rows": null,
            "height": null,
            "justify_content": null,
            "justify_items": null,
            "left": null,
            "margin": null,
            "max_height": null,
            "max_width": null,
            "min_height": null,
            "min_width": null,
            "object_fit": null,
            "object_position": null,
            "order": null,
            "overflow": null,
            "overflow_x": null,
            "overflow_y": null,
            "padding": null,
            "right": null,
            "top": null,
            "visibility": null,
            "width": null
          }
        },
        "25bdda97072e4cb29376746fab981e84": {
          "model_module": "@jupyter-widgets/base",
          "model_name": "LayoutModel",
          "model_module_version": "1.2.0",
          "state": {
            "_model_module": "@jupyter-widgets/base",
            "_model_module_version": "1.2.0",
            "_model_name": "LayoutModel",
            "_view_count": null,
            "_view_module": "@jupyter-widgets/base",
            "_view_module_version": "1.2.0",
            "_view_name": "LayoutView",
            "align_content": null,
            "align_items": null,
            "align_self": null,
            "border": null,
            "bottom": null,
            "display": null,
            "flex": null,
            "flex_flow": null,
            "grid_area": null,
            "grid_auto_columns": null,
            "grid_auto_flow": null,
            "grid_auto_rows": null,
            "grid_column": null,
            "grid_gap": null,
            "grid_row": null,
            "grid_template_areas": null,
            "grid_template_columns": null,
            "grid_template_rows": null,
            "height": null,
            "justify_content": null,
            "justify_items": null,
            "left": null,
            "margin": null,
            "max_height": null,
            "max_width": null,
            "min_height": null,
            "min_width": null,
            "object_fit": null,
            "object_position": null,
            "order": null,
            "overflow": null,
            "overflow_x": null,
            "overflow_y": null,
            "padding": null,
            "right": null,
            "top": null,
            "visibility": null,
            "width": null
          }
        },
        "8bc83087aff84281ab08b80bbd10be4d": {
          "model_module": "@jupyter-widgets/controls",
          "model_name": "DescriptionStyleModel",
          "model_module_version": "1.5.0",
          "state": {
            "_model_module": "@jupyter-widgets/controls",
            "_model_module_version": "1.5.0",
            "_model_name": "DescriptionStyleModel",
            "_view_count": null,
            "_view_module": "@jupyter-widgets/base",
            "_view_module_version": "1.2.0",
            "_view_name": "StyleView",
            "description_width": ""
          }
        },
        "507efdd53fb34a69a537cbfbf65cd137": {
          "model_module": "@jupyter-widgets/base",
          "model_name": "LayoutModel",
          "model_module_version": "1.2.0",
          "state": {
            "_model_module": "@jupyter-widgets/base",
            "_model_module_version": "1.2.0",
            "_model_name": "LayoutModel",
            "_view_count": null,
            "_view_module": "@jupyter-widgets/base",
            "_view_module_version": "1.2.0",
            "_view_name": "LayoutView",
            "align_content": null,
            "align_items": null,
            "align_self": null,
            "border": null,
            "bottom": null,
            "display": null,
            "flex": null,
            "flex_flow": null,
            "grid_area": null,
            "grid_auto_columns": null,
            "grid_auto_flow": null,
            "grid_auto_rows": null,
            "grid_column": null,
            "grid_gap": null,
            "grid_row": null,
            "grid_template_areas": null,
            "grid_template_columns": null,
            "grid_template_rows": null,
            "height": null,
            "justify_content": null,
            "justify_items": null,
            "left": null,
            "margin": null,
            "max_height": null,
            "max_width": null,
            "min_height": null,
            "min_width": null,
            "object_fit": null,
            "object_position": null,
            "order": null,
            "overflow": null,
            "overflow_x": null,
            "overflow_y": null,
            "padding": null,
            "right": null,
            "top": null,
            "visibility": null,
            "width": null
          }
        },
        "2a9db0035eed49aeb7d68bd848b9429c": {
          "model_module": "@jupyter-widgets/controls",
          "model_name": "ProgressStyleModel",
          "model_module_version": "1.5.0",
          "state": {
            "_model_module": "@jupyter-widgets/controls",
            "_model_module_version": "1.5.0",
            "_model_name": "ProgressStyleModel",
            "_view_count": null,
            "_view_module": "@jupyter-widgets/base",
            "_view_module_version": "1.2.0",
            "_view_name": "StyleView",
            "bar_color": null,
            "description_width": ""
          }
        },
        "27cee0137d0b492b92304b55766b1200": {
          "model_module": "@jupyter-widgets/base",
          "model_name": "LayoutModel",
          "model_module_version": "1.2.0",
          "state": {
            "_model_module": "@jupyter-widgets/base",
            "_model_module_version": "1.2.0",
            "_model_name": "LayoutModel",
            "_view_count": null,
            "_view_module": "@jupyter-widgets/base",
            "_view_module_version": "1.2.0",
            "_view_name": "LayoutView",
            "align_content": null,
            "align_items": null,
            "align_self": null,
            "border": null,
            "bottom": null,
            "display": null,
            "flex": null,
            "flex_flow": null,
            "grid_area": null,
            "grid_auto_columns": null,
            "grid_auto_flow": null,
            "grid_auto_rows": null,
            "grid_column": null,
            "grid_gap": null,
            "grid_row": null,
            "grid_template_areas": null,
            "grid_template_columns": null,
            "grid_template_rows": null,
            "height": null,
            "justify_content": null,
            "justify_items": null,
            "left": null,
            "margin": null,
            "max_height": null,
            "max_width": null,
            "min_height": null,
            "min_width": null,
            "object_fit": null,
            "object_position": null,
            "order": null,
            "overflow": null,
            "overflow_x": null,
            "overflow_y": null,
            "padding": null,
            "right": null,
            "top": null,
            "visibility": null,
            "width": null
          }
        },
        "29339ba766e74dd483fbaba6b2c6add4": {
          "model_module": "@jupyter-widgets/controls",
          "model_name": "DescriptionStyleModel",
          "model_module_version": "1.5.0",
          "state": {
            "_model_module": "@jupyter-widgets/controls",
            "_model_module_version": "1.5.0",
            "_model_name": "DescriptionStyleModel",
            "_view_count": null,
            "_view_module": "@jupyter-widgets/base",
            "_view_module_version": "1.2.0",
            "_view_name": "StyleView",
            "description_width": ""
          }
        },
        "5ed9577e0deb4d2ca2c60f590fca5fba": {
          "model_module": "@jupyter-widgets/controls",
          "model_name": "HBoxModel",
          "model_module_version": "1.5.0",
          "state": {
            "_dom_classes": [],
            "_model_module": "@jupyter-widgets/controls",
            "_model_module_version": "1.5.0",
            "_model_name": "HBoxModel",
            "_view_count": null,
            "_view_module": "@jupyter-widgets/controls",
            "_view_module_version": "1.5.0",
            "_view_name": "HBoxView",
            "box_style": "",
            "children": [
              "IPY_MODEL_c8bd2ca4a7f24e0f9e2b768d681619b6",
              "IPY_MODEL_82e6e8bacb1a468d8a0ed2003a5536e5",
              "IPY_MODEL_08e9f62a74ed45628799f250ca34983d"
            ],
            "layout": "IPY_MODEL_62e377f54abb4b1890f924b9ec06eb24"
          }
        },
        "c8bd2ca4a7f24e0f9e2b768d681619b6": {
          "model_module": "@jupyter-widgets/controls",
          "model_name": "HTMLModel",
          "model_module_version": "1.5.0",
          "state": {
            "_dom_classes": [],
            "_model_module": "@jupyter-widgets/controls",
            "_model_module_version": "1.5.0",
            "_model_name": "HTMLModel",
            "_view_count": null,
            "_view_module": "@jupyter-widgets/controls",
            "_view_module_version": "1.5.0",
            "_view_name": "HTMLView",
            "description": "",
            "description_tooltip": null,
            "layout": "IPY_MODEL_2fed03b72dd44dbfa36cbef2c1e57056",
            "placeholder": "​",
            "style": "IPY_MODEL_3e4b247bd0f64576bac3b2a3ea406c3e",
            "value": "Downloading https://huggingface.co/stanfordnlp/stanza-en/resolve/v1.4.1/models/forward_charlm/1billion.pt: 100%"
          }
        },
        "82e6e8bacb1a468d8a0ed2003a5536e5": {
          "model_module": "@jupyter-widgets/controls",
          "model_name": "FloatProgressModel",
          "model_module_version": "1.5.0",
          "state": {
            "_dom_classes": [],
            "_model_module": "@jupyter-widgets/controls",
            "_model_module_version": "1.5.0",
            "_model_name": "FloatProgressModel",
            "_view_count": null,
            "_view_module": "@jupyter-widgets/controls",
            "_view_module_version": "1.5.0",
            "_view_name": "ProgressView",
            "bar_style": "success",
            "description": "",
            "description_tooltip": null,
            "layout": "IPY_MODEL_9b255eb4c15948f8b699fa2ea6791aa2",
            "max": 22743428,
            "min": 0,
            "orientation": "horizontal",
            "style": "IPY_MODEL_17dc0e4759a54032a5315a6b42cdba1d",
            "value": 22743428
          }
        },
        "08e9f62a74ed45628799f250ca34983d": {
          "model_module": "@jupyter-widgets/controls",
          "model_name": "HTMLModel",
          "model_module_version": "1.5.0",
          "state": {
            "_dom_classes": [],
            "_model_module": "@jupyter-widgets/controls",
            "_model_module_version": "1.5.0",
            "_model_name": "HTMLModel",
            "_view_count": null,
            "_view_module": "@jupyter-widgets/controls",
            "_view_module_version": "1.5.0",
            "_view_name": "HTMLView",
            "description": "",
            "description_tooltip": null,
            "layout": "IPY_MODEL_11d9f11900224f75baf67d879d78fbf1",
            "placeholder": "​",
            "style": "IPY_MODEL_8c79c4e58e174d8faf81267550ec21a7",
            "value": " 22.7M/22.7M [00:00&lt;00:00, 59.2MB/s]"
          }
        },
        "62e377f54abb4b1890f924b9ec06eb24": {
          "model_module": "@jupyter-widgets/base",
          "model_name": "LayoutModel",
          "model_module_version": "1.2.0",
          "state": {
            "_model_module": "@jupyter-widgets/base",
            "_model_module_version": "1.2.0",
            "_model_name": "LayoutModel",
            "_view_count": null,
            "_view_module": "@jupyter-widgets/base",
            "_view_module_version": "1.2.0",
            "_view_name": "LayoutView",
            "align_content": null,
            "align_items": null,
            "align_self": null,
            "border": null,
            "bottom": null,
            "display": null,
            "flex": null,
            "flex_flow": null,
            "grid_area": null,
            "grid_auto_columns": null,
            "grid_auto_flow": null,
            "grid_auto_rows": null,
            "grid_column": null,
            "grid_gap": null,
            "grid_row": null,
            "grid_template_areas": null,
            "grid_template_columns": null,
            "grid_template_rows": null,
            "height": null,
            "justify_content": null,
            "justify_items": null,
            "left": null,
            "margin": null,
            "max_height": null,
            "max_width": null,
            "min_height": null,
            "min_width": null,
            "object_fit": null,
            "object_position": null,
            "order": null,
            "overflow": null,
            "overflow_x": null,
            "overflow_y": null,
            "padding": null,
            "right": null,
            "top": null,
            "visibility": null,
            "width": null
          }
        },
        "2fed03b72dd44dbfa36cbef2c1e57056": {
          "model_module": "@jupyter-widgets/base",
          "model_name": "LayoutModel",
          "model_module_version": "1.2.0",
          "state": {
            "_model_module": "@jupyter-widgets/base",
            "_model_module_version": "1.2.0",
            "_model_name": "LayoutModel",
            "_view_count": null,
            "_view_module": "@jupyter-widgets/base",
            "_view_module_version": "1.2.0",
            "_view_name": "LayoutView",
            "align_content": null,
            "align_items": null,
            "align_self": null,
            "border": null,
            "bottom": null,
            "display": null,
            "flex": null,
            "flex_flow": null,
            "grid_area": null,
            "grid_auto_columns": null,
            "grid_auto_flow": null,
            "grid_auto_rows": null,
            "grid_column": null,
            "grid_gap": null,
            "grid_row": null,
            "grid_template_areas": null,
            "grid_template_columns": null,
            "grid_template_rows": null,
            "height": null,
            "justify_content": null,
            "justify_items": null,
            "left": null,
            "margin": null,
            "max_height": null,
            "max_width": null,
            "min_height": null,
            "min_width": null,
            "object_fit": null,
            "object_position": null,
            "order": null,
            "overflow": null,
            "overflow_x": null,
            "overflow_y": null,
            "padding": null,
            "right": null,
            "top": null,
            "visibility": null,
            "width": null
          }
        },
        "3e4b247bd0f64576bac3b2a3ea406c3e": {
          "model_module": "@jupyter-widgets/controls",
          "model_name": "DescriptionStyleModel",
          "model_module_version": "1.5.0",
          "state": {
            "_model_module": "@jupyter-widgets/controls",
            "_model_module_version": "1.5.0",
            "_model_name": "DescriptionStyleModel",
            "_view_count": null,
            "_view_module": "@jupyter-widgets/base",
            "_view_module_version": "1.2.0",
            "_view_name": "StyleView",
            "description_width": ""
          }
        },
        "9b255eb4c15948f8b699fa2ea6791aa2": {
          "model_module": "@jupyter-widgets/base",
          "model_name": "LayoutModel",
          "model_module_version": "1.2.0",
          "state": {
            "_model_module": "@jupyter-widgets/base",
            "_model_module_version": "1.2.0",
            "_model_name": "LayoutModel",
            "_view_count": null,
            "_view_module": "@jupyter-widgets/base",
            "_view_module_version": "1.2.0",
            "_view_name": "LayoutView",
            "align_content": null,
            "align_items": null,
            "align_self": null,
            "border": null,
            "bottom": null,
            "display": null,
            "flex": null,
            "flex_flow": null,
            "grid_area": null,
            "grid_auto_columns": null,
            "grid_auto_flow": null,
            "grid_auto_rows": null,
            "grid_column": null,
            "grid_gap": null,
            "grid_row": null,
            "grid_template_areas": null,
            "grid_template_columns": null,
            "grid_template_rows": null,
            "height": null,
            "justify_content": null,
            "justify_items": null,
            "left": null,
            "margin": null,
            "max_height": null,
            "max_width": null,
            "min_height": null,
            "min_width": null,
            "object_fit": null,
            "object_position": null,
            "order": null,
            "overflow": null,
            "overflow_x": null,
            "overflow_y": null,
            "padding": null,
            "right": null,
            "top": null,
            "visibility": null,
            "width": null
          }
        },
        "17dc0e4759a54032a5315a6b42cdba1d": {
          "model_module": "@jupyter-widgets/controls",
          "model_name": "ProgressStyleModel",
          "model_module_version": "1.5.0",
          "state": {
            "_model_module": "@jupyter-widgets/controls",
            "_model_module_version": "1.5.0",
            "_model_name": "ProgressStyleModel",
            "_view_count": null,
            "_view_module": "@jupyter-widgets/base",
            "_view_module_version": "1.2.0",
            "_view_name": "StyleView",
            "bar_color": null,
            "description_width": ""
          }
        },
        "11d9f11900224f75baf67d879d78fbf1": {
          "model_module": "@jupyter-widgets/base",
          "model_name": "LayoutModel",
          "model_module_version": "1.2.0",
          "state": {
            "_model_module": "@jupyter-widgets/base",
            "_model_module_version": "1.2.0",
            "_model_name": "LayoutModel",
            "_view_count": null,
            "_view_module": "@jupyter-widgets/base",
            "_view_module_version": "1.2.0",
            "_view_name": "LayoutView",
            "align_content": null,
            "align_items": null,
            "align_self": null,
            "border": null,
            "bottom": null,
            "display": null,
            "flex": null,
            "flex_flow": null,
            "grid_area": null,
            "grid_auto_columns": null,
            "grid_auto_flow": null,
            "grid_auto_rows": null,
            "grid_column": null,
            "grid_gap": null,
            "grid_row": null,
            "grid_template_areas": null,
            "grid_template_columns": null,
            "grid_template_rows": null,
            "height": null,
            "justify_content": null,
            "justify_items": null,
            "left": null,
            "margin": null,
            "max_height": null,
            "max_width": null,
            "min_height": null,
            "min_width": null,
            "object_fit": null,
            "object_position": null,
            "order": null,
            "overflow": null,
            "overflow_x": null,
            "overflow_y": null,
            "padding": null,
            "right": null,
            "top": null,
            "visibility": null,
            "width": null
          }
        },
        "8c79c4e58e174d8faf81267550ec21a7": {
          "model_module": "@jupyter-widgets/controls",
          "model_name": "DescriptionStyleModel",
          "model_module_version": "1.5.0",
          "state": {
            "_model_module": "@jupyter-widgets/controls",
            "_model_module_version": "1.5.0",
            "_model_name": "DescriptionStyleModel",
            "_view_count": null,
            "_view_module": "@jupyter-widgets/base",
            "_view_module_version": "1.2.0",
            "_view_name": "StyleView",
            "description_width": ""
          }
        }
      }
    }
  },
  "nbformat": 4,
  "nbformat_minor": 0
}